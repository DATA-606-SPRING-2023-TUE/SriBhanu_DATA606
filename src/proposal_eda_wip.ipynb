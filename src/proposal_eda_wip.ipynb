{
  "nbformat": 4,
  "nbformat_minor": 0,
  "metadata": {
    "colab": {
      "provenance": [],
      "include_colab_link": true
    },
    "kernelspec": {
      "name": "python3",
      "display_name": "Python 3"
    },
    "language_info": {
      "name": "python"
    }
  },
  "cells": [
    {
      "cell_type": "markdown",
      "metadata": {
        "id": "view-in-github",
        "colab_type": "text"
      },
      "source": [
        "<a href=\"https://colab.research.google.com/github/GunduSriBhanu/SriBhanu_DATA606/blob/main/src/proposal_eda_wip.ipynb\" target=\"_parent\"><img src=\"https://colab.research.google.com/assets/colab-badge.svg\" alt=\"Open In Colab\"/></a>"
      ]
    },
    {
      "cell_type": "code",
      "execution_count": 1,
      "metadata": {
        "id": "D3tfue0_9c3b"
      },
      "outputs": [],
      "source": [
        "import numpy as np\n",
        "import pandas as pd\n",
        "import matplotlib.pyplot as plt\n",
        "import seaborn as sns\n",
        "import os"
      ]
    },
    {
      "cell_type": "markdown",
      "source": [
        "## Exploratory Data Analysis"
      ],
      "metadata": {
        "id": "ef6cV6qG-gJ_"
      }
    },
    {
      "cell_type": "markdown",
      "source": [
        "## Data Loading"
      ],
      "metadata": {
        "id": "Cnk5Dbu9eQsZ"
      }
    },
    {
      "cell_type": "markdown",
      "source": [
        "### Converting raw data to .csv files for analysis and merging\n",
        "The datasets are in the form of raw data and hence the data is converted to the .csv files for access of data and analysis."
      ],
      "metadata": {
        "id": "stnLUDQueKmv"
      }
    },
    {
      "cell_type": "code",
      "source": [
        "import urllib.request as urllib\n",
        "import numpy as np\n",
        "\n",
        "url_cleaveland = \"https://archive.ics.uci.edu/ml/machine-learning-databases/heart-disease/processed.cleveland.data\"\n",
        "raw_data = urllib.urlopen(url_cleaveland)\n",
        "with open('heart_disease_cleaveland_processed.csv', 'wb') as file:\n",
        "    file.write(raw_data.read())\n",
        "\n",
        "url_hungarian = \"https://archive.ics.uci.edu/ml/machine-learning-databases/heart-disease/processed.hungarian.data\"\n",
        "raw_data = urllib.urlopen(url_hungarian)\n",
        "with open('heart_disease_hungarian_processed.csv', 'wb') as file:\n",
        "    file.write(raw_data.read())\n",
        "\n",
        "url_switzerland = \"https://archive.ics.uci.edu/ml/machine-learning-databases/heart-disease/processed.switzerland.data\"\n",
        "raw_data = urllib.urlopen(url_switzerland)\n",
        "with open('heart_disease_switzerland_processed.csv', 'wb') as file:\n",
        "    file.write(raw_data.read())\n",
        "\n",
        "\n"
      ],
      "metadata": {
        "id": "cqK-PeV2P5tC"
      },
      "execution_count": 2,
      "outputs": []
    },
    {
      "cell_type": "markdown",
      "source": [
        "### Loading Datasets \n",
        "Columns are added to all the datasets based on the information from the webiste \"https://archive.ics.uci.edu/ml/machine-learning-databases/heart-disease\" mentioned from the year 1984."
      ],
      "metadata": {
        "id": "RxdIDmmVeDxz"
      }
    },
    {
      "cell_type": "code",
      "source": [
        "heart_labels = ['age','sex','chest_pain_type','resting blood pressure','cholestoral','fasting_blood_sugar','ekg_results','max_hr','exercise_angina','ST_depression','slope_of_st','vessels','thallium','heart_disease']\n",
        "hf = pd.read_csv(\"heart_disease_hungarian_processed.csv\", names= heart_labels)\n",
        "cf = pd.read_csv(\"heart_disease_cleaveland_processed.csv\", names= heart_labels)\n",
        "sf = pd.read_csv(\"heart_disease_switzerland_processed.csv\", names= heart_labels)"
      ],
      "metadata": {
        "id": "bxgJ4cdWPzIT"
      },
      "execution_count": 3,
      "outputs": []
    },
    {
      "cell_type": "markdown",
      "source": [
        "### Hungarian Data of top and bottom 5 rows\n",
        "Top 5 rows"
      ],
      "metadata": {
        "id": "IQw76tZ4eASb"
      }
    },
    {
      "cell_type": "code",
      "source": [
        "hf.head()"
      ],
      "metadata": {
        "colab": {
          "base_uri": "https://localhost:8080/",
          "height": 206
        },
        "id": "RcTju4Af_y3o",
        "outputId": "9363ab6a-fdaa-42b2-b572-f7e78a204911"
      },
      "execution_count": 4,
      "outputs": [
        {
          "output_type": "execute_result",
          "data": {
            "text/plain": [
              "   age  sex  chest_pain_type resting blood pressure cholestoral  \\\n",
              "0   28    1                2                    130         132   \n",
              "1   29    1                2                    120         243   \n",
              "2   29    1                2                    140           ?   \n",
              "3   30    0                1                    170         237   \n",
              "4   31    0                2                    100         219   \n",
              "\n",
              "  fasting_blood_sugar ekg_results max_hr exercise_angina  ST_depression  \\\n",
              "0                   0           2    185               0            0.0   \n",
              "1                   0           0    160               0            0.0   \n",
              "2                   0           0    170               0            0.0   \n",
              "3                   0           1    170               0            0.0   \n",
              "4                   0           1    150               0            0.0   \n",
              "\n",
              "  slope_of_st vessels thallium  heart_disease  \n",
              "0           ?       ?        ?              0  \n",
              "1           ?       ?        ?              0  \n",
              "2           ?       ?        ?              0  \n",
              "3           ?       ?        6              0  \n",
              "4           ?       ?        ?              0  "
            ],
            "text/html": [
              "\n",
              "  <div id=\"df-309685b6-45e9-4793-bba2-7b9e38326153\">\n",
              "    <div class=\"colab-df-container\">\n",
              "      <div>\n",
              "<style scoped>\n",
              "    .dataframe tbody tr th:only-of-type {\n",
              "        vertical-align: middle;\n",
              "    }\n",
              "\n",
              "    .dataframe tbody tr th {\n",
              "        vertical-align: top;\n",
              "    }\n",
              "\n",
              "    .dataframe thead th {\n",
              "        text-align: right;\n",
              "    }\n",
              "</style>\n",
              "<table border=\"1\" class=\"dataframe\">\n",
              "  <thead>\n",
              "    <tr style=\"text-align: right;\">\n",
              "      <th></th>\n",
              "      <th>age</th>\n",
              "      <th>sex</th>\n",
              "      <th>chest_pain_type</th>\n",
              "      <th>resting blood pressure</th>\n",
              "      <th>cholestoral</th>\n",
              "      <th>fasting_blood_sugar</th>\n",
              "      <th>ekg_results</th>\n",
              "      <th>max_hr</th>\n",
              "      <th>exercise_angina</th>\n",
              "      <th>ST_depression</th>\n",
              "      <th>slope_of_st</th>\n",
              "      <th>vessels</th>\n",
              "      <th>thallium</th>\n",
              "      <th>heart_disease</th>\n",
              "    </tr>\n",
              "  </thead>\n",
              "  <tbody>\n",
              "    <tr>\n",
              "      <th>0</th>\n",
              "      <td>28</td>\n",
              "      <td>1</td>\n",
              "      <td>2</td>\n",
              "      <td>130</td>\n",
              "      <td>132</td>\n",
              "      <td>0</td>\n",
              "      <td>2</td>\n",
              "      <td>185</td>\n",
              "      <td>0</td>\n",
              "      <td>0.0</td>\n",
              "      <td>?</td>\n",
              "      <td>?</td>\n",
              "      <td>?</td>\n",
              "      <td>0</td>\n",
              "    </tr>\n",
              "    <tr>\n",
              "      <th>1</th>\n",
              "      <td>29</td>\n",
              "      <td>1</td>\n",
              "      <td>2</td>\n",
              "      <td>120</td>\n",
              "      <td>243</td>\n",
              "      <td>0</td>\n",
              "      <td>0</td>\n",
              "      <td>160</td>\n",
              "      <td>0</td>\n",
              "      <td>0.0</td>\n",
              "      <td>?</td>\n",
              "      <td>?</td>\n",
              "      <td>?</td>\n",
              "      <td>0</td>\n",
              "    </tr>\n",
              "    <tr>\n",
              "      <th>2</th>\n",
              "      <td>29</td>\n",
              "      <td>1</td>\n",
              "      <td>2</td>\n",
              "      <td>140</td>\n",
              "      <td>?</td>\n",
              "      <td>0</td>\n",
              "      <td>0</td>\n",
              "      <td>170</td>\n",
              "      <td>0</td>\n",
              "      <td>0.0</td>\n",
              "      <td>?</td>\n",
              "      <td>?</td>\n",
              "      <td>?</td>\n",
              "      <td>0</td>\n",
              "    </tr>\n",
              "    <tr>\n",
              "      <th>3</th>\n",
              "      <td>30</td>\n",
              "      <td>0</td>\n",
              "      <td>1</td>\n",
              "      <td>170</td>\n",
              "      <td>237</td>\n",
              "      <td>0</td>\n",
              "      <td>1</td>\n",
              "      <td>170</td>\n",
              "      <td>0</td>\n",
              "      <td>0.0</td>\n",
              "      <td>?</td>\n",
              "      <td>?</td>\n",
              "      <td>6</td>\n",
              "      <td>0</td>\n",
              "    </tr>\n",
              "    <tr>\n",
              "      <th>4</th>\n",
              "      <td>31</td>\n",
              "      <td>0</td>\n",
              "      <td>2</td>\n",
              "      <td>100</td>\n",
              "      <td>219</td>\n",
              "      <td>0</td>\n",
              "      <td>1</td>\n",
              "      <td>150</td>\n",
              "      <td>0</td>\n",
              "      <td>0.0</td>\n",
              "      <td>?</td>\n",
              "      <td>?</td>\n",
              "      <td>?</td>\n",
              "      <td>0</td>\n",
              "    </tr>\n",
              "  </tbody>\n",
              "</table>\n",
              "</div>\n",
              "      <button class=\"colab-df-convert\" onclick=\"convertToInteractive('df-309685b6-45e9-4793-bba2-7b9e38326153')\"\n",
              "              title=\"Convert this dataframe to an interactive table.\"\n",
              "              style=\"display:none;\">\n",
              "        \n",
              "  <svg xmlns=\"http://www.w3.org/2000/svg\" height=\"24px\"viewBox=\"0 0 24 24\"\n",
              "       width=\"24px\">\n",
              "    <path d=\"M0 0h24v24H0V0z\" fill=\"none\"/>\n",
              "    <path d=\"M18.56 5.44l.94 2.06.94-2.06 2.06-.94-2.06-.94-.94-2.06-.94 2.06-2.06.94zm-11 1L8.5 8.5l.94-2.06 2.06-.94-2.06-.94L8.5 2.5l-.94 2.06-2.06.94zm10 10l.94 2.06.94-2.06 2.06-.94-2.06-.94-.94-2.06-.94 2.06-2.06.94z\"/><path d=\"M17.41 7.96l-1.37-1.37c-.4-.4-.92-.59-1.43-.59-.52 0-1.04.2-1.43.59L10.3 9.45l-7.72 7.72c-.78.78-.78 2.05 0 2.83L4 21.41c.39.39.9.59 1.41.59.51 0 1.02-.2 1.41-.59l7.78-7.78 2.81-2.81c.8-.78.8-2.07 0-2.86zM5.41 20L4 18.59l7.72-7.72 1.47 1.35L5.41 20z\"/>\n",
              "  </svg>\n",
              "      </button>\n",
              "      \n",
              "  <style>\n",
              "    .colab-df-container {\n",
              "      display:flex;\n",
              "      flex-wrap:wrap;\n",
              "      gap: 12px;\n",
              "    }\n",
              "\n",
              "    .colab-df-convert {\n",
              "      background-color: #E8F0FE;\n",
              "      border: none;\n",
              "      border-radius: 50%;\n",
              "      cursor: pointer;\n",
              "      display: none;\n",
              "      fill: #1967D2;\n",
              "      height: 32px;\n",
              "      padding: 0 0 0 0;\n",
              "      width: 32px;\n",
              "    }\n",
              "\n",
              "    .colab-df-convert:hover {\n",
              "      background-color: #E2EBFA;\n",
              "      box-shadow: 0px 1px 2px rgba(60, 64, 67, 0.3), 0px 1px 3px 1px rgba(60, 64, 67, 0.15);\n",
              "      fill: #174EA6;\n",
              "    }\n",
              "\n",
              "    [theme=dark] .colab-df-convert {\n",
              "      background-color: #3B4455;\n",
              "      fill: #D2E3FC;\n",
              "    }\n",
              "\n",
              "    [theme=dark] .colab-df-convert:hover {\n",
              "      background-color: #434B5C;\n",
              "      box-shadow: 0px 1px 3px 1px rgba(0, 0, 0, 0.15);\n",
              "      filter: drop-shadow(0px 1px 2px rgba(0, 0, 0, 0.3));\n",
              "      fill: #FFFFFF;\n",
              "    }\n",
              "  </style>\n",
              "\n",
              "      <script>\n",
              "        const buttonEl =\n",
              "          document.querySelector('#df-309685b6-45e9-4793-bba2-7b9e38326153 button.colab-df-convert');\n",
              "        buttonEl.style.display =\n",
              "          google.colab.kernel.accessAllowed ? 'block' : 'none';\n",
              "\n",
              "        async function convertToInteractive(key) {\n",
              "          const element = document.querySelector('#df-309685b6-45e9-4793-bba2-7b9e38326153');\n",
              "          const dataTable =\n",
              "            await google.colab.kernel.invokeFunction('convertToInteractive',\n",
              "                                                     [key], {});\n",
              "          if (!dataTable) return;\n",
              "\n",
              "          const docLinkHtml = 'Like what you see? Visit the ' +\n",
              "            '<a target=\"_blank\" href=https://colab.research.google.com/notebooks/data_table.ipynb>data table notebook</a>'\n",
              "            + ' to learn more about interactive tables.';\n",
              "          element.innerHTML = '';\n",
              "          dataTable['output_type'] = 'display_data';\n",
              "          await google.colab.output.renderOutput(dataTable, element);\n",
              "          const docLink = document.createElement('div');\n",
              "          docLink.innerHTML = docLinkHtml;\n",
              "          element.appendChild(docLink);\n",
              "        }\n",
              "      </script>\n",
              "    </div>\n",
              "  </div>\n",
              "  "
            ]
          },
          "metadata": {},
          "execution_count": 4
        }
      ]
    },
    {
      "cell_type": "markdown",
      "source": [
        "Bottom 5 rows"
      ],
      "metadata": {
        "id": "IIuZTLlMhKPy"
      }
    },
    {
      "cell_type": "code",
      "source": [
        "hf.tail()"
      ],
      "metadata": {
        "colab": {
          "base_uri": "https://localhost:8080/",
          "height": 206
        },
        "id": "uCtdopa8_Rpd",
        "outputId": "efa214b6-5789-4325-c537-3224a1658e4f"
      },
      "execution_count": 5,
      "outputs": [
        {
          "output_type": "execute_result",
          "data": {
            "text/plain": [
              "     age  sex  chest_pain_type resting blood pressure cholestoral  \\\n",
              "289   52    1                4                    160         331   \n",
              "290   54    0                3                    130         294   \n",
              "291   56    1                4                    155         342   \n",
              "292   58    0                2                    180         393   \n",
              "293   65    1                4                    130         275   \n",
              "\n",
              "    fasting_blood_sugar ekg_results max_hr exercise_angina  ST_depression  \\\n",
              "289                   0           0     94               1            2.5   \n",
              "290                   0           1    100               1            0.0   \n",
              "291                   1           0    150               1            3.0   \n",
              "292                   0           0    110               1            1.0   \n",
              "293                   0           1    115               1            1.0   \n",
              "\n",
              "    slope_of_st vessels thallium  heart_disease  \n",
              "289           ?       ?        ?              1  \n",
              "290           2       ?        ?              1  \n",
              "291           2       ?        ?              1  \n",
              "292           2       ?        7              1  \n",
              "293           2       ?        ?              1  "
            ],
            "text/html": [
              "\n",
              "  <div id=\"df-9882c37c-fb02-48a3-93f9-51bd2459560b\">\n",
              "    <div class=\"colab-df-container\">\n",
              "      <div>\n",
              "<style scoped>\n",
              "    .dataframe tbody tr th:only-of-type {\n",
              "        vertical-align: middle;\n",
              "    }\n",
              "\n",
              "    .dataframe tbody tr th {\n",
              "        vertical-align: top;\n",
              "    }\n",
              "\n",
              "    .dataframe thead th {\n",
              "        text-align: right;\n",
              "    }\n",
              "</style>\n",
              "<table border=\"1\" class=\"dataframe\">\n",
              "  <thead>\n",
              "    <tr style=\"text-align: right;\">\n",
              "      <th></th>\n",
              "      <th>age</th>\n",
              "      <th>sex</th>\n",
              "      <th>chest_pain_type</th>\n",
              "      <th>resting blood pressure</th>\n",
              "      <th>cholestoral</th>\n",
              "      <th>fasting_blood_sugar</th>\n",
              "      <th>ekg_results</th>\n",
              "      <th>max_hr</th>\n",
              "      <th>exercise_angina</th>\n",
              "      <th>ST_depression</th>\n",
              "      <th>slope_of_st</th>\n",
              "      <th>vessels</th>\n",
              "      <th>thallium</th>\n",
              "      <th>heart_disease</th>\n",
              "    </tr>\n",
              "  </thead>\n",
              "  <tbody>\n",
              "    <tr>\n",
              "      <th>289</th>\n",
              "      <td>52</td>\n",
              "      <td>1</td>\n",
              "      <td>4</td>\n",
              "      <td>160</td>\n",
              "      <td>331</td>\n",
              "      <td>0</td>\n",
              "      <td>0</td>\n",
              "      <td>94</td>\n",
              "      <td>1</td>\n",
              "      <td>2.5</td>\n",
              "      <td>?</td>\n",
              "      <td>?</td>\n",
              "      <td>?</td>\n",
              "      <td>1</td>\n",
              "    </tr>\n",
              "    <tr>\n",
              "      <th>290</th>\n",
              "      <td>54</td>\n",
              "      <td>0</td>\n",
              "      <td>3</td>\n",
              "      <td>130</td>\n",
              "      <td>294</td>\n",
              "      <td>0</td>\n",
              "      <td>1</td>\n",
              "      <td>100</td>\n",
              "      <td>1</td>\n",
              "      <td>0.0</td>\n",
              "      <td>2</td>\n",
              "      <td>?</td>\n",
              "      <td>?</td>\n",
              "      <td>1</td>\n",
              "    </tr>\n",
              "    <tr>\n",
              "      <th>291</th>\n",
              "      <td>56</td>\n",
              "      <td>1</td>\n",
              "      <td>4</td>\n",
              "      <td>155</td>\n",
              "      <td>342</td>\n",
              "      <td>1</td>\n",
              "      <td>0</td>\n",
              "      <td>150</td>\n",
              "      <td>1</td>\n",
              "      <td>3.0</td>\n",
              "      <td>2</td>\n",
              "      <td>?</td>\n",
              "      <td>?</td>\n",
              "      <td>1</td>\n",
              "    </tr>\n",
              "    <tr>\n",
              "      <th>292</th>\n",
              "      <td>58</td>\n",
              "      <td>0</td>\n",
              "      <td>2</td>\n",
              "      <td>180</td>\n",
              "      <td>393</td>\n",
              "      <td>0</td>\n",
              "      <td>0</td>\n",
              "      <td>110</td>\n",
              "      <td>1</td>\n",
              "      <td>1.0</td>\n",
              "      <td>2</td>\n",
              "      <td>?</td>\n",
              "      <td>7</td>\n",
              "      <td>1</td>\n",
              "    </tr>\n",
              "    <tr>\n",
              "      <th>293</th>\n",
              "      <td>65</td>\n",
              "      <td>1</td>\n",
              "      <td>4</td>\n",
              "      <td>130</td>\n",
              "      <td>275</td>\n",
              "      <td>0</td>\n",
              "      <td>1</td>\n",
              "      <td>115</td>\n",
              "      <td>1</td>\n",
              "      <td>1.0</td>\n",
              "      <td>2</td>\n",
              "      <td>?</td>\n",
              "      <td>?</td>\n",
              "      <td>1</td>\n",
              "    </tr>\n",
              "  </tbody>\n",
              "</table>\n",
              "</div>\n",
              "      <button class=\"colab-df-convert\" onclick=\"convertToInteractive('df-9882c37c-fb02-48a3-93f9-51bd2459560b')\"\n",
              "              title=\"Convert this dataframe to an interactive table.\"\n",
              "              style=\"display:none;\">\n",
              "        \n",
              "  <svg xmlns=\"http://www.w3.org/2000/svg\" height=\"24px\"viewBox=\"0 0 24 24\"\n",
              "       width=\"24px\">\n",
              "    <path d=\"M0 0h24v24H0V0z\" fill=\"none\"/>\n",
              "    <path d=\"M18.56 5.44l.94 2.06.94-2.06 2.06-.94-2.06-.94-.94-2.06-.94 2.06-2.06.94zm-11 1L8.5 8.5l.94-2.06 2.06-.94-2.06-.94L8.5 2.5l-.94 2.06-2.06.94zm10 10l.94 2.06.94-2.06 2.06-.94-2.06-.94-.94-2.06-.94 2.06-2.06.94z\"/><path d=\"M17.41 7.96l-1.37-1.37c-.4-.4-.92-.59-1.43-.59-.52 0-1.04.2-1.43.59L10.3 9.45l-7.72 7.72c-.78.78-.78 2.05 0 2.83L4 21.41c.39.39.9.59 1.41.59.51 0 1.02-.2 1.41-.59l7.78-7.78 2.81-2.81c.8-.78.8-2.07 0-2.86zM5.41 20L4 18.59l7.72-7.72 1.47 1.35L5.41 20z\"/>\n",
              "  </svg>\n",
              "      </button>\n",
              "      \n",
              "  <style>\n",
              "    .colab-df-container {\n",
              "      display:flex;\n",
              "      flex-wrap:wrap;\n",
              "      gap: 12px;\n",
              "    }\n",
              "\n",
              "    .colab-df-convert {\n",
              "      background-color: #E8F0FE;\n",
              "      border: none;\n",
              "      border-radius: 50%;\n",
              "      cursor: pointer;\n",
              "      display: none;\n",
              "      fill: #1967D2;\n",
              "      height: 32px;\n",
              "      padding: 0 0 0 0;\n",
              "      width: 32px;\n",
              "    }\n",
              "\n",
              "    .colab-df-convert:hover {\n",
              "      background-color: #E2EBFA;\n",
              "      box-shadow: 0px 1px 2px rgba(60, 64, 67, 0.3), 0px 1px 3px 1px rgba(60, 64, 67, 0.15);\n",
              "      fill: #174EA6;\n",
              "    }\n",
              "\n",
              "    [theme=dark] .colab-df-convert {\n",
              "      background-color: #3B4455;\n",
              "      fill: #D2E3FC;\n",
              "    }\n",
              "\n",
              "    [theme=dark] .colab-df-convert:hover {\n",
              "      background-color: #434B5C;\n",
              "      box-shadow: 0px 1px 3px 1px rgba(0, 0, 0, 0.15);\n",
              "      filter: drop-shadow(0px 1px 2px rgba(0, 0, 0, 0.3));\n",
              "      fill: #FFFFFF;\n",
              "    }\n",
              "  </style>\n",
              "\n",
              "      <script>\n",
              "        const buttonEl =\n",
              "          document.querySelector('#df-9882c37c-fb02-48a3-93f9-51bd2459560b button.colab-df-convert');\n",
              "        buttonEl.style.display =\n",
              "          google.colab.kernel.accessAllowed ? 'block' : 'none';\n",
              "\n",
              "        async function convertToInteractive(key) {\n",
              "          const element = document.querySelector('#df-9882c37c-fb02-48a3-93f9-51bd2459560b');\n",
              "          const dataTable =\n",
              "            await google.colab.kernel.invokeFunction('convertToInteractive',\n",
              "                                                     [key], {});\n",
              "          if (!dataTable) return;\n",
              "\n",
              "          const docLinkHtml = 'Like what you see? Visit the ' +\n",
              "            '<a target=\"_blank\" href=https://colab.research.google.com/notebooks/data_table.ipynb>data table notebook</a>'\n",
              "            + ' to learn more about interactive tables.';\n",
              "          element.innerHTML = '';\n",
              "          dataTable['output_type'] = 'display_data';\n",
              "          await google.colab.output.renderOutput(dataTable, element);\n",
              "          const docLink = document.createElement('div');\n",
              "          docLink.innerHTML = docLinkHtml;\n",
              "          element.appendChild(docLink);\n",
              "        }\n",
              "      </script>\n",
              "    </div>\n",
              "  </div>\n",
              "  "
            ]
          },
          "metadata": {},
          "execution_count": 5
        }
      ]
    },
    {
      "cell_type": "markdown",
      "source": [
        "### Cleaveland Data of top and bottom 5 rows"
      ],
      "metadata": {
        "id": "3gk4k3KGd2hK"
      }
    },
    {
      "cell_type": "markdown",
      "source": [
        "Top 5 rows"
      ],
      "metadata": {
        "id": "w2ifkoSBhNEa"
      }
    },
    {
      "cell_type": "code",
      "source": [
        "cf.head()"
      ],
      "metadata": {
        "colab": {
          "base_uri": "https://localhost:8080/",
          "height": 206
        },
        "id": "DUMlcfZfXBEG",
        "outputId": "1afdabc7-3b39-4d83-ba57-6daf43ab666a"
      },
      "execution_count": 6,
      "outputs": [
        {
          "output_type": "execute_result",
          "data": {
            "text/plain": [
              "    age  sex  chest_pain_type  resting blood pressure  cholestoral  \\\n",
              "0  63.0  1.0              1.0                   145.0        233.0   \n",
              "1  67.0  1.0              4.0                   160.0        286.0   \n",
              "2  67.0  1.0              4.0                   120.0        229.0   \n",
              "3  37.0  1.0              3.0                   130.0        250.0   \n",
              "4  41.0  0.0              2.0                   130.0        204.0   \n",
              "\n",
              "   fasting_blood_sugar  ekg_results  max_hr  exercise_angina  ST_depression  \\\n",
              "0                  1.0          2.0   150.0              0.0            2.3   \n",
              "1                  0.0          2.0   108.0              1.0            1.5   \n",
              "2                  0.0          2.0   129.0              1.0            2.6   \n",
              "3                  0.0          0.0   187.0              0.0            3.5   \n",
              "4                  0.0          2.0   172.0              0.0            1.4   \n",
              "\n",
              "   slope_of_st vessels thallium  heart_disease  \n",
              "0          3.0     0.0      6.0              0  \n",
              "1          2.0     3.0      3.0              2  \n",
              "2          2.0     2.0      7.0              1  \n",
              "3          3.0     0.0      3.0              0  \n",
              "4          1.0     0.0      3.0              0  "
            ],
            "text/html": [
              "\n",
              "  <div id=\"df-d483f2fc-3066-4c01-985d-abf12a0c181b\">\n",
              "    <div class=\"colab-df-container\">\n",
              "      <div>\n",
              "<style scoped>\n",
              "    .dataframe tbody tr th:only-of-type {\n",
              "        vertical-align: middle;\n",
              "    }\n",
              "\n",
              "    .dataframe tbody tr th {\n",
              "        vertical-align: top;\n",
              "    }\n",
              "\n",
              "    .dataframe thead th {\n",
              "        text-align: right;\n",
              "    }\n",
              "</style>\n",
              "<table border=\"1\" class=\"dataframe\">\n",
              "  <thead>\n",
              "    <tr style=\"text-align: right;\">\n",
              "      <th></th>\n",
              "      <th>age</th>\n",
              "      <th>sex</th>\n",
              "      <th>chest_pain_type</th>\n",
              "      <th>resting blood pressure</th>\n",
              "      <th>cholestoral</th>\n",
              "      <th>fasting_blood_sugar</th>\n",
              "      <th>ekg_results</th>\n",
              "      <th>max_hr</th>\n",
              "      <th>exercise_angina</th>\n",
              "      <th>ST_depression</th>\n",
              "      <th>slope_of_st</th>\n",
              "      <th>vessels</th>\n",
              "      <th>thallium</th>\n",
              "      <th>heart_disease</th>\n",
              "    </tr>\n",
              "  </thead>\n",
              "  <tbody>\n",
              "    <tr>\n",
              "      <th>0</th>\n",
              "      <td>63.0</td>\n",
              "      <td>1.0</td>\n",
              "      <td>1.0</td>\n",
              "      <td>145.0</td>\n",
              "      <td>233.0</td>\n",
              "      <td>1.0</td>\n",
              "      <td>2.0</td>\n",
              "      <td>150.0</td>\n",
              "      <td>0.0</td>\n",
              "      <td>2.3</td>\n",
              "      <td>3.0</td>\n",
              "      <td>0.0</td>\n",
              "      <td>6.0</td>\n",
              "      <td>0</td>\n",
              "    </tr>\n",
              "    <tr>\n",
              "      <th>1</th>\n",
              "      <td>67.0</td>\n",
              "      <td>1.0</td>\n",
              "      <td>4.0</td>\n",
              "      <td>160.0</td>\n",
              "      <td>286.0</td>\n",
              "      <td>0.0</td>\n",
              "      <td>2.0</td>\n",
              "      <td>108.0</td>\n",
              "      <td>1.0</td>\n",
              "      <td>1.5</td>\n",
              "      <td>2.0</td>\n",
              "      <td>3.0</td>\n",
              "      <td>3.0</td>\n",
              "      <td>2</td>\n",
              "    </tr>\n",
              "    <tr>\n",
              "      <th>2</th>\n",
              "      <td>67.0</td>\n",
              "      <td>1.0</td>\n",
              "      <td>4.0</td>\n",
              "      <td>120.0</td>\n",
              "      <td>229.0</td>\n",
              "      <td>0.0</td>\n",
              "      <td>2.0</td>\n",
              "      <td>129.0</td>\n",
              "      <td>1.0</td>\n",
              "      <td>2.6</td>\n",
              "      <td>2.0</td>\n",
              "      <td>2.0</td>\n",
              "      <td>7.0</td>\n",
              "      <td>1</td>\n",
              "    </tr>\n",
              "    <tr>\n",
              "      <th>3</th>\n",
              "      <td>37.0</td>\n",
              "      <td>1.0</td>\n",
              "      <td>3.0</td>\n",
              "      <td>130.0</td>\n",
              "      <td>250.0</td>\n",
              "      <td>0.0</td>\n",
              "      <td>0.0</td>\n",
              "      <td>187.0</td>\n",
              "      <td>0.0</td>\n",
              "      <td>3.5</td>\n",
              "      <td>3.0</td>\n",
              "      <td>0.0</td>\n",
              "      <td>3.0</td>\n",
              "      <td>0</td>\n",
              "    </tr>\n",
              "    <tr>\n",
              "      <th>4</th>\n",
              "      <td>41.0</td>\n",
              "      <td>0.0</td>\n",
              "      <td>2.0</td>\n",
              "      <td>130.0</td>\n",
              "      <td>204.0</td>\n",
              "      <td>0.0</td>\n",
              "      <td>2.0</td>\n",
              "      <td>172.0</td>\n",
              "      <td>0.0</td>\n",
              "      <td>1.4</td>\n",
              "      <td>1.0</td>\n",
              "      <td>0.0</td>\n",
              "      <td>3.0</td>\n",
              "      <td>0</td>\n",
              "    </tr>\n",
              "  </tbody>\n",
              "</table>\n",
              "</div>\n",
              "      <button class=\"colab-df-convert\" onclick=\"convertToInteractive('df-d483f2fc-3066-4c01-985d-abf12a0c181b')\"\n",
              "              title=\"Convert this dataframe to an interactive table.\"\n",
              "              style=\"display:none;\">\n",
              "        \n",
              "  <svg xmlns=\"http://www.w3.org/2000/svg\" height=\"24px\"viewBox=\"0 0 24 24\"\n",
              "       width=\"24px\">\n",
              "    <path d=\"M0 0h24v24H0V0z\" fill=\"none\"/>\n",
              "    <path d=\"M18.56 5.44l.94 2.06.94-2.06 2.06-.94-2.06-.94-.94-2.06-.94 2.06-2.06.94zm-11 1L8.5 8.5l.94-2.06 2.06-.94-2.06-.94L8.5 2.5l-.94 2.06-2.06.94zm10 10l.94 2.06.94-2.06 2.06-.94-2.06-.94-.94-2.06-.94 2.06-2.06.94z\"/><path d=\"M17.41 7.96l-1.37-1.37c-.4-.4-.92-.59-1.43-.59-.52 0-1.04.2-1.43.59L10.3 9.45l-7.72 7.72c-.78.78-.78 2.05 0 2.83L4 21.41c.39.39.9.59 1.41.59.51 0 1.02-.2 1.41-.59l7.78-7.78 2.81-2.81c.8-.78.8-2.07 0-2.86zM5.41 20L4 18.59l7.72-7.72 1.47 1.35L5.41 20z\"/>\n",
              "  </svg>\n",
              "      </button>\n",
              "      \n",
              "  <style>\n",
              "    .colab-df-container {\n",
              "      display:flex;\n",
              "      flex-wrap:wrap;\n",
              "      gap: 12px;\n",
              "    }\n",
              "\n",
              "    .colab-df-convert {\n",
              "      background-color: #E8F0FE;\n",
              "      border: none;\n",
              "      border-radius: 50%;\n",
              "      cursor: pointer;\n",
              "      display: none;\n",
              "      fill: #1967D2;\n",
              "      height: 32px;\n",
              "      padding: 0 0 0 0;\n",
              "      width: 32px;\n",
              "    }\n",
              "\n",
              "    .colab-df-convert:hover {\n",
              "      background-color: #E2EBFA;\n",
              "      box-shadow: 0px 1px 2px rgba(60, 64, 67, 0.3), 0px 1px 3px 1px rgba(60, 64, 67, 0.15);\n",
              "      fill: #174EA6;\n",
              "    }\n",
              "\n",
              "    [theme=dark] .colab-df-convert {\n",
              "      background-color: #3B4455;\n",
              "      fill: #D2E3FC;\n",
              "    }\n",
              "\n",
              "    [theme=dark] .colab-df-convert:hover {\n",
              "      background-color: #434B5C;\n",
              "      box-shadow: 0px 1px 3px 1px rgba(0, 0, 0, 0.15);\n",
              "      filter: drop-shadow(0px 1px 2px rgba(0, 0, 0, 0.3));\n",
              "      fill: #FFFFFF;\n",
              "    }\n",
              "  </style>\n",
              "\n",
              "      <script>\n",
              "        const buttonEl =\n",
              "          document.querySelector('#df-d483f2fc-3066-4c01-985d-abf12a0c181b button.colab-df-convert');\n",
              "        buttonEl.style.display =\n",
              "          google.colab.kernel.accessAllowed ? 'block' : 'none';\n",
              "\n",
              "        async function convertToInteractive(key) {\n",
              "          const element = document.querySelector('#df-d483f2fc-3066-4c01-985d-abf12a0c181b');\n",
              "          const dataTable =\n",
              "            await google.colab.kernel.invokeFunction('convertToInteractive',\n",
              "                                                     [key], {});\n",
              "          if (!dataTable) return;\n",
              "\n",
              "          const docLinkHtml = 'Like what you see? Visit the ' +\n",
              "            '<a target=\"_blank\" href=https://colab.research.google.com/notebooks/data_table.ipynb>data table notebook</a>'\n",
              "            + ' to learn more about interactive tables.';\n",
              "          element.innerHTML = '';\n",
              "          dataTable['output_type'] = 'display_data';\n",
              "          await google.colab.output.renderOutput(dataTable, element);\n",
              "          const docLink = document.createElement('div');\n",
              "          docLink.innerHTML = docLinkHtml;\n",
              "          element.appendChild(docLink);\n",
              "        }\n",
              "      </script>\n",
              "    </div>\n",
              "  </div>\n",
              "  "
            ]
          },
          "metadata": {},
          "execution_count": 6
        }
      ]
    },
    {
      "cell_type": "markdown",
      "source": [
        "Bottom 5 rows"
      ],
      "metadata": {
        "id": "GAWoWfNqhPjI"
      }
    },
    {
      "cell_type": "code",
      "source": [
        "cf.tail()"
      ],
      "metadata": {
        "colab": {
          "base_uri": "https://localhost:8080/",
          "height": 206
        },
        "id": "0KoXiuPDXDA5",
        "outputId": "a9e7fd8a-31b2-4e27-919b-28a6ed9c693b"
      },
      "execution_count": 7,
      "outputs": [
        {
          "output_type": "execute_result",
          "data": {
            "text/plain": [
              "      age  sex  chest_pain_type  resting blood pressure  cholestoral  \\\n",
              "298  45.0  1.0              1.0                   110.0        264.0   \n",
              "299  68.0  1.0              4.0                   144.0        193.0   \n",
              "300  57.0  1.0              4.0                   130.0        131.0   \n",
              "301  57.0  0.0              2.0                   130.0        236.0   \n",
              "302  38.0  1.0              3.0                   138.0        175.0   \n",
              "\n",
              "     fasting_blood_sugar  ekg_results  max_hr  exercise_angina  ST_depression  \\\n",
              "298                  0.0          0.0   132.0              0.0            1.2   \n",
              "299                  1.0          0.0   141.0              0.0            3.4   \n",
              "300                  0.0          0.0   115.0              1.0            1.2   \n",
              "301                  0.0          2.0   174.0              0.0            0.0   \n",
              "302                  0.0          0.0   173.0              0.0            0.0   \n",
              "\n",
              "     slope_of_st vessels thallium  heart_disease  \n",
              "298          2.0     0.0      7.0              1  \n",
              "299          2.0     2.0      7.0              2  \n",
              "300          2.0     1.0      7.0              3  \n",
              "301          2.0     1.0      3.0              1  \n",
              "302          1.0       ?      3.0              0  "
            ],
            "text/html": [
              "\n",
              "  <div id=\"df-a72a6058-ec0b-4ef7-8dd9-4fdbeaa417c8\">\n",
              "    <div class=\"colab-df-container\">\n",
              "      <div>\n",
              "<style scoped>\n",
              "    .dataframe tbody tr th:only-of-type {\n",
              "        vertical-align: middle;\n",
              "    }\n",
              "\n",
              "    .dataframe tbody tr th {\n",
              "        vertical-align: top;\n",
              "    }\n",
              "\n",
              "    .dataframe thead th {\n",
              "        text-align: right;\n",
              "    }\n",
              "</style>\n",
              "<table border=\"1\" class=\"dataframe\">\n",
              "  <thead>\n",
              "    <tr style=\"text-align: right;\">\n",
              "      <th></th>\n",
              "      <th>age</th>\n",
              "      <th>sex</th>\n",
              "      <th>chest_pain_type</th>\n",
              "      <th>resting blood pressure</th>\n",
              "      <th>cholestoral</th>\n",
              "      <th>fasting_blood_sugar</th>\n",
              "      <th>ekg_results</th>\n",
              "      <th>max_hr</th>\n",
              "      <th>exercise_angina</th>\n",
              "      <th>ST_depression</th>\n",
              "      <th>slope_of_st</th>\n",
              "      <th>vessels</th>\n",
              "      <th>thallium</th>\n",
              "      <th>heart_disease</th>\n",
              "    </tr>\n",
              "  </thead>\n",
              "  <tbody>\n",
              "    <tr>\n",
              "      <th>298</th>\n",
              "      <td>45.0</td>\n",
              "      <td>1.0</td>\n",
              "      <td>1.0</td>\n",
              "      <td>110.0</td>\n",
              "      <td>264.0</td>\n",
              "      <td>0.0</td>\n",
              "      <td>0.0</td>\n",
              "      <td>132.0</td>\n",
              "      <td>0.0</td>\n",
              "      <td>1.2</td>\n",
              "      <td>2.0</td>\n",
              "      <td>0.0</td>\n",
              "      <td>7.0</td>\n",
              "      <td>1</td>\n",
              "    </tr>\n",
              "    <tr>\n",
              "      <th>299</th>\n",
              "      <td>68.0</td>\n",
              "      <td>1.0</td>\n",
              "      <td>4.0</td>\n",
              "      <td>144.0</td>\n",
              "      <td>193.0</td>\n",
              "      <td>1.0</td>\n",
              "      <td>0.0</td>\n",
              "      <td>141.0</td>\n",
              "      <td>0.0</td>\n",
              "      <td>3.4</td>\n",
              "      <td>2.0</td>\n",
              "      <td>2.0</td>\n",
              "      <td>7.0</td>\n",
              "      <td>2</td>\n",
              "    </tr>\n",
              "    <tr>\n",
              "      <th>300</th>\n",
              "      <td>57.0</td>\n",
              "      <td>1.0</td>\n",
              "      <td>4.0</td>\n",
              "      <td>130.0</td>\n",
              "      <td>131.0</td>\n",
              "      <td>0.0</td>\n",
              "      <td>0.0</td>\n",
              "      <td>115.0</td>\n",
              "      <td>1.0</td>\n",
              "      <td>1.2</td>\n",
              "      <td>2.0</td>\n",
              "      <td>1.0</td>\n",
              "      <td>7.0</td>\n",
              "      <td>3</td>\n",
              "    </tr>\n",
              "    <tr>\n",
              "      <th>301</th>\n",
              "      <td>57.0</td>\n",
              "      <td>0.0</td>\n",
              "      <td>2.0</td>\n",
              "      <td>130.0</td>\n",
              "      <td>236.0</td>\n",
              "      <td>0.0</td>\n",
              "      <td>2.0</td>\n",
              "      <td>174.0</td>\n",
              "      <td>0.0</td>\n",
              "      <td>0.0</td>\n",
              "      <td>2.0</td>\n",
              "      <td>1.0</td>\n",
              "      <td>3.0</td>\n",
              "      <td>1</td>\n",
              "    </tr>\n",
              "    <tr>\n",
              "      <th>302</th>\n",
              "      <td>38.0</td>\n",
              "      <td>1.0</td>\n",
              "      <td>3.0</td>\n",
              "      <td>138.0</td>\n",
              "      <td>175.0</td>\n",
              "      <td>0.0</td>\n",
              "      <td>0.0</td>\n",
              "      <td>173.0</td>\n",
              "      <td>0.0</td>\n",
              "      <td>0.0</td>\n",
              "      <td>1.0</td>\n",
              "      <td>?</td>\n",
              "      <td>3.0</td>\n",
              "      <td>0</td>\n",
              "    </tr>\n",
              "  </tbody>\n",
              "</table>\n",
              "</div>\n",
              "      <button class=\"colab-df-convert\" onclick=\"convertToInteractive('df-a72a6058-ec0b-4ef7-8dd9-4fdbeaa417c8')\"\n",
              "              title=\"Convert this dataframe to an interactive table.\"\n",
              "              style=\"display:none;\">\n",
              "        \n",
              "  <svg xmlns=\"http://www.w3.org/2000/svg\" height=\"24px\"viewBox=\"0 0 24 24\"\n",
              "       width=\"24px\">\n",
              "    <path d=\"M0 0h24v24H0V0z\" fill=\"none\"/>\n",
              "    <path d=\"M18.56 5.44l.94 2.06.94-2.06 2.06-.94-2.06-.94-.94-2.06-.94 2.06-2.06.94zm-11 1L8.5 8.5l.94-2.06 2.06-.94-2.06-.94L8.5 2.5l-.94 2.06-2.06.94zm10 10l.94 2.06.94-2.06 2.06-.94-2.06-.94-.94-2.06-.94 2.06-2.06.94z\"/><path d=\"M17.41 7.96l-1.37-1.37c-.4-.4-.92-.59-1.43-.59-.52 0-1.04.2-1.43.59L10.3 9.45l-7.72 7.72c-.78.78-.78 2.05 0 2.83L4 21.41c.39.39.9.59 1.41.59.51 0 1.02-.2 1.41-.59l7.78-7.78 2.81-2.81c.8-.78.8-2.07 0-2.86zM5.41 20L4 18.59l7.72-7.72 1.47 1.35L5.41 20z\"/>\n",
              "  </svg>\n",
              "      </button>\n",
              "      \n",
              "  <style>\n",
              "    .colab-df-container {\n",
              "      display:flex;\n",
              "      flex-wrap:wrap;\n",
              "      gap: 12px;\n",
              "    }\n",
              "\n",
              "    .colab-df-convert {\n",
              "      background-color: #E8F0FE;\n",
              "      border: none;\n",
              "      border-radius: 50%;\n",
              "      cursor: pointer;\n",
              "      display: none;\n",
              "      fill: #1967D2;\n",
              "      height: 32px;\n",
              "      padding: 0 0 0 0;\n",
              "      width: 32px;\n",
              "    }\n",
              "\n",
              "    .colab-df-convert:hover {\n",
              "      background-color: #E2EBFA;\n",
              "      box-shadow: 0px 1px 2px rgba(60, 64, 67, 0.3), 0px 1px 3px 1px rgba(60, 64, 67, 0.15);\n",
              "      fill: #174EA6;\n",
              "    }\n",
              "\n",
              "    [theme=dark] .colab-df-convert {\n",
              "      background-color: #3B4455;\n",
              "      fill: #D2E3FC;\n",
              "    }\n",
              "\n",
              "    [theme=dark] .colab-df-convert:hover {\n",
              "      background-color: #434B5C;\n",
              "      box-shadow: 0px 1px 3px 1px rgba(0, 0, 0, 0.15);\n",
              "      filter: drop-shadow(0px 1px 2px rgba(0, 0, 0, 0.3));\n",
              "      fill: #FFFFFF;\n",
              "    }\n",
              "  </style>\n",
              "\n",
              "      <script>\n",
              "        const buttonEl =\n",
              "          document.querySelector('#df-a72a6058-ec0b-4ef7-8dd9-4fdbeaa417c8 button.colab-df-convert');\n",
              "        buttonEl.style.display =\n",
              "          google.colab.kernel.accessAllowed ? 'block' : 'none';\n",
              "\n",
              "        async function convertToInteractive(key) {\n",
              "          const element = document.querySelector('#df-a72a6058-ec0b-4ef7-8dd9-4fdbeaa417c8');\n",
              "          const dataTable =\n",
              "            await google.colab.kernel.invokeFunction('convertToInteractive',\n",
              "                                                     [key], {});\n",
              "          if (!dataTable) return;\n",
              "\n",
              "          const docLinkHtml = 'Like what you see? Visit the ' +\n",
              "            '<a target=\"_blank\" href=https://colab.research.google.com/notebooks/data_table.ipynb>data table notebook</a>'\n",
              "            + ' to learn more about interactive tables.';\n",
              "          element.innerHTML = '';\n",
              "          dataTable['output_type'] = 'display_data';\n",
              "          await google.colab.output.renderOutput(dataTable, element);\n",
              "          const docLink = document.createElement('div');\n",
              "          docLink.innerHTML = docLinkHtml;\n",
              "          element.appendChild(docLink);\n",
              "        }\n",
              "      </script>\n",
              "    </div>\n",
              "  </div>\n",
              "  "
            ]
          },
          "metadata": {},
          "execution_count": 7
        }
      ]
    },
    {
      "cell_type": "markdown",
      "source": [
        "### Switzerland Data top and bottom 5 rows\n",
        "Top 5 rows"
      ],
      "metadata": {
        "id": "fDpvEkp-dx2d"
      }
    },
    {
      "cell_type": "code",
      "source": [
        "sf.head()"
      ],
      "metadata": {
        "colab": {
          "base_uri": "https://localhost:8080/",
          "height": 206
        },
        "id": "PPT-qsTuXE05",
        "outputId": "21420177-a21d-4446-d292-0859b258f264"
      },
      "execution_count": 8,
      "outputs": [
        {
          "output_type": "execute_result",
          "data": {
            "text/plain": [
              "   age  sex  chest_pain_type resting blood pressure  cholestoral  \\\n",
              "0   32    1                1                     95            0   \n",
              "1   34    1                4                    115            0   \n",
              "2   35    1                4                      ?            0   \n",
              "3   36    1                4                    110            0   \n",
              "4   38    0                4                    105            0   \n",
              "\n",
              "  fasting_blood_sugar ekg_results max_hr exercise_angina ST_depression  \\\n",
              "0                   ?           0    127               0            .7   \n",
              "1                   ?           ?    154               0            .2   \n",
              "2                   ?           0    130               1             ?   \n",
              "3                   ?           0    125               1             1   \n",
              "4                   ?           0    166               0           2.8   \n",
              "\n",
              "  slope_of_st vessels thallium  heart_disease  \n",
              "0           1       ?        ?              1  \n",
              "1           1       ?        ?              1  \n",
              "2           ?       ?        7              3  \n",
              "3           2       ?        6              1  \n",
              "4           1       ?        ?              2  "
            ],
            "text/html": [
              "\n",
              "  <div id=\"df-e6f590d6-7c91-4c10-b1eb-16ba78e72c88\">\n",
              "    <div class=\"colab-df-container\">\n",
              "      <div>\n",
              "<style scoped>\n",
              "    .dataframe tbody tr th:only-of-type {\n",
              "        vertical-align: middle;\n",
              "    }\n",
              "\n",
              "    .dataframe tbody tr th {\n",
              "        vertical-align: top;\n",
              "    }\n",
              "\n",
              "    .dataframe thead th {\n",
              "        text-align: right;\n",
              "    }\n",
              "</style>\n",
              "<table border=\"1\" class=\"dataframe\">\n",
              "  <thead>\n",
              "    <tr style=\"text-align: right;\">\n",
              "      <th></th>\n",
              "      <th>age</th>\n",
              "      <th>sex</th>\n",
              "      <th>chest_pain_type</th>\n",
              "      <th>resting blood pressure</th>\n",
              "      <th>cholestoral</th>\n",
              "      <th>fasting_blood_sugar</th>\n",
              "      <th>ekg_results</th>\n",
              "      <th>max_hr</th>\n",
              "      <th>exercise_angina</th>\n",
              "      <th>ST_depression</th>\n",
              "      <th>slope_of_st</th>\n",
              "      <th>vessels</th>\n",
              "      <th>thallium</th>\n",
              "      <th>heart_disease</th>\n",
              "    </tr>\n",
              "  </thead>\n",
              "  <tbody>\n",
              "    <tr>\n",
              "      <th>0</th>\n",
              "      <td>32</td>\n",
              "      <td>1</td>\n",
              "      <td>1</td>\n",
              "      <td>95</td>\n",
              "      <td>0</td>\n",
              "      <td>?</td>\n",
              "      <td>0</td>\n",
              "      <td>127</td>\n",
              "      <td>0</td>\n",
              "      <td>.7</td>\n",
              "      <td>1</td>\n",
              "      <td>?</td>\n",
              "      <td>?</td>\n",
              "      <td>1</td>\n",
              "    </tr>\n",
              "    <tr>\n",
              "      <th>1</th>\n",
              "      <td>34</td>\n",
              "      <td>1</td>\n",
              "      <td>4</td>\n",
              "      <td>115</td>\n",
              "      <td>0</td>\n",
              "      <td>?</td>\n",
              "      <td>?</td>\n",
              "      <td>154</td>\n",
              "      <td>0</td>\n",
              "      <td>.2</td>\n",
              "      <td>1</td>\n",
              "      <td>?</td>\n",
              "      <td>?</td>\n",
              "      <td>1</td>\n",
              "    </tr>\n",
              "    <tr>\n",
              "      <th>2</th>\n",
              "      <td>35</td>\n",
              "      <td>1</td>\n",
              "      <td>4</td>\n",
              "      <td>?</td>\n",
              "      <td>0</td>\n",
              "      <td>?</td>\n",
              "      <td>0</td>\n",
              "      <td>130</td>\n",
              "      <td>1</td>\n",
              "      <td>?</td>\n",
              "      <td>?</td>\n",
              "      <td>?</td>\n",
              "      <td>7</td>\n",
              "      <td>3</td>\n",
              "    </tr>\n",
              "    <tr>\n",
              "      <th>3</th>\n",
              "      <td>36</td>\n",
              "      <td>1</td>\n",
              "      <td>4</td>\n",
              "      <td>110</td>\n",
              "      <td>0</td>\n",
              "      <td>?</td>\n",
              "      <td>0</td>\n",
              "      <td>125</td>\n",
              "      <td>1</td>\n",
              "      <td>1</td>\n",
              "      <td>2</td>\n",
              "      <td>?</td>\n",
              "      <td>6</td>\n",
              "      <td>1</td>\n",
              "    </tr>\n",
              "    <tr>\n",
              "      <th>4</th>\n",
              "      <td>38</td>\n",
              "      <td>0</td>\n",
              "      <td>4</td>\n",
              "      <td>105</td>\n",
              "      <td>0</td>\n",
              "      <td>?</td>\n",
              "      <td>0</td>\n",
              "      <td>166</td>\n",
              "      <td>0</td>\n",
              "      <td>2.8</td>\n",
              "      <td>1</td>\n",
              "      <td>?</td>\n",
              "      <td>?</td>\n",
              "      <td>2</td>\n",
              "    </tr>\n",
              "  </tbody>\n",
              "</table>\n",
              "</div>\n",
              "      <button class=\"colab-df-convert\" onclick=\"convertToInteractive('df-e6f590d6-7c91-4c10-b1eb-16ba78e72c88')\"\n",
              "              title=\"Convert this dataframe to an interactive table.\"\n",
              "              style=\"display:none;\">\n",
              "        \n",
              "  <svg xmlns=\"http://www.w3.org/2000/svg\" height=\"24px\"viewBox=\"0 0 24 24\"\n",
              "       width=\"24px\">\n",
              "    <path d=\"M0 0h24v24H0V0z\" fill=\"none\"/>\n",
              "    <path d=\"M18.56 5.44l.94 2.06.94-2.06 2.06-.94-2.06-.94-.94-2.06-.94 2.06-2.06.94zm-11 1L8.5 8.5l.94-2.06 2.06-.94-2.06-.94L8.5 2.5l-.94 2.06-2.06.94zm10 10l.94 2.06.94-2.06 2.06-.94-2.06-.94-.94-2.06-.94 2.06-2.06.94z\"/><path d=\"M17.41 7.96l-1.37-1.37c-.4-.4-.92-.59-1.43-.59-.52 0-1.04.2-1.43.59L10.3 9.45l-7.72 7.72c-.78.78-.78 2.05 0 2.83L4 21.41c.39.39.9.59 1.41.59.51 0 1.02-.2 1.41-.59l7.78-7.78 2.81-2.81c.8-.78.8-2.07 0-2.86zM5.41 20L4 18.59l7.72-7.72 1.47 1.35L5.41 20z\"/>\n",
              "  </svg>\n",
              "      </button>\n",
              "      \n",
              "  <style>\n",
              "    .colab-df-container {\n",
              "      display:flex;\n",
              "      flex-wrap:wrap;\n",
              "      gap: 12px;\n",
              "    }\n",
              "\n",
              "    .colab-df-convert {\n",
              "      background-color: #E8F0FE;\n",
              "      border: none;\n",
              "      border-radius: 50%;\n",
              "      cursor: pointer;\n",
              "      display: none;\n",
              "      fill: #1967D2;\n",
              "      height: 32px;\n",
              "      padding: 0 0 0 0;\n",
              "      width: 32px;\n",
              "    }\n",
              "\n",
              "    .colab-df-convert:hover {\n",
              "      background-color: #E2EBFA;\n",
              "      box-shadow: 0px 1px 2px rgba(60, 64, 67, 0.3), 0px 1px 3px 1px rgba(60, 64, 67, 0.15);\n",
              "      fill: #174EA6;\n",
              "    }\n",
              "\n",
              "    [theme=dark] .colab-df-convert {\n",
              "      background-color: #3B4455;\n",
              "      fill: #D2E3FC;\n",
              "    }\n",
              "\n",
              "    [theme=dark] .colab-df-convert:hover {\n",
              "      background-color: #434B5C;\n",
              "      box-shadow: 0px 1px 3px 1px rgba(0, 0, 0, 0.15);\n",
              "      filter: drop-shadow(0px 1px 2px rgba(0, 0, 0, 0.3));\n",
              "      fill: #FFFFFF;\n",
              "    }\n",
              "  </style>\n",
              "\n",
              "      <script>\n",
              "        const buttonEl =\n",
              "          document.querySelector('#df-e6f590d6-7c91-4c10-b1eb-16ba78e72c88 button.colab-df-convert');\n",
              "        buttonEl.style.display =\n",
              "          google.colab.kernel.accessAllowed ? 'block' : 'none';\n",
              "\n",
              "        async function convertToInteractive(key) {\n",
              "          const element = document.querySelector('#df-e6f590d6-7c91-4c10-b1eb-16ba78e72c88');\n",
              "          const dataTable =\n",
              "            await google.colab.kernel.invokeFunction('convertToInteractive',\n",
              "                                                     [key], {});\n",
              "          if (!dataTable) return;\n",
              "\n",
              "          const docLinkHtml = 'Like what you see? Visit the ' +\n",
              "            '<a target=\"_blank\" href=https://colab.research.google.com/notebooks/data_table.ipynb>data table notebook</a>'\n",
              "            + ' to learn more about interactive tables.';\n",
              "          element.innerHTML = '';\n",
              "          dataTable['output_type'] = 'display_data';\n",
              "          await google.colab.output.renderOutput(dataTable, element);\n",
              "          const docLink = document.createElement('div');\n",
              "          docLink.innerHTML = docLinkHtml;\n",
              "          element.appendChild(docLink);\n",
              "        }\n",
              "      </script>\n",
              "    </div>\n",
              "  </div>\n",
              "  "
            ]
          },
          "metadata": {},
          "execution_count": 8
        }
      ]
    },
    {
      "cell_type": "markdown",
      "source": [
        "Bottom 5 rows"
      ],
      "metadata": {
        "id": "r_b_78dchUyY"
      }
    },
    {
      "cell_type": "code",
      "source": [
        "sf.tail()"
      ],
      "metadata": {
        "colab": {
          "base_uri": "https://localhost:8080/",
          "height": 206
        },
        "id": "6aoCBte7XHGQ",
        "outputId": "e5101ba9-da68-48c4-e4ef-d05eb38944fc"
      },
      "execution_count": 9,
      "outputs": [
        {
          "output_type": "execute_result",
          "data": {
            "text/plain": [
              "     age  sex  chest_pain_type resting blood pressure  cholestoral  \\\n",
              "118   70    1                4                    115            0   \n",
              "119   70    1                4                    140            0   \n",
              "120   72    1                3                    160            0   \n",
              "121   73    0                3                    160            0   \n",
              "122   74    1                2                    145            0   \n",
              "\n",
              "    fasting_blood_sugar ekg_results max_hr exercise_angina ST_depression  \\\n",
              "118                   0           1     92               1             0   \n",
              "119                   1           0    157               1             2   \n",
              "120                   ?           2    114               0           1.6   \n",
              "121                   0           1    121               0             0   \n",
              "122                   ?           1    123               0           1.3   \n",
              "\n",
              "    slope_of_st vessels thallium  heart_disease  \n",
              "118           2       ?        7              1  \n",
              "119           2       ?        7              3  \n",
              "120           2       2        ?              0  \n",
              "121           1       ?        3              1  \n",
              "122           1       ?        ?              1  "
            ],
            "text/html": [
              "\n",
              "  <div id=\"df-f6d4e0c8-3e74-44fb-b05d-e09cb9505cf4\">\n",
              "    <div class=\"colab-df-container\">\n",
              "      <div>\n",
              "<style scoped>\n",
              "    .dataframe tbody tr th:only-of-type {\n",
              "        vertical-align: middle;\n",
              "    }\n",
              "\n",
              "    .dataframe tbody tr th {\n",
              "        vertical-align: top;\n",
              "    }\n",
              "\n",
              "    .dataframe thead th {\n",
              "        text-align: right;\n",
              "    }\n",
              "</style>\n",
              "<table border=\"1\" class=\"dataframe\">\n",
              "  <thead>\n",
              "    <tr style=\"text-align: right;\">\n",
              "      <th></th>\n",
              "      <th>age</th>\n",
              "      <th>sex</th>\n",
              "      <th>chest_pain_type</th>\n",
              "      <th>resting blood pressure</th>\n",
              "      <th>cholestoral</th>\n",
              "      <th>fasting_blood_sugar</th>\n",
              "      <th>ekg_results</th>\n",
              "      <th>max_hr</th>\n",
              "      <th>exercise_angina</th>\n",
              "      <th>ST_depression</th>\n",
              "      <th>slope_of_st</th>\n",
              "      <th>vessels</th>\n",
              "      <th>thallium</th>\n",
              "      <th>heart_disease</th>\n",
              "    </tr>\n",
              "  </thead>\n",
              "  <tbody>\n",
              "    <tr>\n",
              "      <th>118</th>\n",
              "      <td>70</td>\n",
              "      <td>1</td>\n",
              "      <td>4</td>\n",
              "      <td>115</td>\n",
              "      <td>0</td>\n",
              "      <td>0</td>\n",
              "      <td>1</td>\n",
              "      <td>92</td>\n",
              "      <td>1</td>\n",
              "      <td>0</td>\n",
              "      <td>2</td>\n",
              "      <td>?</td>\n",
              "      <td>7</td>\n",
              "      <td>1</td>\n",
              "    </tr>\n",
              "    <tr>\n",
              "      <th>119</th>\n",
              "      <td>70</td>\n",
              "      <td>1</td>\n",
              "      <td>4</td>\n",
              "      <td>140</td>\n",
              "      <td>0</td>\n",
              "      <td>1</td>\n",
              "      <td>0</td>\n",
              "      <td>157</td>\n",
              "      <td>1</td>\n",
              "      <td>2</td>\n",
              "      <td>2</td>\n",
              "      <td>?</td>\n",
              "      <td>7</td>\n",
              "      <td>3</td>\n",
              "    </tr>\n",
              "    <tr>\n",
              "      <th>120</th>\n",
              "      <td>72</td>\n",
              "      <td>1</td>\n",
              "      <td>3</td>\n",
              "      <td>160</td>\n",
              "      <td>0</td>\n",
              "      <td>?</td>\n",
              "      <td>2</td>\n",
              "      <td>114</td>\n",
              "      <td>0</td>\n",
              "      <td>1.6</td>\n",
              "      <td>2</td>\n",
              "      <td>2</td>\n",
              "      <td>?</td>\n",
              "      <td>0</td>\n",
              "    </tr>\n",
              "    <tr>\n",
              "      <th>121</th>\n",
              "      <td>73</td>\n",
              "      <td>0</td>\n",
              "      <td>3</td>\n",
              "      <td>160</td>\n",
              "      <td>0</td>\n",
              "      <td>0</td>\n",
              "      <td>1</td>\n",
              "      <td>121</td>\n",
              "      <td>0</td>\n",
              "      <td>0</td>\n",
              "      <td>1</td>\n",
              "      <td>?</td>\n",
              "      <td>3</td>\n",
              "      <td>1</td>\n",
              "    </tr>\n",
              "    <tr>\n",
              "      <th>122</th>\n",
              "      <td>74</td>\n",
              "      <td>1</td>\n",
              "      <td>2</td>\n",
              "      <td>145</td>\n",
              "      <td>0</td>\n",
              "      <td>?</td>\n",
              "      <td>1</td>\n",
              "      <td>123</td>\n",
              "      <td>0</td>\n",
              "      <td>1.3</td>\n",
              "      <td>1</td>\n",
              "      <td>?</td>\n",
              "      <td>?</td>\n",
              "      <td>1</td>\n",
              "    </tr>\n",
              "  </tbody>\n",
              "</table>\n",
              "</div>\n",
              "      <button class=\"colab-df-convert\" onclick=\"convertToInteractive('df-f6d4e0c8-3e74-44fb-b05d-e09cb9505cf4')\"\n",
              "              title=\"Convert this dataframe to an interactive table.\"\n",
              "              style=\"display:none;\">\n",
              "        \n",
              "  <svg xmlns=\"http://www.w3.org/2000/svg\" height=\"24px\"viewBox=\"0 0 24 24\"\n",
              "       width=\"24px\">\n",
              "    <path d=\"M0 0h24v24H0V0z\" fill=\"none\"/>\n",
              "    <path d=\"M18.56 5.44l.94 2.06.94-2.06 2.06-.94-2.06-.94-.94-2.06-.94 2.06-2.06.94zm-11 1L8.5 8.5l.94-2.06 2.06-.94-2.06-.94L8.5 2.5l-.94 2.06-2.06.94zm10 10l.94 2.06.94-2.06 2.06-.94-2.06-.94-.94-2.06-.94 2.06-2.06.94z\"/><path d=\"M17.41 7.96l-1.37-1.37c-.4-.4-.92-.59-1.43-.59-.52 0-1.04.2-1.43.59L10.3 9.45l-7.72 7.72c-.78.78-.78 2.05 0 2.83L4 21.41c.39.39.9.59 1.41.59.51 0 1.02-.2 1.41-.59l7.78-7.78 2.81-2.81c.8-.78.8-2.07 0-2.86zM5.41 20L4 18.59l7.72-7.72 1.47 1.35L5.41 20z\"/>\n",
              "  </svg>\n",
              "      </button>\n",
              "      \n",
              "  <style>\n",
              "    .colab-df-container {\n",
              "      display:flex;\n",
              "      flex-wrap:wrap;\n",
              "      gap: 12px;\n",
              "    }\n",
              "\n",
              "    .colab-df-convert {\n",
              "      background-color: #E8F0FE;\n",
              "      border: none;\n",
              "      border-radius: 50%;\n",
              "      cursor: pointer;\n",
              "      display: none;\n",
              "      fill: #1967D2;\n",
              "      height: 32px;\n",
              "      padding: 0 0 0 0;\n",
              "      width: 32px;\n",
              "    }\n",
              "\n",
              "    .colab-df-convert:hover {\n",
              "      background-color: #E2EBFA;\n",
              "      box-shadow: 0px 1px 2px rgba(60, 64, 67, 0.3), 0px 1px 3px 1px rgba(60, 64, 67, 0.15);\n",
              "      fill: #174EA6;\n",
              "    }\n",
              "\n",
              "    [theme=dark] .colab-df-convert {\n",
              "      background-color: #3B4455;\n",
              "      fill: #D2E3FC;\n",
              "    }\n",
              "\n",
              "    [theme=dark] .colab-df-convert:hover {\n",
              "      background-color: #434B5C;\n",
              "      box-shadow: 0px 1px 3px 1px rgba(0, 0, 0, 0.15);\n",
              "      filter: drop-shadow(0px 1px 2px rgba(0, 0, 0, 0.3));\n",
              "      fill: #FFFFFF;\n",
              "    }\n",
              "  </style>\n",
              "\n",
              "      <script>\n",
              "        const buttonEl =\n",
              "          document.querySelector('#df-f6d4e0c8-3e74-44fb-b05d-e09cb9505cf4 button.colab-df-convert');\n",
              "        buttonEl.style.display =\n",
              "          google.colab.kernel.accessAllowed ? 'block' : 'none';\n",
              "\n",
              "        async function convertToInteractive(key) {\n",
              "          const element = document.querySelector('#df-f6d4e0c8-3e74-44fb-b05d-e09cb9505cf4');\n",
              "          const dataTable =\n",
              "            await google.colab.kernel.invokeFunction('convertToInteractive',\n",
              "                                                     [key], {});\n",
              "          if (!dataTable) return;\n",
              "\n",
              "          const docLinkHtml = 'Like what you see? Visit the ' +\n",
              "            '<a target=\"_blank\" href=https://colab.research.google.com/notebooks/data_table.ipynb>data table notebook</a>'\n",
              "            + ' to learn more about interactive tables.';\n",
              "          element.innerHTML = '';\n",
              "          dataTable['output_type'] = 'display_data';\n",
              "          await google.colab.output.renderOutput(dataTable, element);\n",
              "          const docLink = document.createElement('div');\n",
              "          docLink.innerHTML = docLinkHtml;\n",
              "          element.appendChild(docLink);\n",
              "        }\n",
              "      </script>\n",
              "    </div>\n",
              "  </div>\n",
              "  "
            ]
          },
          "metadata": {},
          "execution_count": 9
        }
      ]
    },
    {
      "cell_type": "markdown",
      "source": [
        "### Hungarian Data"
      ],
      "metadata": {
        "id": "T-SdKl2AdSJi"
      }
    },
    {
      "cell_type": "code",
      "source": [
        "#Features in the Dataset Heart Disease dataset\n",
        "hf.columns"
      ],
      "metadata": {
        "colab": {
          "base_uri": "https://localhost:8080/"
        },
        "id": "-1GmGJuE_Uh3",
        "outputId": "e408aef6-b021-47a3-c3a3-cb0bae26b5fb"
      },
      "execution_count": 10,
      "outputs": [
        {
          "output_type": "execute_result",
          "data": {
            "text/plain": [
              "Index(['age', 'sex', 'chest_pain_type', 'resting blood pressure',\n",
              "       'cholestoral', 'fasting_blood_sugar', 'ekg_results', 'max_hr',\n",
              "       'exercise_angina', 'ST_depression', 'slope_of_st', 'vessels',\n",
              "       'thallium', 'heart_disease'],\n",
              "      dtype='object')"
            ]
          },
          "metadata": {},
          "execution_count": 10
        }
      ]
    },
    {
      "cell_type": "code",
      "source": [
        "#Shape of the dataset\n",
        "hf.shape"
      ],
      "metadata": {
        "colab": {
          "base_uri": "https://localhost:8080/"
        },
        "id": "g18JxNiX_dit",
        "outputId": "c314c5c6-d44f-4dc9-c418-f9bd45e72a5c"
      },
      "execution_count": 11,
      "outputs": [
        {
          "output_type": "execute_result",
          "data": {
            "text/plain": [
              "(294, 14)"
            ]
          },
          "metadata": {},
          "execution_count": 11
        }
      ]
    },
    {
      "cell_type": "code",
      "source": [
        "#info of data types\n",
        "hf.info()"
      ],
      "metadata": {
        "colab": {
          "base_uri": "https://localhost:8080/"
        },
        "id": "ipB2k2TsFSYl",
        "outputId": "89830cc8-4552-4430-ddac-92d954166f7a"
      },
      "execution_count": 12,
      "outputs": [
        {
          "output_type": "stream",
          "name": "stdout",
          "text": [
            "<class 'pandas.core.frame.DataFrame'>\n",
            "RangeIndex: 294 entries, 0 to 293\n",
            "Data columns (total 14 columns):\n",
            " #   Column                  Non-Null Count  Dtype  \n",
            "---  ------                  --------------  -----  \n",
            " 0   age                     294 non-null    int64  \n",
            " 1   sex                     294 non-null    int64  \n",
            " 2   chest_pain_type         294 non-null    int64  \n",
            " 3   resting blood pressure  294 non-null    object \n",
            " 4   cholestoral             294 non-null    object \n",
            " 5   fasting_blood_sugar     294 non-null    object \n",
            " 6   ekg_results             294 non-null    object \n",
            " 7   max_hr                  294 non-null    object \n",
            " 8   exercise_angina         294 non-null    object \n",
            " 9   ST_depression           294 non-null    float64\n",
            " 10  slope_of_st             294 non-null    object \n",
            " 11  vessels                 294 non-null    object \n",
            " 12  thallium                294 non-null    object \n",
            " 13  heart_disease           294 non-null    int64  \n",
            "dtypes: float64(1), int64(4), object(9)\n",
            "memory usage: 32.3+ KB\n"
          ]
        }
      ]
    },
    {
      "cell_type": "markdown",
      "source": [
        "### Printing Uniques values from all the columns."
      ],
      "metadata": {
        "id": "j4tUXUa7ixLp"
      }
    },
    {
      "cell_type": "code",
      "source": [
        "print(\"age of the Hungarian dataset:\\n\", hf['age'].unique())\n",
        "print(\"\\n sex of the Hungarian dataset:\\n\", hf['sex'].unique())\n",
        "print(\"\\n chest_pain_type of the Hungarian dataset:\\n\", hf['chest_pain_type'].unique())\n",
        "print(\"\\n resting blood pressure of the Hungarian dataset:\\n\", hf['resting blood pressure'].unique())\n",
        "print(\"\\n cholestoral of the Hungarian dataset:\\n\", hf['cholestoral'].unique())\n",
        "print(\"\\n fasting_blood_sugar of the Hungarian dataset:\\n\", hf['fasting_blood_sugar'].unique())\n",
        "print(\"\\n ekg_results of the Hungarian dataset:\\n\", hf['ekg_results'].unique())\n",
        "print(\"\\n max_hr of the Hungarian dataset:\\n\", hf['max_hr'].unique())\n",
        "print(\"\\n exercise_angina of the Hungarian dataset:\\n\", hf['exercise_angina'].unique())\n",
        "print(\"\\n ST_depression of the Hungarian dataset:\\n\", hf['ST_depression'].unique())\n",
        "print(\"\\n slope_of_st of the Hungarian dataset:\\n\", hf['slope_of_st'].unique())\n",
        "print(\"\\n vessels of the Hungarian dataset:\\n\", hf['vessels'].unique())\n",
        "print(\"\\n heart_disease of the Hungarian dataset:\\n\", hf['heart_disease'].unique())\n",
        "print(\"\\n thallium of the Hungarian dataset:\\n\", hf['thallium'].unique())\n"
      ],
      "metadata": {
        "colab": {
          "base_uri": "https://localhost:8080/"
        },
        "id": "GWOITY98ix9d",
        "outputId": "6ad4e7b9-9036-40d1-f3a1-92c8cd96b23f"
      },
      "execution_count": 13,
      "outputs": [
        {
          "output_type": "stream",
          "name": "stdout",
          "text": [
            "age of the Hungarian dataset:\n",
            " [28 29 30 31 32 33 34 35 36 37 38 39 40 41 42 43 44 45 46 47 48 49 50 51\n",
            " 52 53 54 55 56 57 58 59 60 61 62 63 65 66]\n",
            "\n",
            " sex of the Hungarian dataset:\n",
            " [1 0]\n",
            "\n",
            " chest_pain_type of the Hungarian dataset:\n",
            " [2 1 3 4]\n",
            "\n",
            " resting blood pressure of the Hungarian dataset:\n",
            " ['130' '120' '140' '170' '100' '105' '110' '125' '150' '98' '112' '145'\n",
            " '190' '160' '115' '142' '180' '132' '135' '?' '108' '124' '113' '122'\n",
            " '92' '118' '106' '200' '138' '136' '128' '155']\n",
            "\n",
            " cholestoral of the Hungarian dataset:\n",
            " ['132' '243' '?' '237' '219' '198' '225' '254' '298' '161' '214' '220'\n",
            " '160' '167' '308' '264' '166' '340' '209' '260' '211' '173' '283' '194'\n",
            " '223' '315' '275' '297' '292' '182' '200' '204' '241' '339' '147' '273'\n",
            " '307' '289' '215' '281' '250' '184' '245' '291' '295' '269' '196' '268'\n",
            " '228' '358' '201' '249' '266' '186' '207' '218' '412' '224' '238' '230'\n",
            " '163' '240' '280' '257' '263' '276' '284' '195' '227' '253' '187' '202'\n",
            " '328' '168' '216' '129' '190' '188' '179' '210' '272' '180' '100' '259'\n",
            " '468' '274' '320' '221' '309' '312' '171' '208' '246' '305' '217' '365'\n",
            " '344' '394' '256' '326' '277' '270' '229' '85' '347' '251' '222' '287'\n",
            " '318' '213' '294' '193' '271' '156' '267' '282' '117' '466' '247' '226'\n",
            " '265' '206' '288' '303' '338' '248' '306' '529' '392' '231' '329' '355'\n",
            " '233' '242' '603' '255' '172' '175' '290' '341' '234' '342' '404' '518'\n",
            " '285' '279' '388' '164' '336' '491' '205' '212' '331' '393']\n",
            "\n",
            " fasting_blood_sugar of the Hungarian dataset:\n",
            " ['0' '?' '1']\n",
            "\n",
            " ekg_results of the Hungarian dataset:\n",
            " ['2' '0' '1' '?']\n",
            "\n",
            " max_hr of the Hungarian dataset:\n",
            " ['185' '160' '170' '150' '165' '184' '155' '190' '168' '180' '178' '172'\n",
            " '130' '142' '98' '158' '129' '146' '145' '120' '106' '132' '140' '138'\n",
            " '167' '188' '144' '137' '136' '152' '175' '176' '118' '154' '115' '135'\n",
            " '122' '110' '90' '116' '174' '125' '?' '148' '100' '164' '139' '127'\n",
            " '162' '112' '134' '114' '128' '126' '124' '153' '166' '103' '156' '87'\n",
            " '102' '92' '99' '121' '91' '108' '96' '82' '105' '143' '119' '94']\n",
            "\n",
            " exercise_angina of the Hungarian dataset:\n",
            " ['0' '1' '?']\n",
            "\n",
            " ST_depression of the Hungarian dataset:\n",
            " [0.  1.  2.  1.5 0.5 3.  0.8 2.5 4.  5. ]\n",
            "\n",
            " slope_of_st of the Hungarian dataset:\n",
            " ['?' '2' '1' '3']\n",
            "\n",
            " vessels of the Hungarian dataset:\n",
            " ['?' '0']\n",
            "\n",
            " heart_disease of the Hungarian dataset:\n",
            " [0 1]\n",
            "\n",
            " thallium of the Hungarian dataset:\n",
            " ['?' '6' '3' '7']\n"
          ]
        }
      ]
    },
    {
      "cell_type": "markdown",
      "source": [
        "### Switzerland Data"
      ],
      "metadata": {
        "id": "qYfoWmJbdVN_"
      }
    },
    {
      "cell_type": "code",
      "source": [
        "sf.columns"
      ],
      "metadata": {
        "colab": {
          "base_uri": "https://localhost:8080/"
        },
        "id": "OSZQkJj9nGrE",
        "outputId": "33469165-74f1-4012-e924-ec24629d2a4f"
      },
      "execution_count": 14,
      "outputs": [
        {
          "output_type": "execute_result",
          "data": {
            "text/plain": [
              "Index(['age', 'sex', 'chest_pain_type', 'resting blood pressure',\n",
              "       'cholestoral', 'fasting_blood_sugar', 'ekg_results', 'max_hr',\n",
              "       'exercise_angina', 'ST_depression', 'slope_of_st', 'vessels',\n",
              "       'thallium', 'heart_disease'],\n",
              "      dtype='object')"
            ]
          },
          "metadata": {},
          "execution_count": 14
        }
      ]
    },
    {
      "cell_type": "code",
      "source": [
        "sf.shape"
      ],
      "metadata": {
        "colab": {
          "base_uri": "https://localhost:8080/"
        },
        "id": "Keps3c3LnTVd",
        "outputId": "347b5720-071e-4830-acd3-77a26ce9cede"
      },
      "execution_count": 15,
      "outputs": [
        {
          "output_type": "execute_result",
          "data": {
            "text/plain": [
              "(123, 14)"
            ]
          },
          "metadata": {},
          "execution_count": 15
        }
      ]
    },
    {
      "cell_type": "code",
      "source": [
        "sf.info()"
      ],
      "metadata": {
        "colab": {
          "base_uri": "https://localhost:8080/"
        },
        "id": "Tl9CmsWNVDwZ",
        "outputId": "3751ada1-7024-41da-9710-8c1be65a5347"
      },
      "execution_count": 16,
      "outputs": [
        {
          "output_type": "stream",
          "name": "stdout",
          "text": [
            "<class 'pandas.core.frame.DataFrame'>\n",
            "RangeIndex: 123 entries, 0 to 122\n",
            "Data columns (total 14 columns):\n",
            " #   Column                  Non-Null Count  Dtype \n",
            "---  ------                  --------------  ----- \n",
            " 0   age                     123 non-null    int64 \n",
            " 1   sex                     123 non-null    int64 \n",
            " 2   chest_pain_type         123 non-null    int64 \n",
            " 3   resting blood pressure  123 non-null    object\n",
            " 4   cholestoral             123 non-null    int64 \n",
            " 5   fasting_blood_sugar     123 non-null    object\n",
            " 6   ekg_results             123 non-null    object\n",
            " 7   max_hr                  123 non-null    object\n",
            " 8   exercise_angina         123 non-null    object\n",
            " 9   ST_depression           123 non-null    object\n",
            " 10  slope_of_st             123 non-null    object\n",
            " 11  vessels                 123 non-null    object\n",
            " 12  thallium                123 non-null    object\n",
            " 13  heart_disease           123 non-null    int64 \n",
            "dtypes: int64(5), object(9)\n",
            "memory usage: 13.6+ KB\n"
          ]
        }
      ]
    },
    {
      "cell_type": "code",
      "source": [
        "print(\"age of the Switzerland dataset:\\n\", sf['age'].unique())\n",
        "print(\"\\n sex of the Switzerland dataset:\\n\", sf['sex'].unique())\n",
        "print(\"\\n chest_pain_type of the Switzerland dataset:\\n\", sf['chest_pain_type'].unique())\n",
        "print(\"\\n resting blood pressure of the Switzerland dataset:\\n\", sf['resting blood pressure'].unique())\n",
        "print(\"\\n cholestoral of the Switzerland dataset:\\n\", sf['cholestoral'].unique())\n",
        "print(\"\\n fasting_blood_sugar of the Switzerland dataset:\\n\", sf['fasting_blood_sugar'].unique())\n",
        "print(\"\\n ekg_results of the Switzerland dataset:\\n\", sf['ekg_results'].unique())\n",
        "print(\"\\n max_hr of the Switzerland dataset:\\n\", sf['max_hr'].unique())\n",
        "print(\"\\n exercise_angina of the Switzerland dataset:\\n\", sf['exercise_angina'].unique())\n",
        "print(\"\\n ST_depression of the Switzerland dataset:\\n\", sf['ST_depression'].unique())\n",
        "print(\"\\n slope_of_st of the Switzerland dataset:\\n\", sf['slope_of_st'].unique())\n",
        "print(\"\\n vessels of the Switzerland dataset:\\n\", sf['vessels'].unique())\n",
        "print(\"\\n heart_disease of the Switzerland dataset:\\n\", sf['heart_disease'].unique())\n",
        "print(\"\\n thallium of the Switzerland dataset:\\n\", sf['thallium'].unique())"
      ],
      "metadata": {
        "colab": {
          "base_uri": "https://localhost:8080/"
        },
        "id": "OqI1fo_pnL98",
        "outputId": "98d1b86d-d1e1-4f64-9582-be9f3bccae53"
      },
      "execution_count": 17,
      "outputs": [
        {
          "output_type": "stream",
          "name": "stdout",
          "text": [
            "age of the Switzerland dataset:\n",
            " [32 34 35 36 38 40 41 42 43 45 46 47 48 50 51 52 53 54 55 56 57 58 59 60\n",
            " 61 62 63 64 65 66 67 68 69 70 72 73 74]\n",
            "\n",
            " sex of the Switzerland dataset:\n",
            " [1 0]\n",
            "\n",
            " chest_pain_type of the Switzerland dataset:\n",
            " [1 4 3 2]\n",
            "\n",
            " resting blood pressure of the Switzerland dataset:\n",
            " ['95' '115' '?' '110' '105' '100' '135' '150' '125' '145' '140' '155'\n",
            " '160' '120' '130' '165' '80' '180' '170' '200' '185']\n",
            "\n",
            " cholestoral of the Switzerland dataset:\n",
            " [0]\n",
            "\n",
            " fasting_blood_sugar of the Switzerland dataset:\n",
            " ['?' '0' '1']\n",
            "\n",
            " ekg_results of the Switzerland dataset:\n",
            " ['0' '?' '1' '2']\n",
            "\n",
            " max_hr of the Switzerland dataset:\n",
            " ['127' '154' '130' '125' '166' '156' '179' '128' '150' '120' '144' '176'\n",
            " '99' '122' '145' '140' '138' '133' '113' '118' '149' '124' '110' '139'\n",
            " '92' '104' '170' '163' '60' '126' '82' '95' '115' '135' '141' '155' '83'\n",
            " '97' '98' '100' '148' '103' '121' '131' '182' '105' '175' '94' '119'\n",
            " '143' '63' '70' '77' '117' '123' '134' '72' '78' '109' '86' '114' '93'\n",
            " '67' '90' '108' '136' '?' '157']\n",
            "\n",
            " exercise_angina of the Switzerland dataset:\n",
            " ['0' '1' '?']\n",
            "\n",
            " ST_depression of the Switzerland dataset:\n",
            " ['.7' '.2' '?' '1' '2.8' '0' '-1.1' '1.6' '-1.5' '1.5' '2' '.5' '-.1'\n",
            " '-2.6' '2.1' '-.7' '2.2' '3' '.1' '.3' '-2' '-1' '1.8' '1.4' '2.6' '.9'\n",
            " '2.4' '1.1' '.4' '2.5' '1.7' '-.8' '-.5' '-.9' '3.7' '1.3']\n",
            "\n",
            " slope_of_st of the Switzerland dataset:\n",
            " ['1' '?' '2' '3']\n",
            "\n",
            " vessels of the Switzerland dataset:\n",
            " ['?' '1' '2']\n",
            "\n",
            " heart_disease of the Switzerland dataset:\n",
            " [1 3 2 0 4]\n",
            "\n",
            " thallium of the Switzerland dataset:\n",
            " ['?' '7' '6' '3']\n"
          ]
        }
      ]
    },
    {
      "cell_type": "markdown",
      "source": [
        "### Cleaveland Data"
      ],
      "metadata": {
        "id": "8mCVRhwydXah"
      }
    },
    {
      "cell_type": "code",
      "source": [
        "cf.columns"
      ],
      "metadata": {
        "colab": {
          "base_uri": "https://localhost:8080/"
        },
        "id": "pGBwy7juoIuU",
        "outputId": "21e06201-31ee-4be2-cee9-c7e613cac265"
      },
      "execution_count": 18,
      "outputs": [
        {
          "output_type": "execute_result",
          "data": {
            "text/plain": [
              "Index(['age', 'sex', 'chest_pain_type', 'resting blood pressure',\n",
              "       'cholestoral', 'fasting_blood_sugar', 'ekg_results', 'max_hr',\n",
              "       'exercise_angina', 'ST_depression', 'slope_of_st', 'vessels',\n",
              "       'thallium', 'heart_disease'],\n",
              "      dtype='object')"
            ]
          },
          "metadata": {},
          "execution_count": 18
        }
      ]
    },
    {
      "cell_type": "code",
      "source": [
        "cf.shape"
      ],
      "metadata": {
        "colab": {
          "base_uri": "https://localhost:8080/"
        },
        "id": "-l9HZLP-oKYU",
        "outputId": "2679be77-728b-4b77-b56c-8a20a4241b8b"
      },
      "execution_count": 19,
      "outputs": [
        {
          "output_type": "execute_result",
          "data": {
            "text/plain": [
              "(303, 14)"
            ]
          },
          "metadata": {},
          "execution_count": 19
        }
      ]
    },
    {
      "cell_type": "code",
      "source": [
        "cf.info()"
      ],
      "metadata": {
        "colab": {
          "base_uri": "https://localhost:8080/"
        },
        "id": "G3fZ0l5NXPuw",
        "outputId": "320ad2f0-afb3-4057-fda2-4357676867a6"
      },
      "execution_count": 20,
      "outputs": [
        {
          "output_type": "stream",
          "name": "stdout",
          "text": [
            "<class 'pandas.core.frame.DataFrame'>\n",
            "RangeIndex: 303 entries, 0 to 302\n",
            "Data columns (total 14 columns):\n",
            " #   Column                  Non-Null Count  Dtype  \n",
            "---  ------                  --------------  -----  \n",
            " 0   age                     303 non-null    float64\n",
            " 1   sex                     303 non-null    float64\n",
            " 2   chest_pain_type         303 non-null    float64\n",
            " 3   resting blood pressure  303 non-null    float64\n",
            " 4   cholestoral             303 non-null    float64\n",
            " 5   fasting_blood_sugar     303 non-null    float64\n",
            " 6   ekg_results             303 non-null    float64\n",
            " 7   max_hr                  303 non-null    float64\n",
            " 8   exercise_angina         303 non-null    float64\n",
            " 9   ST_depression           303 non-null    float64\n",
            " 10  slope_of_st             303 non-null    float64\n",
            " 11  vessels                 303 non-null    object \n",
            " 12  thallium                303 non-null    object \n",
            " 13  heart_disease           303 non-null    int64  \n",
            "dtypes: float64(11), int64(1), object(2)\n",
            "memory usage: 33.3+ KB\n"
          ]
        }
      ]
    },
    {
      "cell_type": "code",
      "source": [
        "print(\"age of the Cleaveland dataset:\\n\", cf['age'].unique())\n",
        "print(\"\\n sex of the Cleaveland dataset:\\n\", cf['sex'].unique())\n",
        "print(\"\\n chest_pain_type of the Cleaveland dataset:\\n\", cf['chest_pain_type'].unique())\n",
        "print(\"\\n resting blood pressure of the Cleaveland dataset:\\n\", cf['resting blood pressure'].unique())\n",
        "print(\"\\n cholestoral of the Cleaveland dataset:\\n\", cf['cholestoral'].unique())\n",
        "print(\"\\n fasting_blood_sugar of the Cleaveland dataset:\\n\", cf['fasting_blood_sugar'].unique())\n",
        "print(\"\\n ekg_results of the Cleaveland dataset:\\n\", cf['ekg_results'].unique())\n",
        "print(\"\\n max_hr of the Cleaveland dataset:\\n\", cf['max_hr'].unique())\n",
        "print(\"\\n exercise_angina of the Cleaveland dataset:\\n\", cf['exercise_angina'].unique())\n",
        "print(\"\\n ST_depression of the Cleaveland dataset:\\n\", cf['ST_depression'].unique())\n",
        "print(\"\\n slope_of_st of the Cleaveland dataset:\\n\", cf['slope_of_st'].unique())\n",
        "print(\"\\n vessels of the Cleaveland dataset:\\n\", cf['vessels'].unique())\n",
        "print(\"\\n heart_disease of the Cleaveland dataset:\\n\", cf['heart_disease'].unique())\n",
        "print(\"\\n thallium of the Cleaveland dataset:\\n\", cf['thallium'].unique())"
      ],
      "metadata": {
        "colab": {
          "base_uri": "https://localhost:8080/"
        },
        "id": "WntS_bpBn-pM",
        "outputId": "5ef4f84f-0981-45d1-c53b-1c6ffd84a9fe"
      },
      "execution_count": 21,
      "outputs": [
        {
          "output_type": "stream",
          "name": "stdout",
          "text": [
            "age of the Cleaveland dataset:\n",
            " [63. 67. 37. 41. 56. 62. 57. 53. 44. 52. 48. 54. 49. 64. 58. 60. 50. 66.\n",
            " 43. 40. 69. 59. 42. 55. 61. 65. 71. 51. 46. 45. 39. 68. 47. 34. 35. 29.\n",
            " 70. 77. 38. 74. 76.]\n",
            "\n",
            " sex of the Cleaveland dataset:\n",
            " [1. 0.]\n",
            "\n",
            " chest_pain_type of the Cleaveland dataset:\n",
            " [1. 4. 3. 2.]\n",
            "\n",
            " resting blood pressure of the Cleaveland dataset:\n",
            " [145. 160. 120. 130. 140. 172. 150. 110. 132. 117. 135. 112. 105. 124.\n",
            " 125. 142. 128. 170. 155. 104. 180. 138. 108. 134. 122. 115. 118. 100.\n",
            " 200.  94. 165. 102. 152. 101. 126. 174. 148. 178. 158. 192. 129. 144.\n",
            " 123. 136. 146. 106. 156. 154. 114. 164.]\n",
            "\n",
            " cholestoral of the Cleaveland dataset:\n",
            " [233. 286. 229. 250. 204. 236. 268. 354. 254. 203. 192. 294. 256. 263.\n",
            " 199. 168. 239. 275. 266. 211. 283. 284. 224. 206. 219. 340. 226. 247.\n",
            " 167. 230. 335. 234. 177. 276. 353. 243. 225. 302. 212. 330. 175. 417.\n",
            " 197. 198. 290. 253. 172. 273. 213. 305. 216. 304. 188. 282. 185. 232.\n",
            " 326. 231. 269. 267. 248. 360. 258. 308. 245. 270. 208. 264. 321. 274.\n",
            " 325. 235. 257. 164. 141. 252. 255. 201. 222. 260. 182. 303. 265. 309.\n",
            " 307. 249. 186. 341. 183. 407. 217. 288. 220. 209. 227. 261. 174. 281.\n",
            " 221. 205. 240. 289. 318. 298. 564. 246. 322. 299. 300. 293. 277. 214.\n",
            " 207. 223. 160. 394. 184. 315. 409. 244. 195. 196. 126. 313. 259. 200.\n",
            " 262. 215. 228. 193. 271. 210. 327. 149. 295. 306. 178. 237. 218. 242.\n",
            " 319. 166. 180. 311. 278. 342. 169. 187. 157. 176. 241. 131.]\n",
            "\n",
            " fasting_blood_sugar of the Cleaveland dataset:\n",
            " [1. 0.]\n",
            "\n",
            " ekg_results of the Cleaveland dataset:\n",
            " [2. 0. 1.]\n",
            "\n",
            " max_hr of the Cleaveland dataset:\n",
            " [150. 108. 129. 187. 172. 178. 160. 163. 147. 155. 148. 153. 142. 173.\n",
            " 162. 174. 168. 139. 171. 144. 132. 158. 114. 151. 161. 179. 120. 112.\n",
            " 137. 157. 169. 165. 123. 128. 152. 140. 188. 109. 125. 131. 170. 113.\n",
            "  99. 177. 141. 180. 111. 143. 182. 156. 115. 149. 145. 146. 175. 186.\n",
            " 185. 159. 130. 190. 136.  97. 127. 154. 133. 126. 202. 103. 166. 164.\n",
            " 184. 124. 122.  96. 138.  88. 105. 194. 195. 106. 167.  95. 192. 117.\n",
            " 121. 116.  71. 118. 181. 134.  90.]\n",
            "\n",
            " exercise_angina of the Cleaveland dataset:\n",
            " [0. 1.]\n",
            "\n",
            " ST_depression of the Cleaveland dataset:\n",
            " [2.3 1.5 2.6 3.5 1.4 0.8 3.6 0.6 3.1 0.4 1.3 0.  0.5 1.6 1.  1.2 0.2 1.8\n",
            " 3.2 2.4 2.  2.5 2.2 2.8 3.  3.4 6.2 4.  5.6 2.9 0.1 2.1 1.9 4.2 0.9 1.1\n",
            " 3.8 0.7 0.3 4.4]\n",
            "\n",
            " slope_of_st of the Cleaveland dataset:\n",
            " [3. 2. 1.]\n",
            "\n",
            " vessels of the Cleaveland dataset:\n",
            " ['0.0' '3.0' '2.0' '1.0' '?']\n",
            "\n",
            " heart_disease of the Cleaveland dataset:\n",
            " [0 2 1 3 4]\n",
            "\n",
            " thallium of the Cleaveland dataset:\n",
            " ['6.0' '3.0' '7.0' '?']\n"
          ]
        }
      ]
    },
    {
      "cell_type": "markdown",
      "source": [
        "### Based on observations from all the three datasets:\n",
        "1. Some datatypes are improperly assigned.\n",
        "2. Some columns had special characters like '?', which needs to be removed.\n"
      ],
      "metadata": {
        "id": "hmRXqAirdioJ"
      }
    },
    {
      "cell_type": "markdown",
      "source": [
        "#### Removal of special characters from the datasets and replacing with null values"
      ],
      "metadata": {
        "id": "uFGRTFuVpDxD"
      }
    },
    {
      "cell_type": "markdown",
      "source": [
        "Cleaveland data"
      ],
      "metadata": {
        "id": "zfebGAw7uppV"
      }
    },
    {
      "cell_type": "code",
      "source": [
        "cf['vessels'] = cf['vessels'].replace('?',np.nan) \n",
        "cf['thallium'] = cf['thallium'].replace('?',np.nan) "
      ],
      "metadata": {
        "id": "EDnt8sa2XapC"
      },
      "execution_count": 22,
      "outputs": []
    },
    {
      "cell_type": "code",
      "source": [
        "cf.isna().sum()"
      ],
      "metadata": {
        "colab": {
          "base_uri": "https://localhost:8080/"
        },
        "id": "kM-5VEsgs_fs",
        "outputId": "941ddb00-bd13-4fb2-eae9-1d22d21e9c1c"
      },
      "execution_count": 23,
      "outputs": [
        {
          "output_type": "execute_result",
          "data": {
            "text/plain": [
              "age                       0\n",
              "sex                       0\n",
              "chest_pain_type           0\n",
              "resting blood pressure    0\n",
              "cholestoral               0\n",
              "fasting_blood_sugar       0\n",
              "ekg_results               0\n",
              "max_hr                    0\n",
              "exercise_angina           0\n",
              "ST_depression             0\n",
              "slope_of_st               0\n",
              "vessels                   4\n",
              "thallium                  2\n",
              "heart_disease             0\n",
              "dtype: int64"
            ]
          },
          "metadata": {},
          "execution_count": 23
        }
      ]
    },
    {
      "cell_type": "markdown",
      "source": [
        "Hungarian data"
      ],
      "metadata": {
        "id": "vOQukgTWusxL"
      }
    },
    {
      "cell_type": "code",
      "source": [
        "hf['fasting_blood_sugar'] = hf['fasting_blood_sugar'].replace('?',np.nan) \n",
        "hf['ekg_results'] = hf['ekg_results'].replace('?',np.nan) \n",
        "hf['exercise_angina'] = hf['exercise_angina'].replace('?',np.nan) \n",
        "hf['slope_of_st'] = hf['slope_of_st'].replace('?',np.nan) \n",
        "hf['vessels'] = hf['vessels'].replace('?',np.nan) \n",
        "hf['thallium'] = hf['thallium'].replace('?',np.nan) \n",
        "hf['resting blood pressure'] = hf['resting blood pressure'].replace('?',np.nan)\n",
        "hf['max_hr'] = hf['max_hr'].replace('?',np.nan) \n",
        "hf['ST_depression'] = hf['ST_depression'].replace('?',np.nan) \n",
        "hf['cholestoral'] = hf['cholestoral'].replace('?',np.nan) "
      ],
      "metadata": {
        "id": "-wBv7p11uhYB"
      },
      "execution_count": 24,
      "outputs": []
    },
    {
      "cell_type": "code",
      "source": [
        "hf.isna().sum()"
      ],
      "metadata": {
        "colab": {
          "base_uri": "https://localhost:8080/"
        },
        "id": "ywKtsSPHu7ge",
        "outputId": "04713440-8493-4c94-d1a8-4fe01aa7292c"
      },
      "execution_count": 25,
      "outputs": [
        {
          "output_type": "execute_result",
          "data": {
            "text/plain": [
              "age                         0\n",
              "sex                         0\n",
              "chest_pain_type             0\n",
              "resting blood pressure      1\n",
              "cholestoral                23\n",
              "fasting_blood_sugar         8\n",
              "ekg_results                 1\n",
              "max_hr                      1\n",
              "exercise_angina             1\n",
              "ST_depression               0\n",
              "slope_of_st               190\n",
              "vessels                   291\n",
              "thallium                  266\n",
              "heart_disease               0\n",
              "dtype: int64"
            ]
          },
          "metadata": {},
          "execution_count": 25
        }
      ]
    },
    {
      "cell_type": "markdown",
      "source": [
        "Switzerland data"
      ],
      "metadata": {
        "id": "wkdrIrOquvj4"
      }
    },
    {
      "cell_type": "code",
      "source": [
        "sf['fasting_blood_sugar'] = sf['fasting_blood_sugar'].replace('?',np.nan) \n",
        "sf['ekg_results'] = sf['ekg_results'].replace('?',np.nan) \n",
        "sf['exercise_angina'] = sf['exercise_angina'].replace('?',np.nan) \n",
        "sf['slope_of_st'] = sf['slope_of_st'].replace('?',np.nan) \n",
        "sf['vessels'] = sf['vessels'].replace('?',np.nan) \n",
        "sf['thallium'] = sf['thallium'].replace('?',np.nan) \n",
        "sf['resting blood pressure'] = sf['resting blood pressure'].replace('?',np.nan)\n",
        "sf['max_hr'] = sf['max_hr'].replace('?',np.nan) \n",
        "sf['ST_depression'] = sf['ST_depression'].replace('?',np.nan) "
      ],
      "metadata": {
        "id": "ko6fQBHUuiFM"
      },
      "execution_count": 26,
      "outputs": []
    },
    {
      "cell_type": "code",
      "source": [
        "sf.isna().sum()"
      ],
      "metadata": {
        "colab": {
          "base_uri": "https://localhost:8080/"
        },
        "id": "DugtiHdfu98h",
        "outputId": "9b6b8939-9cf7-4f6d-ecbb-bbfc15829518"
      },
      "execution_count": 27,
      "outputs": [
        {
          "output_type": "execute_result",
          "data": {
            "text/plain": [
              "age                         0\n",
              "sex                         0\n",
              "chest_pain_type             0\n",
              "resting blood pressure      2\n",
              "cholestoral                 0\n",
              "fasting_blood_sugar        75\n",
              "ekg_results                 1\n",
              "max_hr                      1\n",
              "exercise_angina             1\n",
              "ST_depression               6\n",
              "slope_of_st                17\n",
              "vessels                   118\n",
              "thallium                   52\n",
              "heart_disease               0\n",
              "dtype: int64"
            ]
          },
          "metadata": {},
          "execution_count": 27
        }
      ]
    },
    {
      "cell_type": "markdown",
      "source": [
        "#### Assigning datatypes based on the analysis of categories and numerical.\n",
        "From my observation, these columns must be object data types( categorical features):\n",
        "\n",
        "**Categorical datatypes are:**\n",
        "\n",
        "sex\n",
        "\n",
        "chest_pain_type\n",
        "\n",
        "ekg_results \n",
        "\n",
        "exercise_angina\n",
        "\n",
        "slope_of_st\n",
        "\n",
        "thallium\n",
        "\n",
        "heart_disease\n",
        "\n",
        "**Numerical datatypes are:**\n",
        "\n",
        "age \n",
        "\n",
        "resting blood pressure\n",
        "\n",
        "cholestoral\n",
        "\n",
        "fasting_blood_sugar\n",
        "\n",
        "max_hr\n",
        "\n",
        "ST_depression\n",
        "\n",
        "vessels\n"
      ],
      "metadata": {
        "id": "N4RDalRsvXzE"
      }
    },
    {
      "cell_type": "code",
      "source": [
        "categorical_columns = ['sex','chest_pain_type','ekg_results','fasting_blood_sugar','exercise_angina','slope_of_st','thallium','heart_disease']\n",
        "numerical_columns = ['age','resting blood pressure','cholestoral','max_hr','ST_depression','vessels']"
      ],
      "metadata": {
        "id": "nIPAcHQhvhvi"
      },
      "execution_count": 28,
      "outputs": []
    },
    {
      "cell_type": "code",
      "source": [
        "cf[numerical_columns] = cf[numerical_columns].apply(pd.to_numeric)\n",
        "for i in categorical_columns:\n",
        "  cf[i] = cf[i].astype(str)\n",
        "print(cf.dtypes)"
      ],
      "metadata": {
        "colab": {
          "base_uri": "https://localhost:8080/"
        },
        "id": "eBBp5xVJeN_L",
        "outputId": "64d08f0e-af4a-4ba8-be6c-308b05f51706"
      },
      "execution_count": 29,
      "outputs": [
        {
          "output_type": "stream",
          "name": "stdout",
          "text": [
            "age                       float64\n",
            "sex                        object\n",
            "chest_pain_type            object\n",
            "resting blood pressure    float64\n",
            "cholestoral               float64\n",
            "fasting_blood_sugar        object\n",
            "ekg_results                object\n",
            "max_hr                    float64\n",
            "exercise_angina            object\n",
            "ST_depression             float64\n",
            "slope_of_st                object\n",
            "vessels                   float64\n",
            "thallium                   object\n",
            "heart_disease              object\n",
            "dtype: object\n"
          ]
        }
      ]
    },
    {
      "cell_type": "code",
      "source": [
        "hf[numerical_columns] = hf[numerical_columns].apply(pd.to_numeric)\n",
        "for j in categorical_columns:\n",
        "  hf[j] = hf[j].astype(str)\n",
        "print(hf.dtypes)"
      ],
      "metadata": {
        "colab": {
          "base_uri": "https://localhost:8080/"
        },
        "id": "4kHds0r5eZOa",
        "outputId": "c26d0542-3bde-4099-dd1e-f30d5b6865ee"
      },
      "execution_count": 30,
      "outputs": [
        {
          "output_type": "stream",
          "name": "stdout",
          "text": [
            "age                         int64\n",
            "sex                        object\n",
            "chest_pain_type            object\n",
            "resting blood pressure    float64\n",
            "cholestoral               float64\n",
            "fasting_blood_sugar        object\n",
            "ekg_results                object\n",
            "max_hr                    float64\n",
            "exercise_angina            object\n",
            "ST_depression             float64\n",
            "slope_of_st                object\n",
            "vessels                   float64\n",
            "thallium                   object\n",
            "heart_disease              object\n",
            "dtype: object\n"
          ]
        }
      ]
    },
    {
      "cell_type": "code",
      "source": [
        "sf[numerical_columns] = sf[numerical_columns].apply(pd.to_numeric)\n",
        "for k in categorical_columns:\n",
        "  sf[k] = sf[k].astype(str)\n",
        "print(sf.dtypes)"
      ],
      "metadata": {
        "colab": {
          "base_uri": "https://localhost:8080/"
        },
        "id": "cxijrLpJZbqK",
        "outputId": "356a8459-bad7-48bb-b1ca-37795e4ed191"
      },
      "execution_count": 31,
      "outputs": [
        {
          "output_type": "stream",
          "name": "stdout",
          "text": [
            "age                         int64\n",
            "sex                        object\n",
            "chest_pain_type            object\n",
            "resting blood pressure    float64\n",
            "cholestoral                 int64\n",
            "fasting_blood_sugar        object\n",
            "ekg_results                object\n",
            "max_hr                    float64\n",
            "exercise_angina            object\n",
            "ST_depression             float64\n",
            "slope_of_st                object\n",
            "vessels                   float64\n",
            "thallium                   object\n",
            "heart_disease              object\n",
            "dtype: object\n"
          ]
        }
      ]
    },
    {
      "cell_type": "code",
      "source": [
        "#unifying all datatypes in all datasets:\n",
        "cf['age'] = cf['age'].astype(int)\n",
        "sf['cholestoral'] = sf['cholestoral'].astype(float)\n",
        "print(\"Cleaveland:\\n\",cf.dtypes)\n",
        "print(\"\\nSwitzerland:\\n\",sf.dtypes)\n",
        "print(\"\\nHungarian: \\n\",hf.dtypes)"
      ],
      "metadata": {
        "colab": {
          "base_uri": "https://localhost:8080/"
        },
        "id": "j45nveQchFAt",
        "outputId": "16e06ba2-7b13-4d2c-a3d7-455d2becd2b8"
      },
      "execution_count": 32,
      "outputs": [
        {
          "output_type": "stream",
          "name": "stdout",
          "text": [
            "Cleaveland:\n",
            " age                         int64\n",
            "sex                        object\n",
            "chest_pain_type            object\n",
            "resting blood pressure    float64\n",
            "cholestoral               float64\n",
            "fasting_blood_sugar        object\n",
            "ekg_results                object\n",
            "max_hr                    float64\n",
            "exercise_angina            object\n",
            "ST_depression             float64\n",
            "slope_of_st                object\n",
            "vessels                   float64\n",
            "thallium                   object\n",
            "heart_disease              object\n",
            "dtype: object\n",
            "\n",
            "Switzerland:\n",
            " age                         int64\n",
            "sex                        object\n",
            "chest_pain_type            object\n",
            "resting blood pressure    float64\n",
            "cholestoral               float64\n",
            "fasting_blood_sugar        object\n",
            "ekg_results                object\n",
            "max_hr                    float64\n",
            "exercise_angina            object\n",
            "ST_depression             float64\n",
            "slope_of_st                object\n",
            "vessels                   float64\n",
            "thallium                   object\n",
            "heart_disease              object\n",
            "dtype: object\n",
            "\n",
            "Hungarian: \n",
            " age                         int64\n",
            "sex                        object\n",
            "chest_pain_type            object\n",
            "resting blood pressure    float64\n",
            "cholestoral               float64\n",
            "fasting_blood_sugar        object\n",
            "ekg_results                object\n",
            "max_hr                    float64\n",
            "exercise_angina            object\n",
            "ST_depression             float64\n",
            "slope_of_st                object\n",
            "vessels                   float64\n",
            "thallium                   object\n",
            "heart_disease              object\n",
            "dtype: object\n"
          ]
        }
      ]
    },
    {
      "cell_type": "markdown",
      "source": [
        "### Combine across rows and columns"
      ],
      "metadata": {
        "id": "7YcVsvxUiTe7"
      }
    },
    {
      "cell_type": "code",
      "source": [
        "df_concat = pd.concat([cf,sf,hf],ignore_index = True)\n",
        "df_concat.shape"
      ],
      "metadata": {
        "colab": {
          "base_uri": "https://localhost:8080/"
        },
        "id": "Pwrqn_LBiXUQ",
        "outputId": "674bb699-7875-4d86-af99-d95251f628e9"
      },
      "execution_count": 33,
      "outputs": [
        {
          "output_type": "execute_result",
          "data": {
            "text/plain": [
              "(720, 14)"
            ]
          },
          "metadata": {},
          "execution_count": 33
        }
      ]
    },
    {
      "cell_type": "code",
      "source": [
        "df_concat.head()"
      ],
      "metadata": {
        "colab": {
          "base_uri": "https://localhost:8080/",
          "height": 206
        },
        "id": "2eGTeLhkjKp3",
        "outputId": "82870041-aecc-414a-ac28-dedf34db2167"
      },
      "execution_count": 34,
      "outputs": [
        {
          "output_type": "execute_result",
          "data": {
            "text/plain": [
              "   age  sex chest_pain_type  resting blood pressure  cholestoral  \\\n",
              "0   63  1.0             1.0                   145.0        233.0   \n",
              "1   67  1.0             4.0                   160.0        286.0   \n",
              "2   67  1.0             4.0                   120.0        229.0   \n",
              "3   37  1.0             3.0                   130.0        250.0   \n",
              "4   41  0.0             2.0                   130.0        204.0   \n",
              "\n",
              "  fasting_blood_sugar ekg_results  max_hr exercise_angina  ST_depression  \\\n",
              "0                 1.0         2.0   150.0             0.0            2.3   \n",
              "1                 0.0         2.0   108.0             1.0            1.5   \n",
              "2                 0.0         2.0   129.0             1.0            2.6   \n",
              "3                 0.0         0.0   187.0             0.0            3.5   \n",
              "4                 0.0         2.0   172.0             0.0            1.4   \n",
              "\n",
              "  slope_of_st  vessels thallium heart_disease  \n",
              "0         3.0      0.0      6.0             0  \n",
              "1         2.0      3.0      3.0             2  \n",
              "2         2.0      2.0      7.0             1  \n",
              "3         3.0      0.0      3.0             0  \n",
              "4         1.0      0.0      3.0             0  "
            ],
            "text/html": [
              "\n",
              "  <div id=\"df-92855a8a-22e6-4a55-8cb5-0b89dfd7a9f2\">\n",
              "    <div class=\"colab-df-container\">\n",
              "      <div>\n",
              "<style scoped>\n",
              "    .dataframe tbody tr th:only-of-type {\n",
              "        vertical-align: middle;\n",
              "    }\n",
              "\n",
              "    .dataframe tbody tr th {\n",
              "        vertical-align: top;\n",
              "    }\n",
              "\n",
              "    .dataframe thead th {\n",
              "        text-align: right;\n",
              "    }\n",
              "</style>\n",
              "<table border=\"1\" class=\"dataframe\">\n",
              "  <thead>\n",
              "    <tr style=\"text-align: right;\">\n",
              "      <th></th>\n",
              "      <th>age</th>\n",
              "      <th>sex</th>\n",
              "      <th>chest_pain_type</th>\n",
              "      <th>resting blood pressure</th>\n",
              "      <th>cholestoral</th>\n",
              "      <th>fasting_blood_sugar</th>\n",
              "      <th>ekg_results</th>\n",
              "      <th>max_hr</th>\n",
              "      <th>exercise_angina</th>\n",
              "      <th>ST_depression</th>\n",
              "      <th>slope_of_st</th>\n",
              "      <th>vessels</th>\n",
              "      <th>thallium</th>\n",
              "      <th>heart_disease</th>\n",
              "    </tr>\n",
              "  </thead>\n",
              "  <tbody>\n",
              "    <tr>\n",
              "      <th>0</th>\n",
              "      <td>63</td>\n",
              "      <td>1.0</td>\n",
              "      <td>1.0</td>\n",
              "      <td>145.0</td>\n",
              "      <td>233.0</td>\n",
              "      <td>1.0</td>\n",
              "      <td>2.0</td>\n",
              "      <td>150.0</td>\n",
              "      <td>0.0</td>\n",
              "      <td>2.3</td>\n",
              "      <td>3.0</td>\n",
              "      <td>0.0</td>\n",
              "      <td>6.0</td>\n",
              "      <td>0</td>\n",
              "    </tr>\n",
              "    <tr>\n",
              "      <th>1</th>\n",
              "      <td>67</td>\n",
              "      <td>1.0</td>\n",
              "      <td>4.0</td>\n",
              "      <td>160.0</td>\n",
              "      <td>286.0</td>\n",
              "      <td>0.0</td>\n",
              "      <td>2.0</td>\n",
              "      <td>108.0</td>\n",
              "      <td>1.0</td>\n",
              "      <td>1.5</td>\n",
              "      <td>2.0</td>\n",
              "      <td>3.0</td>\n",
              "      <td>3.0</td>\n",
              "      <td>2</td>\n",
              "    </tr>\n",
              "    <tr>\n",
              "      <th>2</th>\n",
              "      <td>67</td>\n",
              "      <td>1.0</td>\n",
              "      <td>4.0</td>\n",
              "      <td>120.0</td>\n",
              "      <td>229.0</td>\n",
              "      <td>0.0</td>\n",
              "      <td>2.0</td>\n",
              "      <td>129.0</td>\n",
              "      <td>1.0</td>\n",
              "      <td>2.6</td>\n",
              "      <td>2.0</td>\n",
              "      <td>2.0</td>\n",
              "      <td>7.0</td>\n",
              "      <td>1</td>\n",
              "    </tr>\n",
              "    <tr>\n",
              "      <th>3</th>\n",
              "      <td>37</td>\n",
              "      <td>1.0</td>\n",
              "      <td>3.0</td>\n",
              "      <td>130.0</td>\n",
              "      <td>250.0</td>\n",
              "      <td>0.0</td>\n",
              "      <td>0.0</td>\n",
              "      <td>187.0</td>\n",
              "      <td>0.0</td>\n",
              "      <td>3.5</td>\n",
              "      <td>3.0</td>\n",
              "      <td>0.0</td>\n",
              "      <td>3.0</td>\n",
              "      <td>0</td>\n",
              "    </tr>\n",
              "    <tr>\n",
              "      <th>4</th>\n",
              "      <td>41</td>\n",
              "      <td>0.0</td>\n",
              "      <td>2.0</td>\n",
              "      <td>130.0</td>\n",
              "      <td>204.0</td>\n",
              "      <td>0.0</td>\n",
              "      <td>2.0</td>\n",
              "      <td>172.0</td>\n",
              "      <td>0.0</td>\n",
              "      <td>1.4</td>\n",
              "      <td>1.0</td>\n",
              "      <td>0.0</td>\n",
              "      <td>3.0</td>\n",
              "      <td>0</td>\n",
              "    </tr>\n",
              "  </tbody>\n",
              "</table>\n",
              "</div>\n",
              "      <button class=\"colab-df-convert\" onclick=\"convertToInteractive('df-92855a8a-22e6-4a55-8cb5-0b89dfd7a9f2')\"\n",
              "              title=\"Convert this dataframe to an interactive table.\"\n",
              "              style=\"display:none;\">\n",
              "        \n",
              "  <svg xmlns=\"http://www.w3.org/2000/svg\" height=\"24px\"viewBox=\"0 0 24 24\"\n",
              "       width=\"24px\">\n",
              "    <path d=\"M0 0h24v24H0V0z\" fill=\"none\"/>\n",
              "    <path d=\"M18.56 5.44l.94 2.06.94-2.06 2.06-.94-2.06-.94-.94-2.06-.94 2.06-2.06.94zm-11 1L8.5 8.5l.94-2.06 2.06-.94-2.06-.94L8.5 2.5l-.94 2.06-2.06.94zm10 10l.94 2.06.94-2.06 2.06-.94-2.06-.94-.94-2.06-.94 2.06-2.06.94z\"/><path d=\"M17.41 7.96l-1.37-1.37c-.4-.4-.92-.59-1.43-.59-.52 0-1.04.2-1.43.59L10.3 9.45l-7.72 7.72c-.78.78-.78 2.05 0 2.83L4 21.41c.39.39.9.59 1.41.59.51 0 1.02-.2 1.41-.59l7.78-7.78 2.81-2.81c.8-.78.8-2.07 0-2.86zM5.41 20L4 18.59l7.72-7.72 1.47 1.35L5.41 20z\"/>\n",
              "  </svg>\n",
              "      </button>\n",
              "      \n",
              "  <style>\n",
              "    .colab-df-container {\n",
              "      display:flex;\n",
              "      flex-wrap:wrap;\n",
              "      gap: 12px;\n",
              "    }\n",
              "\n",
              "    .colab-df-convert {\n",
              "      background-color: #E8F0FE;\n",
              "      border: none;\n",
              "      border-radius: 50%;\n",
              "      cursor: pointer;\n",
              "      display: none;\n",
              "      fill: #1967D2;\n",
              "      height: 32px;\n",
              "      padding: 0 0 0 0;\n",
              "      width: 32px;\n",
              "    }\n",
              "\n",
              "    .colab-df-convert:hover {\n",
              "      background-color: #E2EBFA;\n",
              "      box-shadow: 0px 1px 2px rgba(60, 64, 67, 0.3), 0px 1px 3px 1px rgba(60, 64, 67, 0.15);\n",
              "      fill: #174EA6;\n",
              "    }\n",
              "\n",
              "    [theme=dark] .colab-df-convert {\n",
              "      background-color: #3B4455;\n",
              "      fill: #D2E3FC;\n",
              "    }\n",
              "\n",
              "    [theme=dark] .colab-df-convert:hover {\n",
              "      background-color: #434B5C;\n",
              "      box-shadow: 0px 1px 3px 1px rgba(0, 0, 0, 0.15);\n",
              "      filter: drop-shadow(0px 1px 2px rgba(0, 0, 0, 0.3));\n",
              "      fill: #FFFFFF;\n",
              "    }\n",
              "  </style>\n",
              "\n",
              "      <script>\n",
              "        const buttonEl =\n",
              "          document.querySelector('#df-92855a8a-22e6-4a55-8cb5-0b89dfd7a9f2 button.colab-df-convert');\n",
              "        buttonEl.style.display =\n",
              "          google.colab.kernel.accessAllowed ? 'block' : 'none';\n",
              "\n",
              "        async function convertToInteractive(key) {\n",
              "          const element = document.querySelector('#df-92855a8a-22e6-4a55-8cb5-0b89dfd7a9f2');\n",
              "          const dataTable =\n",
              "            await google.colab.kernel.invokeFunction('convertToInteractive',\n",
              "                                                     [key], {});\n",
              "          if (!dataTable) return;\n",
              "\n",
              "          const docLinkHtml = 'Like what you see? Visit the ' +\n",
              "            '<a target=\"_blank\" href=https://colab.research.google.com/notebooks/data_table.ipynb>data table notebook</a>'\n",
              "            + ' to learn more about interactive tables.';\n",
              "          element.innerHTML = '';\n",
              "          dataTable['output_type'] = 'display_data';\n",
              "          await google.colab.output.renderOutput(dataTable, element);\n",
              "          const docLink = document.createElement('div');\n",
              "          docLink.innerHTML = docLinkHtml;\n",
              "          element.appendChild(docLink);\n",
              "        }\n",
              "      </script>\n",
              "    </div>\n",
              "  </div>\n",
              "  "
            ]
          },
          "metadata": {},
          "execution_count": 34
        }
      ]
    },
    {
      "cell_type": "code",
      "source": [
        "df_concat.tail()"
      ],
      "metadata": {
        "colab": {
          "base_uri": "https://localhost:8080/",
          "height": 206
        },
        "id": "oht1nBfqjNbr",
        "outputId": "230a4a50-fc06-470c-b465-b522007d15f3"
      },
      "execution_count": 35,
      "outputs": [
        {
          "output_type": "execute_result",
          "data": {
            "text/plain": [
              "     age sex chest_pain_type  resting blood pressure  cholestoral  \\\n",
              "715   52   1               4                   160.0        331.0   \n",
              "716   54   0               3                   130.0        294.0   \n",
              "717   56   1               4                   155.0        342.0   \n",
              "718   58   0               2                   180.0        393.0   \n",
              "719   65   1               4                   130.0        275.0   \n",
              "\n",
              "    fasting_blood_sugar ekg_results  max_hr exercise_angina  ST_depression  \\\n",
              "715                   0           0    94.0               1            2.5   \n",
              "716                   0           1   100.0               1            0.0   \n",
              "717                   1           0   150.0               1            3.0   \n",
              "718                   0           0   110.0               1            1.0   \n",
              "719                   0           1   115.0               1            1.0   \n",
              "\n",
              "    slope_of_st  vessels thallium heart_disease  \n",
              "715         nan      NaN      nan             1  \n",
              "716           2      NaN      nan             1  \n",
              "717           2      NaN      nan             1  \n",
              "718           2      NaN        7             1  \n",
              "719           2      NaN      nan             1  "
            ],
            "text/html": [
              "\n",
              "  <div id=\"df-d7566b61-ecac-40a8-a229-d29a3aa9e4f0\">\n",
              "    <div class=\"colab-df-container\">\n",
              "      <div>\n",
              "<style scoped>\n",
              "    .dataframe tbody tr th:only-of-type {\n",
              "        vertical-align: middle;\n",
              "    }\n",
              "\n",
              "    .dataframe tbody tr th {\n",
              "        vertical-align: top;\n",
              "    }\n",
              "\n",
              "    .dataframe thead th {\n",
              "        text-align: right;\n",
              "    }\n",
              "</style>\n",
              "<table border=\"1\" class=\"dataframe\">\n",
              "  <thead>\n",
              "    <tr style=\"text-align: right;\">\n",
              "      <th></th>\n",
              "      <th>age</th>\n",
              "      <th>sex</th>\n",
              "      <th>chest_pain_type</th>\n",
              "      <th>resting blood pressure</th>\n",
              "      <th>cholestoral</th>\n",
              "      <th>fasting_blood_sugar</th>\n",
              "      <th>ekg_results</th>\n",
              "      <th>max_hr</th>\n",
              "      <th>exercise_angina</th>\n",
              "      <th>ST_depression</th>\n",
              "      <th>slope_of_st</th>\n",
              "      <th>vessels</th>\n",
              "      <th>thallium</th>\n",
              "      <th>heart_disease</th>\n",
              "    </tr>\n",
              "  </thead>\n",
              "  <tbody>\n",
              "    <tr>\n",
              "      <th>715</th>\n",
              "      <td>52</td>\n",
              "      <td>1</td>\n",
              "      <td>4</td>\n",
              "      <td>160.0</td>\n",
              "      <td>331.0</td>\n",
              "      <td>0</td>\n",
              "      <td>0</td>\n",
              "      <td>94.0</td>\n",
              "      <td>1</td>\n",
              "      <td>2.5</td>\n",
              "      <td>nan</td>\n",
              "      <td>NaN</td>\n",
              "      <td>nan</td>\n",
              "      <td>1</td>\n",
              "    </tr>\n",
              "    <tr>\n",
              "      <th>716</th>\n",
              "      <td>54</td>\n",
              "      <td>0</td>\n",
              "      <td>3</td>\n",
              "      <td>130.0</td>\n",
              "      <td>294.0</td>\n",
              "      <td>0</td>\n",
              "      <td>1</td>\n",
              "      <td>100.0</td>\n",
              "      <td>1</td>\n",
              "      <td>0.0</td>\n",
              "      <td>2</td>\n",
              "      <td>NaN</td>\n",
              "      <td>nan</td>\n",
              "      <td>1</td>\n",
              "    </tr>\n",
              "    <tr>\n",
              "      <th>717</th>\n",
              "      <td>56</td>\n",
              "      <td>1</td>\n",
              "      <td>4</td>\n",
              "      <td>155.0</td>\n",
              "      <td>342.0</td>\n",
              "      <td>1</td>\n",
              "      <td>0</td>\n",
              "      <td>150.0</td>\n",
              "      <td>1</td>\n",
              "      <td>3.0</td>\n",
              "      <td>2</td>\n",
              "      <td>NaN</td>\n",
              "      <td>nan</td>\n",
              "      <td>1</td>\n",
              "    </tr>\n",
              "    <tr>\n",
              "      <th>718</th>\n",
              "      <td>58</td>\n",
              "      <td>0</td>\n",
              "      <td>2</td>\n",
              "      <td>180.0</td>\n",
              "      <td>393.0</td>\n",
              "      <td>0</td>\n",
              "      <td>0</td>\n",
              "      <td>110.0</td>\n",
              "      <td>1</td>\n",
              "      <td>1.0</td>\n",
              "      <td>2</td>\n",
              "      <td>NaN</td>\n",
              "      <td>7</td>\n",
              "      <td>1</td>\n",
              "    </tr>\n",
              "    <tr>\n",
              "      <th>719</th>\n",
              "      <td>65</td>\n",
              "      <td>1</td>\n",
              "      <td>4</td>\n",
              "      <td>130.0</td>\n",
              "      <td>275.0</td>\n",
              "      <td>0</td>\n",
              "      <td>1</td>\n",
              "      <td>115.0</td>\n",
              "      <td>1</td>\n",
              "      <td>1.0</td>\n",
              "      <td>2</td>\n",
              "      <td>NaN</td>\n",
              "      <td>nan</td>\n",
              "      <td>1</td>\n",
              "    </tr>\n",
              "  </tbody>\n",
              "</table>\n",
              "</div>\n",
              "      <button class=\"colab-df-convert\" onclick=\"convertToInteractive('df-d7566b61-ecac-40a8-a229-d29a3aa9e4f0')\"\n",
              "              title=\"Convert this dataframe to an interactive table.\"\n",
              "              style=\"display:none;\">\n",
              "        \n",
              "  <svg xmlns=\"http://www.w3.org/2000/svg\" height=\"24px\"viewBox=\"0 0 24 24\"\n",
              "       width=\"24px\">\n",
              "    <path d=\"M0 0h24v24H0V0z\" fill=\"none\"/>\n",
              "    <path d=\"M18.56 5.44l.94 2.06.94-2.06 2.06-.94-2.06-.94-.94-2.06-.94 2.06-2.06.94zm-11 1L8.5 8.5l.94-2.06 2.06-.94-2.06-.94L8.5 2.5l-.94 2.06-2.06.94zm10 10l.94 2.06.94-2.06 2.06-.94-2.06-.94-.94-2.06-.94 2.06-2.06.94z\"/><path d=\"M17.41 7.96l-1.37-1.37c-.4-.4-.92-.59-1.43-.59-.52 0-1.04.2-1.43.59L10.3 9.45l-7.72 7.72c-.78.78-.78 2.05 0 2.83L4 21.41c.39.39.9.59 1.41.59.51 0 1.02-.2 1.41-.59l7.78-7.78 2.81-2.81c.8-.78.8-2.07 0-2.86zM5.41 20L4 18.59l7.72-7.72 1.47 1.35L5.41 20z\"/>\n",
              "  </svg>\n",
              "      </button>\n",
              "      \n",
              "  <style>\n",
              "    .colab-df-container {\n",
              "      display:flex;\n",
              "      flex-wrap:wrap;\n",
              "      gap: 12px;\n",
              "    }\n",
              "\n",
              "    .colab-df-convert {\n",
              "      background-color: #E8F0FE;\n",
              "      border: none;\n",
              "      border-radius: 50%;\n",
              "      cursor: pointer;\n",
              "      display: none;\n",
              "      fill: #1967D2;\n",
              "      height: 32px;\n",
              "      padding: 0 0 0 0;\n",
              "      width: 32px;\n",
              "    }\n",
              "\n",
              "    .colab-df-convert:hover {\n",
              "      background-color: #E2EBFA;\n",
              "      box-shadow: 0px 1px 2px rgba(60, 64, 67, 0.3), 0px 1px 3px 1px rgba(60, 64, 67, 0.15);\n",
              "      fill: #174EA6;\n",
              "    }\n",
              "\n",
              "    [theme=dark] .colab-df-convert {\n",
              "      background-color: #3B4455;\n",
              "      fill: #D2E3FC;\n",
              "    }\n",
              "\n",
              "    [theme=dark] .colab-df-convert:hover {\n",
              "      background-color: #434B5C;\n",
              "      box-shadow: 0px 1px 3px 1px rgba(0, 0, 0, 0.15);\n",
              "      filter: drop-shadow(0px 1px 2px rgba(0, 0, 0, 0.3));\n",
              "      fill: #FFFFFF;\n",
              "    }\n",
              "  </style>\n",
              "\n",
              "      <script>\n",
              "        const buttonEl =\n",
              "          document.querySelector('#df-d7566b61-ecac-40a8-a229-d29a3aa9e4f0 button.colab-df-convert');\n",
              "        buttonEl.style.display =\n",
              "          google.colab.kernel.accessAllowed ? 'block' : 'none';\n",
              "\n",
              "        async function convertToInteractive(key) {\n",
              "          const element = document.querySelector('#df-d7566b61-ecac-40a8-a229-d29a3aa9e4f0');\n",
              "          const dataTable =\n",
              "            await google.colab.kernel.invokeFunction('convertToInteractive',\n",
              "                                                     [key], {});\n",
              "          if (!dataTable) return;\n",
              "\n",
              "          const docLinkHtml = 'Like what you see? Visit the ' +\n",
              "            '<a target=\"_blank\" href=https://colab.research.google.com/notebooks/data_table.ipynb>data table notebook</a>'\n",
              "            + ' to learn more about interactive tables.';\n",
              "          element.innerHTML = '';\n",
              "          dataTable['output_type'] = 'display_data';\n",
              "          await google.colab.output.renderOutput(dataTable, element);\n",
              "          const docLink = document.createElement('div');\n",
              "          docLink.innerHTML = docLinkHtml;\n",
              "          element.appendChild(docLink);\n",
              "        }\n",
              "      </script>\n",
              "    </div>\n",
              "  </div>\n",
              "  "
            ]
          },
          "metadata": {},
          "execution_count": 35
        }
      ]
    },
    {
      "cell_type": "markdown",
      "source": [
        "### Hard coding some object columns for visualization and analysis"
      ],
      "metadata": {
        "id": "1C8NKi-6jTdV"
      }
    },
    {
      "cell_type": "code",
      "source": [
        "# 'sex','chest_pain_type','ekg_results','exercise_angina','slope_of_st','thallium','heart_disease','vessels'\n",
        "df_concat['sex'] = df_concat['sex'].replace({'0':'Female', '1':'Male','0.0':'Female', '1.0':'Male'})\n",
        "df_concat['chest_pain_type'] = df_concat['chest_pain_type'].replace({'1':'Typical_Angina','2':'Atypical_Angina','3':'Non_Anginal','4':'Asymptomatic_Bp','1.0':'Typical_Angina','2.0':'Atypical_Angina','3.0':'Non_Anginal','4.0':'Asymptomatic_Bp'})\n",
        "df_concat['exercise_angina'] = df_concat['exercise_angina'].replace({'0':'Yes', '1':'No', '0.0':'Yes', '1.0':'No'})\n",
        "df_concat['fasting_blood_sugar'] = df_concat['fasting_blood_sugar'].replace({'0':'Present', '1':'Absent', '0.0':'Present', '1.0':'Absent'})\n",
        "df_concat['ekg_results'] = df_concat['ekg_results'].replace({'0.0':'Normal', '1.0' : 'Abnormal', '2.0':'Probable','0':'Normal', '1' : 'Abnormal', '2':'Probable'})\n",
        "df_concat['slope_of_st'] = df_concat['slope_of_st'].replace({'1.0' : 'Upsloping', '2.0' :'Flat', '3.0' : 'Downsloping','1' : 'Upsloping', '2' :'Flat', '3' : 'Downsloping'})\n",
        "df_concat['thallium'] = df_concat['thallium'].replace({'3.0':'Normal','6.0' :'Fixed_Defect', '7.0' : 'Reversable_Defect','3':'Normal','6' :'Fixed_Defect', '7' : 'Reversable_Defect'})\n",
        "df_concat['heart_disease'] = df_concat['heart_disease'].replace({'0':'Absence', '1' : 'Presence', '2' : 'Presence', '3' : 'Presence', '4' : 'Presence'})\n",
        "df_concat.sample(10)"
      ],
      "metadata": {
        "colab": {
          "base_uri": "https://localhost:8080/",
          "height": 363
        },
        "id": "D7G9pApijeJS",
        "outputId": "490f36c5-4cf1-4e26-bcff-dd5ecd455cbb"
      },
      "execution_count": 36,
      "outputs": [
        {
          "output_type": "execute_result",
          "data": {
            "text/plain": [
              "     age     sex  chest_pain_type  resting blood pressure  cholestoral  \\\n",
              "691   53    Male      Non_Anginal                   145.0        518.0   \n",
              "56    50    Male      Non_Anginal                   140.0        233.0   \n",
              "117   35  Female  Asymptomatic_Bp                   138.0        183.0   \n",
              "596   56    Male  Asymptomatic_Bp                   120.0         85.0   \n",
              "144   58    Male      Non_Anginal                   105.0        240.0   \n",
              "296   59    Male  Asymptomatic_Bp                   164.0        176.0   \n",
              "488   43  Female  Atypical_Angina                   120.0        249.0   \n",
              "440   35    Male  Atypical_Angina                   120.0        308.0   \n",
              "312   38    Male  Asymptomatic_Bp                   150.0          0.0   \n",
              "141   59    Male   Typical_Angina                   170.0        288.0   \n",
              "\n",
              "    fasting_blood_sugar ekg_results  max_hr exercise_angina  ST_depression  \\\n",
              "691             Present      Normal   130.0             Yes            0.0   \n",
              "56              Present      Normal   163.0             Yes            0.6   \n",
              "117             Present      Normal   182.0             Yes            1.4   \n",
              "596             Present      Normal   140.0             Yes            0.0   \n",
              "144             Present    Probable   154.0              No            0.6   \n",
              "296              Absent    Probable    90.0             Yes            1.0   \n",
              "488             Present    Abnormal   176.0             Yes            0.0   \n",
              "440             Present    Probable   180.0             Yes            0.0   \n",
              "312                 nan      Normal   120.0              No            NaN   \n",
              "141             Present    Probable   159.0             Yes            0.2   \n",
              "\n",
              "    slope_of_st  vessels           thallium heart_disease  \n",
              "691         nan      NaN                nan      Presence  \n",
              "56         Flat      1.0  Reversable_Defect      Presence  \n",
              "117   Upsloping      0.0             Normal       Absence  \n",
              "596         nan      NaN                nan       Absence  \n",
              "144        Flat      0.0  Reversable_Defect       Absence  \n",
              "296        Flat      2.0       Fixed_Defect      Presence  \n",
              "488         nan      NaN                nan       Absence  \n",
              "440         nan      NaN                nan       Absence  \n",
              "312         nan      NaN             Normal      Presence  \n",
              "141        Flat      0.0  Reversable_Defect      Presence  "
            ],
            "text/html": [
              "\n",
              "  <div id=\"df-0d807680-3fa6-4e9a-8229-d45686478129\">\n",
              "    <div class=\"colab-df-container\">\n",
              "      <div>\n",
              "<style scoped>\n",
              "    .dataframe tbody tr th:only-of-type {\n",
              "        vertical-align: middle;\n",
              "    }\n",
              "\n",
              "    .dataframe tbody tr th {\n",
              "        vertical-align: top;\n",
              "    }\n",
              "\n",
              "    .dataframe thead th {\n",
              "        text-align: right;\n",
              "    }\n",
              "</style>\n",
              "<table border=\"1\" class=\"dataframe\">\n",
              "  <thead>\n",
              "    <tr style=\"text-align: right;\">\n",
              "      <th></th>\n",
              "      <th>age</th>\n",
              "      <th>sex</th>\n",
              "      <th>chest_pain_type</th>\n",
              "      <th>resting blood pressure</th>\n",
              "      <th>cholestoral</th>\n",
              "      <th>fasting_blood_sugar</th>\n",
              "      <th>ekg_results</th>\n",
              "      <th>max_hr</th>\n",
              "      <th>exercise_angina</th>\n",
              "      <th>ST_depression</th>\n",
              "      <th>slope_of_st</th>\n",
              "      <th>vessels</th>\n",
              "      <th>thallium</th>\n",
              "      <th>heart_disease</th>\n",
              "    </tr>\n",
              "  </thead>\n",
              "  <tbody>\n",
              "    <tr>\n",
              "      <th>691</th>\n",
              "      <td>53</td>\n",
              "      <td>Male</td>\n",
              "      <td>Non_Anginal</td>\n",
              "      <td>145.0</td>\n",
              "      <td>518.0</td>\n",
              "      <td>Present</td>\n",
              "      <td>Normal</td>\n",
              "      <td>130.0</td>\n",
              "      <td>Yes</td>\n",
              "      <td>0.0</td>\n",
              "      <td>nan</td>\n",
              "      <td>NaN</td>\n",
              "      <td>nan</td>\n",
              "      <td>Presence</td>\n",
              "    </tr>\n",
              "    <tr>\n",
              "      <th>56</th>\n",
              "      <td>50</td>\n",
              "      <td>Male</td>\n",
              "      <td>Non_Anginal</td>\n",
              "      <td>140.0</td>\n",
              "      <td>233.0</td>\n",
              "      <td>Present</td>\n",
              "      <td>Normal</td>\n",
              "      <td>163.0</td>\n",
              "      <td>Yes</td>\n",
              "      <td>0.6</td>\n",
              "      <td>Flat</td>\n",
              "      <td>1.0</td>\n",
              "      <td>Reversable_Defect</td>\n",
              "      <td>Presence</td>\n",
              "    </tr>\n",
              "    <tr>\n",
              "      <th>117</th>\n",
              "      <td>35</td>\n",
              "      <td>Female</td>\n",
              "      <td>Asymptomatic_Bp</td>\n",
              "      <td>138.0</td>\n",
              "      <td>183.0</td>\n",
              "      <td>Present</td>\n",
              "      <td>Normal</td>\n",
              "      <td>182.0</td>\n",
              "      <td>Yes</td>\n",
              "      <td>1.4</td>\n",
              "      <td>Upsloping</td>\n",
              "      <td>0.0</td>\n",
              "      <td>Normal</td>\n",
              "      <td>Absence</td>\n",
              "    </tr>\n",
              "    <tr>\n",
              "      <th>596</th>\n",
              "      <td>56</td>\n",
              "      <td>Male</td>\n",
              "      <td>Asymptomatic_Bp</td>\n",
              "      <td>120.0</td>\n",
              "      <td>85.0</td>\n",
              "      <td>Present</td>\n",
              "      <td>Normal</td>\n",
              "      <td>140.0</td>\n",
              "      <td>Yes</td>\n",
              "      <td>0.0</td>\n",
              "      <td>nan</td>\n",
              "      <td>NaN</td>\n",
              "      <td>nan</td>\n",
              "      <td>Absence</td>\n",
              "    </tr>\n",
              "    <tr>\n",
              "      <th>144</th>\n",
              "      <td>58</td>\n",
              "      <td>Male</td>\n",
              "      <td>Non_Anginal</td>\n",
              "      <td>105.0</td>\n",
              "      <td>240.0</td>\n",
              "      <td>Present</td>\n",
              "      <td>Probable</td>\n",
              "      <td>154.0</td>\n",
              "      <td>No</td>\n",
              "      <td>0.6</td>\n",
              "      <td>Flat</td>\n",
              "      <td>0.0</td>\n",
              "      <td>Reversable_Defect</td>\n",
              "      <td>Absence</td>\n",
              "    </tr>\n",
              "    <tr>\n",
              "      <th>296</th>\n",
              "      <td>59</td>\n",
              "      <td>Male</td>\n",
              "      <td>Asymptomatic_Bp</td>\n",
              "      <td>164.0</td>\n",
              "      <td>176.0</td>\n",
              "      <td>Absent</td>\n",
              "      <td>Probable</td>\n",
              "      <td>90.0</td>\n",
              "      <td>Yes</td>\n",
              "      <td>1.0</td>\n",
              "      <td>Flat</td>\n",
              "      <td>2.0</td>\n",
              "      <td>Fixed_Defect</td>\n",
              "      <td>Presence</td>\n",
              "    </tr>\n",
              "    <tr>\n",
              "      <th>488</th>\n",
              "      <td>43</td>\n",
              "      <td>Female</td>\n",
              "      <td>Atypical_Angina</td>\n",
              "      <td>120.0</td>\n",
              "      <td>249.0</td>\n",
              "      <td>Present</td>\n",
              "      <td>Abnormal</td>\n",
              "      <td>176.0</td>\n",
              "      <td>Yes</td>\n",
              "      <td>0.0</td>\n",
              "      <td>nan</td>\n",
              "      <td>NaN</td>\n",
              "      <td>nan</td>\n",
              "      <td>Absence</td>\n",
              "    </tr>\n",
              "    <tr>\n",
              "      <th>440</th>\n",
              "      <td>35</td>\n",
              "      <td>Male</td>\n",
              "      <td>Atypical_Angina</td>\n",
              "      <td>120.0</td>\n",
              "      <td>308.0</td>\n",
              "      <td>Present</td>\n",
              "      <td>Probable</td>\n",
              "      <td>180.0</td>\n",
              "      <td>Yes</td>\n",
              "      <td>0.0</td>\n",
              "      <td>nan</td>\n",
              "      <td>NaN</td>\n",
              "      <td>nan</td>\n",
              "      <td>Absence</td>\n",
              "    </tr>\n",
              "    <tr>\n",
              "      <th>312</th>\n",
              "      <td>38</td>\n",
              "      <td>Male</td>\n",
              "      <td>Asymptomatic_Bp</td>\n",
              "      <td>150.0</td>\n",
              "      <td>0.0</td>\n",
              "      <td>nan</td>\n",
              "      <td>Normal</td>\n",
              "      <td>120.0</td>\n",
              "      <td>No</td>\n",
              "      <td>NaN</td>\n",
              "      <td>nan</td>\n",
              "      <td>NaN</td>\n",
              "      <td>Normal</td>\n",
              "      <td>Presence</td>\n",
              "    </tr>\n",
              "    <tr>\n",
              "      <th>141</th>\n",
              "      <td>59</td>\n",
              "      <td>Male</td>\n",
              "      <td>Typical_Angina</td>\n",
              "      <td>170.0</td>\n",
              "      <td>288.0</td>\n",
              "      <td>Present</td>\n",
              "      <td>Probable</td>\n",
              "      <td>159.0</td>\n",
              "      <td>Yes</td>\n",
              "      <td>0.2</td>\n",
              "      <td>Flat</td>\n",
              "      <td>0.0</td>\n",
              "      <td>Reversable_Defect</td>\n",
              "      <td>Presence</td>\n",
              "    </tr>\n",
              "  </tbody>\n",
              "</table>\n",
              "</div>\n",
              "      <button class=\"colab-df-convert\" onclick=\"convertToInteractive('df-0d807680-3fa6-4e9a-8229-d45686478129')\"\n",
              "              title=\"Convert this dataframe to an interactive table.\"\n",
              "              style=\"display:none;\">\n",
              "        \n",
              "  <svg xmlns=\"http://www.w3.org/2000/svg\" height=\"24px\"viewBox=\"0 0 24 24\"\n",
              "       width=\"24px\">\n",
              "    <path d=\"M0 0h24v24H0V0z\" fill=\"none\"/>\n",
              "    <path d=\"M18.56 5.44l.94 2.06.94-2.06 2.06-.94-2.06-.94-.94-2.06-.94 2.06-2.06.94zm-11 1L8.5 8.5l.94-2.06 2.06-.94-2.06-.94L8.5 2.5l-.94 2.06-2.06.94zm10 10l.94 2.06.94-2.06 2.06-.94-2.06-.94-.94-2.06-.94 2.06-2.06.94z\"/><path d=\"M17.41 7.96l-1.37-1.37c-.4-.4-.92-.59-1.43-.59-.52 0-1.04.2-1.43.59L10.3 9.45l-7.72 7.72c-.78.78-.78 2.05 0 2.83L4 21.41c.39.39.9.59 1.41.59.51 0 1.02-.2 1.41-.59l7.78-7.78 2.81-2.81c.8-.78.8-2.07 0-2.86zM5.41 20L4 18.59l7.72-7.72 1.47 1.35L5.41 20z\"/>\n",
              "  </svg>\n",
              "      </button>\n",
              "      \n",
              "  <style>\n",
              "    .colab-df-container {\n",
              "      display:flex;\n",
              "      flex-wrap:wrap;\n",
              "      gap: 12px;\n",
              "    }\n",
              "\n",
              "    .colab-df-convert {\n",
              "      background-color: #E8F0FE;\n",
              "      border: none;\n",
              "      border-radius: 50%;\n",
              "      cursor: pointer;\n",
              "      display: none;\n",
              "      fill: #1967D2;\n",
              "      height: 32px;\n",
              "      padding: 0 0 0 0;\n",
              "      width: 32px;\n",
              "    }\n",
              "\n",
              "    .colab-df-convert:hover {\n",
              "      background-color: #E2EBFA;\n",
              "      box-shadow: 0px 1px 2px rgba(60, 64, 67, 0.3), 0px 1px 3px 1px rgba(60, 64, 67, 0.15);\n",
              "      fill: #174EA6;\n",
              "    }\n",
              "\n",
              "    [theme=dark] .colab-df-convert {\n",
              "      background-color: #3B4455;\n",
              "      fill: #D2E3FC;\n",
              "    }\n",
              "\n",
              "    [theme=dark] .colab-df-convert:hover {\n",
              "      background-color: #434B5C;\n",
              "      box-shadow: 0px 1px 3px 1px rgba(0, 0, 0, 0.15);\n",
              "      filter: drop-shadow(0px 1px 2px rgba(0, 0, 0, 0.3));\n",
              "      fill: #FFFFFF;\n",
              "    }\n",
              "  </style>\n",
              "\n",
              "      <script>\n",
              "        const buttonEl =\n",
              "          document.querySelector('#df-0d807680-3fa6-4e9a-8229-d45686478129 button.colab-df-convert');\n",
              "        buttonEl.style.display =\n",
              "          google.colab.kernel.accessAllowed ? 'block' : 'none';\n",
              "\n",
              "        async function convertToInteractive(key) {\n",
              "          const element = document.querySelector('#df-0d807680-3fa6-4e9a-8229-d45686478129');\n",
              "          const dataTable =\n",
              "            await google.colab.kernel.invokeFunction('convertToInteractive',\n",
              "                                                     [key], {});\n",
              "          if (!dataTable) return;\n",
              "\n",
              "          const docLinkHtml = 'Like what you see? Visit the ' +\n",
              "            '<a target=\"_blank\" href=https://colab.research.google.com/notebooks/data_table.ipynb>data table notebook</a>'\n",
              "            + ' to learn more about interactive tables.';\n",
              "          element.innerHTML = '';\n",
              "          dataTable['output_type'] = 'display_data';\n",
              "          await google.colab.output.renderOutput(dataTable, element);\n",
              "          const docLink = document.createElement('div');\n",
              "          docLink.innerHTML = docLinkHtml;\n",
              "          element.appendChild(docLink);\n",
              "        }\n",
              "      </script>\n",
              "    </div>\n",
              "  </div>\n",
              "  "
            ]
          },
          "metadata": {},
          "execution_count": 36
        }
      ]
    },
    {
      "cell_type": "code",
      "source": [
        "print(\"age of the Heart Failure dataset:\\n\", df_concat['age'].unique())\n",
        "print(\"\\n sex of the Heart Failure dataset:\\n\", df_concat['sex'].unique())\n",
        "print(\"\\n chest_pain_type of the Heart Failure dataset:\\n\", df_concat['chest_pain_type'].unique())\n",
        "print(\"\\n resting blood pressure of the Heart Failure dataset:\\n\", df_concat['resting blood pressure'].unique())\n",
        "print(\"\\n cholestoral of the Heart Failure dataset:\\n\", df_concat['cholestoral'].unique())\n",
        "print(\"\\n fasting_blood_sugar of the Heart Failure dataset:\\n\", df_concat['fasting_blood_sugar'].unique())\n",
        "print(\"\\n ekg_results of the Heart Failure dataset:\\n\", df_concat['ekg_results'].unique())\n",
        "print(\"\\n max_hr of the Heart Failure dataset:\\n\", df_concat['max_hr'].unique())\n",
        "print(\"\\n exercise_angina of the Heart Failure dataset:\\n\", df_concat['exercise_angina'].unique())\n",
        "print(\"\\n ST_depression of the Heart Failure dataset:\\n\", df_concat['ST_depression'].unique())\n",
        "print(\"\\n slope_of_st of the Heart Failure dataset:\\n\", df_concat['slope_of_st'].unique())\n",
        "print(\"\\n vessels of the Heart Failure dataset:\\n\", df_concat['vessels'].unique())\n",
        "print(\"\\n heart_disease of the Heart Failure dataset:\\n\", df_concat['heart_disease'].unique())\n",
        "print(\"\\n thallium of the Heart Failure dataset:\\n\", df_concat['thallium'].unique())"
      ],
      "metadata": {
        "colab": {
          "base_uri": "https://localhost:8080/"
        },
        "id": "Aq2A5MloESGZ",
        "outputId": "091ca6de-9395-4f2d-f9c4-83f49ba0cf10"
      },
      "execution_count": 37,
      "outputs": [
        {
          "output_type": "stream",
          "name": "stdout",
          "text": [
            "age of the Heart Failure dataset:\n",
            " [63 67 37 41 56 62 57 53 44 52 48 54 49 64 58 60 50 66 43 40 69 59 42 55\n",
            " 61 65 71 51 46 45 39 68 47 34 35 29 70 77 38 74 76 32 36 72 73 28 30 31\n",
            " 33]\n",
            "\n",
            " sex of the Heart Failure dataset:\n",
            " ['Male' 'Female']\n",
            "\n",
            " chest_pain_type of the Heart Failure dataset:\n",
            " ['Typical_Angina' 'Asymptomatic_Bp' 'Non_Anginal' 'Atypical_Angina']\n",
            "\n",
            " resting blood pressure of the Heart Failure dataset:\n",
            " [145. 160. 120. 130. 140. 172. 150. 110. 132. 117. 135. 112. 105. 124.\n",
            " 125. 142. 128. 170. 155. 104. 180. 138. 108. 134. 122. 115. 118. 100.\n",
            " 200.  94. 165. 102. 152. 101. 126. 174. 148. 178. 158. 192. 129. 144.\n",
            " 123. 136. 146. 106. 156. 154. 114. 164.  95.  nan  80. 185.  98. 190.\n",
            " 113.  92.]\n",
            "\n",
            " cholestoral of the Heart Failure dataset:\n",
            " [233. 286. 229. 250. 204. 236. 268. 354. 254. 203. 192. 294. 256. 263.\n",
            " 199. 168. 239. 275. 266. 211. 283. 284. 224. 206. 219. 340. 226. 247.\n",
            " 167. 230. 335. 234. 177. 276. 353. 243. 225. 302. 212. 330. 175. 417.\n",
            " 197. 198. 290. 253. 172. 273. 213. 305. 216. 304. 188. 282. 185. 232.\n",
            " 326. 231. 269. 267. 248. 360. 258. 308. 245. 270. 208. 264. 321. 274.\n",
            " 325. 235. 257. 164. 141. 252. 255. 201. 222. 260. 182. 303. 265. 309.\n",
            " 307. 249. 186. 341. 183. 407. 217. 288. 220. 209. 227. 261. 174. 281.\n",
            " 221. 205. 240. 289. 318. 298. 564. 246. 322. 299. 300. 293. 277. 214.\n",
            " 207. 223. 160. 394. 184. 315. 409. 244. 195. 196. 126. 313. 259. 200.\n",
            " 262. 215. 228. 193. 271. 210. 327. 149. 295. 306. 178. 237. 218. 242.\n",
            " 319. 166. 180. 311. 278. 342. 169. 187. 157. 176. 241. 131.   0. 132.\n",
            "  nan 161. 173. 194. 297. 292. 339. 147. 291. 358. 412. 238. 163. 280.\n",
            " 202. 328. 129. 190. 179. 272. 100. 468. 320. 312. 171. 365. 344.  85.\n",
            " 347. 251. 287. 156. 117. 466. 338. 529. 392. 329. 355. 603. 404. 518.\n",
            " 285. 279. 388. 336. 491. 331. 393.]\n",
            "\n",
            " fasting_blood_sugar of the Heart Failure dataset:\n",
            " ['Absent' 'Present' 'nan']\n",
            "\n",
            " ekg_results of the Heart Failure dataset:\n",
            " ['Probable' 'Normal' 'Abnormal' 'nan']\n",
            "\n",
            " max_hr of the Heart Failure dataset:\n",
            " [150. 108. 129. 187. 172. 178. 160. 163. 147. 155. 148. 153. 142. 173.\n",
            " 162. 174. 168. 139. 171. 144. 132. 158. 114. 151. 161. 179. 120. 112.\n",
            " 137. 157. 169. 165. 123. 128. 152. 140. 188. 109. 125. 131. 170. 113.\n",
            "  99. 177. 141. 180. 111. 143. 182. 156. 115. 149. 145. 146. 175. 186.\n",
            " 185. 159. 130. 190. 136.  97. 127. 154. 133. 126. 202. 103. 166. 164.\n",
            " 184. 124. 122.  96. 138.  88. 105. 194. 195. 106. 167.  95. 192. 117.\n",
            " 121. 116.  71. 118. 181. 134.  90. 176. 110.  92. 104.  60.  82. 135.\n",
            "  83.  98. 100.  94. 119.  63.  70.  77.  72.  78.  86.  93.  67.  nan\n",
            "  87. 102.  91.]\n",
            "\n",
            " exercise_angina of the Heart Failure dataset:\n",
            " ['Yes' 'No' 'nan']\n",
            "\n",
            " ST_depression of the Heart Failure dataset:\n",
            " [ 2.3  1.5  2.6  3.5  1.4  0.8  3.6  0.6  3.1  0.4  1.3  0.   0.5  1.6\n",
            "  1.   1.2  0.2  1.8  3.2  2.4  2.   2.5  2.2  2.8  3.   3.4  6.2  4.\n",
            "  5.6  2.9  0.1  2.1  1.9  4.2  0.9  1.1  3.8  0.7  0.3  4.4  nan -1.1\n",
            " -1.5 -0.1 -2.6 -0.7 -2.  -1.   1.7 -0.8 -0.5 -0.9  3.7  5. ]\n",
            "\n",
            " slope_of_st of the Heart Failure dataset:\n",
            " ['Downsloping' 'Flat' 'Upsloping' 'nan']\n",
            "\n",
            " vessels of the Heart Failure dataset:\n",
            " [ 0.  3.  2.  1. nan]\n",
            "\n",
            " heart_disease of the Heart Failure dataset:\n",
            " ['Absence' 'Presence']\n",
            "\n",
            " thallium of the Heart Failure dataset:\n",
            " ['Fixed_Defect' 'Normal' 'Reversable_Defect' 'nan']\n"
          ]
        }
      ]
    },
    {
      "cell_type": "markdown",
      "source": [
        "### Summary of statistics"
      ],
      "metadata": {
        "id": "6H7lTWO3SYoj"
      }
    },
    {
      "cell_type": "code",
      "source": [
        "df_concat.describe()"
      ],
      "metadata": {
        "colab": {
          "base_uri": "https://localhost:8080/",
          "height": 300
        },
        "id": "EEGtiovISXuD",
        "outputId": "136e81f4-8008-45fc-8931-c4be73b3698e"
      },
      "execution_count": 38,
      "outputs": [
        {
          "output_type": "execute_result",
          "data": {
            "text/plain": [
              "              age  resting blood pressure  cholestoral      max_hr  \\\n",
              "count  720.000000              717.000000   697.000000  718.000000   \n",
              "mean    51.888889              131.804742   204.774749  140.565460   \n",
              "std      9.193720               18.529331   109.275156   25.647172   \n",
              "min     28.000000               80.000000     0.000000   60.000000   \n",
              "25%     45.000000              120.000000   182.000000  122.000000   \n",
              "50%     53.000000              130.000000   227.000000  142.000000   \n",
              "75%     58.000000              140.000000   270.000000  160.000000   \n",
              "max     77.000000              200.000000   603.000000  202.000000   \n",
              "\n",
              "       ST_depression     vessels  \n",
              "count     714.000000  307.000000  \n",
              "mean        0.789636    0.680782  \n",
              "std         1.066961    0.937101  \n",
              "min        -2.600000    0.000000  \n",
              "25%         0.000000    0.000000  \n",
              "50%         0.200000    0.000000  \n",
              "75%         1.500000    1.000000  \n",
              "max         6.200000    3.000000  "
            ],
            "text/html": [
              "\n",
              "  <div id=\"df-ab6d323f-1318-478a-b280-37069b57bbe7\">\n",
              "    <div class=\"colab-df-container\">\n",
              "      <div>\n",
              "<style scoped>\n",
              "    .dataframe tbody tr th:only-of-type {\n",
              "        vertical-align: middle;\n",
              "    }\n",
              "\n",
              "    .dataframe tbody tr th {\n",
              "        vertical-align: top;\n",
              "    }\n",
              "\n",
              "    .dataframe thead th {\n",
              "        text-align: right;\n",
              "    }\n",
              "</style>\n",
              "<table border=\"1\" class=\"dataframe\">\n",
              "  <thead>\n",
              "    <tr style=\"text-align: right;\">\n",
              "      <th></th>\n",
              "      <th>age</th>\n",
              "      <th>resting blood pressure</th>\n",
              "      <th>cholestoral</th>\n",
              "      <th>max_hr</th>\n",
              "      <th>ST_depression</th>\n",
              "      <th>vessels</th>\n",
              "    </tr>\n",
              "  </thead>\n",
              "  <tbody>\n",
              "    <tr>\n",
              "      <th>count</th>\n",
              "      <td>720.000000</td>\n",
              "      <td>717.000000</td>\n",
              "      <td>697.000000</td>\n",
              "      <td>718.000000</td>\n",
              "      <td>714.000000</td>\n",
              "      <td>307.000000</td>\n",
              "    </tr>\n",
              "    <tr>\n",
              "      <th>mean</th>\n",
              "      <td>51.888889</td>\n",
              "      <td>131.804742</td>\n",
              "      <td>204.774749</td>\n",
              "      <td>140.565460</td>\n",
              "      <td>0.789636</td>\n",
              "      <td>0.680782</td>\n",
              "    </tr>\n",
              "    <tr>\n",
              "      <th>std</th>\n",
              "      <td>9.193720</td>\n",
              "      <td>18.529331</td>\n",
              "      <td>109.275156</td>\n",
              "      <td>25.647172</td>\n",
              "      <td>1.066961</td>\n",
              "      <td>0.937101</td>\n",
              "    </tr>\n",
              "    <tr>\n",
              "      <th>min</th>\n",
              "      <td>28.000000</td>\n",
              "      <td>80.000000</td>\n",
              "      <td>0.000000</td>\n",
              "      <td>60.000000</td>\n",
              "      <td>-2.600000</td>\n",
              "      <td>0.000000</td>\n",
              "    </tr>\n",
              "    <tr>\n",
              "      <th>25%</th>\n",
              "      <td>45.000000</td>\n",
              "      <td>120.000000</td>\n",
              "      <td>182.000000</td>\n",
              "      <td>122.000000</td>\n",
              "      <td>0.000000</td>\n",
              "      <td>0.000000</td>\n",
              "    </tr>\n",
              "    <tr>\n",
              "      <th>50%</th>\n",
              "      <td>53.000000</td>\n",
              "      <td>130.000000</td>\n",
              "      <td>227.000000</td>\n",
              "      <td>142.000000</td>\n",
              "      <td>0.200000</td>\n",
              "      <td>0.000000</td>\n",
              "    </tr>\n",
              "    <tr>\n",
              "      <th>75%</th>\n",
              "      <td>58.000000</td>\n",
              "      <td>140.000000</td>\n",
              "      <td>270.000000</td>\n",
              "      <td>160.000000</td>\n",
              "      <td>1.500000</td>\n",
              "      <td>1.000000</td>\n",
              "    </tr>\n",
              "    <tr>\n",
              "      <th>max</th>\n",
              "      <td>77.000000</td>\n",
              "      <td>200.000000</td>\n",
              "      <td>603.000000</td>\n",
              "      <td>202.000000</td>\n",
              "      <td>6.200000</td>\n",
              "      <td>3.000000</td>\n",
              "    </tr>\n",
              "  </tbody>\n",
              "</table>\n",
              "</div>\n",
              "      <button class=\"colab-df-convert\" onclick=\"convertToInteractive('df-ab6d323f-1318-478a-b280-37069b57bbe7')\"\n",
              "              title=\"Convert this dataframe to an interactive table.\"\n",
              "              style=\"display:none;\">\n",
              "        \n",
              "  <svg xmlns=\"http://www.w3.org/2000/svg\" height=\"24px\"viewBox=\"0 0 24 24\"\n",
              "       width=\"24px\">\n",
              "    <path d=\"M0 0h24v24H0V0z\" fill=\"none\"/>\n",
              "    <path d=\"M18.56 5.44l.94 2.06.94-2.06 2.06-.94-2.06-.94-.94-2.06-.94 2.06-2.06.94zm-11 1L8.5 8.5l.94-2.06 2.06-.94-2.06-.94L8.5 2.5l-.94 2.06-2.06.94zm10 10l.94 2.06.94-2.06 2.06-.94-2.06-.94-.94-2.06-.94 2.06-2.06.94z\"/><path d=\"M17.41 7.96l-1.37-1.37c-.4-.4-.92-.59-1.43-.59-.52 0-1.04.2-1.43.59L10.3 9.45l-7.72 7.72c-.78.78-.78 2.05 0 2.83L4 21.41c.39.39.9.59 1.41.59.51 0 1.02-.2 1.41-.59l7.78-7.78 2.81-2.81c.8-.78.8-2.07 0-2.86zM5.41 20L4 18.59l7.72-7.72 1.47 1.35L5.41 20z\"/>\n",
              "  </svg>\n",
              "      </button>\n",
              "      \n",
              "  <style>\n",
              "    .colab-df-container {\n",
              "      display:flex;\n",
              "      flex-wrap:wrap;\n",
              "      gap: 12px;\n",
              "    }\n",
              "\n",
              "    .colab-df-convert {\n",
              "      background-color: #E8F0FE;\n",
              "      border: none;\n",
              "      border-radius: 50%;\n",
              "      cursor: pointer;\n",
              "      display: none;\n",
              "      fill: #1967D2;\n",
              "      height: 32px;\n",
              "      padding: 0 0 0 0;\n",
              "      width: 32px;\n",
              "    }\n",
              "\n",
              "    .colab-df-convert:hover {\n",
              "      background-color: #E2EBFA;\n",
              "      box-shadow: 0px 1px 2px rgba(60, 64, 67, 0.3), 0px 1px 3px 1px rgba(60, 64, 67, 0.15);\n",
              "      fill: #174EA6;\n",
              "    }\n",
              "\n",
              "    [theme=dark] .colab-df-convert {\n",
              "      background-color: #3B4455;\n",
              "      fill: #D2E3FC;\n",
              "    }\n",
              "\n",
              "    [theme=dark] .colab-df-convert:hover {\n",
              "      background-color: #434B5C;\n",
              "      box-shadow: 0px 1px 3px 1px rgba(0, 0, 0, 0.15);\n",
              "      filter: drop-shadow(0px 1px 2px rgba(0, 0, 0, 0.3));\n",
              "      fill: #FFFFFF;\n",
              "    }\n",
              "  </style>\n",
              "\n",
              "      <script>\n",
              "        const buttonEl =\n",
              "          document.querySelector('#df-ab6d323f-1318-478a-b280-37069b57bbe7 button.colab-df-convert');\n",
              "        buttonEl.style.display =\n",
              "          google.colab.kernel.accessAllowed ? 'block' : 'none';\n",
              "\n",
              "        async function convertToInteractive(key) {\n",
              "          const element = document.querySelector('#df-ab6d323f-1318-478a-b280-37069b57bbe7');\n",
              "          const dataTable =\n",
              "            await google.colab.kernel.invokeFunction('convertToInteractive',\n",
              "                                                     [key], {});\n",
              "          if (!dataTable) return;\n",
              "\n",
              "          const docLinkHtml = 'Like what you see? Visit the ' +\n",
              "            '<a target=\"_blank\" href=https://colab.research.google.com/notebooks/data_table.ipynb>data table notebook</a>'\n",
              "            + ' to learn more about interactive tables.';\n",
              "          element.innerHTML = '';\n",
              "          dataTable['output_type'] = 'display_data';\n",
              "          await google.colab.output.renderOutput(dataTable, element);\n",
              "          const docLink = document.createElement('div');\n",
              "          docLink.innerHTML = docLinkHtml;\n",
              "          element.appendChild(docLink);\n",
              "        }\n",
              "      </script>\n",
              "    </div>\n",
              "  </div>\n",
              "  "
            ]
          },
          "metadata": {},
          "execution_count": 38
        }
      ]
    },
    {
      "cell_type": "markdown",
      "source": [
        "### Checking Outliers"
      ],
      "metadata": {
        "id": "qqiEJTD9StCB"
      }
    },
    {
      "cell_type": "code",
      "source": [
        "numerical_columns = list(df_concat.loc[:,['age','resting blood pressure','cholestoral','max_hr','ST_depression','vessels']])\n",
        "categorical_columns = list(df_concat.loc[:,['sex','chest_pain_type','ekg_results','fasting_blood_sugar','exercise_angina','slope_of_st','thallium','heart_disease']])"
      ],
      "metadata": {
        "id": "sa1pnGUXStsF"
      },
      "execution_count": 39,
      "outputs": []
    },
    {
      "cell_type": "markdown",
      "source": [
        "From the data, ST_depression and vessels are highly skewed."
      ],
      "metadata": {
        "id": "hRwSaK2DY-VX"
      }
    },
    {
      "cell_type": "markdown",
      "source": [
        "## Duplicated values"
      ],
      "metadata": {
        "id": "DGSzRl83f143"
      }
    },
    {
      "cell_type": "code",
      "source": [
        "df_concat.duplicated().sum()"
      ],
      "metadata": {
        "colab": {
          "base_uri": "https://localhost:8080/"
        },
        "id": "JQFCGtcQvCUW",
        "outputId": "7aa80f91-82ec-4e13-9b3b-1dcb285904de"
      },
      "execution_count": 40,
      "outputs": [
        {
          "output_type": "execute_result",
          "data": {
            "text/plain": [
              "1"
            ]
          },
          "metadata": {},
          "execution_count": 40
        }
      ]
    },
    {
      "cell_type": "code",
      "source": [
        "df_concat[df_concat.duplicated()]"
      ],
      "metadata": {
        "colab": {
          "base_uri": "https://localhost:8080/",
          "height": 81
        },
        "id": "e7-PjaI1f0mA",
        "outputId": "808593ce-96af-4efc-96ba-aa8ab2196c4f"
      },
      "execution_count": 41,
      "outputs": [
        {
          "output_type": "execute_result",
          "data": {
            "text/plain": [
              "     age     sex  chest_pain_type  resting blood pressure  cholestoral  \\\n",
              "528   49  Female  Atypical_Angina                   110.0          NaN   \n",
              "\n",
              "    fasting_blood_sugar ekg_results  max_hr exercise_angina  ST_depression  \\\n",
              "528             Present      Normal   160.0             Yes            0.0   \n",
              "\n",
              "    slope_of_st  vessels thallium heart_disease  \n",
              "528         nan      NaN      nan       Absence  "
            ],
            "text/html": [
              "\n",
              "  <div id=\"df-50ea70a0-b05e-42da-a79b-26dd32e71144\">\n",
              "    <div class=\"colab-df-container\">\n",
              "      <div>\n",
              "<style scoped>\n",
              "    .dataframe tbody tr th:only-of-type {\n",
              "        vertical-align: middle;\n",
              "    }\n",
              "\n",
              "    .dataframe tbody tr th {\n",
              "        vertical-align: top;\n",
              "    }\n",
              "\n",
              "    .dataframe thead th {\n",
              "        text-align: right;\n",
              "    }\n",
              "</style>\n",
              "<table border=\"1\" class=\"dataframe\">\n",
              "  <thead>\n",
              "    <tr style=\"text-align: right;\">\n",
              "      <th></th>\n",
              "      <th>age</th>\n",
              "      <th>sex</th>\n",
              "      <th>chest_pain_type</th>\n",
              "      <th>resting blood pressure</th>\n",
              "      <th>cholestoral</th>\n",
              "      <th>fasting_blood_sugar</th>\n",
              "      <th>ekg_results</th>\n",
              "      <th>max_hr</th>\n",
              "      <th>exercise_angina</th>\n",
              "      <th>ST_depression</th>\n",
              "      <th>slope_of_st</th>\n",
              "      <th>vessels</th>\n",
              "      <th>thallium</th>\n",
              "      <th>heart_disease</th>\n",
              "    </tr>\n",
              "  </thead>\n",
              "  <tbody>\n",
              "    <tr>\n",
              "      <th>528</th>\n",
              "      <td>49</td>\n",
              "      <td>Female</td>\n",
              "      <td>Atypical_Angina</td>\n",
              "      <td>110.0</td>\n",
              "      <td>NaN</td>\n",
              "      <td>Present</td>\n",
              "      <td>Normal</td>\n",
              "      <td>160.0</td>\n",
              "      <td>Yes</td>\n",
              "      <td>0.0</td>\n",
              "      <td>nan</td>\n",
              "      <td>NaN</td>\n",
              "      <td>nan</td>\n",
              "      <td>Absence</td>\n",
              "    </tr>\n",
              "  </tbody>\n",
              "</table>\n",
              "</div>\n",
              "      <button class=\"colab-df-convert\" onclick=\"convertToInteractive('df-50ea70a0-b05e-42da-a79b-26dd32e71144')\"\n",
              "              title=\"Convert this dataframe to an interactive table.\"\n",
              "              style=\"display:none;\">\n",
              "        \n",
              "  <svg xmlns=\"http://www.w3.org/2000/svg\" height=\"24px\"viewBox=\"0 0 24 24\"\n",
              "       width=\"24px\">\n",
              "    <path d=\"M0 0h24v24H0V0z\" fill=\"none\"/>\n",
              "    <path d=\"M18.56 5.44l.94 2.06.94-2.06 2.06-.94-2.06-.94-.94-2.06-.94 2.06-2.06.94zm-11 1L8.5 8.5l.94-2.06 2.06-.94-2.06-.94L8.5 2.5l-.94 2.06-2.06.94zm10 10l.94 2.06.94-2.06 2.06-.94-2.06-.94-.94-2.06-.94 2.06-2.06.94z\"/><path d=\"M17.41 7.96l-1.37-1.37c-.4-.4-.92-.59-1.43-.59-.52 0-1.04.2-1.43.59L10.3 9.45l-7.72 7.72c-.78.78-.78 2.05 0 2.83L4 21.41c.39.39.9.59 1.41.59.51 0 1.02-.2 1.41-.59l7.78-7.78 2.81-2.81c.8-.78.8-2.07 0-2.86zM5.41 20L4 18.59l7.72-7.72 1.47 1.35L5.41 20z\"/>\n",
              "  </svg>\n",
              "      </button>\n",
              "      \n",
              "  <style>\n",
              "    .colab-df-container {\n",
              "      display:flex;\n",
              "      flex-wrap:wrap;\n",
              "      gap: 12px;\n",
              "    }\n",
              "\n",
              "    .colab-df-convert {\n",
              "      background-color: #E8F0FE;\n",
              "      border: none;\n",
              "      border-radius: 50%;\n",
              "      cursor: pointer;\n",
              "      display: none;\n",
              "      fill: #1967D2;\n",
              "      height: 32px;\n",
              "      padding: 0 0 0 0;\n",
              "      width: 32px;\n",
              "    }\n",
              "\n",
              "    .colab-df-convert:hover {\n",
              "      background-color: #E2EBFA;\n",
              "      box-shadow: 0px 1px 2px rgba(60, 64, 67, 0.3), 0px 1px 3px 1px rgba(60, 64, 67, 0.15);\n",
              "      fill: #174EA6;\n",
              "    }\n",
              "\n",
              "    [theme=dark] .colab-df-convert {\n",
              "      background-color: #3B4455;\n",
              "      fill: #D2E3FC;\n",
              "    }\n",
              "\n",
              "    [theme=dark] .colab-df-convert:hover {\n",
              "      background-color: #434B5C;\n",
              "      box-shadow: 0px 1px 3px 1px rgba(0, 0, 0, 0.15);\n",
              "      filter: drop-shadow(0px 1px 2px rgba(0, 0, 0, 0.3));\n",
              "      fill: #FFFFFF;\n",
              "    }\n",
              "  </style>\n",
              "\n",
              "      <script>\n",
              "        const buttonEl =\n",
              "          document.querySelector('#df-50ea70a0-b05e-42da-a79b-26dd32e71144 button.colab-df-convert');\n",
              "        buttonEl.style.display =\n",
              "          google.colab.kernel.accessAllowed ? 'block' : 'none';\n",
              "\n",
              "        async function convertToInteractive(key) {\n",
              "          const element = document.querySelector('#df-50ea70a0-b05e-42da-a79b-26dd32e71144');\n",
              "          const dataTable =\n",
              "            await google.colab.kernel.invokeFunction('convertToInteractive',\n",
              "                                                     [key], {});\n",
              "          if (!dataTable) return;\n",
              "\n",
              "          const docLinkHtml = 'Like what you see? Visit the ' +\n",
              "            '<a target=\"_blank\" href=https://colab.research.google.com/notebooks/data_table.ipynb>data table notebook</a>'\n",
              "            + ' to learn more about interactive tables.';\n",
              "          element.innerHTML = '';\n",
              "          dataTable['output_type'] = 'display_data';\n",
              "          await google.colab.output.renderOutput(dataTable, element);\n",
              "          const docLink = document.createElement('div');\n",
              "          docLink.innerHTML = docLinkHtml;\n",
              "          element.appendChild(docLink);\n",
              "        }\n",
              "      </script>\n",
              "    </div>\n",
              "  </div>\n",
              "  "
            ]
          },
          "metadata": {},
          "execution_count": 41
        }
      ]
    },
    {
      "cell_type": "code",
      "source": [
        "df_concat = df_concat.drop_duplicates()\n",
        "df_concat.shape"
      ],
      "metadata": {
        "colab": {
          "base_uri": "https://localhost:8080/"
        },
        "id": "gOzkrRh0vH4D",
        "outputId": "31ea3723-f1e9-482b-8854-ea46e61d7237"
      },
      "execution_count": 42,
      "outputs": [
        {
          "output_type": "execute_result",
          "data": {
            "text/plain": [
              "(719, 14)"
            ]
          },
          "metadata": {},
          "execution_count": 42
        }
      ]
    },
    {
      "cell_type": "markdown",
      "source": [
        "### Note:\n",
        "Missing values imputation is done in Feature processing"
      ],
      "metadata": {
        "id": "LdrC6dkKZk-X"
      }
    },
    {
      "cell_type": "code",
      "source": [
        "def Missing_values(df):\n",
        "    #Finding null values from the dataframe\n",
        "    null_values = df.isnull().sum().sort_values(ascending=False)\n",
        "    #Finding null values percentage from the dataframe\n",
        "    null_percent = (df.isnull().sum()/df.isnull().count()).sort_values(ascending=False)\n",
        "    #concating across columns\n",
        "    null_values = pd.concat([null_values, null_percent], axis=1, keys=['Missing_values', '% Missing_values'])\n",
        "    return null_values\n",
        "\n",
        "Missing_values(df_concat)\n"
      ],
      "metadata": {
        "colab": {
          "base_uri": "https://localhost:8080/",
          "height": 488
        },
        "id": "hZ6AXDVyvkyO",
        "outputId": "19adf499-b372-494d-b835-7222f2a7a50c"
      },
      "execution_count": 43,
      "outputs": [
        {
          "output_type": "execute_result",
          "data": {
            "text/plain": [
              "                        Missing_values  % Missing_values\n",
              "vessels                            412          0.573018\n",
              "cholestoral                         22          0.030598\n",
              "ST_depression                        6          0.008345\n",
              "resting blood pressure               3          0.004172\n",
              "max_hr                               2          0.002782\n",
              "age                                  0          0.000000\n",
              "sex                                  0          0.000000\n",
              "chest_pain_type                      0          0.000000\n",
              "fasting_blood_sugar                  0          0.000000\n",
              "ekg_results                          0          0.000000\n",
              "exercise_angina                      0          0.000000\n",
              "slope_of_st                          0          0.000000\n",
              "thallium                             0          0.000000\n",
              "heart_disease                        0          0.000000"
            ],
            "text/html": [
              "\n",
              "  <div id=\"df-c1aa15ab-ac37-4aed-92d2-1675e79d3846\">\n",
              "    <div class=\"colab-df-container\">\n",
              "      <div>\n",
              "<style scoped>\n",
              "    .dataframe tbody tr th:only-of-type {\n",
              "        vertical-align: middle;\n",
              "    }\n",
              "\n",
              "    .dataframe tbody tr th {\n",
              "        vertical-align: top;\n",
              "    }\n",
              "\n",
              "    .dataframe thead th {\n",
              "        text-align: right;\n",
              "    }\n",
              "</style>\n",
              "<table border=\"1\" class=\"dataframe\">\n",
              "  <thead>\n",
              "    <tr style=\"text-align: right;\">\n",
              "      <th></th>\n",
              "      <th>Missing_values</th>\n",
              "      <th>% Missing_values</th>\n",
              "    </tr>\n",
              "  </thead>\n",
              "  <tbody>\n",
              "    <tr>\n",
              "      <th>vessels</th>\n",
              "      <td>412</td>\n",
              "      <td>0.573018</td>\n",
              "    </tr>\n",
              "    <tr>\n",
              "      <th>cholestoral</th>\n",
              "      <td>22</td>\n",
              "      <td>0.030598</td>\n",
              "    </tr>\n",
              "    <tr>\n",
              "      <th>ST_depression</th>\n",
              "      <td>6</td>\n",
              "      <td>0.008345</td>\n",
              "    </tr>\n",
              "    <tr>\n",
              "      <th>resting blood pressure</th>\n",
              "      <td>3</td>\n",
              "      <td>0.004172</td>\n",
              "    </tr>\n",
              "    <tr>\n",
              "      <th>max_hr</th>\n",
              "      <td>2</td>\n",
              "      <td>0.002782</td>\n",
              "    </tr>\n",
              "    <tr>\n",
              "      <th>age</th>\n",
              "      <td>0</td>\n",
              "      <td>0.000000</td>\n",
              "    </tr>\n",
              "    <tr>\n",
              "      <th>sex</th>\n",
              "      <td>0</td>\n",
              "      <td>0.000000</td>\n",
              "    </tr>\n",
              "    <tr>\n",
              "      <th>chest_pain_type</th>\n",
              "      <td>0</td>\n",
              "      <td>0.000000</td>\n",
              "    </tr>\n",
              "    <tr>\n",
              "      <th>fasting_blood_sugar</th>\n",
              "      <td>0</td>\n",
              "      <td>0.000000</td>\n",
              "    </tr>\n",
              "    <tr>\n",
              "      <th>ekg_results</th>\n",
              "      <td>0</td>\n",
              "      <td>0.000000</td>\n",
              "    </tr>\n",
              "    <tr>\n",
              "      <th>exercise_angina</th>\n",
              "      <td>0</td>\n",
              "      <td>0.000000</td>\n",
              "    </tr>\n",
              "    <tr>\n",
              "      <th>slope_of_st</th>\n",
              "      <td>0</td>\n",
              "      <td>0.000000</td>\n",
              "    </tr>\n",
              "    <tr>\n",
              "      <th>thallium</th>\n",
              "      <td>0</td>\n",
              "      <td>0.000000</td>\n",
              "    </tr>\n",
              "    <tr>\n",
              "      <th>heart_disease</th>\n",
              "      <td>0</td>\n",
              "      <td>0.000000</td>\n",
              "    </tr>\n",
              "  </tbody>\n",
              "</table>\n",
              "</div>\n",
              "      <button class=\"colab-df-convert\" onclick=\"convertToInteractive('df-c1aa15ab-ac37-4aed-92d2-1675e79d3846')\"\n",
              "              title=\"Convert this dataframe to an interactive table.\"\n",
              "              style=\"display:none;\">\n",
              "        \n",
              "  <svg xmlns=\"http://www.w3.org/2000/svg\" height=\"24px\"viewBox=\"0 0 24 24\"\n",
              "       width=\"24px\">\n",
              "    <path d=\"M0 0h24v24H0V0z\" fill=\"none\"/>\n",
              "    <path d=\"M18.56 5.44l.94 2.06.94-2.06 2.06-.94-2.06-.94-.94-2.06-.94 2.06-2.06.94zm-11 1L8.5 8.5l.94-2.06 2.06-.94-2.06-.94L8.5 2.5l-.94 2.06-2.06.94zm10 10l.94 2.06.94-2.06 2.06-.94-2.06-.94-.94-2.06-.94 2.06-2.06.94z\"/><path d=\"M17.41 7.96l-1.37-1.37c-.4-.4-.92-.59-1.43-.59-.52 0-1.04.2-1.43.59L10.3 9.45l-7.72 7.72c-.78.78-.78 2.05 0 2.83L4 21.41c.39.39.9.59 1.41.59.51 0 1.02-.2 1.41-.59l7.78-7.78 2.81-2.81c.8-.78.8-2.07 0-2.86zM5.41 20L4 18.59l7.72-7.72 1.47 1.35L5.41 20z\"/>\n",
              "  </svg>\n",
              "      </button>\n",
              "      \n",
              "  <style>\n",
              "    .colab-df-container {\n",
              "      display:flex;\n",
              "      flex-wrap:wrap;\n",
              "      gap: 12px;\n",
              "    }\n",
              "\n",
              "    .colab-df-convert {\n",
              "      background-color: #E8F0FE;\n",
              "      border: none;\n",
              "      border-radius: 50%;\n",
              "      cursor: pointer;\n",
              "      display: none;\n",
              "      fill: #1967D2;\n",
              "      height: 32px;\n",
              "      padding: 0 0 0 0;\n",
              "      width: 32px;\n",
              "    }\n",
              "\n",
              "    .colab-df-convert:hover {\n",
              "      background-color: #E2EBFA;\n",
              "      box-shadow: 0px 1px 2px rgba(60, 64, 67, 0.3), 0px 1px 3px 1px rgba(60, 64, 67, 0.15);\n",
              "      fill: #174EA6;\n",
              "    }\n",
              "\n",
              "    [theme=dark] .colab-df-convert {\n",
              "      background-color: #3B4455;\n",
              "      fill: #D2E3FC;\n",
              "    }\n",
              "\n",
              "    [theme=dark] .colab-df-convert:hover {\n",
              "      background-color: #434B5C;\n",
              "      box-shadow: 0px 1px 3px 1px rgba(0, 0, 0, 0.15);\n",
              "      filter: drop-shadow(0px 1px 2px rgba(0, 0, 0, 0.3));\n",
              "      fill: #FFFFFF;\n",
              "    }\n",
              "  </style>\n",
              "\n",
              "      <script>\n",
              "        const buttonEl =\n",
              "          document.querySelector('#df-c1aa15ab-ac37-4aed-92d2-1675e79d3846 button.colab-df-convert');\n",
              "        buttonEl.style.display =\n",
              "          google.colab.kernel.accessAllowed ? 'block' : 'none';\n",
              "\n",
              "        async function convertToInteractive(key) {\n",
              "          const element = document.querySelector('#df-c1aa15ab-ac37-4aed-92d2-1675e79d3846');\n",
              "          const dataTable =\n",
              "            await google.colab.kernel.invokeFunction('convertToInteractive',\n",
              "                                                     [key], {});\n",
              "          if (!dataTable) return;\n",
              "\n",
              "          const docLinkHtml = 'Like what you see? Visit the ' +\n",
              "            '<a target=\"_blank\" href=https://colab.research.google.com/notebooks/data_table.ipynb>data table notebook</a>'\n",
              "            + ' to learn more about interactive tables.';\n",
              "          element.innerHTML = '';\n",
              "          dataTable['output_type'] = 'display_data';\n",
              "          await google.colab.output.renderOutput(dataTable, element);\n",
              "          const docLink = document.createElement('div');\n",
              "          docLink.innerHTML = docLinkHtml;\n",
              "          element.appendChild(docLink);\n",
              "        }\n",
              "      </script>\n",
              "    </div>\n",
              "  </div>\n",
              "  "
            ]
          },
          "metadata": {},
          "execution_count": 43
        }
      ]
    },
    {
      "cell_type": "markdown",
      "source": [
        "## Statastical distribution"
      ],
      "metadata": {
        "id": "xxAD8cdVgLhw"
      }
    },
    {
      "cell_type": "code",
      "source": [
        "#check data description\n",
        "df_concat.describe().T.style.bar(subset=['mean'], color='#205ff2').background_gradient(subset=['std'], cmap='Reds').background_gradient(subset=['50%'], cmap='coolwarm')"
      ],
      "metadata": {
        "colab": {
          "base_uri": "https://localhost:8080/",
          "height": 238
        },
        "id": "ZAtFvL-XgJ-q",
        "outputId": "77fed12b-b119-4531-d963-6306790d1fb4"
      },
      "execution_count": 44,
      "outputs": [
        {
          "output_type": "execute_result",
          "data": {
            "text/plain": [
              "<pandas.io.formats.style.Styler at 0x7faafb88e310>"
            ],
            "text/html": [
              "<style type=\"text/css\">\n",
              "#T_feb37_row0_col1 {\n",
              "  width: 10em;\n",
              "  background: linear-gradient(90deg, #205ff2 25.3%, transparent 25.3%);\n",
              "}\n",
              "#T_feb37_row0_col2 {\n",
              "  background-color: #fee8de;\n",
              "  color: #000000;\n",
              "}\n",
              "#T_feb37_row0_col5 {\n",
              "  background-color: #86a9fc;\n",
              "  color: #f1f1f1;\n",
              "}\n",
              "#T_feb37_row1_col1 {\n",
              "  width: 10em;\n",
              "  background: linear-gradient(90deg, #205ff2 64.4%, transparent 64.4%);\n",
              "}\n",
              "#T_feb37_row1_col2 {\n",
              "  background-color: #fdd5c4;\n",
              "  color: #000000;\n",
              "}\n",
              "#T_feb37_row1_col5 {\n",
              "  background-color: #edd1c2;\n",
              "  color: #000000;\n",
              "}\n",
              "#T_feb37_row2_col1 {\n",
              "  width: 10em;\n",
              "  background: linear-gradient(90deg, #205ff2 100.0%, transparent 100.0%);\n",
              "}\n",
              "#T_feb37_row2_col2 {\n",
              "  background-color: #67000d;\n",
              "  color: #f1f1f1;\n",
              "}\n",
              "#T_feb37_row2_col5 {\n",
              "  background-color: #b40426;\n",
              "  color: #f1f1f1;\n",
              "}\n",
              "#T_feb37_row3_col1 {\n",
              "  width: 10em;\n",
              "  background: linear-gradient(90deg, #205ff2 68.6%, transparent 68.6%);\n",
              "}\n",
              "#T_feb37_row3_col2 {\n",
              "  background-color: #fcc2aa;\n",
              "  color: #000000;\n",
              "}\n",
              "#T_feb37_row3_col5 {\n",
              "  background-color: #f5c4ac;\n",
              "  color: #000000;\n",
              "}\n",
              "#T_feb37_row4_col1 {\n",
              "  width: 10em;\n",
              "  background: linear-gradient(90deg, #205ff2 0.4%, transparent 0.4%);\n",
              "}\n",
              "#T_feb37_row4_col2, #T_feb37_row5_col2 {\n",
              "  background-color: #fff5f0;\n",
              "  color: #000000;\n",
              "}\n",
              "#T_feb37_row4_col5, #T_feb37_row5_col5 {\n",
              "  background-color: #3b4cc0;\n",
              "  color: #f1f1f1;\n",
              "}\n",
              "#T_feb37_row5_col1 {\n",
              "  width: 10em;\n",
              "  background: linear-gradient(90deg, #205ff2 0.3%, transparent 0.3%);\n",
              "}\n",
              "</style>\n",
              "<table id=\"T_feb37\" class=\"dataframe\">\n",
              "  <thead>\n",
              "    <tr>\n",
              "      <th class=\"blank level0\" >&nbsp;</th>\n",
              "      <th id=\"T_feb37_level0_col0\" class=\"col_heading level0 col0\" >count</th>\n",
              "      <th id=\"T_feb37_level0_col1\" class=\"col_heading level0 col1\" >mean</th>\n",
              "      <th id=\"T_feb37_level0_col2\" class=\"col_heading level0 col2\" >std</th>\n",
              "      <th id=\"T_feb37_level0_col3\" class=\"col_heading level0 col3\" >min</th>\n",
              "      <th id=\"T_feb37_level0_col4\" class=\"col_heading level0 col4\" >25%</th>\n",
              "      <th id=\"T_feb37_level0_col5\" class=\"col_heading level0 col5\" >50%</th>\n",
              "      <th id=\"T_feb37_level0_col6\" class=\"col_heading level0 col6\" >75%</th>\n",
              "      <th id=\"T_feb37_level0_col7\" class=\"col_heading level0 col7\" >max</th>\n",
              "    </tr>\n",
              "  </thead>\n",
              "  <tbody>\n",
              "    <tr>\n",
              "      <th id=\"T_feb37_level0_row0\" class=\"row_heading level0 row0\" >age</th>\n",
              "      <td id=\"T_feb37_row0_col0\" class=\"data row0 col0\" >719.000000</td>\n",
              "      <td id=\"T_feb37_row0_col1\" class=\"data row0 col1\" >51.892907</td>\n",
              "      <td id=\"T_feb37_row0_col2\" class=\"data row0 col2\" >9.199488</td>\n",
              "      <td id=\"T_feb37_row0_col3\" class=\"data row0 col3\" >28.000000</td>\n",
              "      <td id=\"T_feb37_row0_col4\" class=\"data row0 col4\" >45.000000</td>\n",
              "      <td id=\"T_feb37_row0_col5\" class=\"data row0 col5\" >53.000000</td>\n",
              "      <td id=\"T_feb37_row0_col6\" class=\"data row0 col6\" >58.000000</td>\n",
              "      <td id=\"T_feb37_row0_col7\" class=\"data row0 col7\" >77.000000</td>\n",
              "    </tr>\n",
              "    <tr>\n",
              "      <th id=\"T_feb37_level0_row1\" class=\"row_heading level0 row1\" >resting blood pressure</th>\n",
              "      <td id=\"T_feb37_row1_col0\" class=\"data row1 col0\" >716.000000</td>\n",
              "      <td id=\"T_feb37_row1_col1\" class=\"data row1 col1\" >131.835196</td>\n",
              "      <td id=\"T_feb37_row1_col2\" class=\"data row1 col2\" >18.524320</td>\n",
              "      <td id=\"T_feb37_row1_col3\" class=\"data row1 col3\" >80.000000</td>\n",
              "      <td id=\"T_feb37_row1_col4\" class=\"data row1 col4\" >120.000000</td>\n",
              "      <td id=\"T_feb37_row1_col5\" class=\"data row1 col5\" >130.000000</td>\n",
              "      <td id=\"T_feb37_row1_col6\" class=\"data row1 col6\" >140.000000</td>\n",
              "      <td id=\"T_feb37_row1_col7\" class=\"data row1 col7\" >200.000000</td>\n",
              "    </tr>\n",
              "    <tr>\n",
              "      <th id=\"T_feb37_level0_row2\" class=\"row_heading level0 row2\" >cholestoral</th>\n",
              "      <td id=\"T_feb37_row2_col0\" class=\"data row2 col0\" >697.000000</td>\n",
              "      <td id=\"T_feb37_row2_col1\" class=\"data row2 col1\" >204.774749</td>\n",
              "      <td id=\"T_feb37_row2_col2\" class=\"data row2 col2\" >109.275156</td>\n",
              "      <td id=\"T_feb37_row2_col3\" class=\"data row2 col3\" >0.000000</td>\n",
              "      <td id=\"T_feb37_row2_col4\" class=\"data row2 col4\" >182.000000</td>\n",
              "      <td id=\"T_feb37_row2_col5\" class=\"data row2 col5\" >227.000000</td>\n",
              "      <td id=\"T_feb37_row2_col6\" class=\"data row2 col6\" >270.000000</td>\n",
              "      <td id=\"T_feb37_row2_col7\" class=\"data row2 col7\" >603.000000</td>\n",
              "    </tr>\n",
              "    <tr>\n",
              "      <th id=\"T_feb37_level0_row3\" class=\"row_heading level0 row3\" >max_hr</th>\n",
              "      <td id=\"T_feb37_row3_col0\" class=\"data row3 col0\" >717.000000</td>\n",
              "      <td id=\"T_feb37_row3_col1\" class=\"data row3 col1\" >140.538354</td>\n",
              "      <td id=\"T_feb37_row3_col2\" class=\"data row3 col2\" >25.654783</td>\n",
              "      <td id=\"T_feb37_row3_col3\" class=\"data row3 col3\" >60.000000</td>\n",
              "      <td id=\"T_feb37_row3_col4\" class=\"data row3 col4\" >122.000000</td>\n",
              "      <td id=\"T_feb37_row3_col5\" class=\"data row3 col5\" >142.000000</td>\n",
              "      <td id=\"T_feb37_row3_col6\" class=\"data row3 col6\" >160.000000</td>\n",
              "      <td id=\"T_feb37_row3_col7\" class=\"data row3 col7\" >202.000000</td>\n",
              "    </tr>\n",
              "    <tr>\n",
              "      <th id=\"T_feb37_level0_row4\" class=\"row_heading level0 row4\" >ST_depression</th>\n",
              "      <td id=\"T_feb37_row4_col0\" class=\"data row4 col0\" >713.000000</td>\n",
              "      <td id=\"T_feb37_row4_col1\" class=\"data row4 col1\" >0.790743</td>\n",
              "      <td id=\"T_feb37_row4_col2\" class=\"data row4 col2\" >1.067299</td>\n",
              "      <td id=\"T_feb37_row4_col3\" class=\"data row4 col3\" >-2.600000</td>\n",
              "      <td id=\"T_feb37_row4_col4\" class=\"data row4 col4\" >0.000000</td>\n",
              "      <td id=\"T_feb37_row4_col5\" class=\"data row4 col5\" >0.200000</td>\n",
              "      <td id=\"T_feb37_row4_col6\" class=\"data row4 col6\" >1.500000</td>\n",
              "      <td id=\"T_feb37_row4_col7\" class=\"data row4 col7\" >6.200000</td>\n",
              "    </tr>\n",
              "    <tr>\n",
              "      <th id=\"T_feb37_level0_row5\" class=\"row_heading level0 row5\" >vessels</th>\n",
              "      <td id=\"T_feb37_row5_col0\" class=\"data row5 col0\" >307.000000</td>\n",
              "      <td id=\"T_feb37_row5_col1\" class=\"data row5 col1\" >0.680782</td>\n",
              "      <td id=\"T_feb37_row5_col2\" class=\"data row5 col2\" >0.937101</td>\n",
              "      <td id=\"T_feb37_row5_col3\" class=\"data row5 col3\" >0.000000</td>\n",
              "      <td id=\"T_feb37_row5_col4\" class=\"data row5 col4\" >0.000000</td>\n",
              "      <td id=\"T_feb37_row5_col5\" class=\"data row5 col5\" >0.000000</td>\n",
              "      <td id=\"T_feb37_row5_col6\" class=\"data row5 col6\" >1.000000</td>\n",
              "      <td id=\"T_feb37_row5_col7\" class=\"data row5 col7\" >3.000000</td>\n",
              "    </tr>\n",
              "  </tbody>\n",
              "</table>\n"
            ]
          },
          "metadata": {},
          "execution_count": 44
        }
      ]
    },
    {
      "cell_type": "code",
      "source": [
        "df_concat.corr()"
      ],
      "metadata": {
        "colab": {
          "base_uri": "https://localhost:8080/",
          "height": 238
        },
        "id": "Fcbju76HVlEE",
        "outputId": "d9ce5706-754a-4af7-b19d-9d1dbe22f869"
      },
      "execution_count": 45,
      "outputs": [
        {
          "output_type": "execute_result",
          "data": {
            "text/plain": [
              "                             age  resting blood pressure  cholestoral  \\\n",
              "age                     1.000000                0.252074    -0.089690   \n",
              "resting blood pressure  0.252074                1.000000     0.078219   \n",
              "cholestoral            -0.089690                0.078219     1.000000   \n",
              "max_hr                 -0.334016               -0.115114     0.265694   \n",
              "ST_depression           0.223674                0.165549     0.085287   \n",
              "vessels                 0.372712                0.095599     0.038337   \n",
              "\n",
              "                          max_hr  ST_depression   vessels  \n",
              "age                    -0.334016       0.223674  0.372712  \n",
              "resting blood pressure -0.115114       0.165549  0.095599  \n",
              "cholestoral             0.265694       0.085287  0.038337  \n",
              "max_hr                  1.000000      -0.156628 -0.270254  \n",
              "ST_depression          -0.156628       1.000000  0.284315  \n",
              "vessels                -0.270254       0.284315  1.000000  "
            ],
            "text/html": [
              "\n",
              "  <div id=\"df-c725b633-f91c-454a-9867-c194ceffbfc7\">\n",
              "    <div class=\"colab-df-container\">\n",
              "      <div>\n",
              "<style scoped>\n",
              "    .dataframe tbody tr th:only-of-type {\n",
              "        vertical-align: middle;\n",
              "    }\n",
              "\n",
              "    .dataframe tbody tr th {\n",
              "        vertical-align: top;\n",
              "    }\n",
              "\n",
              "    .dataframe thead th {\n",
              "        text-align: right;\n",
              "    }\n",
              "</style>\n",
              "<table border=\"1\" class=\"dataframe\">\n",
              "  <thead>\n",
              "    <tr style=\"text-align: right;\">\n",
              "      <th></th>\n",
              "      <th>age</th>\n",
              "      <th>resting blood pressure</th>\n",
              "      <th>cholestoral</th>\n",
              "      <th>max_hr</th>\n",
              "      <th>ST_depression</th>\n",
              "      <th>vessels</th>\n",
              "    </tr>\n",
              "  </thead>\n",
              "  <tbody>\n",
              "    <tr>\n",
              "      <th>age</th>\n",
              "      <td>1.000000</td>\n",
              "      <td>0.252074</td>\n",
              "      <td>-0.089690</td>\n",
              "      <td>-0.334016</td>\n",
              "      <td>0.223674</td>\n",
              "      <td>0.372712</td>\n",
              "    </tr>\n",
              "    <tr>\n",
              "      <th>resting blood pressure</th>\n",
              "      <td>0.252074</td>\n",
              "      <td>1.000000</td>\n",
              "      <td>0.078219</td>\n",
              "      <td>-0.115114</td>\n",
              "      <td>0.165549</td>\n",
              "      <td>0.095599</td>\n",
              "    </tr>\n",
              "    <tr>\n",
              "      <th>cholestoral</th>\n",
              "      <td>-0.089690</td>\n",
              "      <td>0.078219</td>\n",
              "      <td>1.000000</td>\n",
              "      <td>0.265694</td>\n",
              "      <td>0.085287</td>\n",
              "      <td>0.038337</td>\n",
              "    </tr>\n",
              "    <tr>\n",
              "      <th>max_hr</th>\n",
              "      <td>-0.334016</td>\n",
              "      <td>-0.115114</td>\n",
              "      <td>0.265694</td>\n",
              "      <td>1.000000</td>\n",
              "      <td>-0.156628</td>\n",
              "      <td>-0.270254</td>\n",
              "    </tr>\n",
              "    <tr>\n",
              "      <th>ST_depression</th>\n",
              "      <td>0.223674</td>\n",
              "      <td>0.165549</td>\n",
              "      <td>0.085287</td>\n",
              "      <td>-0.156628</td>\n",
              "      <td>1.000000</td>\n",
              "      <td>0.284315</td>\n",
              "    </tr>\n",
              "    <tr>\n",
              "      <th>vessels</th>\n",
              "      <td>0.372712</td>\n",
              "      <td>0.095599</td>\n",
              "      <td>0.038337</td>\n",
              "      <td>-0.270254</td>\n",
              "      <td>0.284315</td>\n",
              "      <td>1.000000</td>\n",
              "    </tr>\n",
              "  </tbody>\n",
              "</table>\n",
              "</div>\n",
              "      <button class=\"colab-df-convert\" onclick=\"convertToInteractive('df-c725b633-f91c-454a-9867-c194ceffbfc7')\"\n",
              "              title=\"Convert this dataframe to an interactive table.\"\n",
              "              style=\"display:none;\">\n",
              "        \n",
              "  <svg xmlns=\"http://www.w3.org/2000/svg\" height=\"24px\"viewBox=\"0 0 24 24\"\n",
              "       width=\"24px\">\n",
              "    <path d=\"M0 0h24v24H0V0z\" fill=\"none\"/>\n",
              "    <path d=\"M18.56 5.44l.94 2.06.94-2.06 2.06-.94-2.06-.94-.94-2.06-.94 2.06-2.06.94zm-11 1L8.5 8.5l.94-2.06 2.06-.94-2.06-.94L8.5 2.5l-.94 2.06-2.06.94zm10 10l.94 2.06.94-2.06 2.06-.94-2.06-.94-.94-2.06-.94 2.06-2.06.94z\"/><path d=\"M17.41 7.96l-1.37-1.37c-.4-.4-.92-.59-1.43-.59-.52 0-1.04.2-1.43.59L10.3 9.45l-7.72 7.72c-.78.78-.78 2.05 0 2.83L4 21.41c.39.39.9.59 1.41.59.51 0 1.02-.2 1.41-.59l7.78-7.78 2.81-2.81c.8-.78.8-2.07 0-2.86zM5.41 20L4 18.59l7.72-7.72 1.47 1.35L5.41 20z\"/>\n",
              "  </svg>\n",
              "      </button>\n",
              "      \n",
              "  <style>\n",
              "    .colab-df-container {\n",
              "      display:flex;\n",
              "      flex-wrap:wrap;\n",
              "      gap: 12px;\n",
              "    }\n",
              "\n",
              "    .colab-df-convert {\n",
              "      background-color: #E8F0FE;\n",
              "      border: none;\n",
              "      border-radius: 50%;\n",
              "      cursor: pointer;\n",
              "      display: none;\n",
              "      fill: #1967D2;\n",
              "      height: 32px;\n",
              "      padding: 0 0 0 0;\n",
              "      width: 32px;\n",
              "    }\n",
              "\n",
              "    .colab-df-convert:hover {\n",
              "      background-color: #E2EBFA;\n",
              "      box-shadow: 0px 1px 2px rgba(60, 64, 67, 0.3), 0px 1px 3px 1px rgba(60, 64, 67, 0.15);\n",
              "      fill: #174EA6;\n",
              "    }\n",
              "\n",
              "    [theme=dark] .colab-df-convert {\n",
              "      background-color: #3B4455;\n",
              "      fill: #D2E3FC;\n",
              "    }\n",
              "\n",
              "    [theme=dark] .colab-df-convert:hover {\n",
              "      background-color: #434B5C;\n",
              "      box-shadow: 0px 1px 3px 1px rgba(0, 0, 0, 0.15);\n",
              "      filter: drop-shadow(0px 1px 2px rgba(0, 0, 0, 0.3));\n",
              "      fill: #FFFFFF;\n",
              "    }\n",
              "  </style>\n",
              "\n",
              "      <script>\n",
              "        const buttonEl =\n",
              "          document.querySelector('#df-c725b633-f91c-454a-9867-c194ceffbfc7 button.colab-df-convert');\n",
              "        buttonEl.style.display =\n",
              "          google.colab.kernel.accessAllowed ? 'block' : 'none';\n",
              "\n",
              "        async function convertToInteractive(key) {\n",
              "          const element = document.querySelector('#df-c725b633-f91c-454a-9867-c194ceffbfc7');\n",
              "          const dataTable =\n",
              "            await google.colab.kernel.invokeFunction('convertToInteractive',\n",
              "                                                     [key], {});\n",
              "          if (!dataTable) return;\n",
              "\n",
              "          const docLinkHtml = 'Like what you see? Visit the ' +\n",
              "            '<a target=\"_blank\" href=https://colab.research.google.com/notebooks/data_table.ipynb>data table notebook</a>'\n",
              "            + ' to learn more about interactive tables.';\n",
              "          element.innerHTML = '';\n",
              "          dataTable['output_type'] = 'display_data';\n",
              "          await google.colab.output.renderOutput(dataTable, element);\n",
              "          const docLink = document.createElement('div');\n",
              "          docLink.innerHTML = docLinkHtml;\n",
              "          element.appendChild(docLink);\n",
              "        }\n",
              "      </script>\n",
              "    </div>\n",
              "  </div>\n",
              "  "
            ]
          },
          "metadata": {},
          "execution_count": 45
        }
      ]
    },
    {
      "cell_type": "code",
      "source": [
        "%matplotlib inline\n",
        "plt.figure(figsize=(5,5))\n",
        "sns.heatmap(df_concat.corr(),annot=True)\n",
        "plt.show()"
      ],
      "metadata": {
        "colab": {
          "base_uri": "https://localhost:8080/",
          "height": 592
        },
        "id": "yUcGkMrSV-pd",
        "outputId": "c148586d-7e0f-4a2f-92bf-e6eb80b97a91"
      },
      "execution_count": 46,
      "outputs": [
        {
          "output_type": "display_data",
          "data": {
            "text/plain": [
              "<Figure size 500x500 with 2 Axes>"
            ],
            "image/png": "[encoded data removed]"
          },
          "metadata": {}
        }
      ]
    },
    {
      "cell_type": "code",
      "source": [
        "import plotly.express as px\n",
        "from matplotlib import pyplot as plt\n",
        "def boxplots_custom(dataset, columns_list, rows, cols, suptitle):\n",
        "    fig, axs = plt.subplots(rows, cols, sharey=True, figsize=(13,5))\n",
        "    fig.suptitle(suptitle,y=1, size=13)\n",
        "    axs = axs.flatten()\n",
        "    for i, data in enumerate(columns_list):\n",
        "        sns.boxplot(data=dataset[data], orient='h', ax=axs[i])\n",
        "        axs[i].set_title(data + ', skewness is: '+str(round(dataset[data].skew(axis = 0, skipna = True),2)))\n",
        "        \n",
        "boxplots_custom(dataset=df_concat, columns_list=numerical_columns, rows=2, cols=3, suptitle='Boxplots for skewness')\n",
        "plt.tight_layout()\n"
      ],
      "metadata": {
        "id": "ecmWbu2pGQWM",
        "colab": {
          "base_uri": "https://localhost:8080/",
          "height": 522
        },
        "outputId": "0a69858c-6dd6-498b-9e3c-9cabb20a72a3"
      },
      "execution_count": 47,
      "outputs": [
        {
          "output_type": "display_data",
          "data": {
            "text/plain": [
              "<Figure size 1300x500 with 6 Axes>"
            ],
            "image/png": "[encoded data removed]"
          },
          "metadata": {}
        }
      ]
    },
    {
      "cell_type": "code",
      "source": [
        "df_eda = df_concat.fillna(df_concat.mean())\n",
        "df_eda.isnull().sum()"
      ],
      "metadata": {
        "colab": {
          "base_uri": "https://localhost:8080/"
        },
        "id": "pLRSPxrn6yhg",
        "outputId": "11738e61-6b9a-4b00-cb9c-e72572d1f3c7"
      },
      "execution_count": 48,
      "outputs": [
        {
          "output_type": "stream",
          "name": "stderr",
          "text": [
            "<ipython-input-48-b1af2720afb7>:1: FutureWarning: Dropping of nuisance columns in DataFrame reductions (with 'numeric_only=None') is deprecated; in a future version this will raise TypeError.  Select only valid columns before calling the reduction.\n",
            "  df_eda = df_concat.fillna(df_concat.mean())\n"
          ]
        },
        {
          "output_type": "execute_result",
          "data": {
            "text/plain": [
              "age                       0\n",
              "sex                       0\n",
              "chest_pain_type           0\n",
              "resting blood pressure    0\n",
              "cholestoral               0\n",
              "fasting_blood_sugar       0\n",
              "ekg_results               0\n",
              "max_hr                    0\n",
              "exercise_angina           0\n",
              "ST_depression             0\n",
              "slope_of_st               0\n",
              "vessels                   0\n",
              "thallium                  0\n",
              "heart_disease             0\n",
              "dtype: int64"
            ]
          },
          "metadata": {},
          "execution_count": 48
        }
      ]
    },
    {
      "cell_type": "code",
      "source": [
        "boxplots_custom(dataset=df_eda, columns_list=numerical_columns, rows=2, cols=3, suptitle='Boxplots for skewness')\n",
        "plt.tight_layout()"
      ],
      "metadata": {
        "colab": {
          "base_uri": "https://localhost:8080/",
          "height": 522
        },
        "id": "jZerOSqL7Y-3",
        "outputId": "d063f115-a4e1-4701-e400-2db1c50db208"
      },
      "execution_count": 49,
      "outputs": [
        {
          "output_type": "display_data",
          "data": {
            "text/plain": [
              "<Figure size 1300x500 with 6 Axes>"
            ],
            "image/png": "[encoded data removed]"
          },
          "metadata": {}
        }
      ]
    },
    {
      "cell_type": "code",
      "source": [
        "# define continuous variable & plot\n",
        "def outliers(df_out, drop = False):\n",
        "    for each_feature in df_out.columns:\n",
        "        feature_data = df_out[each_feature]\n",
        "        Q1 = np.percentile(feature_data, 25.) # 25th percentile of the data of the given feature\n",
        "        Q3 = np.percentile(feature_data, 75.) # 75th percentile of the data of the given feature\n",
        "        IQR = Q3-Q1 #Interquartile Range\n",
        "        outlier_step = IQR * 1.5 #That's we were talking about above\n",
        "        outliers = feature_data[~((feature_data >= Q1 - outlier_step) & (feature_data <= Q3 + outlier_step))].index.tolist()  \n",
        "        if not drop:\n",
        "            print('For the feature {}, No of Outliers is {}'.format(each_feature, len(outliers)))\n",
        "        if drop:\n",
        "            df_eda.drop(outliers, inplace = True, errors = 'ignore')\n",
        "            print('Outliers from {} feature removed'.format(each_feature))\n",
        "        \n",
        "\n",
        "outliers(df_concat[numerical_columns])"
      ],
      "metadata": {
        "colab": {
          "base_uri": "https://localhost:8080/"
        },
        "id": "nGndunVS8Ljv",
        "outputId": "c3bf2681-b2cf-40cb-cd93-bcfd43257366"
      },
      "execution_count": 50,
      "outputs": [
        {
          "output_type": "stream",
          "name": "stdout",
          "text": [
            "For the feature age, No of Outliers is 0\n",
            "For the feature resting blood pressure, No of Outliers is 719\n",
            "For the feature cholestoral, No of Outliers is 719\n",
            "For the feature max_hr, No of Outliers is 719\n",
            "For the feature ST_depression, No of Outliers is 719\n",
            "For the feature vessels, No of Outliers is 719\n"
          ]
        }
      ]
    },
    {
      "cell_type": "code",
      "source": [
        "outliers(df_eda[numerical_columns],drop=True)"
      ],
      "metadata": {
        "colab": {
          "base_uri": "https://localhost:8080/"
        },
        "id": "1-9Bd3X1-hHB",
        "outputId": "7f9e70de-8f58-4e9a-8cc0-887bdff2dab8"
      },
      "execution_count": 51,
      "outputs": [
        {
          "output_type": "stream",
          "name": "stdout",
          "text": [
            "Outliers from age feature removed\n",
            "Outliers from resting blood pressure feature removed\n",
            "Outliers from cholestoral feature removed\n",
            "Outliers from max_hr feature removed\n",
            "Outliers from ST_depression feature removed\n",
            "Outliers from vessels feature removed\n"
          ]
        }
      ]
    },
    {
      "cell_type": "code",
      "source": [
        "outliers(df_eda[numerical_columns])"
      ],
      "metadata": {
        "colab": {
          "base_uri": "https://localhost:8080/"
        },
        "id": "_Lr5DT4T8YyS",
        "outputId": "5a38cdbf-5c1f-41be-a096-470a18076f2f"
      },
      "execution_count": 52,
      "outputs": [
        {
          "output_type": "stream",
          "name": "stdout",
          "text": [
            "For the feature age, No of Outliers is 0\n",
            "For the feature resting blood pressure, No of Outliers is 0\n",
            "For the feature cholestoral, No of Outliers is 4\n",
            "For the feature max_hr, No of Outliers is 0\n",
            "For the feature ST_depression, No of Outliers is 9\n",
            "For the feature vessels, No of Outliers is 0\n"
          ]
        }
      ]
    },
    {
      "cell_type": "code",
      "source": [
        "df_eda.shape"
      ],
      "metadata": {
        "colab": {
          "base_uri": "https://localhost:8080/"
        },
        "id": "zPQsvWFb-vJl",
        "outputId": "7389e3a6-6525-4b01-b587-8731e42f2175"
      },
      "execution_count": 53,
      "outputs": [
        {
          "output_type": "execute_result",
          "data": {
            "text/plain": [
              "(276, 14)"
            ]
          },
          "metadata": {},
          "execution_count": 53
        }
      ]
    },
    {
      "cell_type": "code",
      "source": [
        "df_eda.head()"
      ],
      "metadata": {
        "colab": {
          "base_uri": "https://localhost:8080/",
          "height": 206
        },
        "id": "womayVQ-E_40",
        "outputId": "ff94df68-d874-4936-94cf-5c0904de3869"
      },
      "execution_count": 55,
      "outputs": [
        {
          "output_type": "execute_result",
          "data": {
            "text/plain": [
              "     age   sex  chest_pain_type  resting blood pressure  cholestoral  \\\n",
              "166   52  Male      Non_Anginal                   138.0        223.0   \n",
              "192   43  Male  Asymptomatic_Bp                   132.0        247.0   \n",
              "287   58  Male  Atypical_Angina                   125.0        220.0   \n",
              "302   38  Male      Non_Anginal                   138.0        175.0   \n",
              "426   28  Male  Atypical_Angina                   130.0        132.0   \n",
              "\n",
              "    fasting_blood_sugar ekg_results  max_hr exercise_angina  ST_depression  \\\n",
              "166             Present      Normal   169.0             Yes            0.0   \n",
              "192              Absent    Probable   143.0              No            0.1   \n",
              "287             Present      Normal   144.0             Yes            0.4   \n",
              "302             Present      Normal   173.0             Yes            0.0   \n",
              "426             Present    Probable   185.0             Yes            0.0   \n",
              "\n",
              "    slope_of_st   vessels           thallium heart_disease  \n",
              "166   Upsloping  0.680782             Normal       Absence  \n",
              "192        Flat  0.680782  Reversable_Defect      Presence  \n",
              "287        Flat  0.680782  Reversable_Defect       Absence  \n",
              "302   Upsloping  0.680782             Normal       Absence  \n",
              "426         nan  0.680782                nan       Absence  "
            ],
            "text/html": [
              "\n",
              "  <div id=\"df-3645a2ed-4d1a-4e6c-80a3-8b8324bb6b16\">\n",
              "    <div class=\"colab-df-container\">\n",
              "      <div>\n",
              "<style scoped>\n",
              "    .dataframe tbody tr th:only-of-type {\n",
              "        vertical-align: middle;\n",
              "    }\n",
              "\n",
              "    .dataframe tbody tr th {\n",
              "        vertical-align: top;\n",
              "    }\n",
              "\n",
              "    .dataframe thead th {\n",
              "        text-align: right;\n",
              "    }\n",
              "</style>\n",
              "<table border=\"1\" class=\"dataframe\">\n",
              "  <thead>\n",
              "    <tr style=\"text-align: right;\">\n",
              "      <th></th>\n",
              "      <th>age</th>\n",
              "      <th>sex</th>\n",
              "      <th>chest_pain_type</th>\n",
              "      <th>resting blood pressure</th>\n",
              "      <th>cholestoral</th>\n",
              "      <th>fasting_blood_sugar</th>\n",
              "      <th>ekg_results</th>\n",
              "      <th>max_hr</th>\n",
              "      <th>exercise_angina</th>\n",
              "      <th>ST_depression</th>\n",
              "      <th>slope_of_st</th>\n",
              "      <th>vessels</th>\n",
              "      <th>thallium</th>\n",
              "      <th>heart_disease</th>\n",
              "    </tr>\n",
              "  </thead>\n",
              "  <tbody>\n",
              "    <tr>\n",
              "      <th>166</th>\n",
              "      <td>52</td>\n",
              "      <td>Male</td>\n",
              "      <td>Non_Anginal</td>\n",
              "      <td>138.0</td>\n",
              "      <td>223.0</td>\n",
              "      <td>Present</td>\n",
              "      <td>Normal</td>\n",
              "      <td>169.0</td>\n",
              "      <td>Yes</td>\n",
              "      <td>0.0</td>\n",
              "      <td>Upsloping</td>\n",
              "      <td>0.680782</td>\n",
              "      <td>Normal</td>\n",
              "      <td>Absence</td>\n",
              "    </tr>\n",
              "    <tr>\n",
              "      <th>192</th>\n",
              "      <td>43</td>\n",
              "      <td>Male</td>\n",
              "      <td>Asymptomatic_Bp</td>\n",
              "      <td>132.0</td>\n",
              "      <td>247.0</td>\n",
              "      <td>Absent</td>\n",
              "      <td>Probable</td>\n",
              "      <td>143.0</td>\n",
              "      <td>No</td>\n",
              "      <td>0.1</td>\n",
              "      <td>Flat</td>\n",
              "      <td>0.680782</td>\n",
              "      <td>Reversable_Defect</td>\n",
              "      <td>Presence</td>\n",
              "    </tr>\n",
              "    <tr>\n",
              "      <th>287</th>\n",
              "      <td>58</td>\n",
              "      <td>Male</td>\n",
              "      <td>Atypical_Angina</td>\n",
              "      <td>125.0</td>\n",
              "      <td>220.0</td>\n",
              "      <td>Present</td>\n",
              "      <td>Normal</td>\n",
              "      <td>144.0</td>\n",
              "      <td>Yes</td>\n",
              "      <td>0.4</td>\n",
              "      <td>Flat</td>\n",
              "      <td>0.680782</td>\n",
              "      <td>Reversable_Defect</td>\n",
              "      <td>Absence</td>\n",
              "    </tr>\n",
              "    <tr>\n",
              "      <th>302</th>\n",
              "      <td>38</td>\n",
              "      <td>Male</td>\n",
              "      <td>Non_Anginal</td>\n",
              "      <td>138.0</td>\n",
              "      <td>175.0</td>\n",
              "      <td>Present</td>\n",
              "      <td>Normal</td>\n",
              "      <td>173.0</td>\n",
              "      <td>Yes</td>\n",
              "      <td>0.0</td>\n",
              "      <td>Upsloping</td>\n",
              "      <td>0.680782</td>\n",
              "      <td>Normal</td>\n",
              "      <td>Absence</td>\n",
              "    </tr>\n",
              "    <tr>\n",
              "      <th>426</th>\n",
              "      <td>28</td>\n",
              "      <td>Male</td>\n",
              "      <td>Atypical_Angina</td>\n",
              "      <td>130.0</td>\n",
              "      <td>132.0</td>\n",
              "      <td>Present</td>\n",
              "      <td>Probable</td>\n",
              "      <td>185.0</td>\n",
              "      <td>Yes</td>\n",
              "      <td>0.0</td>\n",
              "      <td>nan</td>\n",
              "      <td>0.680782</td>\n",
              "      <td>nan</td>\n",
              "      <td>Absence</td>\n",
              "    </tr>\n",
              "  </tbody>\n",
              "</table>\n",
              "</div>\n",
              "      <button class=\"colab-df-convert\" onclick=\"convertToInteractive('df-3645a2ed-4d1a-4e6c-80a3-8b8324bb6b16')\"\n",
              "              title=\"Convert this dataframe to an interactive table.\"\n",
              "              style=\"display:none;\">\n",
              "        \n",
              "  <svg xmlns=\"http://www.w3.org/2000/svg\" height=\"24px\"viewBox=\"0 0 24 24\"\n",
              "       width=\"24px\">\n",
              "    <path d=\"M0 0h24v24H0V0z\" fill=\"none\"/>\n",
              "    <path d=\"M18.56 5.44l.94 2.06.94-2.06 2.06-.94-2.06-.94-.94-2.06-.94 2.06-2.06.94zm-11 1L8.5 8.5l.94-2.06 2.06-.94-2.06-.94L8.5 2.5l-.94 2.06-2.06.94zm10 10l.94 2.06.94-2.06 2.06-.94-2.06-.94-.94-2.06-.94 2.06-2.06.94z\"/><path d=\"M17.41 7.96l-1.37-1.37c-.4-.4-.92-.59-1.43-.59-.52 0-1.04.2-1.43.59L10.3 9.45l-7.72 7.72c-.78.78-.78 2.05 0 2.83L4 21.41c.39.39.9.59 1.41.59.51 0 1.02-.2 1.41-.59l7.78-7.78 2.81-2.81c.8-.78.8-2.07 0-2.86zM5.41 20L4 18.59l7.72-7.72 1.47 1.35L5.41 20z\"/>\n",
              "  </svg>\n",
              "      </button>\n",
              "      \n",
              "  <style>\n",
              "    .colab-df-container {\n",
              "      display:flex;\n",
              "      flex-wrap:wrap;\n",
              "      gap: 12px;\n",
              "    }\n",
              "\n",
              "    .colab-df-convert {\n",
              "      background-color: #E8F0FE;\n",
              "      border: none;\n",
              "      border-radius: 50%;\n",
              "      cursor: pointer;\n",
              "      display: none;\n",
              "      fill: #1967D2;\n",
              "      height: 32px;\n",
              "      padding: 0 0 0 0;\n",
              "      width: 32px;\n",
              "    }\n",
              "\n",
              "    .colab-df-convert:hover {\n",
              "      background-color: #E2EBFA;\n",
              "      box-shadow: 0px 1px 2px rgba(60, 64, 67, 0.3), 0px 1px 3px 1px rgba(60, 64, 67, 0.15);\n",
              "      fill: #174EA6;\n",
              "    }\n",
              "\n",
              "    [theme=dark] .colab-df-convert {\n",
              "      background-color: #3B4455;\n",
              "      fill: #D2E3FC;\n",
              "    }\n",
              "\n",
              "    [theme=dark] .colab-df-convert:hover {\n",
              "      background-color: #434B5C;\n",
              "      box-shadow: 0px 1px 3px 1px rgba(0, 0, 0, 0.15);\n",
              "      filter: drop-shadow(0px 1px 2px rgba(0, 0, 0, 0.3));\n",
              "      fill: #FFFFFF;\n",
              "    }\n",
              "  </style>\n",
              "\n",
              "      <script>\n",
              "        const buttonEl =\n",
              "          document.querySelector('#df-3645a2ed-4d1a-4e6c-80a3-8b8324bb6b16 button.colab-df-convert');\n",
              "        buttonEl.style.display =\n",
              "          google.colab.kernel.accessAllowed ? 'block' : 'none';\n",
              "\n",
              "        async function convertToInteractive(key) {\n",
              "          const element = document.querySelector('#df-3645a2ed-4d1a-4e6c-80a3-8b8324bb6b16');\n",
              "          const dataTable =\n",
              "            await google.colab.kernel.invokeFunction('convertToInteractive',\n",
              "                                                     [key], {});\n",
              "          if (!dataTable) return;\n",
              "\n",
              "          const docLinkHtml = 'Like what you see? Visit the ' +\n",
              "            '<a target=\"_blank\" href=https://colab.research.google.com/notebooks/data_table.ipynb>data table notebook</a>'\n",
              "            + ' to learn more about interactive tables.';\n",
              "          element.innerHTML = '';\n",
              "          dataTable['output_type'] = 'display_data';\n",
              "          await google.colab.output.renderOutput(dataTable, element);\n",
              "          const docLink = document.createElement('div');\n",
              "          docLink.innerHTML = docLinkHtml;\n",
              "          element.appendChild(docLink);\n",
              "        }\n",
              "      </script>\n",
              "    </div>\n",
              "  </div>\n",
              "  "
            ]
          },
          "metadata": {},
          "execution_count": 55
        }
      ]
    },
    {
      "cell_type": "code",
      "source": [
        "import seaborn as sns\n",
        "ax=sns.countplot(data=df_eda, x='chest_pain_type',order = df_eda['chest_pain_type'].value_counts().index)\n",
        "for label in ax.containers:\n",
        "    ax.bar_label(label)\n",
        "plt.show()\n"
      ],
      "metadata": {
        "colab": {
          "base_uri": "https://localhost:8080/",
          "height": 356
        },
        "id": "X-lO6U64F7ec",
        "outputId": "21659a80-886e-4463-a07b-ad1a79f41f24"
      },
      "execution_count": 58,
      "outputs": [
        {
          "output_type": "display_data",
          "data": {
            "text/plain": [
              "<Figure size 750x350 with 1 Axes>"
            ],
            "image/png": "[encoded data removed]"
          },
          "metadata": {}
        }
      ]
    },
    {
      "cell_type": "code",
      "source": [
        "df_vis = df_eda.dropna()"
      ],
      "metadata": {
        "id": "Ec4eUe8jOubm"
      },
      "execution_count": 65,
      "outputs": []
    },
    {
      "cell_type": "code",
      "source": [
        "gb_sales2=df_vis.groupby(by=\"fasting_blood_sugar\")[[\"cholestoral\"]].sum()\n",
        "res_2=gb_sales2.reset_index()\n",
        "plt.pie(x=\"cholestoral\",labels=\"fasting_blood_sugar\", data=res_2, autopct=\"%.2f %%\",colors=[\"r\",\"g\",\"b\"])\n",
        "plt.xlabel(\"blood sugar\")\n",
        "plt.show()"
      ],
      "metadata": {
        "colab": {
          "base_uri": "https://localhost:8080/",
          "height": 357
        },
        "id": "pxdDYX-hH0Lj",
        "outputId": "5e63f2d6-199c-49bc-954d-30b2267b0658"
      },
      "execution_count": 66,
      "outputs": [
        {
          "output_type": "display_data",
          "data": {
            "text/plain": [
              "<Figure size 750x350 with 1 Axes>"
            ],
            "image/png": "[encoded data removed]"
          },
          "metadata": {}
        }
      ]
    },
    {
      "cell_type": "code",
      "source": [
        "gb_sales2=df_vis.groupby(by=\"heart_disease\")[[\"cholestoral\"]].sum()\n",
        "res_2=gb_sales2.reset_index()\n",
        "plt.pie(x=\"cholestoral\",labels=\"heart_disease\", data=res_2, autopct=\"%.2f %%\")\n",
        "plt.xlabel(\"heart disease with cholesterol\")\n",
        "plt.show()"
      ],
      "metadata": {
        "colab": {
          "base_uri": "https://localhost:8080/",
          "height": 357
        },
        "id": "vDovoaRTWW5D",
        "outputId": "09d573fc-a01e-4dbf-c44c-38da0e35ad7d"
      },
      "execution_count": 79,
      "outputs": [
        {
          "output_type": "display_data",
          "data": {
            "text/plain": [
              "<Figure size 750x350 with 1 Axes>"
            ],
            "image/png": "[encoded data removed]"
          },
          "metadata": {}
        }
      ]
    },
    {
      "cell_type": "code",
      "source": [
        "df_disease=df_eda.pivot_table(index=\"chest_pain_type\", columns=\"fasting_blood_sugar\", values=[\"resting blood pressure\",\"cholestoral\",\"max_hr\"])\n",
        "plt.figure(figsize=(10,8))\n",
        "ax = df_disease.plot.bar(figsize=(18,6))\n",
        "plt.legend(loc='center left', bbox_to_anchor=(1.0, 0.5))\n",
        "for container in ax.containers:\n",
        "    ax.bar_label(container, label_type='center', rotation=90, color='white')\n",
        "plt.show()"
      ],
      "metadata": {
        "colab": {
          "base_uri": "https://localhost:8080/",
          "height": 624
        },
        "id": "MWrQDEGWPBmH",
        "outputId": "96d1c19e-180a-4366-c796-82797c2de0c8"
      },
      "execution_count": 75,
      "outputs": [
        {
          "output_type": "display_data",
          "data": {
            "text/plain": [
              "<Figure size 1000x800 with 0 Axes>"
            ]
          },
          "metadata": {}
        },
        {
          "output_type": "display_data",
          "data": {
            "text/plain": [
              "<Figure size 1800x600 with 1 Axes>"
            ],
            "image/png": "[encoded data removed]"
          },
          "metadata": {}
        }
      ]
    },
    {
      "cell_type": "code",
      "source": [
        "df_disease=df_eda.pivot_table(index=\"sex\", columns=\"fasting_blood_sugar\", values=[\"resting blood pressure\",\"cholestoral\",\"max_hr\"])\n",
        "plt.figure(figsize=(10,8))\n",
        "ax = df_disease.plot.bar(figsize=(18,6))\n",
        "plt.legend(loc='center left', bbox_to_anchor=(1.0, 0.5))\n",
        "for container in ax.containers:\n",
        "    ax.bar_label(container, label_type='center', rotation=90, color='white')\n",
        "plt.show()"
      ],
      "metadata": {
        "colab": {
          "base_uri": "https://localhost:8080/",
          "height": 624
        },
        "id": "1g1dd2IoW8xO",
        "outputId": "c77358c4-d94f-4c41-c45a-303866cf2ac3"
      },
      "execution_count": 80,
      "outputs": [
        {
          "output_type": "display_data",
          "data": {
            "text/plain": [
              "<Figure size 1000x800 with 0 Axes>"
            ]
          },
          "metadata": {}
        },
        {
          "output_type": "display_data",
          "data": {
            "text/plain": [
              "<Figure size 1800x600 with 1 Axes>"
            ],
            "image/png": "[encoded data removed]"
          },
          "metadata": {}
        }
      ]
    },
    {
      "cell_type": "code",
      "source": [
        "sns.lineplot(y = \"ST_depression\",\n",
        "             x = \"slope_of_st\",\n",
        "             data = df_eda)\n",
        "plt.show() "
      ],
      "metadata": {
        "colab": {
          "base_uri": "https://localhost:8080/",
          "height": 357
        },
        "id": "-uena0G6VidP",
        "outputId": "059453e9-1bb6-4c23-f05c-425fefae95ea"
      },
      "execution_count": 82,
      "outputs": [
        {
          "output_type": "display_data",
          "data": {
            "text/plain": [
              "<Figure size 750x350 with 1 Axes>"
            ],
            "image/png": "[encoded data removed]"
          },
          "metadata": {}
        }
      ]
    },
    {
      "cell_type": "code",
      "source": [
        "sns.lineplot(y = \"resting blood pressure\", x = \"age\", data = df_eda)\n",
        "#sns.lineplot(x = \"cholestoral\", y = \"age\", data = df_eda)\n",
        "plt.show()"
      ],
      "metadata": {
        "colab": {
          "base_uri": "https://localhost:8080/",
          "height": 356
        },
        "id": "gOTThHwriU_2",
        "outputId": "1ba088db-a1b8-4848-ef25-f6833984d50d"
      },
      "execution_count": 85,
      "outputs": [
        {
          "output_type": "display_data",
          "data": {
            "text/plain": [
              "<Figure size 750x350 with 1 Axes>"
            ],
            "image/png": "[encoded data removed]"
          },
          "metadata": {}
        }
      ]
    },
    {
      "cell_type": "code",
      "source": [
        "sns.lineplot(y = \"cholestoral\", x = \"age\", data = df_eda)"
      ],
      "metadata": {
        "colab": {
          "base_uri": "https://localhost:8080/",
          "height": 374
        },
        "id": "hQTSxkBujLE_",
        "outputId": "b7fe722a-c93c-4daf-b7a3-f727711a4924"
      },
      "execution_count": 87,
      "outputs": [
        {
          "output_type": "execute_result",
          "data": {
            "text/plain": [
              "<Axes: xlabel='age', ylabel='cholestoral'>"
            ]
          },
          "metadata": {},
          "execution_count": 87
        },
        {
          "output_type": "display_data",
          "data": {
            "text/plain": [
              "<Figure size 750x350 with 1 Axes>"
            ],
            "image/png": "[encoded data removed]"
          },
          "metadata": {}
        }
      ]
    },
    {
      "cell_type": "code",
      "source": [],
      "metadata": {
        "id": "4E0ZhgWijYsS"
      },
      "execution_count": null,
      "outputs": []
    },
    {
      "cell_type": "code",
      "source": [
        "#plotting the plots for outliers\n",
        "from matplotlib import pyplot as plt\n",
        "\n",
        "plt.rcParams[\"figure.figsize\"] = [7.50, 3.50]\n",
        "plt.rcParams[\"figure.autolayout\"] = True\n",
        "\n",
        "plt.subplot(121)\n",
        "plt.bar('names', 'marks', data=df, color='red')\n",
        "\n",
        "plt.subplot(122)\n",
        "df_sorted = df.sort_values('marks')\n",
        "plt.bar('names', 'marks', data=df_sorted, color='orange')\n",
        "\n",
        "plt.show()"
      ],
      "metadata": {
        "colab": {
          "base_uri": "https://localhost:8080/",
          "height": 574
        },
        "id": "8NTdOGqB8k9H",
        "outputId": "8e64afc9-dcfc-4c67-e0b9-5a494f119de0"
      },
      "execution_count": 54,
      "outputs": [
        {
          "output_type": "error",
          "ename": "NameError",
          "evalue": "ignored",
          "traceback": [
            "\u001b[0;31m---------------------------------------------------------------------------\u001b[0m",
            "\u001b[0;31mNameError\u001b[0m                                 Traceback (most recent call last)",
            "\u001b[0;32m<ipython-input-54-db6288ac3047>\u001b[0m in \u001b[0;36m<cell line: 8>\u001b[0;34m()\u001b[0m\n\u001b[1;32m      6\u001b[0m \u001b[0;34m\u001b[0m\u001b[0m\n\u001b[1;32m      7\u001b[0m \u001b[0mplt\u001b[0m\u001b[0;34m.\u001b[0m\u001b[0msubplot\u001b[0m\u001b[0;34m(\u001b[0m\u001b[0;36m121\u001b[0m\u001b[0;34m)\u001b[0m\u001b[0;34m\u001b[0m\u001b[0;34m\u001b[0m\u001b[0m\n\u001b[0;32m----> 8\u001b[0;31m \u001b[0mplt\u001b[0m\u001b[0;34m.\u001b[0m\u001b[0mbar\u001b[0m\u001b[0;34m(\u001b[0m\u001b[0;34m'names'\u001b[0m\u001b[0;34m,\u001b[0m \u001b[0;34m'marks'\u001b[0m\u001b[0;34m,\u001b[0m \u001b[0mdata\u001b[0m\u001b[0;34m=\u001b[0m\u001b[0mdf\u001b[0m\u001b[0;34m,\u001b[0m \u001b[0mcolor\u001b[0m\u001b[0;34m=\u001b[0m\u001b[0;34m'red'\u001b[0m\u001b[0;34m)\u001b[0m\u001b[0;34m\u001b[0m\u001b[0;34m\u001b[0m\u001b[0m\n\u001b[0m\u001b[1;32m      9\u001b[0m \u001b[0;34m\u001b[0m\u001b[0m\n\u001b[1;32m     10\u001b[0m \u001b[0mplt\u001b[0m\u001b[0;34m.\u001b[0m\u001b[0msubplot\u001b[0m\u001b[0;34m(\u001b[0m\u001b[0;36m122\u001b[0m\u001b[0;34m)\u001b[0m\u001b[0;34m\u001b[0m\u001b[0;34m\u001b[0m\u001b[0m\n",
            "\u001b[0;31mNameError\u001b[0m: name 'df' is not defined"
          ]
        },
        {
          "output_type": "display_data",
          "data": {
            "text/plain": [
              "<Figure size 750x350 with 1 Axes>"
            ],
            "image/png": "[encoded data removed]"
          },
          "metadata": {}
        }
      ]
    },
    {
      "cell_type": "markdown",
      "source": [
        "## Data Visualization"
      ],
      "metadata": {
        "id": "FtY6hsfsZPL4"
      }
    },
    {
      "cell_type": "code",
      "source": [],
      "metadata": {
        "id": "POG_RBsMZJT0"
      },
      "execution_count": null,
      "outputs": []
    }
  ]
}