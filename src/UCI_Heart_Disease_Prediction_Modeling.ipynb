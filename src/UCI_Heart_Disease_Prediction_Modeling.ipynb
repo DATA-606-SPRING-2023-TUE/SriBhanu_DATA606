{
  "cells": [
    {
      "cell_type": "markdown",
      "metadata": {
        "id": "view-in-github",
        "colab_type": "text"
      },
      "source": [
        "<a href=\"https://colab.research.google.com/github/GunduSriBhanu/SriBhanu_DATA606/blob/main/src/UCI_Heart_Disease_Prediction_Modeling.ipynb\" target=\"_parent\"><img src=\"https://colab.research.google.com/assets/colab-badge.svg\" alt=\"Open In Colab\"/></a>"
      ]
    },
    {
      "cell_type": "markdown",
      "id": "f0ab4e09",
      "metadata": {
        "id": "f0ab4e09"
      },
      "source": [
        "## Importing Libraries"
      ]
    },
    {
      "cell_type": "markdown",
      "id": "4a4d5a51",
      "metadata": {
        "id": "4a4d5a51"
      },
      "source": [
        "Importing necessary libraries for the process of Modeling. "
      ]
    },
    {
      "cell_type": "code",
      "execution_count": 1,
      "id": "da4c6a15",
      "metadata": {
        "id": "da4c6a15"
      },
      "outputs": [],
      "source": [
        "#importing libraries for data processing\n",
        "import pandas as pd\n",
        "import numpy as np\n",
        "import datetime\n",
        "import missingno as msno\n",
        "\n",
        "#importing libraries for data visualization\n",
        "import seaborn as sns\n",
        "import matplotlib.pyplot as plt\n",
        "%matplotlib inline\n",
        "\n",
        "#importing libraries for feature processing\n",
        "from sklearn.pipeline import Pipeline\n",
        "from sklearn.preprocessing import StandardScaler, LabelEncoder\n",
        "from sklearn.impute import SimpleImputer\n",
        "from sklearn.preprocessing import OneHotEncoder\n",
        "from sklearn.model_selection import train_test_split\n",
        "from sklearn.compose import ColumnTransformer\n",
        "\n",
        "#Performance metrics import\n",
        "from sklearn.metrics import accuracy_score, recall_score, f1_score, roc_auc_score,precision_score\n",
        "from sklearn.metrics import confusion_matrix\n",
        "from sklearn.metrics import log_loss\n",
        "from sklearn.metrics import roc_curve\n",
        "from sklearn.metrics import classification_report\n",
        "from sklearn.metrics import ConfusionMatrixDisplay\n",
        "from sklearn.linear_model import LogisticRegression\n",
        "from sklearn.tree import DecisionTreeClassifier\n",
        "from sklearn.neighbors import KNeighborsClassifier\n",
        "from sklearn.ensemble import RandomForestClassifier\n",
        "from sklearn.neural_network import MLPClassifier\n",
        "\n",
        "#Hyperparameters tuning imports\n",
        "from sklearn.model_selection import GridSearchCV\n",
        "\n",
        "#Cross validation imports\n",
        "from sklearn.model_selection import cross_val_score\n"
      ]
    },
    {
      "cell_type": "code",
      "execution_count": 2,
      "id": "3d15d357",
      "metadata": {
        "id": "3d15d357"
      },
      "outputs": [],
      "source": [
        "#ignoring warnings which are irrelavant.\n",
        "import warnings\n",
        "warnings.filterwarnings(\"ignore\")"
      ]
    },
    {
      "cell_type": "code",
      "execution_count": 3,
      "id": "54832adf",
      "metadata": {
        "id": "54832adf"
      },
      "outputs": [],
      "source": [
        "# Display Pipeline\n",
        "from sklearn import set_config\n",
        "set_config(display='diagram')"
      ]
    },
    {
      "cell_type": "code",
      "execution_count": 4,
      "id": "2a1c3429",
      "metadata": {
        "id": "2a1c3429"
      },
      "outputs": [],
      "source": [
        "#Ensemble imports    \n",
        "from sklearn.ensemble import VotingClassifier"
      ]
    },
    {
      "cell_type": "markdown",
      "id": "86497a5f",
      "metadata": {
        "id": "86497a5f"
      },
      "source": [
        "## Loading Dataset of Chicago Crashes  "
      ]
    },
    {
      "cell_type": "markdown",
      "id": "98719060",
      "metadata": {
        "id": "98719060"
      },
      "source": [
        "Reading csv data of crashes in 2022 from Chicago data portal"
      ]
    },
    {
      "cell_type": "markdown",
      "id": "2a65a27e",
      "metadata": {
        "id": "2a65a27e"
      },
      "source": [
        "### Data Cleaning"
      ]
    },
    {
      "cell_type": "code",
      "execution_count": 5,
      "id": "8131f6f6",
      "metadata": {
        "id": "8131f6f6"
      },
      "outputs": [],
      "source": [
        "#Loading the data in the format of csv file using pandas library\n",
        "df = pd.read_csv('https://raw.githubusercontent.com/GunduSriBhanu/SriBhanu_DATA606/main/data/ml_uci_heart.csv', low_memory=False)"
      ]
    },
    {
      "cell_type": "code",
      "execution_count": 6,
      "id": "f0d7e6f5",
      "metadata": {
        "id": "f0d7e6f5",
        "colab": {
          "base_uri": "https://localhost:8080/"
        },
        "outputId": "e4f39cfe-81f7-454f-8dbb-12e74caeea25"
      },
      "outputs": [
        {
          "output_type": "stream",
          "name": "stdout",
          "text": [
            "Rows: 899 | Columns: 16\n"
          ]
        }
      ],
      "source": [
        "#printing the shape of dataset of 899 rows with 16 ccolumns\n",
        "print(f'Rows: {df.shape[0]:,} | Columns: {df.shape[1]:,}')"
      ]
    },
    {
      "cell_type": "code",
      "execution_count": 7,
      "id": "03cafc7c",
      "metadata": {
        "id": "03cafc7c",
        "colab": {
          "base_uri": "https://localhost:8080/"
        },
        "outputId": "879fc7ac-7fa8-48c4-9d74-abdc20a550fa"
      },
      "outputs": [
        {
          "output_type": "stream",
          "name": "stdout",
          "text": [
            "<class 'pandas.core.frame.DataFrame'>\n",
            "RangeIndex: 899 entries, 0 to 898\n",
            "Data columns (total 16 columns):\n",
            " #   Column                  Non-Null Count  Dtype  \n",
            "---  ------                  --------------  -----  \n",
            " 0   Unnamed: 0              899 non-null    int64  \n",
            " 1   age                     899 non-null    float64\n",
            " 2   sex                     899 non-null    object \n",
            " 3   chest_pain_type         899 non-null    object \n",
            " 4   resting blood pressure  899 non-null    float64\n",
            " 5   cholestoral             899 non-null    float64\n",
            " 6   fasting_blood_sugar     899 non-null    object \n",
            " 7   ekg_results             899 non-null    object \n",
            " 8   max_hr                  899 non-null    float64\n",
            " 9   exercise_angina         899 non-null    object \n",
            " 10  ST_depression           899 non-null    float64\n",
            " 11  slope_of_st             899 non-null    object \n",
            " 12  vessels                 899 non-null    float64\n",
            " 13  thallium                899 non-null    object \n",
            " 14  heart_disease           899 non-null    object \n",
            " 15  country                 899 non-null    object \n",
            "dtypes: float64(6), int64(1), object(9)\n",
            "memory usage: 112.5+ KB\n"
          ]
        }
      ],
      "source": [
        "df.info()"
      ]
    },
    {
      "cell_type": "markdown",
      "id": "cf0da2d2",
      "metadata": {
        "id": "cf0da2d2"
      },
      "source": [
        "Distribution of target variable"
      ]
    },
    {
      "cell_type": "code",
      "execution_count": 8,
      "id": "2d071366",
      "metadata": {
        "id": "2d071366",
        "colab": {
          "base_uri": "https://localhost:8080/",
          "height": 447
        },
        "outputId": "afbe96b4-f692-4fed-ee47-c9bcf8714cc6"
      },
      "outputs": [
        {
          "output_type": "execute_result",
          "data": {
            "text/plain": [
              "<Axes: >"
            ]
          },
          "metadata": {},
          "execution_count": 8
        },
        {
          "output_type": "display_data",
          "data": {
            "text/plain": [
              "<Figure size 640x480 with 1 Axes>"
            ],
            "image/png": "[encoded data removed]"
          },
          "metadata": {}
        }
      ],
      "source": [
        "#choosing target variable\n",
        "target = df['heart_disease']\n",
        "df.heart_disease.hist()"
      ]
    },
    {
      "cell_type": "code",
      "execution_count": 9,
      "id": "fa27bd73",
      "metadata": {
        "colab": {
          "base_uri": "https://localhost:8080/"
        },
        "id": "fa27bd73",
        "outputId": "f8dd1d51-3b9c-4e77-de60-40825e7209c5"
      },
      "outputs": [
        {
          "output_type": "execute_result",
          "data": {
            "text/plain": [
              "Absence     515\n",
              "Presence    384\n",
              "Name: heart_disease, dtype: int64"
            ]
          },
          "metadata": {},
          "execution_count": 9
        }
      ],
      "source": [
        "df.heart_disease.value_counts()"
      ]
    },
    {
      "cell_type": "markdown",
      "id": "769c19d3",
      "metadata": {
        "id": "769c19d3"
      },
      "source": [
        "Class is imbalanced and this dataset seems to have the issues of bias and variance, hence choosing recall or other parameters for modeling than accuracy."
      ]
    },
    {
      "cell_type": "code",
      "source": [
        "#Dropping unnecessary column\n",
        "df=df.drop(columns=['Unnamed: 0'])"
      ],
      "metadata": {
        "id": "UDbAjglef7rB"
      },
      "id": "UDbAjglef7rB",
      "execution_count": 10,
      "outputs": []
    },
    {
      "cell_type": "code",
      "execution_count": 11,
      "id": "12c3da45",
      "metadata": {
        "id": "12c3da45",
        "colab": {
          "base_uri": "https://localhost:8080/"
        },
        "outputId": "051e16f3-79a8-4270-af67-d853c462c127"
      },
      "outputs": [
        {
          "output_type": "stream",
          "name": "stdout",
          "text": [
            "Numeric columns : \n",
            " Index(['age', 'resting blood pressure', 'cholestoral', 'max_hr',\n",
            "       'ST_depression', 'vessels'],\n",
            "      dtype='object')\n",
            "\n",
            "Category columns : \n",
            " Index(['sex', 'chest_pain_type', 'fasting_blood_sugar', 'ekg_results',\n",
            "       'exercise_angina', 'slope_of_st', 'thallium', 'country'],\n",
            "      dtype='object')\n"
          ]
        }
      ],
      "source": [
        "#numerical and categorical variables for modeling\n",
        "numeric_cols = df.select_dtypes(include = [np.number])\n",
        "category_cols = df.drop(columns = 'heart_disease').select_dtypes(include = 'O')\n",
        "#category_cols = category_cols.drop(columns = ['country','thallium','slope_of_st'])\n",
        "print(\"Numeric columns : \\n\",numeric_cols.columns)\n",
        "print(\"\\nCategory columns : \\n\",category_cols.columns)\n",
        "\n",
        "numerical_vars = numeric_cols.columns.tolist()\n",
        "categorical_Vars = category_cols.columns.tolist()"
      ]
    },
    {
      "cell_type": "markdown",
      "id": "474f5701",
      "metadata": {
        "id": "474f5701"
      },
      "source": [
        "splitting the data with 20% data for test and random state of 124."
      ]
    },
    {
      "cell_type": "code",
      "execution_count": 12,
      "id": "6575a131",
      "metadata": {
        "id": "6575a131",
        "colab": {
          "base_uri": "https://localhost:8080/"
        },
        "outputId": "bac078ab-afff-4d0c-acd3-717d09cbd91e"
      },
      "outputs": [
        {
          "output_type": "stream",
          "name": "stdout",
          "text": [
            "Records in training data: 719\n",
            "Records in test data: 180\n",
            "\n",
            "Features:\n",
            "age\n",
            "resting blood pressure\n",
            "cholestoral\n",
            "max_hr\n",
            "ST_depression\n",
            "vessels\n",
            "sex\n",
            "chest_pain_type\n",
            "fasting_blood_sugar\n",
            "ekg_results\n",
            "exercise_angina\n",
            "slope_of_st\n",
            "thallium\n",
            "country\n"
          ]
        }
      ],
      "source": [
        "#splitting dataset into train and test\n",
        "cat_features = [x for x in category_cols.columns if x != 'heart_disease']\n",
        "\n",
        "features = numerical_vars + cat_features\n",
        "X = df[features]\n",
        "y = df['heart_disease']\n",
        "\n",
        "# split the data to training and test datasets with 20% of data for test (test_size = 0.2) and random state of 124 (random_state = 124)\n",
        "X_train, X_test, y_train, y_test = train_test_split(X, y, test_size=0.2, random_state=124)\n",
        "\n",
        "print(f'Records in training data: {X_train.shape[0]:,}')\n",
        "print(f'Records in test data: {X_test.shape[0]:,}')\n",
        "print('\\nFeatures:')\n",
        "print(*X_train.columns, sep='\\n')"
      ]
    },
    {
      "cell_type": "markdown",
      "id": "d88165d5",
      "metadata": {
        "id": "d88165d5"
      },
      "source": [
        "Imputing missing data with mean and standardizing the data "
      ]
    },
    {
      "cell_type": "code",
      "execution_count": 13,
      "id": "0b9c75f0",
      "metadata": {
        "id": "0b9c75f0",
        "colab": {
          "base_uri": "https://localhost:8080/"
        },
        "outputId": "cb8be722-ef36-4b6f-cb44-752ccec938ec"
      },
      "outputs": [
        {
          "output_type": "execute_result",
          "data": {
            "text/plain": [
              "(719, 6)"
            ]
          },
          "metadata": {},
          "execution_count": 13
        }
      ],
      "source": [
        "#created a pipeline to process numerical data\n",
        "num_pipeline = Pipeline([('impute_missing', SimpleImputer(strategy='mean')),\n",
        "                           ('standardize_num', StandardScaler())\n",
        "                        ])\n",
        "\n",
        "#pipelines on the training data for the numerical features that expected after dropping columns that risking multicolinearity.\n",
        "X_train_num = num_pipeline.fit_transform(X_train[numerical_vars])\n",
        "\n",
        "X_train_num.shape"
      ]
    },
    {
      "cell_type": "markdown",
      "id": "b8241433",
      "metadata": {
        "id": "b8241433"
      },
      "source": [
        "imputing the categorical data with most frequent values and encoding with binary one hot encoding "
      ]
    },
    {
      "cell_type": "code",
      "execution_count": 14,
      "id": "3b58c4da",
      "metadata": {
        "id": "3b58c4da",
        "colab": {
          "base_uri": "https://localhost:8080/"
        },
        "outputId": "284c3e5d-d908-41c5-fa30-4beb6b652893"
      },
      "outputs": [
        {
          "output_type": "stream",
          "name": "stdout",
          "text": [
            "(719, 22)\n"
          ]
        }
      ],
      "source": [
        "#created a pipeline for the categorical data\n",
        "from sklearn.preprocessing import LabelEncoder\n",
        "cat_pipeline = Pipeline([('impute_missing_cats', SimpleImputer(strategy='most_frequent')),\n",
        "                          ('create_dummies_cats', OneHotEncoder(handle_unknown = 'ignore', sparse = False))])\n",
        "\n",
        "#pipeline is fitted for the data after applying fit_transform on training data\n",
        "X_train_cat = cat_pipeline.fit_transform(X_train[cat_features])\n",
        "\n",
        "X_train_cat\n",
        "print(X_train_cat.shape)\n"
      ]
    },
    {
      "cell_type": "markdown",
      "id": "379bb593",
      "metadata": {
        "id": "379bb593"
      },
      "source": [
        "Transforming the data into the pipeline and ensuring the shape is retained "
      ]
    },
    {
      "cell_type": "code",
      "execution_count": 15,
      "id": "78b361e2",
      "metadata": {
        "id": "78b361e2",
        "scrolled": true,
        "colab": {
          "base_uri": "https://localhost:8080/"
        },
        "outputId": "23274d03-cff7-4aec-a94c-dd3e33e44a1d"
      },
      "outputs": [
        {
          "output_type": "stream",
          "name": "stdout",
          "text": [
            "(719, 28)\n"
          ]
        }
      ],
      "source": [
        "#created a pipeline that combined numerical and categorical data.\n",
        "processing_pipeline = ColumnTransformer(transformers=[('proc_numeric', num_pipeline, numerical_vars),\n",
        "                                                      ('create_dummies', cat_pipeline, cat_features)])\n",
        "#print(processing_pipeline)\n",
        "print(processing_pipeline.fit_transform(X_train).shape)\n",
        "\n",
        "data = processing_pipeline.fit_transform(X_train)"
      ]
    },
    {
      "cell_type": "markdown",
      "id": "81f49562",
      "metadata": {
        "id": "81f49562"
      },
      "source": [
        "numerical columns after fit transform had 6 columns with categorical 84 columns and finally after transforming with 90 columns ensuring data is retained without any loss"
      ]
    },
    {
      "cell_type": "markdown",
      "id": "c9089822",
      "metadata": {
        "id": "c9089822"
      },
      "source": [
        "## Logistic Regression"
      ]
    },
    {
      "cell_type": "code",
      "execution_count": 16,
      "id": "c7bad5e8",
      "metadata": {
        "id": "c7bad5e8",
        "colab": {
          "base_uri": "https://localhost:8080/",
          "height": 228
        },
        "outputId": "db363d03-ab72-4b3e-c6ee-81ed7fe563ea"
      },
      "outputs": [
        {
          "output_type": "execute_result",
          "data": {
            "text/plain": [
              "Pipeline(steps=[('data_processing',\n",
              "                 ColumnTransformer(transformers=[('proc_numeric',\n",
              "                                                  Pipeline(steps=[('impute_missing',\n",
              "                                                                   SimpleImputer()),\n",
              "                                                                  ('standardize_num',\n",
              "                                                                   StandardScaler())]),\n",
              "                                                  ['age',\n",
              "                                                   'resting blood pressure',\n",
              "                                                   'cholestoral', 'max_hr',\n",
              "                                                   'ST_depression',\n",
              "                                                   'vessels']),\n",
              "                                                 ('create_dummies',\n",
              "                                                  Pipeline(steps=[('impute_missing_cats',\n",
              "                                                                   SimpleImputer(strategy='most_frequent')),\n",
              "                                                                  ('create_dummies_cats',\n",
              "                                                                   OneHotEncoder(handle_unknown='ignore',\n",
              "                                                                                 sparse=False,\n",
              "                                                                                 sparse_output=False))]),\n",
              "                                                  ['sex', 'chest_pain_type',\n",
              "                                                   'fasting_blood_sugar',\n",
              "                                                   'ekg_results',\n",
              "                                                   'exercise_angina',\n",
              "                                                   'slope_of_st', 'thallium',\n",
              "                                                   'country'])])),\n",
              "                ('logreg', LogisticRegression())])"
            ],
            "text/html": [
              "<style>#sk-container-id-1 {color: black;background-color: white;}#sk-container-id-1 pre{padding: 0;}#sk-container-id-1 div.sk-toggleable {background-color: white;}#sk-container-id-1 label.sk-toggleable__label {cursor: pointer;display: block;width: 100%;margin-bottom: 0;padding: 0.3em;box-sizing: border-box;text-align: center;}#sk-container-id-1 label.sk-toggleable__label-arrow:before {content: \"▸\";float: left;margin-right: 0.25em;color: #696969;}#sk-container-id-1 label.sk-toggleable__label-arrow:hover:before {color: black;}#sk-container-id-1 div.sk-estimator:hover label.sk-toggleable__label-arrow:before {color: black;}#sk-container-id-1 div.sk-toggleable__content {max-height: 0;max-width: 0;overflow: hidden;text-align: left;background-color: #f0f8ff;}#sk-container-id-1 div.sk-toggleable__content pre {margin: 0.2em;color: black;border-radius: 0.25em;background-color: #f0f8ff;}#sk-container-id-1 input.sk-toggleable__control:checked~div.sk-toggleable__content {max-height: 200px;max-width: 100%;overflow: auto;}#sk-container-id-1 input.sk-toggleable__control:checked~label.sk-toggleable__label-arrow:before {content: \"▾\";}#sk-container-id-1 div.sk-estimator input.sk-toggleable__control:checked~label.sk-toggleable__label {background-color: #d4ebff;}#sk-container-id-1 div.sk-label input.sk-toggleable__control:checked~label.sk-toggleable__label {background-color: #d4ebff;}#sk-container-id-1 input.sk-hidden--visually {border: 0;clip: rect(1px 1px 1px 1px);clip: rect(1px, 1px, 1px, 1px);height: 1px;margin: -1px;overflow: hidden;padding: 0;position: absolute;width: 1px;}#sk-container-id-1 div.sk-estimator {font-family: monospace;background-color: #f0f8ff;border: 1px dotted black;border-radius: 0.25em;box-sizing: border-box;margin-bottom: 0.5em;}#sk-container-id-1 div.sk-estimator:hover {background-color: #d4ebff;}#sk-container-id-1 div.sk-parallel-item::after {content: \"\";width: 100%;border-bottom: 1px solid gray;flex-grow: 1;}#sk-container-id-1 div.sk-label:hover label.sk-toggleable__label {background-color: #d4ebff;}#sk-container-id-1 div.sk-serial::before {content: \"\";position: absolute;border-left: 1px solid gray;box-sizing: border-box;top: 0;bottom: 0;left: 50%;z-index: 0;}#sk-container-id-1 div.sk-serial {display: flex;flex-direction: column;align-items: center;background-color: white;padding-right: 0.2em;padding-left: 0.2em;position: relative;}#sk-container-id-1 div.sk-item {position: relative;z-index: 1;}#sk-container-id-1 div.sk-parallel {display: flex;align-items: stretch;justify-content: center;background-color: white;position: relative;}#sk-container-id-1 div.sk-item::before, #sk-container-id-1 div.sk-parallel-item::before {content: \"\";position: absolute;border-left: 1px solid gray;box-sizing: border-box;top: 0;bottom: 0;left: 50%;z-index: -1;}#sk-container-id-1 div.sk-parallel-item {display: flex;flex-direction: column;z-index: 1;position: relative;background-color: white;}#sk-container-id-1 div.sk-parallel-item:first-child::after {align-self: flex-end;width: 50%;}#sk-container-id-1 div.sk-parallel-item:last-child::after {align-self: flex-start;width: 50%;}#sk-container-id-1 div.sk-parallel-item:only-child::after {width: 0;}#sk-container-id-1 div.sk-dashed-wrapped {border: 1px dashed gray;margin: 0 0.4em 0.5em 0.4em;box-sizing: border-box;padding-bottom: 0.4em;background-color: white;}#sk-container-id-1 div.sk-label label {font-family: monospace;font-weight: bold;display: inline-block;line-height: 1.2em;}#sk-container-id-1 div.sk-label-container {text-align: center;}#sk-container-id-1 div.sk-container {/* jupyter's `normalize.less` sets `[hidden] { display: none; }` but bootstrap.min.css set `[hidden] { display: none !important; }` so we also need the `!important` here to be able to override the default hidden behavior on the sphinx rendered scikit-learn.org. See: https://github.com/scikit-learn/scikit-learn/issues/21755 */display: inline-block !important;position: relative;}#sk-container-id-1 div.sk-text-repr-fallback {display: none;}</style><div id=\"sk-container-id-1\" class=\"sk-top-container\"><div class=\"sk-text-repr-fallback\"><pre>Pipeline(steps=[(&#x27;data_processing&#x27;,\n",
              "                 ColumnTransformer(transformers=[(&#x27;proc_numeric&#x27;,\n",
              "                                                  Pipeline(steps=[(&#x27;impute_missing&#x27;,\n",
              "                                                                   SimpleImputer()),\n",
              "                                                                  (&#x27;standardize_num&#x27;,\n",
              "                                                                   StandardScaler())]),\n",
              "                                                  [&#x27;age&#x27;,\n",
              "                                                   &#x27;resting blood pressure&#x27;,\n",
              "                                                   &#x27;cholestoral&#x27;, &#x27;max_hr&#x27;,\n",
              "                                                   &#x27;ST_depression&#x27;,\n",
              "                                                   &#x27;vessels&#x27;]),\n",
              "                                                 (&#x27;create_dummies&#x27;,\n",
              "                                                  Pipeline(steps=[(&#x27;impute_missing_cats&#x27;,\n",
              "                                                                   SimpleImputer(strategy=&#x27;most_frequent&#x27;)),\n",
              "                                                                  (&#x27;create_dummies_cats&#x27;,\n",
              "                                                                   OneHotEncoder(handle_unknown=&#x27;ignore&#x27;,\n",
              "                                                                                 sparse=False,\n",
              "                                                                                 sparse_output=False))]),\n",
              "                                                  [&#x27;sex&#x27;, &#x27;chest_pain_type&#x27;,\n",
              "                                                   &#x27;fasting_blood_sugar&#x27;,\n",
              "                                                   &#x27;ekg_results&#x27;,\n",
              "                                                   &#x27;exercise_angina&#x27;,\n",
              "                                                   &#x27;slope_of_st&#x27;, &#x27;thallium&#x27;,\n",
              "                                                   &#x27;country&#x27;])])),\n",
              "                (&#x27;logreg&#x27;, LogisticRegression())])</pre><b>In a Jupyter environment, please rerun this cell to show the HTML representation or trust the notebook. <br />On GitHub, the HTML representation is unable to render, please try loading this page with nbviewer.org.</b></div><div class=\"sk-container\" hidden><div class=\"sk-item sk-dashed-wrapped\"><div class=\"sk-label-container\"><div class=\"sk-label sk-toggleable\"><input class=\"sk-toggleable__control sk-hidden--visually\" id=\"sk-estimator-id-1\" type=\"checkbox\" ><label for=\"sk-estimator-id-1\" class=\"sk-toggleable__label sk-toggleable__label-arrow\">Pipeline</label><div class=\"sk-toggleable__content\"><pre>Pipeline(steps=[(&#x27;data_processing&#x27;,\n",
              "                 ColumnTransformer(transformers=[(&#x27;proc_numeric&#x27;,\n",
              "                                                  Pipeline(steps=[(&#x27;impute_missing&#x27;,\n",
              "                                                                   SimpleImputer()),\n",
              "                                                                  (&#x27;standardize_num&#x27;,\n",
              "                                                                   StandardScaler())]),\n",
              "                                                  [&#x27;age&#x27;,\n",
              "                                                   &#x27;resting blood pressure&#x27;,\n",
              "                                                   &#x27;cholestoral&#x27;, &#x27;max_hr&#x27;,\n",
              "                                                   &#x27;ST_depression&#x27;,\n",
              "                                                   &#x27;vessels&#x27;]),\n",
              "                                                 (&#x27;create_dummies&#x27;,\n",
              "                                                  Pipeline(steps=[(&#x27;impute_missing_cats&#x27;,\n",
              "                                                                   SimpleImputer(strategy=&#x27;most_frequent&#x27;)),\n",
              "                                                                  (&#x27;create_dummies_cats&#x27;,\n",
              "                                                                   OneHotEncoder(handle_unknown=&#x27;ignore&#x27;,\n",
              "                                                                                 sparse=False,\n",
              "                                                                                 sparse_output=False))]),\n",
              "                                                  [&#x27;sex&#x27;, &#x27;chest_pain_type&#x27;,\n",
              "                                                   &#x27;fasting_blood_sugar&#x27;,\n",
              "                                                   &#x27;ekg_results&#x27;,\n",
              "                                                   &#x27;exercise_angina&#x27;,\n",
              "                                                   &#x27;slope_of_st&#x27;, &#x27;thallium&#x27;,\n",
              "                                                   &#x27;country&#x27;])])),\n",
              "                (&#x27;logreg&#x27;, LogisticRegression())])</pre></div></div></div><div class=\"sk-serial\"><div class=\"sk-item sk-dashed-wrapped\"><div class=\"sk-label-container\"><div class=\"sk-label sk-toggleable\"><input class=\"sk-toggleable__control sk-hidden--visually\" id=\"sk-estimator-id-2\" type=\"checkbox\" ><label for=\"sk-estimator-id-2\" class=\"sk-toggleable__label sk-toggleable__label-arrow\">data_processing: ColumnTransformer</label><div class=\"sk-toggleable__content\"><pre>ColumnTransformer(transformers=[(&#x27;proc_numeric&#x27;,\n",
              "                                 Pipeline(steps=[(&#x27;impute_missing&#x27;,\n",
              "                                                  SimpleImputer()),\n",
              "                                                 (&#x27;standardize_num&#x27;,\n",
              "                                                  StandardScaler())]),\n",
              "                                 [&#x27;age&#x27;, &#x27;resting blood pressure&#x27;,\n",
              "                                  &#x27;cholestoral&#x27;, &#x27;max_hr&#x27;, &#x27;ST_depression&#x27;,\n",
              "                                  &#x27;vessels&#x27;]),\n",
              "                                (&#x27;create_dummies&#x27;,\n",
              "                                 Pipeline(steps=[(&#x27;impute_missing_cats&#x27;,\n",
              "                                                  SimpleImputer(strategy=&#x27;most_frequent&#x27;)),\n",
              "                                                 (&#x27;create_dummies_cats&#x27;,\n",
              "                                                  OneHotEncoder(handle_unknown=&#x27;ignore&#x27;,\n",
              "                                                                sparse=False,\n",
              "                                                                sparse_output=False))]),\n",
              "                                 [&#x27;sex&#x27;, &#x27;chest_pain_type&#x27;,\n",
              "                                  &#x27;fasting_blood_sugar&#x27;, &#x27;ekg_results&#x27;,\n",
              "                                  &#x27;exercise_angina&#x27;, &#x27;slope_of_st&#x27;, &#x27;thallium&#x27;,\n",
              "                                  &#x27;country&#x27;])])</pre></div></div></div><div class=\"sk-parallel\"><div class=\"sk-parallel-item\"><div class=\"sk-item\"><div class=\"sk-label-container\"><div class=\"sk-label sk-toggleable\"><input class=\"sk-toggleable__control sk-hidden--visually\" id=\"sk-estimator-id-3\" type=\"checkbox\" ><label for=\"sk-estimator-id-3\" class=\"sk-toggleable__label sk-toggleable__label-arrow\">proc_numeric</label><div class=\"sk-toggleable__content\"><pre>[&#x27;age&#x27;, &#x27;resting blood pressure&#x27;, &#x27;cholestoral&#x27;, &#x27;max_hr&#x27;, &#x27;ST_depression&#x27;, &#x27;vessels&#x27;]</pre></div></div></div><div class=\"sk-serial\"><div class=\"sk-item\"><div class=\"sk-serial\"><div class=\"sk-item\"><div class=\"sk-estimator sk-toggleable\"><input class=\"sk-toggleable__control sk-hidden--visually\" id=\"sk-estimator-id-4\" type=\"checkbox\" ><label for=\"sk-estimator-id-4\" class=\"sk-toggleable__label sk-toggleable__label-arrow\">SimpleImputer</label><div class=\"sk-toggleable__content\"><pre>SimpleImputer()</pre></div></div></div><div class=\"sk-item\"><div class=\"sk-estimator sk-toggleable\"><input class=\"sk-toggleable__control sk-hidden--visually\" id=\"sk-estimator-id-5\" type=\"checkbox\" ><label for=\"sk-estimator-id-5\" class=\"sk-toggleable__label sk-toggleable__label-arrow\">StandardScaler</label><div class=\"sk-toggleable__content\"><pre>StandardScaler()</pre></div></div></div></div></div></div></div></div><div class=\"sk-parallel-item\"><div class=\"sk-item\"><div class=\"sk-label-container\"><div class=\"sk-label sk-toggleable\"><input class=\"sk-toggleable__control sk-hidden--visually\" id=\"sk-estimator-id-6\" type=\"checkbox\" ><label for=\"sk-estimator-id-6\" class=\"sk-toggleable__label sk-toggleable__label-arrow\">create_dummies</label><div class=\"sk-toggleable__content\"><pre>[&#x27;sex&#x27;, &#x27;chest_pain_type&#x27;, &#x27;fasting_blood_sugar&#x27;, &#x27;ekg_results&#x27;, &#x27;exercise_angina&#x27;, &#x27;slope_of_st&#x27;, &#x27;thallium&#x27;, &#x27;country&#x27;]</pre></div></div></div><div class=\"sk-serial\"><div class=\"sk-item\"><div class=\"sk-serial\"><div class=\"sk-item\"><div class=\"sk-estimator sk-toggleable\"><input class=\"sk-toggleable__control sk-hidden--visually\" id=\"sk-estimator-id-7\" type=\"checkbox\" ><label for=\"sk-estimator-id-7\" class=\"sk-toggleable__label sk-toggleable__label-arrow\">SimpleImputer</label><div class=\"sk-toggleable__content\"><pre>SimpleImputer(strategy=&#x27;most_frequent&#x27;)</pre></div></div></div><div class=\"sk-item\"><div class=\"sk-estimator sk-toggleable\"><input class=\"sk-toggleable__control sk-hidden--visually\" id=\"sk-estimator-id-8\" type=\"checkbox\" ><label for=\"sk-estimator-id-8\" class=\"sk-toggleable__label sk-toggleable__label-arrow\">OneHotEncoder</label><div class=\"sk-toggleable__content\"><pre>OneHotEncoder(handle_unknown=&#x27;ignore&#x27;, sparse=False, sparse_output=False)</pre></div></div></div></div></div></div></div></div></div></div><div class=\"sk-item\"><div class=\"sk-estimator sk-toggleable\"><input class=\"sk-toggleable__control sk-hidden--visually\" id=\"sk-estimator-id-9\" type=\"checkbox\" ><label for=\"sk-estimator-id-9\" class=\"sk-toggleable__label sk-toggleable__label-arrow\">LogisticRegression</label><div class=\"sk-toggleable__content\"><pre>LogisticRegression()</pre></div></div></div></div></div></div></div>"
            ]
          },
          "metadata": {},
          "execution_count": 16
        }
      ],
      "source": [
        "# modeling pipeline to the logistic regression\n",
        "logreg_pipeline = Pipeline([\n",
        "        ('data_processing', processing_pipeline),\n",
        "        ('logreg', LogisticRegression())]\n",
        "    )\n",
        "\n",
        "\n",
        "# Fitting the pipeline for logistic regression\n",
        "logreg_pipeline.fit(X_train, y_train)"
      ]
    },
    {
      "cell_type": "code",
      "execution_count": 17,
      "id": "848c3506",
      "metadata": {
        "id": "848c3506"
      },
      "outputs": [],
      "source": [
        "def plot_confusion_matrix(cm, classes=None, title='Confusion matrix'):\n",
        "    \"\"\"Plots a confusion matrix.\"\"\"\n",
        "    if classes is not None:\n",
        "        sns.heatmap(cm, cmap=\"YlGnBu\", xticklabels=classes, yticklabels=classes, vmin=0., vmax=1., annot=True, annot_kws={'size':50})\n",
        "    else:\n",
        "        sns.heatmap(cm, vmin=0., vmax=1.)\n",
        "    plt.title(title)\n",
        "    plt.ylabel('True label')\n",
        "    plt.xlabel('Predicted label')"
      ]
    },
    {
      "cell_type": "markdown",
      "id": "e600d1b7",
      "metadata": {
        "id": "e600d1b7"
      },
      "source": [
        "#### Classification report"
      ]
    },
    {
      "cell_type": "code",
      "execution_count": 18,
      "id": "dd34e68c",
      "metadata": {
        "id": "dd34e68c",
        "colab": {
          "base_uri": "https://localhost:8080/"
        },
        "outputId": "4451c44a-fa1b-4f43-cc6c-5169a2b9b938"
      },
      "outputs": [
        {
          "output_type": "stream",
          "name": "stdout",
          "text": [
            "----------------------------------------------------------------------------\n",
            "                              TESTING DATA                                 \n",
            "----------------------------------------------------------------------------\n",
            "              precision    recall  f1-score   support\n",
            "\n",
            "     Absence       0.96      0.84      0.90       107\n",
            "    Presence       0.80      0.95      0.87        73\n",
            "\n",
            "    accuracy                           0.88       180\n",
            "   macro avg       0.88      0.89      0.88       180\n",
            "weighted avg       0.89      0.88      0.88       180\n",
            "\n",
            "----------------------------------------------------------------------------\n",
            "                              TRAINING DATA                                 \n",
            "----------------------------------------------------------------------------\n",
            "              precision    recall  f1-score   support\n",
            "\n",
            "     Absence       0.85      0.91      0.88       408\n",
            "    Presence       0.87      0.78      0.82       311\n",
            "\n",
            "    accuracy                           0.85       719\n",
            "   macro avg       0.86      0.85      0.85       719\n",
            "weighted avg       0.85      0.85      0.85       719\n",
            "\n"
          ]
        }
      ],
      "source": [
        "X_hat = logreg_pipeline.fit(X_train, y_train).predict(X_train)\n",
        "y_hat = logreg_pipeline.fit(X_train, y_train).predict(X_test)\n",
        "y_train_hat = logreg_pipeline.fit(X_train, y_train).predict(X_train)\n",
        "\n",
        "print('----------------------------------------------------------------------------')\n",
        "print('                              TESTING DATA                                 ')\n",
        "print('----------------------------------------------------------------------------')\n",
        "print(classification_report(y_test, y_hat))\n",
        "print('----------------------------------------------------------------------------')\n",
        "print('                              TRAINING DATA                                 ')\n",
        "print('----------------------------------------------------------------------------')\n",
        "print(classification_report(y_train, y_train_hat))\n"
      ]
    },
    {
      "cell_type": "code",
      "execution_count": 19,
      "id": "64c21d82",
      "metadata": {
        "id": "64c21d82",
        "colab": {
          "base_uri": "https://localhost:8080/",
          "height": 472
        },
        "outputId": "b0b7e48a-93cb-4fe8-9a92-0cd4d6c13648"
      },
      "outputs": [
        {
          "output_type": "display_data",
          "data": {
            "text/plain": [
              "<Figure size 640x480 with 2 Axes>"
            ],
            "image/png": "[encoded data removed]"
          },
          "metadata": {}
        }
      ],
      "source": [
        "cm = confusion_matrix(y_test, y_hat)\n",
        "cm_norm = cm / cm.sum(axis=1).reshape(-1,1)\n",
        "plot_confusion_matrix(cm_norm, classes = logreg_pipeline.classes_, title='Confusion matrix')\n",
        "plt.show()"
      ]
    },
    {
      "cell_type": "code",
      "execution_count": 20,
      "id": "a2c9edb6",
      "metadata": {
        "colab": {
          "base_uri": "https://localhost:8080/"
        },
        "id": "a2c9edb6",
        "outputId": "ce6416ed-3472-43a2-fee3-01e8d2e2bf0d"
      },
      "outputs": [
        {
          "output_type": "stream",
          "name": "stdout",
          "text": [
            "Accuracy on train data:85.40%\n",
            "Accuracy on test data:88.33%\n",
            "Precision on train data:85.65%\n",
            "Precision on test data:87.99%\n",
            "Recall on train data:84.53%\n",
            "Recall on test data:89.32%\n"
          ]
        }
      ],
      "source": [
        "train_accuracy_lr=accuracy_score(y_train,X_hat)\n",
        "test_accuracy_lr=accuracy_score(y_test,y_hat)\n",
        "print(f'Accuracy on train data:{accuracy_score(y_train,X_hat):.2%}')\n",
        "print(f'Accuracy on test data:{accuracy_score(y_test,y_hat):.2%}')\n",
        "train_precision_lr = precision_score(y_train,X_hat,average = 'macro')\n",
        "test_precision_lr = precision_score(y_test,y_hat,average = 'macro')\n",
        "print(f'Precision on train data:{train_precision_lr:.2%}')\n",
        "print(f'Precision on test data:{test_precision_lr:.2%}')\n",
        "train_recall_lr = recall_score(y_train, X_hat, average='macro')\n",
        "test_recall_lr = recall_score(y_test, y_hat, average='macro')\n",
        "print(f'Recall on train data:{train_recall_lr:.2%}')\n",
        "print(f'Recall on test data:{test_recall_lr:.2%}')"
      ]
    },
    {
      "cell_type": "markdown",
      "id": "f3ba79f8",
      "metadata": {
        "id": "f3ba79f8"
      },
      "source": [
        "#### Loss Function"
      ]
    },
    {
      "cell_type": "code",
      "execution_count": 21,
      "id": "af4fc887",
      "metadata": {
        "id": "af4fc887",
        "colab": {
          "base_uri": "https://localhost:8080/"
        },
        "outputId": "2dca1ed6-ff09-44e1-e62f-4865aa2b045b"
      },
      "outputs": [
        {
          "output_type": "stream",
          "name": "stdout",
          "text": [
            "The Log Loss on Training is:  0.350884306728851\n",
            "The Log Loss on Testing Dataset is:  0.3050225686815282\n"
          ]
        }
      ],
      "source": [
        "\n",
        "pred_proba = logreg_pipeline.predict_proba(X_train)\n",
        "print(\"The Log Loss on Training is: \", log_loss(y_train, pred_proba))\n",
        "pred_proba_t = logreg_pipeline.predict_proba(X_test)\n",
        "print(\"The Log Loss on Testing Dataset is: \", log_loss(y_test, pred_proba_t))"
      ]
    },
    {
      "cell_type": "code",
      "execution_count": 22,
      "id": "e1daf843",
      "metadata": {
        "id": "e1daf843",
        "colab": {
          "base_uri": "https://localhost:8080/"
        },
        "outputId": "0fb1011a-71ae-4307-c5cc-da0661029e0d"
      },
      "outputs": [
        {
          "output_type": "execute_result",
          "data": {
            "text/plain": [
              "0.8539638386648123"
            ]
          },
          "metadata": {},
          "execution_count": 22
        }
      ],
      "source": [
        "\n",
        "logreg_pipeline.fit(X_train, y_train).score(X_train, y_train)"
      ]
    },
    {
      "cell_type": "code",
      "execution_count": 23,
      "id": "a8638eb0",
      "metadata": {
        "id": "a8638eb0",
        "colab": {
          "base_uri": "https://localhost:8080/"
        },
        "outputId": "97832e09-5bff-4bac-a21f-f1b125a3b456"
      },
      "outputs": [
        {
          "output_type": "execute_result",
          "data": {
            "text/plain": [
              "0.8833333333333333"
            ]
          },
          "metadata": {},
          "execution_count": 23
        }
      ],
      "source": [
        "logreg_pipeline.fit(X_train, y_train).score(X_test, y_test)"
      ]
    },
    {
      "cell_type": "code",
      "execution_count": 23,
      "id": "2a59a196",
      "metadata": {
        "id": "2a59a196"
      },
      "outputs": [],
      "source": []
    },
    {
      "cell_type": "code",
      "execution_count": 24,
      "id": "89c11505",
      "metadata": {
        "id": "89c11505",
        "colab": {
          "base_uri": "https://localhost:8080/",
          "height": 449
        },
        "outputId": "fbdee79b-16c3-447c-99c1-2efca72af0fb"
      },
      "outputs": [
        {
          "output_type": "display_data",
          "data": {
            "text/plain": [
              "<Figure size 640x480 with 1 Axes>"
            ],
            "image/png": "[encoded data removed]"
          },
          "metadata": {}
        }
      ],
      "source": [
        "def generate_probs(X, model=logreg_pipeline):\n",
        "    return model.predict_proba(X)[:, 1]\n",
        "\n",
        "def generate_roc(y, probs):\n",
        "    fpr, tpr, _ = roc_curve(y, probs, pos_label='Presence')\n",
        "    return fpr, tpr\n",
        "    \n",
        "fpr_test, tpr_test = generate_roc(y_test, generate_probs(X_test))\n",
        "fpr_train, tpr_train = generate_roc(y_train, generate_probs(X_train))\n",
        "\n",
        "plt.plot(fpr_test, tpr_test,'-r')\n",
        "plt.plot(fpr_train, tpr_train,'-b')\n",
        "plt.xlabel('False Positive Rate')\n",
        "plt.ylabel('True Positive Rate')\n",
        "plt.legend(['Test','Training'])\n",
        "plt.plot([0, 1], [0, 1], color='navy', linestyle='--')\n",
        "plt.show()"
      ]
    },
    {
      "cell_type": "code",
      "execution_count": 25,
      "id": "511cd43e",
      "metadata": {
        "id": "511cd43e",
        "colab": {
          "base_uri": "https://localhost:8080/"
        },
        "outputId": "05d2def1-8abb-4fb8-c689-d673a145f7e3"
      },
      "outputs": [
        {
          "output_type": "execute_result",
          "data": {
            "text/plain": [
              "0.9189206229115441"
            ]
          },
          "metadata": {},
          "execution_count": 25
        }
      ],
      "source": [
        "roc_auc_score(y_train, generate_probs(X_train))"
      ]
    },
    {
      "cell_type": "code",
      "execution_count": 26,
      "id": "ffd0cd6e",
      "metadata": {
        "id": "ffd0cd6e",
        "colab": {
          "base_uri": "https://localhost:8080/"
        },
        "outputId": "f6f4aadb-c76a-4a7d-b9eb-3705ed129538"
      },
      "outputs": [
        {
          "output_type": "execute_result",
          "data": {
            "text/plain": [
              "0.9525028805530662"
            ]
          },
          "metadata": {},
          "execution_count": 26
        }
      ],
      "source": [
        "roc_auc_score(y_test, generate_probs(X_test))"
      ]
    },
    {
      "cell_type": "markdown",
      "source": [
        "#### Comments:\n",
        "From the data, Random Forest is performed well \n",
        "\n",
        "with Accuracy on train data:85.40%\n",
        "\n",
        "Accuracy on test data:88.33%\n",
        "\n",
        "Precision on train data:85.65%\n",
        "\n",
        "Precision on test data:87.99%\n",
        "\n",
        "Recall on train data:84.53%\n",
        "\n",
        "Recall on test data:89.32%\n",
        "\n",
        "with little problems of overfillting, however from the performance metrics the models seems to be performing well with Recall as my parameter of test Recall of 89.32%."
      ],
      "metadata": {
        "id": "pas2D-WHj-FD"
      },
      "id": "pas2D-WHj-FD"
    },
    {
      "cell_type": "markdown",
      "source": [
        "## Random Forest Classifier"
      ],
      "metadata": {
        "id": "AxnnXPClmUHe"
      },
      "id": "AxnnXPClmUHe"
    },
    {
      "cell_type": "code",
      "source": [
        "\n",
        "rf_pipeline = Pipeline([\n",
        "    ('data_processing', processing_pipeline),    \n",
        "    ('dt', RandomForestClassifier(criterion = 'entropy',max_depth=9,min_samples_leaf=2))]\n",
        ")\n",
        "\n",
        "rf_pipeline.fit(X_train, y_train)\n",
        "y_testp_rf = rf_pipeline.fit(X_train, y_train).predict(X_test)\n",
        "y_trainp_rf = rf_pipeline.fit(X_train, y_train).predict(X_train)"
      ],
      "metadata": {
        "id": "FC8o9Z2hlaZE"
      },
      "id": "FC8o9Z2hlaZE",
      "execution_count": 27,
      "outputs": []
    },
    {
      "cell_type": "code",
      "source": [
        "cm = confusion_matrix(y_test, y_testp_rf)\n",
        "cm_norm = cm / cm.sum(axis=1).reshape(-1,1)\n",
        "plot_confusion_matrix(cm_norm, classes = rf_pipeline.classes_, title='Confusion matrix')\n",
        "plt.show()"
      ],
      "metadata": {
        "colab": {
          "base_uri": "https://localhost:8080/",
          "height": 472
        },
        "id": "Kr04o5vSl0zf",
        "outputId": "a9521455-fcc2-4766-f9eb-5327fcf6a9ea"
      },
      "id": "Kr04o5vSl0zf",
      "execution_count": 28,
      "outputs": [
        {
          "output_type": "display_data",
          "data": {
            "text/plain": [
              "<Figure size 640x480 with 2 Axes>"
            ],
            "image/png": "[encoded data removed]"
          },
          "metadata": {}
        }
      ]
    },
    {
      "cell_type": "code",
      "source": [
        "\n",
        "print('----------------------------------------------------------------------------')\n",
        "print('                              TRAINING DATA                                 ')\n",
        "print('----------------------------------------------------------------------------')\n",
        "print(classification_report(y_train, y_trainp_rf))\n",
        "print('----------------------------------------------------------------------------')\n",
        "print('                              TESTING DATA                                 ')\n",
        "print('----------------------------------------------------------------------------')\n",
        "print(classification_report(y_test, y_testp_rf))"
      ],
      "metadata": {
        "colab": {
          "base_uri": "https://localhost:8080/"
        },
        "id": "4gudlpsDl4Hh",
        "outputId": "702fdcd1-8ff9-4cf0-e965-f86889816bc0"
      },
      "id": "4gudlpsDl4Hh",
      "execution_count": 29,
      "outputs": [
        {
          "output_type": "stream",
          "name": "stdout",
          "text": [
            "----------------------------------------------------------------------------\n",
            "                              TRAINING DATA                                 \n",
            "----------------------------------------------------------------------------\n",
            "              precision    recall  f1-score   support\n",
            "\n",
            "     Absence       0.95      0.98      0.97       408\n",
            "    Presence       0.98      0.93      0.95       311\n",
            "\n",
            "    accuracy                           0.96       719\n",
            "   macro avg       0.96      0.96      0.96       719\n",
            "weighted avg       0.96      0.96      0.96       719\n",
            "\n",
            "----------------------------------------------------------------------------\n",
            "                              TESTING DATA                                 \n",
            "----------------------------------------------------------------------------\n",
            "              precision    recall  f1-score   support\n",
            "\n",
            "     Absence       0.97      0.88      0.92       107\n",
            "    Presence       0.84      0.96      0.90        73\n",
            "\n",
            "    accuracy                           0.91       180\n",
            "   macro avg       0.91      0.92      0.91       180\n",
            "weighted avg       0.92      0.91      0.91       180\n",
            "\n"
          ]
        }
      ]
    },
    {
      "cell_type": "code",
      "source": [
        "train_accuracy_rf=accuracy_score(y_train,y_trainp_rf)\n",
        "test_accuracy_rf=accuracy_score(y_test,y_testp_rf)\n",
        "print(f'Accuracy on train data:{accuracy_score(y_train,y_trainp_rf):.2%}')\n",
        "print(f'Accuracy on test data:{accuracy_score(y_test,y_testp_rf):.2%}')\n",
        "train_precision_rf = precision_score(y_train,y_trainp_rf,average = 'macro')\n",
        "test_precision_rf = precision_score(y_test,y_testp_rf,average = 'macro')\n",
        "print(f'Precision on train data:{train_precision_rf:.2%}')\n",
        "print(f'Precision on test data:{test_precision_rf:.2%}')\n",
        "train_recall_rf = recall_score(y_train, y_trainp_rf, average='macro')\n",
        "test_recall_rf = recall_score(y_test, y_testp_rf, average='macro')\n",
        "print(f'Recall on train data:{train_recall_rf:.2%}')\n",
        "print(f'Recall on test data:{test_recall_rf:.2%}')"
      ],
      "metadata": {
        "colab": {
          "base_uri": "https://localhost:8080/"
        },
        "id": "VC-VUcA1md9z",
        "outputId": "7382ed65-695c-4b0a-8226-5370fe8485b9"
      },
      "id": "VC-VUcA1md9z",
      "execution_count": 30,
      "outputs": [
        {
          "output_type": "stream",
          "name": "stdout",
          "text": [
            "Accuracy on train data:95.97%\n",
            "Accuracy on test data:91.11%\n",
            "Precision on train data:96.22%\n",
            "Precision on test data:90.62%\n",
            "Recall on train data:95.61%\n",
            "Recall on test data:91.87%\n"
          ]
        }
      ]
    },
    {
      "cell_type": "code",
      "source": [
        "def generate_probs(X, model=rf_pipeline):\n",
        "    return model.predict_proba(X)[:, 1]\n",
        "\n",
        "def generate_roc(y, probs):\n",
        "    fpr, tpr, _ = roc_curve(y, probs, pos_label='Presence')\n",
        "    return fpr, tpr\n",
        "    \n",
        "fpr_test, tpr_test = generate_roc(y_test, generate_probs(X_test))\n",
        "fpr_train, tpr_train = generate_roc(y_train, generate_probs(X_train))\n",
        "plt.rcParams[\"figure.figsize\"] = (10,8)\n",
        "plt.plot(fpr_test, tpr_test,'-r')\n",
        "plt.plot(fpr_train, tpr_train,'-b')\n",
        "plt.xlabel('False Positive Rate')\n",
        "plt.ylabel('True Positive Rate')\n",
        "plt.legend(['Test','Training'])\n",
        "plt.plot([0, 1], [0, 1], color='navy', linestyle='--')\n",
        "plt.show()"
      ],
      "metadata": {
        "colab": {
          "base_uri": "https://localhost:8080/",
          "height": 696
        },
        "id": "g3M9FlgPmyj5",
        "outputId": "619c5589-fe14-41e2-815c-fa4569ebf3aa"
      },
      "id": "g3M9FlgPmyj5",
      "execution_count": 31,
      "outputs": [
        {
          "output_type": "display_data",
          "data": {
            "text/plain": [
              "<Figure size 1000x800 with 1 Axes>"
            ],
            "image/png": "[encoded data removed]"
          },
          "metadata": {}
        }
      ]
    },
    {
      "cell_type": "code",
      "source": [
        "roc_auc_score(y_train, generate_probs(X_train))"
      ],
      "metadata": {
        "colab": {
          "base_uri": "https://localhost:8080/"
        },
        "id": "NKBs75lom-p8",
        "outputId": "29744104-f84e-4b3f-cc08-7e48f38b4b11"
      },
      "id": "NKBs75lom-p8",
      "execution_count": 32,
      "outputs": [
        {
          "output_type": "execute_result",
          "data": {
            "text/plain": [
              "0.995302944328857"
            ]
          },
          "metadata": {},
          "execution_count": 32
        }
      ]
    },
    {
      "cell_type": "code",
      "source": [
        "roc_auc_score(y_test, generate_probs(X_test))"
      ],
      "metadata": {
        "colab": {
          "base_uri": "https://localhost:8080/"
        },
        "id": "UcYpiMR_nD60",
        "outputId": "4e1336f3-6161-476c-d2b1-2a75d3f6b8de"
      },
      "id": "UcYpiMR_nD60",
      "execution_count": 33,
      "outputs": [
        {
          "output_type": "execute_result",
          "data": {
            "text/plain": [
              "0.9742670592753808"
            ]
          },
          "metadata": {},
          "execution_count": 33
        }
      ]
    },
    {
      "cell_type": "markdown",
      "id": "ef6033ba",
      "metadata": {
        "id": "ef6033ba"
      },
      "source": [
        "#### Comments:\n",
        "From the data, Random Forest is performed well \n",
        "\n",
        "with Accuracy on train data:96.11%\n",
        "\n",
        "Accuracy on test data:91.67%\n",
        "\n",
        "Precision on train data:96.45%\n",
        "\n",
        "Precision on test data:91.22%\n",
        "\n",
        "Recall on train data:95.69%\n",
        "\n",
        "Recall on test data:92.56%\n",
        "\n",
        "with little problems of overfillting, however from the performance metrics the models seems to be performing well with Recall as my parameter of test Recall of 92.56%."
      ]
    },
    {
      "cell_type": "markdown",
      "id": "957c83fb",
      "metadata": {
        "id": "957c83fb"
      },
      "source": [
        "### Decision Tree"
      ]
    },
    {
      "cell_type": "code",
      "execution_count": 34,
      "id": "4128146d",
      "metadata": {
        "id": "4128146d",
        "colab": {
          "base_uri": "https://localhost:8080/",
          "height": 228
        },
        "outputId": "8030b48e-e2bf-4bb6-b359-3774f324d071"
      },
      "outputs": [
        {
          "output_type": "execute_result",
          "data": {
            "text/plain": [
              "Pipeline(steps=[('data_processing',\n",
              "                 ColumnTransformer(transformers=[('proc_numeric',\n",
              "                                                  Pipeline(steps=[('impute_missing',\n",
              "                                                                   SimpleImputer()),\n",
              "                                                                  ('standardize_num',\n",
              "                                                                   StandardScaler())]),\n",
              "                                                  ['age',\n",
              "                                                   'resting blood pressure',\n",
              "                                                   'cholestoral', 'max_hr',\n",
              "                                                   'ST_depression',\n",
              "                                                   'vessels']),\n",
              "                                                 ('create_dummies',\n",
              "                                                  Pipeline(steps=[('impute_missing_cats',\n",
              "                                                                   SimpleImputer(strategy='most_frequent')),\n",
              "                                                                  ('create_dummies_cats',\n",
              "                                                                   OneHotEncoder(handle_unknown='ignore',\n",
              "                                                                                 sparse=False,\n",
              "                                                                                 sparse_output=False))]),\n",
              "                                                  ['sex', 'chest_pain_type',\n",
              "                                                   'fasting_blood_sugar',\n",
              "                                                   'ekg_results',\n",
              "                                                   'exercise_angina',\n",
              "                                                   'slope_of_st', 'thallium',\n",
              "                                                   'country'])])),\n",
              "                ('dt',\n",
              "                 DecisionTreeClassifier(criterion='entropy', max_depth=9,\n",
              "                                        min_samples_leaf=2))])"
            ],
            "text/html": [
              "<style>#sk-container-id-2 {color: black;background-color: white;}#sk-container-id-2 pre{padding: 0;}#sk-container-id-2 div.sk-toggleable {background-color: white;}#sk-container-id-2 label.sk-toggleable__label {cursor: pointer;display: block;width: 100%;margin-bottom: 0;padding: 0.3em;box-sizing: border-box;text-align: center;}#sk-container-id-2 label.sk-toggleable__label-arrow:before {content: \"▸\";float: left;margin-right: 0.25em;color: #696969;}#sk-container-id-2 label.sk-toggleable__label-arrow:hover:before {color: black;}#sk-container-id-2 div.sk-estimator:hover label.sk-toggleable__label-arrow:before {color: black;}#sk-container-id-2 div.sk-toggleable__content {max-height: 0;max-width: 0;overflow: hidden;text-align: left;background-color: #f0f8ff;}#sk-container-id-2 div.sk-toggleable__content pre {margin: 0.2em;color: black;border-radius: 0.25em;background-color: #f0f8ff;}#sk-container-id-2 input.sk-toggleable__control:checked~div.sk-toggleable__content {max-height: 200px;max-width: 100%;overflow: auto;}#sk-container-id-2 input.sk-toggleable__control:checked~label.sk-toggleable__label-arrow:before {content: \"▾\";}#sk-container-id-2 div.sk-estimator input.sk-toggleable__control:checked~label.sk-toggleable__label {background-color: #d4ebff;}#sk-container-id-2 div.sk-label input.sk-toggleable__control:checked~label.sk-toggleable__label {background-color: #d4ebff;}#sk-container-id-2 input.sk-hidden--visually {border: 0;clip: rect(1px 1px 1px 1px);clip: rect(1px, 1px, 1px, 1px);height: 1px;margin: -1px;overflow: hidden;padding: 0;position: absolute;width: 1px;}#sk-container-id-2 div.sk-estimator {font-family: monospace;background-color: #f0f8ff;border: 1px dotted black;border-radius: 0.25em;box-sizing: border-box;margin-bottom: 0.5em;}#sk-container-id-2 div.sk-estimator:hover {background-color: #d4ebff;}#sk-container-id-2 div.sk-parallel-item::after {content: \"\";width: 100%;border-bottom: 1px solid gray;flex-grow: 1;}#sk-container-id-2 div.sk-label:hover label.sk-toggleable__label {background-color: #d4ebff;}#sk-container-id-2 div.sk-serial::before {content: \"\";position: absolute;border-left: 1px solid gray;box-sizing: border-box;top: 0;bottom: 0;left: 50%;z-index: 0;}#sk-container-id-2 div.sk-serial {display: flex;flex-direction: column;align-items: center;background-color: white;padding-right: 0.2em;padding-left: 0.2em;position: relative;}#sk-container-id-2 div.sk-item {position: relative;z-index: 1;}#sk-container-id-2 div.sk-parallel {display: flex;align-items: stretch;justify-content: center;background-color: white;position: relative;}#sk-container-id-2 div.sk-item::before, #sk-container-id-2 div.sk-parallel-item::before {content: \"\";position: absolute;border-left: 1px solid gray;box-sizing: border-box;top: 0;bottom: 0;left: 50%;z-index: -1;}#sk-container-id-2 div.sk-parallel-item {display: flex;flex-direction: column;z-index: 1;position: relative;background-color: white;}#sk-container-id-2 div.sk-parallel-item:first-child::after {align-self: flex-end;width: 50%;}#sk-container-id-2 div.sk-parallel-item:last-child::after {align-self: flex-start;width: 50%;}#sk-container-id-2 div.sk-parallel-item:only-child::after {width: 0;}#sk-container-id-2 div.sk-dashed-wrapped {border: 1px dashed gray;margin: 0 0.4em 0.5em 0.4em;box-sizing: border-box;padding-bottom: 0.4em;background-color: white;}#sk-container-id-2 div.sk-label label {font-family: monospace;font-weight: bold;display: inline-block;line-height: 1.2em;}#sk-container-id-2 div.sk-label-container {text-align: center;}#sk-container-id-2 div.sk-container {/* jupyter's `normalize.less` sets `[hidden] { display: none; }` but bootstrap.min.css set `[hidden] { display: none !important; }` so we also need the `!important` here to be able to override the default hidden behavior on the sphinx rendered scikit-learn.org. See: https://github.com/scikit-learn/scikit-learn/issues/21755 */display: inline-block !important;position: relative;}#sk-container-id-2 div.sk-text-repr-fallback {display: none;}</style><div id=\"sk-container-id-2\" class=\"sk-top-container\"><div class=\"sk-text-repr-fallback\"><pre>Pipeline(steps=[(&#x27;data_processing&#x27;,\n",
              "                 ColumnTransformer(transformers=[(&#x27;proc_numeric&#x27;,\n",
              "                                                  Pipeline(steps=[(&#x27;impute_missing&#x27;,\n",
              "                                                                   SimpleImputer()),\n",
              "                                                                  (&#x27;standardize_num&#x27;,\n",
              "                                                                   StandardScaler())]),\n",
              "                                                  [&#x27;age&#x27;,\n",
              "                                                   &#x27;resting blood pressure&#x27;,\n",
              "                                                   &#x27;cholestoral&#x27;, &#x27;max_hr&#x27;,\n",
              "                                                   &#x27;ST_depression&#x27;,\n",
              "                                                   &#x27;vessels&#x27;]),\n",
              "                                                 (&#x27;create_dummies&#x27;,\n",
              "                                                  Pipeline(steps=[(&#x27;impute_missing_cats&#x27;,\n",
              "                                                                   SimpleImputer(strategy=&#x27;most_frequent&#x27;)),\n",
              "                                                                  (&#x27;create_dummies_cats&#x27;,\n",
              "                                                                   OneHotEncoder(handle_unknown=&#x27;ignore&#x27;,\n",
              "                                                                                 sparse=False,\n",
              "                                                                                 sparse_output=False))]),\n",
              "                                                  [&#x27;sex&#x27;, &#x27;chest_pain_type&#x27;,\n",
              "                                                   &#x27;fasting_blood_sugar&#x27;,\n",
              "                                                   &#x27;ekg_results&#x27;,\n",
              "                                                   &#x27;exercise_angina&#x27;,\n",
              "                                                   &#x27;slope_of_st&#x27;, &#x27;thallium&#x27;,\n",
              "                                                   &#x27;country&#x27;])])),\n",
              "                (&#x27;dt&#x27;,\n",
              "                 DecisionTreeClassifier(criterion=&#x27;entropy&#x27;, max_depth=9,\n",
              "                                        min_samples_leaf=2))])</pre><b>In a Jupyter environment, please rerun this cell to show the HTML representation or trust the notebook. <br />On GitHub, the HTML representation is unable to render, please try loading this page with nbviewer.org.</b></div><div class=\"sk-container\" hidden><div class=\"sk-item sk-dashed-wrapped\"><div class=\"sk-label-container\"><div class=\"sk-label sk-toggleable\"><input class=\"sk-toggleable__control sk-hidden--visually\" id=\"sk-estimator-id-10\" type=\"checkbox\" ><label for=\"sk-estimator-id-10\" class=\"sk-toggleable__label sk-toggleable__label-arrow\">Pipeline</label><div class=\"sk-toggleable__content\"><pre>Pipeline(steps=[(&#x27;data_processing&#x27;,\n",
              "                 ColumnTransformer(transformers=[(&#x27;proc_numeric&#x27;,\n",
              "                                                  Pipeline(steps=[(&#x27;impute_missing&#x27;,\n",
              "                                                                   SimpleImputer()),\n",
              "                                                                  (&#x27;standardize_num&#x27;,\n",
              "                                                                   StandardScaler())]),\n",
              "                                                  [&#x27;age&#x27;,\n",
              "                                                   &#x27;resting blood pressure&#x27;,\n",
              "                                                   &#x27;cholestoral&#x27;, &#x27;max_hr&#x27;,\n",
              "                                                   &#x27;ST_depression&#x27;,\n",
              "                                                   &#x27;vessels&#x27;]),\n",
              "                                                 (&#x27;create_dummies&#x27;,\n",
              "                                                  Pipeline(steps=[(&#x27;impute_missing_cats&#x27;,\n",
              "                                                                   SimpleImputer(strategy=&#x27;most_frequent&#x27;)),\n",
              "                                                                  (&#x27;create_dummies_cats&#x27;,\n",
              "                                                                   OneHotEncoder(handle_unknown=&#x27;ignore&#x27;,\n",
              "                                                                                 sparse=False,\n",
              "                                                                                 sparse_output=False))]),\n",
              "                                                  [&#x27;sex&#x27;, &#x27;chest_pain_type&#x27;,\n",
              "                                                   &#x27;fasting_blood_sugar&#x27;,\n",
              "                                                   &#x27;ekg_results&#x27;,\n",
              "                                                   &#x27;exercise_angina&#x27;,\n",
              "                                                   &#x27;slope_of_st&#x27;, &#x27;thallium&#x27;,\n",
              "                                                   &#x27;country&#x27;])])),\n",
              "                (&#x27;dt&#x27;,\n",
              "                 DecisionTreeClassifier(criterion=&#x27;entropy&#x27;, max_depth=9,\n",
              "                                        min_samples_leaf=2))])</pre></div></div></div><div class=\"sk-serial\"><div class=\"sk-item sk-dashed-wrapped\"><div class=\"sk-label-container\"><div class=\"sk-label sk-toggleable\"><input class=\"sk-toggleable__control sk-hidden--visually\" id=\"sk-estimator-id-11\" type=\"checkbox\" ><label for=\"sk-estimator-id-11\" class=\"sk-toggleable__label sk-toggleable__label-arrow\">data_processing: ColumnTransformer</label><div class=\"sk-toggleable__content\"><pre>ColumnTransformer(transformers=[(&#x27;proc_numeric&#x27;,\n",
              "                                 Pipeline(steps=[(&#x27;impute_missing&#x27;,\n",
              "                                                  SimpleImputer()),\n",
              "                                                 (&#x27;standardize_num&#x27;,\n",
              "                                                  StandardScaler())]),\n",
              "                                 [&#x27;age&#x27;, &#x27;resting blood pressure&#x27;,\n",
              "                                  &#x27;cholestoral&#x27;, &#x27;max_hr&#x27;, &#x27;ST_depression&#x27;,\n",
              "                                  &#x27;vessels&#x27;]),\n",
              "                                (&#x27;create_dummies&#x27;,\n",
              "                                 Pipeline(steps=[(&#x27;impute_missing_cats&#x27;,\n",
              "                                                  SimpleImputer(strategy=&#x27;most_frequent&#x27;)),\n",
              "                                                 (&#x27;create_dummies_cats&#x27;,\n",
              "                                                  OneHotEncoder(handle_unknown=&#x27;ignore&#x27;,\n",
              "                                                                sparse=False,\n",
              "                                                                sparse_output=False))]),\n",
              "                                 [&#x27;sex&#x27;, &#x27;chest_pain_type&#x27;,\n",
              "                                  &#x27;fasting_blood_sugar&#x27;, &#x27;ekg_results&#x27;,\n",
              "                                  &#x27;exercise_angina&#x27;, &#x27;slope_of_st&#x27;, &#x27;thallium&#x27;,\n",
              "                                  &#x27;country&#x27;])])</pre></div></div></div><div class=\"sk-parallel\"><div class=\"sk-parallel-item\"><div class=\"sk-item\"><div class=\"sk-label-container\"><div class=\"sk-label sk-toggleable\"><input class=\"sk-toggleable__control sk-hidden--visually\" id=\"sk-estimator-id-12\" type=\"checkbox\" ><label for=\"sk-estimator-id-12\" class=\"sk-toggleable__label sk-toggleable__label-arrow\">proc_numeric</label><div class=\"sk-toggleable__content\"><pre>[&#x27;age&#x27;, &#x27;resting blood pressure&#x27;, &#x27;cholestoral&#x27;, &#x27;max_hr&#x27;, &#x27;ST_depression&#x27;, &#x27;vessels&#x27;]</pre></div></div></div><div class=\"sk-serial\"><div class=\"sk-item\"><div class=\"sk-serial\"><div class=\"sk-item\"><div class=\"sk-estimator sk-toggleable\"><input class=\"sk-toggleable__control sk-hidden--visually\" id=\"sk-estimator-id-13\" type=\"checkbox\" ><label for=\"sk-estimator-id-13\" class=\"sk-toggleable__label sk-toggleable__label-arrow\">SimpleImputer</label><div class=\"sk-toggleable__content\"><pre>SimpleImputer()</pre></div></div></div><div class=\"sk-item\"><div class=\"sk-estimator sk-toggleable\"><input class=\"sk-toggleable__control sk-hidden--visually\" id=\"sk-estimator-id-14\" type=\"checkbox\" ><label for=\"sk-estimator-id-14\" class=\"sk-toggleable__label sk-toggleable__label-arrow\">StandardScaler</label><div class=\"sk-toggleable__content\"><pre>StandardScaler()</pre></div></div></div></div></div></div></div></div><div class=\"sk-parallel-item\"><div class=\"sk-item\"><div class=\"sk-label-container\"><div class=\"sk-label sk-toggleable\"><input class=\"sk-toggleable__control sk-hidden--visually\" id=\"sk-estimator-id-15\" type=\"checkbox\" ><label for=\"sk-estimator-id-15\" class=\"sk-toggleable__label sk-toggleable__label-arrow\">create_dummies</label><div class=\"sk-toggleable__content\"><pre>[&#x27;sex&#x27;, &#x27;chest_pain_type&#x27;, &#x27;fasting_blood_sugar&#x27;, &#x27;ekg_results&#x27;, &#x27;exercise_angina&#x27;, &#x27;slope_of_st&#x27;, &#x27;thallium&#x27;, &#x27;country&#x27;]</pre></div></div></div><div class=\"sk-serial\"><div class=\"sk-item\"><div class=\"sk-serial\"><div class=\"sk-item\"><div class=\"sk-estimator sk-toggleable\"><input class=\"sk-toggleable__control sk-hidden--visually\" id=\"sk-estimator-id-16\" type=\"checkbox\" ><label for=\"sk-estimator-id-16\" class=\"sk-toggleable__label sk-toggleable__label-arrow\">SimpleImputer</label><div class=\"sk-toggleable__content\"><pre>SimpleImputer(strategy=&#x27;most_frequent&#x27;)</pre></div></div></div><div class=\"sk-item\"><div class=\"sk-estimator sk-toggleable\"><input class=\"sk-toggleable__control sk-hidden--visually\" id=\"sk-estimator-id-17\" type=\"checkbox\" ><label for=\"sk-estimator-id-17\" class=\"sk-toggleable__label sk-toggleable__label-arrow\">OneHotEncoder</label><div class=\"sk-toggleable__content\"><pre>OneHotEncoder(handle_unknown=&#x27;ignore&#x27;, sparse=False, sparse_output=False)</pre></div></div></div></div></div></div></div></div></div></div><div class=\"sk-item\"><div class=\"sk-estimator sk-toggleable\"><input class=\"sk-toggleable__control sk-hidden--visually\" id=\"sk-estimator-id-18\" type=\"checkbox\" ><label for=\"sk-estimator-id-18\" class=\"sk-toggleable__label sk-toggleable__label-arrow\">DecisionTreeClassifier</label><div class=\"sk-toggleable__content\"><pre>DecisionTreeClassifier(criterion=&#x27;entropy&#x27;, max_depth=9, min_samples_leaf=2)</pre></div></div></div></div></div></div></div>"
            ]
          },
          "metadata": {},
          "execution_count": 34
        }
      ],
      "source": [
        "\n",
        "dttree_pipeline = Pipeline([\n",
        "    ('data_processing', processing_pipeline),    \n",
        "    ('dt', DecisionTreeClassifier(criterion = 'entropy',max_depth=9,min_samples_leaf=2))]\n",
        ")\n",
        "dttree_pipeline.fit(X_train, y_train)"
      ]
    },
    {
      "cell_type": "code",
      "execution_count": 35,
      "id": "333a7c3a",
      "metadata": {
        "id": "333a7c3a"
      },
      "outputs": [],
      "source": [
        "y_testp_dt = dttree_pipeline.fit(X_train, y_train).predict(X_test)\n",
        "y_trainp_dt = dttree_pipeline.fit(X_train, y_train).predict(X_train)"
      ]
    },
    {
      "cell_type": "code",
      "execution_count": 36,
      "id": "2fd036ed",
      "metadata": {
        "id": "2fd036ed",
        "colab": {
          "base_uri": "https://localhost:8080/",
          "height": 718
        },
        "outputId": "bc9696d0-b701-4ff6-c80d-b7fc281fb811"
      },
      "outputs": [
        {
          "output_type": "display_data",
          "data": {
            "text/plain": [
              "<Figure size 1000x800 with 2 Axes>"
            ],
            "image/png": "[encoded data removed]"
          },
          "metadata": {}
        }
      ],
      "source": [
        "cm = confusion_matrix(y_test, y_testp_dt)\n",
        "cm_norm = cm / cm.sum(axis=1).reshape(-1,1)\n",
        "plot_confusion_matrix(cm_norm, classes = dttree_pipeline.classes_, title='Confusion matrix')\n",
        "plt.show()"
      ]
    },
    {
      "cell_type": "code",
      "execution_count": 37,
      "id": "cd65a5dd",
      "metadata": {
        "id": "cd65a5dd",
        "colab": {
          "base_uri": "https://localhost:8080/"
        },
        "outputId": "602f5d1e-bddd-42c2-c8eb-aafab6df194d"
      },
      "outputs": [
        {
          "output_type": "stream",
          "name": "stdout",
          "text": [
            "----------------------------------------------------------------------------\n",
            "                              TRAINING DATA                                 \n",
            "----------------------------------------------------------------------------\n",
            "              precision    recall  f1-score   support\n",
            "\n",
            "     Absence       0.96      0.98      0.97       408\n",
            "    Presence       0.97      0.95      0.96       311\n",
            "\n",
            "    accuracy                           0.97       719\n",
            "   macro avg       0.97      0.96      0.96       719\n",
            "weighted avg       0.97      0.97      0.97       719\n",
            "\n",
            "----------------------------------------------------------------------------\n",
            "                              TESTING DATA                                 \n",
            "----------------------------------------------------------------------------\n",
            "              precision    recall  f1-score   support\n",
            "\n",
            "     Absence       0.96      0.81      0.88       107\n",
            "    Presence       0.78      0.95      0.85        73\n",
            "\n",
            "    accuracy                           0.87       180\n",
            "   macro avg       0.87      0.88      0.87       180\n",
            "weighted avg       0.88      0.87      0.87       180\n",
            "\n"
          ]
        }
      ],
      "source": [
        "\n",
        "\n",
        "print('----------------------------------------------------------------------------')\n",
        "print('                              TRAINING DATA                                 ')\n",
        "print('----------------------------------------------------------------------------')\n",
        "print(classification_report(y_train, y_trainp_dt))\n",
        "print('----------------------------------------------------------------------------')\n",
        "print('                              TESTING DATA                                 ')\n",
        "print('----------------------------------------------------------------------------')\n",
        "print(classification_report(y_test, y_testp_dt))\n"
      ]
    },
    {
      "cell_type": "code",
      "execution_count": 38,
      "id": "9b51c7ed",
      "metadata": {
        "colab": {
          "base_uri": "https://localhost:8080/"
        },
        "id": "9b51c7ed",
        "outputId": "b0a14123-2c9f-45be-e2e5-cbaa43e2432c"
      },
      "outputs": [
        {
          "output_type": "stream",
          "name": "stdout",
          "text": [
            "Accuracy on train data:96.52%\n",
            "Accuracy on test data:86.67%\n",
            "Precision on train data:96.64%\n",
            "Precision on test data:86.57%\n",
            "Recall on train data:96.29%\n",
            "Recall on test data:87.91%\n"
          ]
        }
      ],
      "source": [
        "train_accuracy_dt=accuracy_score(y_train,y_trainp_dt)\n",
        "test_accuracy_dt=accuracy_score(y_test,y_testp_dt)\n",
        "print(f'Accuracy on train data:{accuracy_score(y_train,y_trainp_dt):.2%}')\n",
        "print(f'Accuracy on test data:{accuracy_score(y_test,y_testp_dt):.2%}')\n",
        "train_precision_dt = precision_score(y_train,y_trainp_dt,average = 'macro')\n",
        "test_precision_dt = precision_score(y_test,y_testp_dt,average = 'macro')\n",
        "print(f'Precision on train data:{train_precision_dt:.2%}')\n",
        "print(f'Precision on test data:{test_precision_dt:.2%}')\n",
        "train_recall_dt = recall_score(y_train, y_trainp_dt, average='macro')\n",
        "test_recall_dt = recall_score(y_test, y_testp_dt, average='macro')\n",
        "print(f'Recall on train data:{train_recall_dt:.2%}')\n",
        "print(f'Recall on test data:{test_recall_dt:.2%}')"
      ]
    },
    {
      "cell_type": "code",
      "execution_count": 39,
      "id": "78f593b5",
      "metadata": {
        "id": "78f593b5",
        "colab": {
          "base_uri": "https://localhost:8080/",
          "height": 696
        },
        "outputId": "acf55ec6-e77e-42f8-c2bc-9d11327820ed"
      },
      "outputs": [
        {
          "output_type": "display_data",
          "data": {
            "text/plain": [
              "<Figure size 1000x800 with 1 Axes>"
            ],
            "image/png": "[encoded data removed]"
          },
          "metadata": {}
        }
      ],
      "source": [
        "def generate_probs(X, model=dttree_pipeline):\n",
        "    return model.predict_proba(X)[:, 1]\n",
        "\n",
        "def generate_roc(y, probs):\n",
        "    fpr, tpr, _ = roc_curve(y, probs, pos_label='Presence')\n",
        "    return fpr, tpr\n",
        "    \n",
        "fpr_test, tpr_test = generate_roc(y_test, generate_probs(X_test))\n",
        "fpr_train, tpr_train = generate_roc(y_train, generate_probs(X_train))\n",
        "plt.rcParams[\"figure.figsize\"] = (10,8)\n",
        "plt.plot(fpr_test, tpr_test,'-r')\n",
        "plt.plot(fpr_train, tpr_train,'-b')\n",
        "plt.xlabel('False Positive Rate')\n",
        "plt.ylabel('True Positive Rate')\n",
        "plt.legend(['Test','Training'])\n",
        "plt.plot([0, 1], [0, 1], color='navy', linestyle='--')\n",
        "plt.show()"
      ]
    },
    {
      "cell_type": "code",
      "execution_count": 40,
      "id": "vIlu-v-x7EXL",
      "metadata": {
        "id": "vIlu-v-x7EXL",
        "colab": {
          "base_uri": "https://localhost:8080/"
        },
        "outputId": "999fed0e-133d-4ca6-d7ee-a48d8b3b9d66"
      },
      "outputs": [
        {
          "output_type": "execute_result",
          "data": {
            "text/plain": [
              "0.9961619696109956"
            ]
          },
          "metadata": {},
          "execution_count": 40
        }
      ],
      "source": [
        "roc_auc_score(y_train, generate_probs(X_train))"
      ]
    },
    {
      "cell_type": "code",
      "execution_count": 41,
      "id": "WaHoxSPM7KEa",
      "metadata": {
        "id": "WaHoxSPM7KEa",
        "colab": {
          "base_uri": "https://localhost:8080/"
        },
        "outputId": "7a9c493b-2a72-4993-9e69-3a9741c47211"
      },
      "outputs": [
        {
          "output_type": "execute_result",
          "data": {
            "text/plain": [
              "0.896684163359365"
            ]
          },
          "metadata": {},
          "execution_count": 41
        }
      ],
      "source": [
        "roc_auc_score(y_test, generate_probs(X_test))"
      ]
    },
    {
      "cell_type": "markdown",
      "source": [
        "#### Comments:\n",
        "From the data, Decision tree Classifier is performed well \n",
        "\n",
        "withAccuracy on train data:96.52%\n",
        "\n",
        "Accuracy on test data:87.22%\n",
        "\n",
        "Precision on train data:96.64%\n",
        "\n",
        "Precision on test data:87.22%\n",
        "\n",
        "Recall on train data:96.29%\n",
        "\n",
        "Recall on test data:88.60%\n",
        "\n",
        "with little problems of overfillting, however from the performance metrics the models seems to be performing well with Recall as my parameter of test Recall of 88.60%."
      ],
      "metadata": {
        "id": "5P7haULTjoaR"
      },
      "id": "5P7haULTjoaR"
    },
    {
      "cell_type": "markdown",
      "source": [
        "### MLP Classifier"
      ],
      "metadata": {
        "id": "OXDJshbbkPWR"
      },
      "id": "OXDJshbbkPWR"
    },
    {
      "cell_type": "code",
      "source": [
        "mlp_pipeline = Pipeline([\n",
        "    ('data_processing', processing_pipeline),    \n",
        "    ('mlp', MLPClassifier(hidden_layer_sizes=(25,), max_iter=100))]\n",
        ")\n",
        "mlp_pipeline.fit(X_train, y_train)"
      ],
      "metadata": {
        "colab": {
          "base_uri": "https://localhost:8080/",
          "height": 228
        },
        "id": "dHA0aM2tBO-A",
        "outputId": "4a68f348-c70e-4232-fba6-6096ad1d9d5e"
      },
      "id": "dHA0aM2tBO-A",
      "execution_count": 42,
      "outputs": [
        {
          "output_type": "execute_result",
          "data": {
            "text/plain": [
              "Pipeline(steps=[('data_processing',\n",
              "                 ColumnTransformer(transformers=[('proc_numeric',\n",
              "                                                  Pipeline(steps=[('impute_missing',\n",
              "                                                                   SimpleImputer()),\n",
              "                                                                  ('standardize_num',\n",
              "                                                                   StandardScaler())]),\n",
              "                                                  ['age',\n",
              "                                                   'resting blood pressure',\n",
              "                                                   'cholestoral', 'max_hr',\n",
              "                                                   'ST_depression',\n",
              "                                                   'vessels']),\n",
              "                                                 ('create_dummies',\n",
              "                                                  Pipeline(steps=[('impute_missing_cats',\n",
              "                                                                   SimpleImputer(strategy='most_frequent')),\n",
              "                                                                  ('create_dummies_cats',\n",
              "                                                                   OneHotEncoder(handle_unknown='ignore',\n",
              "                                                                                 sparse=False,\n",
              "                                                                                 sparse_output=False))]),\n",
              "                                                  ['sex', 'chest_pain_type',\n",
              "                                                   'fasting_blood_sugar',\n",
              "                                                   'ekg_results',\n",
              "                                                   'exercise_angina',\n",
              "                                                   'slope_of_st', 'thallium',\n",
              "                                                   'country'])])),\n",
              "                ('mlp', MLPClassifier(hidden_layer_sizes=(25,), max_iter=100))])"
            ],
            "text/html": [
              "<style>#sk-container-id-3 {color: black;background-color: white;}#sk-container-id-3 pre{padding: 0;}#sk-container-id-3 div.sk-toggleable {background-color: white;}#sk-container-id-3 label.sk-toggleable__label {cursor: pointer;display: block;width: 100%;margin-bottom: 0;padding: 0.3em;box-sizing: border-box;text-align: center;}#sk-container-id-3 label.sk-toggleable__label-arrow:before {content: \"▸\";float: left;margin-right: 0.25em;color: #696969;}#sk-container-id-3 label.sk-toggleable__label-arrow:hover:before {color: black;}#sk-container-id-3 div.sk-estimator:hover label.sk-toggleable__label-arrow:before {color: black;}#sk-container-id-3 div.sk-toggleable__content {max-height: 0;max-width: 0;overflow: hidden;text-align: left;background-color: #f0f8ff;}#sk-container-id-3 div.sk-toggleable__content pre {margin: 0.2em;color: black;border-radius: 0.25em;background-color: #f0f8ff;}#sk-container-id-3 input.sk-toggleable__control:checked~div.sk-toggleable__content {max-height: 200px;max-width: 100%;overflow: auto;}#sk-container-id-3 input.sk-toggleable__control:checked~label.sk-toggleable__label-arrow:before {content: \"▾\";}#sk-container-id-3 div.sk-estimator input.sk-toggleable__control:checked~label.sk-toggleable__label {background-color: #d4ebff;}#sk-container-id-3 div.sk-label input.sk-toggleable__control:checked~label.sk-toggleable__label {background-color: #d4ebff;}#sk-container-id-3 input.sk-hidden--visually {border: 0;clip: rect(1px 1px 1px 1px);clip: rect(1px, 1px, 1px, 1px);height: 1px;margin: -1px;overflow: hidden;padding: 0;position: absolute;width: 1px;}#sk-container-id-3 div.sk-estimator {font-family: monospace;background-color: #f0f8ff;border: 1px dotted black;border-radius: 0.25em;box-sizing: border-box;margin-bottom: 0.5em;}#sk-container-id-3 div.sk-estimator:hover {background-color: #d4ebff;}#sk-container-id-3 div.sk-parallel-item::after {content: \"\";width: 100%;border-bottom: 1px solid gray;flex-grow: 1;}#sk-container-id-3 div.sk-label:hover label.sk-toggleable__label {background-color: #d4ebff;}#sk-container-id-3 div.sk-serial::before {content: \"\";position: absolute;border-left: 1px solid gray;box-sizing: border-box;top: 0;bottom: 0;left: 50%;z-index: 0;}#sk-container-id-3 div.sk-serial {display: flex;flex-direction: column;align-items: center;background-color: white;padding-right: 0.2em;padding-left: 0.2em;position: relative;}#sk-container-id-3 div.sk-item {position: relative;z-index: 1;}#sk-container-id-3 div.sk-parallel {display: flex;align-items: stretch;justify-content: center;background-color: white;position: relative;}#sk-container-id-3 div.sk-item::before, #sk-container-id-3 div.sk-parallel-item::before {content: \"\";position: absolute;border-left: 1px solid gray;box-sizing: border-box;top: 0;bottom: 0;left: 50%;z-index: -1;}#sk-container-id-3 div.sk-parallel-item {display: flex;flex-direction: column;z-index: 1;position: relative;background-color: white;}#sk-container-id-3 div.sk-parallel-item:first-child::after {align-self: flex-end;width: 50%;}#sk-container-id-3 div.sk-parallel-item:last-child::after {align-self: flex-start;width: 50%;}#sk-container-id-3 div.sk-parallel-item:only-child::after {width: 0;}#sk-container-id-3 div.sk-dashed-wrapped {border: 1px dashed gray;margin: 0 0.4em 0.5em 0.4em;box-sizing: border-box;padding-bottom: 0.4em;background-color: white;}#sk-container-id-3 div.sk-label label {font-family: monospace;font-weight: bold;display: inline-block;line-height: 1.2em;}#sk-container-id-3 div.sk-label-container {text-align: center;}#sk-container-id-3 div.sk-container {/* jupyter's `normalize.less` sets `[hidden] { display: none; }` but bootstrap.min.css set `[hidden] { display: none !important; }` so we also need the `!important` here to be able to override the default hidden behavior on the sphinx rendered scikit-learn.org. See: https://github.com/scikit-learn/scikit-learn/issues/21755 */display: inline-block !important;position: relative;}#sk-container-id-3 div.sk-text-repr-fallback {display: none;}</style><div id=\"sk-container-id-3\" class=\"sk-top-container\"><div class=\"sk-text-repr-fallback\"><pre>Pipeline(steps=[(&#x27;data_processing&#x27;,\n",
              "                 ColumnTransformer(transformers=[(&#x27;proc_numeric&#x27;,\n",
              "                                                  Pipeline(steps=[(&#x27;impute_missing&#x27;,\n",
              "                                                                   SimpleImputer()),\n",
              "                                                                  (&#x27;standardize_num&#x27;,\n",
              "                                                                   StandardScaler())]),\n",
              "                                                  [&#x27;age&#x27;,\n",
              "                                                   &#x27;resting blood pressure&#x27;,\n",
              "                                                   &#x27;cholestoral&#x27;, &#x27;max_hr&#x27;,\n",
              "                                                   &#x27;ST_depression&#x27;,\n",
              "                                                   &#x27;vessels&#x27;]),\n",
              "                                                 (&#x27;create_dummies&#x27;,\n",
              "                                                  Pipeline(steps=[(&#x27;impute_missing_cats&#x27;,\n",
              "                                                                   SimpleImputer(strategy=&#x27;most_frequent&#x27;)),\n",
              "                                                                  (&#x27;create_dummies_cats&#x27;,\n",
              "                                                                   OneHotEncoder(handle_unknown=&#x27;ignore&#x27;,\n",
              "                                                                                 sparse=False,\n",
              "                                                                                 sparse_output=False))]),\n",
              "                                                  [&#x27;sex&#x27;, &#x27;chest_pain_type&#x27;,\n",
              "                                                   &#x27;fasting_blood_sugar&#x27;,\n",
              "                                                   &#x27;ekg_results&#x27;,\n",
              "                                                   &#x27;exercise_angina&#x27;,\n",
              "                                                   &#x27;slope_of_st&#x27;, &#x27;thallium&#x27;,\n",
              "                                                   &#x27;country&#x27;])])),\n",
              "                (&#x27;mlp&#x27;, MLPClassifier(hidden_layer_sizes=(25,), max_iter=100))])</pre><b>In a Jupyter environment, please rerun this cell to show the HTML representation or trust the notebook. <br />On GitHub, the HTML representation is unable to render, please try loading this page with nbviewer.org.</b></div><div class=\"sk-container\" hidden><div class=\"sk-item sk-dashed-wrapped\"><div class=\"sk-label-container\"><div class=\"sk-label sk-toggleable\"><input class=\"sk-toggleable__control sk-hidden--visually\" id=\"sk-estimator-id-19\" type=\"checkbox\" ><label for=\"sk-estimator-id-19\" class=\"sk-toggleable__label sk-toggleable__label-arrow\">Pipeline</label><div class=\"sk-toggleable__content\"><pre>Pipeline(steps=[(&#x27;data_processing&#x27;,\n",
              "                 ColumnTransformer(transformers=[(&#x27;proc_numeric&#x27;,\n",
              "                                                  Pipeline(steps=[(&#x27;impute_missing&#x27;,\n",
              "                                                                   SimpleImputer()),\n",
              "                                                                  (&#x27;standardize_num&#x27;,\n",
              "                                                                   StandardScaler())]),\n",
              "                                                  [&#x27;age&#x27;,\n",
              "                                                   &#x27;resting blood pressure&#x27;,\n",
              "                                                   &#x27;cholestoral&#x27;, &#x27;max_hr&#x27;,\n",
              "                                                   &#x27;ST_depression&#x27;,\n",
              "                                                   &#x27;vessels&#x27;]),\n",
              "                                                 (&#x27;create_dummies&#x27;,\n",
              "                                                  Pipeline(steps=[(&#x27;impute_missing_cats&#x27;,\n",
              "                                                                   SimpleImputer(strategy=&#x27;most_frequent&#x27;)),\n",
              "                                                                  (&#x27;create_dummies_cats&#x27;,\n",
              "                                                                   OneHotEncoder(handle_unknown=&#x27;ignore&#x27;,\n",
              "                                                                                 sparse=False,\n",
              "                                                                                 sparse_output=False))]),\n",
              "                                                  [&#x27;sex&#x27;, &#x27;chest_pain_type&#x27;,\n",
              "                                                   &#x27;fasting_blood_sugar&#x27;,\n",
              "                                                   &#x27;ekg_results&#x27;,\n",
              "                                                   &#x27;exercise_angina&#x27;,\n",
              "                                                   &#x27;slope_of_st&#x27;, &#x27;thallium&#x27;,\n",
              "                                                   &#x27;country&#x27;])])),\n",
              "                (&#x27;mlp&#x27;, MLPClassifier(hidden_layer_sizes=(25,), max_iter=100))])</pre></div></div></div><div class=\"sk-serial\"><div class=\"sk-item sk-dashed-wrapped\"><div class=\"sk-label-container\"><div class=\"sk-label sk-toggleable\"><input class=\"sk-toggleable__control sk-hidden--visually\" id=\"sk-estimator-id-20\" type=\"checkbox\" ><label for=\"sk-estimator-id-20\" class=\"sk-toggleable__label sk-toggleable__label-arrow\">data_processing: ColumnTransformer</label><div class=\"sk-toggleable__content\"><pre>ColumnTransformer(transformers=[(&#x27;proc_numeric&#x27;,\n",
              "                                 Pipeline(steps=[(&#x27;impute_missing&#x27;,\n",
              "                                                  SimpleImputer()),\n",
              "                                                 (&#x27;standardize_num&#x27;,\n",
              "                                                  StandardScaler())]),\n",
              "                                 [&#x27;age&#x27;, &#x27;resting blood pressure&#x27;,\n",
              "                                  &#x27;cholestoral&#x27;, &#x27;max_hr&#x27;, &#x27;ST_depression&#x27;,\n",
              "                                  &#x27;vessels&#x27;]),\n",
              "                                (&#x27;create_dummies&#x27;,\n",
              "                                 Pipeline(steps=[(&#x27;impute_missing_cats&#x27;,\n",
              "                                                  SimpleImputer(strategy=&#x27;most_frequent&#x27;)),\n",
              "                                                 (&#x27;create_dummies_cats&#x27;,\n",
              "                                                  OneHotEncoder(handle_unknown=&#x27;ignore&#x27;,\n",
              "                                                                sparse=False,\n",
              "                                                                sparse_output=False))]),\n",
              "                                 [&#x27;sex&#x27;, &#x27;chest_pain_type&#x27;,\n",
              "                                  &#x27;fasting_blood_sugar&#x27;, &#x27;ekg_results&#x27;,\n",
              "                                  &#x27;exercise_angina&#x27;, &#x27;slope_of_st&#x27;, &#x27;thallium&#x27;,\n",
              "                                  &#x27;country&#x27;])])</pre></div></div></div><div class=\"sk-parallel\"><div class=\"sk-parallel-item\"><div class=\"sk-item\"><div class=\"sk-label-container\"><div class=\"sk-label sk-toggleable\"><input class=\"sk-toggleable__control sk-hidden--visually\" id=\"sk-estimator-id-21\" type=\"checkbox\" ><label for=\"sk-estimator-id-21\" class=\"sk-toggleable__label sk-toggleable__label-arrow\">proc_numeric</label><div class=\"sk-toggleable__content\"><pre>[&#x27;age&#x27;, &#x27;resting blood pressure&#x27;, &#x27;cholestoral&#x27;, &#x27;max_hr&#x27;, &#x27;ST_depression&#x27;, &#x27;vessels&#x27;]</pre></div></div></div><div class=\"sk-serial\"><div class=\"sk-item\"><div class=\"sk-serial\"><div class=\"sk-item\"><div class=\"sk-estimator sk-toggleable\"><input class=\"sk-toggleable__control sk-hidden--visually\" id=\"sk-estimator-id-22\" type=\"checkbox\" ><label for=\"sk-estimator-id-22\" class=\"sk-toggleable__label sk-toggleable__label-arrow\">SimpleImputer</label><div class=\"sk-toggleable__content\"><pre>SimpleImputer()</pre></div></div></div><div class=\"sk-item\"><div class=\"sk-estimator sk-toggleable\"><input class=\"sk-toggleable__control sk-hidden--visually\" id=\"sk-estimator-id-23\" type=\"checkbox\" ><label for=\"sk-estimator-id-23\" class=\"sk-toggleable__label sk-toggleable__label-arrow\">StandardScaler</label><div class=\"sk-toggleable__content\"><pre>StandardScaler()</pre></div></div></div></div></div></div></div></div><div class=\"sk-parallel-item\"><div class=\"sk-item\"><div class=\"sk-label-container\"><div class=\"sk-label sk-toggleable\"><input class=\"sk-toggleable__control sk-hidden--visually\" id=\"sk-estimator-id-24\" type=\"checkbox\" ><label for=\"sk-estimator-id-24\" class=\"sk-toggleable__label sk-toggleable__label-arrow\">create_dummies</label><div class=\"sk-toggleable__content\"><pre>[&#x27;sex&#x27;, &#x27;chest_pain_type&#x27;, &#x27;fasting_blood_sugar&#x27;, &#x27;ekg_results&#x27;, &#x27;exercise_angina&#x27;, &#x27;slope_of_st&#x27;, &#x27;thallium&#x27;, &#x27;country&#x27;]</pre></div></div></div><div class=\"sk-serial\"><div class=\"sk-item\"><div class=\"sk-serial\"><div class=\"sk-item\"><div class=\"sk-estimator sk-toggleable\"><input class=\"sk-toggleable__control sk-hidden--visually\" id=\"sk-estimator-id-25\" type=\"checkbox\" ><label for=\"sk-estimator-id-25\" class=\"sk-toggleable__label sk-toggleable__label-arrow\">SimpleImputer</label><div class=\"sk-toggleable__content\"><pre>SimpleImputer(strategy=&#x27;most_frequent&#x27;)</pre></div></div></div><div class=\"sk-item\"><div class=\"sk-estimator sk-toggleable\"><input class=\"sk-toggleable__control sk-hidden--visually\" id=\"sk-estimator-id-26\" type=\"checkbox\" ><label for=\"sk-estimator-id-26\" class=\"sk-toggleable__label sk-toggleable__label-arrow\">OneHotEncoder</label><div class=\"sk-toggleable__content\"><pre>OneHotEncoder(handle_unknown=&#x27;ignore&#x27;, sparse=False, sparse_output=False)</pre></div></div></div></div></div></div></div></div></div></div><div class=\"sk-item\"><div class=\"sk-estimator sk-toggleable\"><input class=\"sk-toggleable__control sk-hidden--visually\" id=\"sk-estimator-id-27\" type=\"checkbox\" ><label for=\"sk-estimator-id-27\" class=\"sk-toggleable__label sk-toggleable__label-arrow\">MLPClassifier</label><div class=\"sk-toggleable__content\"><pre>MLPClassifier(hidden_layer_sizes=(25,), max_iter=100)</pre></div></div></div></div></div></div></div>"
            ]
          },
          "metadata": {},
          "execution_count": 42
        }
      ]
    },
    {
      "cell_type": "code",
      "source": [
        "y_testp_mlp = mlp_pipeline.fit(X_train, y_train).predict(X_test)\n",
        "y_trainp_mlp = mlp_pipeline.fit(X_train, y_train).predict(X_train)"
      ],
      "metadata": {
        "id": "voZTjRayB2a7"
      },
      "id": "voZTjRayB2a7",
      "execution_count": 43,
      "outputs": []
    },
    {
      "cell_type": "code",
      "source": [
        "cm = confusion_matrix(y_test, y_testp_dt)\n",
        "cm_norm = cm / cm.sum(axis=1).reshape(-1,1)\n",
        "plot_confusion_matrix(cm_norm, classes = mlp_pipeline.classes_, title='Confusion matrix')\n",
        "plt.show()"
      ],
      "metadata": {
        "colab": {
          "base_uri": "https://localhost:8080/",
          "height": 718
        },
        "id": "EKvVbtWLB-pN",
        "outputId": "3ff4e68c-e927-4cda-e127-895ad6544943"
      },
      "id": "EKvVbtWLB-pN",
      "execution_count": 44,
      "outputs": [
        {
          "output_type": "display_data",
          "data": {
            "text/plain": [
              "<Figure size 1000x800 with 2 Axes>"
            ],
            "image/png": "[encoded data removed]"
          },
          "metadata": {}
        }
      ]
    },
    {
      "cell_type": "code",
      "source": [
        "\n",
        "print('----------------------------------------------------------------------------')\n",
        "print('                              TRAINING DATA                                 ')\n",
        "print('----------------------------------------------------------------------------')\n",
        "print(classification_report(y_train, y_trainp_mlp))\n",
        "print('----------------------------------------------------------------------------')\n",
        "print('                              TESTING DATA                                 ')\n",
        "print('----------------------------------------------------------------------------')\n",
        "print(classification_report(y_test, y_testp_mlp))"
      ],
      "metadata": {
        "colab": {
          "base_uri": "https://localhost:8080/"
        },
        "id": "hEpEzJDfCEaq",
        "outputId": "b887ac78-95ac-416e-b1fd-213d5721e0f5"
      },
      "id": "hEpEzJDfCEaq",
      "execution_count": 45,
      "outputs": [
        {
          "output_type": "stream",
          "name": "stdout",
          "text": [
            "----------------------------------------------------------------------------\n",
            "                              TRAINING DATA                                 \n",
            "----------------------------------------------------------------------------\n",
            "              precision    recall  f1-score   support\n",
            "\n",
            "     Absence       0.87      0.91      0.89       408\n",
            "    Presence       0.88      0.82      0.85       311\n",
            "\n",
            "    accuracy                           0.87       719\n",
            "   macro avg       0.87      0.87      0.87       719\n",
            "weighted avg       0.87      0.87      0.87       719\n",
            "\n",
            "----------------------------------------------------------------------------\n",
            "                              TESTING DATA                                 \n",
            "----------------------------------------------------------------------------\n",
            "              precision    recall  f1-score   support\n",
            "\n",
            "     Absence       0.97      0.85      0.91       107\n",
            "    Presence       0.81      0.96      0.88        73\n",
            "\n",
            "    accuracy                           0.89       180\n",
            "   macro avg       0.89      0.90      0.89       180\n",
            "weighted avg       0.91      0.89      0.90       180\n",
            "\n"
          ]
        }
      ]
    },
    {
      "cell_type": "code",
      "source": [
        "train_accuracy_mlp=accuracy_score(y_train,y_trainp_mlp)\n",
        "test_accuracy_mlp=accuracy_score(y_test,y_testp_mlp)\n",
        "print(f'Accuracy on train data:{accuracy_score(y_train,y_trainp_mlp):.2%}')\n",
        "print(f'Accuracy on test data:{accuracy_score(y_test,y_testp_mlp):.2%}')\n",
        "train_precision_mlp = precision_score(y_train,y_trainp_mlp,average = 'macro')\n",
        "test_precision_mlp = precision_score(y_test,y_testp_mlp,average = 'macro')\n",
        "print(f'Precision on train data:{train_precision_mlp:.2%}')\n",
        "print(f'Precision on test data:{test_precision_mlp:.2%}')\n",
        "train_recall_mlp = recall_score(y_train, y_trainp_mlp, average='macro')\n",
        "test_recall_mlp = recall_score(y_test, y_testp_mlp, average='macro')\n",
        "print(f'Recall on train data:{train_recall_mlp:.2%}')\n",
        "print(f'Recall on test data:{test_recall_mlp:.2%}')"
      ],
      "metadata": {
        "colab": {
          "base_uri": "https://localhost:8080/"
        },
        "id": "S46GlSDTEMoq",
        "outputId": "c9d54329-2844-40aa-9d8b-69b78990afb7"
      },
      "id": "S46GlSDTEMoq",
      "execution_count": 46,
      "outputs": [
        {
          "output_type": "stream",
          "name": "stdout",
          "text": [
            "Accuracy on train data:87.20%\n",
            "Accuracy on test data:89.44%\n",
            "Precision on train data:87.32%\n",
            "Precision on test data:89.10%\n",
            "Recall on train data:86.55%\n",
            "Recall on test data:90.47%\n"
          ]
        }
      ]
    },
    {
      "cell_type": "code",
      "source": [
        "roc_auc_score(y_train, generate_probs(X_train))"
      ],
      "metadata": {
        "colab": {
          "base_uri": "https://localhost:8080/"
        },
        "id": "g47mUP56qutT",
        "outputId": "ce743f53-ad49-4e4a-9ea9-b6eb9ee6079a"
      },
      "id": "g47mUP56qutT",
      "execution_count": 47,
      "outputs": [
        {
          "output_type": "execute_result",
          "data": {
            "text/plain": [
              "0.9961619696109956"
            ]
          },
          "metadata": {},
          "execution_count": 47
        }
      ]
    },
    {
      "cell_type": "code",
      "source": [
        "roc_auc_score(y_test, generate_probs(X_test))"
      ],
      "metadata": {
        "colab": {
          "base_uri": "https://localhost:8080/"
        },
        "id": "mwQChyt6qzI_",
        "outputId": "5f702649-6dd4-41e6-d209-1c2fb5563824"
      },
      "id": "mwQChyt6qzI_",
      "execution_count": 48,
      "outputs": [
        {
          "output_type": "execute_result",
          "data": {
            "text/plain": [
              "0.896684163359365"
            ]
          },
          "metadata": {},
          "execution_count": 48
        }
      ]
    },
    {
      "cell_type": "markdown",
      "source": [
        "#### Comments:\n",
        "From the data, MLP Classifier is performed well \n",
        "\n",
        "with Accuracy on train data:88.73%\n",
        "\n",
        "Accuracy on test data:88.33%\n",
        "\n",
        "Precision on train data:88.75%\n",
        "\n",
        "Precision on test data:87.99%\n",
        "\n",
        "Recall on train data:88.24%\n",
        "\n",
        "Recall on test data:89.32%\n",
        "\n",
        "with little problems of overfillting, however from the performance metrics the models seems to be performing well with Recall as my parameter of test Recall of 89.32%."
      ],
      "metadata": {
        "id": "O2QK96tEjFH1"
      },
      "id": "O2QK96tEjFH1"
    },
    {
      "cell_type": "markdown",
      "source": [
        "### Comparison of plots"
      ],
      "metadata": {
        "id": "1zbQ1W4pUN93"
      },
      "id": "1zbQ1W4pUN93"
    },
    {
      "cell_type": "markdown",
      "source": [
        "### Test Accuracy"
      ],
      "metadata": {
        "id": "2on4n3vpUTuI"
      },
      "id": "2on4n3vpUTuI"
    },
    {
      "cell_type": "code",
      "source": [
        "import plotly.express as px\n",
        "\n",
        "# create a sample dataframe with accuracy values\n",
        "data = {'Model': ['Logreg', 'RandomForest', 'DecisionTree', 'MLP'],\n",
        "        'Accuracy': [test_accuracy_lr, test_accuracy_rf,test_accuracy_dt,test_accuracy_mlp]}\n",
        "df = pd.DataFrame(data)\n",
        "\n",
        "# convert the accuracy values to percentages\n",
        "df['Accuracy'] = df['Accuracy']*100\n",
        "\n",
        "# create the box plot using Plotly Express\n",
        "fig = px.bar(df.sort_values(by=\"Accuracy\", ascending=False), x='Model', y='Accuracy',\n",
        "             labels={'Accuracy': 'Accuracy (%)'},\n",
        "             title='Model Accuracy',\n",
        "             template=\"plotly_dark\")\n",
        "fig.show()\n"
      ],
      "metadata": {
        "colab": {
          "base_uri": "https://localhost:8080/",
          "height": 542
        },
        "id": "WS8C9TuVUNXE",
        "outputId": "95b62dca-9f0f-4289-d497-79765f3733f5"
      },
      "id": "WS8C9TuVUNXE",
      "execution_count": 49,
      "outputs": [
        {
          "output_type": "display_data",
          "data": {
            "text/html": [
              "<html>\n",
              "<head><meta charset=\"utf-8\" /></head>\n",
              "<body>\n",
              "    <div>            <script src=\"https://cdnjs.cloudflare.com/ajax/libs/mathjax/2.7.5/MathJax.js?config=TeX-AMS-MML_SVG\"></script><script type=\"text/javascript\">if (window.MathJax && window.MathJax.Hub && window.MathJax.Hub.Config) {window.MathJax.Hub.Config({SVG: {font: \"STIX-Web\"}});}</script>                <script type=\"text/javascript\">window.PlotlyConfig = {MathJaxConfig: 'local'};</script>\n",
              "        <script src=\"https://cdn.plot.ly/plotly-2.18.2.min.js\"></script>                <div id=\"050bf6ac-ab9b-4f9c-bd85-b046f2267b90\" class=\"plotly-graph-div\" style=\"height:525px; width:100%;\"></div>            <script type=\"text/javascript\">                                    window.PLOTLYENV=window.PLOTLYENV || {};                                    if (document.getElementById(\"050bf6ac-ab9b-4f9c-bd85-b046f2267b90\")) {                    Plotly.newPlot(                        \"050bf6ac-ab9b-4f9c-bd85-b046f2267b90\",                        [{\"alignmentgroup\":\"True\",\"hovertemplate\":\"Model=%{x}<br>Accuracy (%)=%{y}<extra></extra>\",\"legendgroup\":\"\",\"marker\":{\"color\":\"#636efa\",\"pattern\":{\"shape\":\"\"}},\"name\":\"\",\"offsetgroup\":\"\",\"orientation\":\"v\",\"showlegend\":false,\"textposition\":\"auto\",\"x\":[\"RandomForest\",\"MLP\",\"Logreg\",\"DecisionTree\"],\"xaxis\":\"x\",\"y\":[91.11111111111111,89.44444444444444,88.33333333333333,86.66666666666667],\"yaxis\":\"y\",\"type\":\"bar\"}],                        {\"template\":{\"data\":{\"barpolar\":[{\"marker\":{\"line\":{\"color\":\"rgb(17,17,17)\",\"width\":0.5},\"pattern\":{\"fillmode\":\"overlay\",\"size\":10,\"solidity\":0.2}},\"type\":\"barpolar\"}],\"bar\":[{\"error_x\":{\"color\":\"#f2f5fa\"},\"error_y\":{\"color\":\"#f2f5fa\"},\"marker\":{\"line\":{\"color\":\"rgb(17,17,17)\",\"width\":0.5},\"pattern\":{\"fillmode\":\"overlay\",\"size\":10,\"solidity\":0.2}},\"type\":\"bar\"}],\"carpet\":[{\"aaxis\":{\"endlinecolor\":\"#A2B1C6\",\"gridcolor\":\"#506784\",\"linecolor\":\"#506784\",\"minorgridcolor\":\"#506784\",\"startlinecolor\":\"#A2B1C6\"},\"baxis\":{\"endlinecolor\":\"#A2B1C6\",\"gridcolor\":\"#506784\",\"linecolor\":\"#506784\",\"minorgridcolor\":\"#506784\",\"startlinecolor\":\"#A2B1C6\"},\"type\":\"carpet\"}],\"choropleth\":[{\"colorbar\":{\"outlinewidth\":0,\"ticks\":\"\"},\"type\":\"choropleth\"}],\"contourcarpet\":[{\"colorbar\":{\"outlinewidth\":0,\"ticks\":\"\"},\"type\":\"contourcarpet\"}],\"contour\":[{\"colorbar\":{\"outlinewidth\":0,\"ticks\":\"\"},\"colorscale\":[[0.0,\"#0d0887\"],[0.1111111111111111,\"#46039f\"],[0.2222222222222222,\"#7201a8\"],[0.3333333333333333,\"#9c179e\"],[0.4444444444444444,\"#bd3786\"],[0.5555555555555556,\"#d8576b\"],[0.6666666666666666,\"#ed7953\"],[0.7777777777777778,\"#fb9f3a\"],[0.8888888888888888,\"#fdca26\"],[1.0,\"#f0f921\"]],\"type\":\"contour\"}],\"heatmapgl\":[{\"colorbar\":{\"outlinewidth\":0,\"ticks\":\"\"},\"colorscale\":[[0.0,\"#0d0887\"],[0.1111111111111111,\"#46039f\"],[0.2222222222222222,\"#7201a8\"],[0.3333333333333333,\"#9c179e\"],[0.4444444444444444,\"#bd3786\"],[0.5555555555555556,\"#d8576b\"],[0.6666666666666666,\"#ed7953\"],[0.7777777777777778,\"#fb9f3a\"],[0.8888888888888888,\"#fdca26\"],[1.0,\"#f0f921\"]],\"type\":\"heatmapgl\"}],\"heatmap\":[{\"colorbar\":{\"outlinewidth\":0,\"ticks\":\"\"},\"colorscale\":[[0.0,\"#0d0887\"],[0.1111111111111111,\"#46039f\"],[0.2222222222222222,\"#7201a8\"],[0.3333333333333333,\"#9c179e\"],[0.4444444444444444,\"#bd3786\"],[0.5555555555555556,\"#d8576b\"],[0.6666666666666666,\"#ed7953\"],[0.7777777777777778,\"#fb9f3a\"],[0.8888888888888888,\"#fdca26\"],[1.0,\"#f0f921\"]],\"type\":\"heatmap\"}],\"histogram2dcontour\":[{\"colorbar\":{\"outlinewidth\":0,\"ticks\":\"\"},\"colorscale\":[[0.0,\"#0d0887\"],[0.1111111111111111,\"#46039f\"],[0.2222222222222222,\"#7201a8\"],[0.3333333333333333,\"#9c179e\"],[0.4444444444444444,\"#bd3786\"],[0.5555555555555556,\"#d8576b\"],[0.6666666666666666,\"#ed7953\"],[0.7777777777777778,\"#fb9f3a\"],[0.8888888888888888,\"#fdca26\"],[1.0,\"#f0f921\"]],\"type\":\"histogram2dcontour\"}],\"histogram2d\":[{\"colorbar\":{\"outlinewidth\":0,\"ticks\":\"\"},\"colorscale\":[[0.0,\"#0d0887\"],[0.1111111111111111,\"#46039f\"],[0.2222222222222222,\"#7201a8\"],[0.3333333333333333,\"#9c179e\"],[0.4444444444444444,\"#bd3786\"],[0.5555555555555556,\"#d8576b\"],[0.6666666666666666,\"#ed7953\"],[0.7777777777777778,\"#fb9f3a\"],[0.8888888888888888,\"#fdca26\"],[1.0,\"#f0f921\"]],\"type\":\"histogram2d\"}],\"histogram\":[{\"marker\":{\"pattern\":{\"fillmode\":\"overlay\",\"size\":10,\"solidity\":0.2}},\"type\":\"histogram\"}],\"mesh3d\":[{\"colorbar\":{\"outlinewidth\":0,\"ticks\":\"\"},\"type\":\"mesh3d\"}],\"parcoords\":[{\"line\":{\"colorbar\":{\"outlinewidth\":0,\"ticks\":\"\"}},\"type\":\"parcoords\"}],\"pie\":[{\"automargin\":true,\"type\":\"pie\"}],\"scatter3d\":[{\"line\":{\"colorbar\":{\"outlinewidth\":0,\"ticks\":\"\"}},\"marker\":{\"colorbar\":{\"outlinewidth\":0,\"ticks\":\"\"}},\"type\":\"scatter3d\"}],\"scattercarpet\":[{\"marker\":{\"colorbar\":{\"outlinewidth\":0,\"ticks\":\"\"}},\"type\":\"scattercarpet\"}],\"scattergeo\":[{\"marker\":{\"colorbar\":{\"outlinewidth\":0,\"ticks\":\"\"}},\"type\":\"scattergeo\"}],\"scattergl\":[{\"marker\":{\"line\":{\"color\":\"#283442\"}},\"type\":\"scattergl\"}],\"scattermapbox\":[{\"marker\":{\"colorbar\":{\"outlinewidth\":0,\"ticks\":\"\"}},\"type\":\"scattermapbox\"}],\"scatterpolargl\":[{\"marker\":{\"colorbar\":{\"outlinewidth\":0,\"ticks\":\"\"}},\"type\":\"scatterpolargl\"}],\"scatterpolar\":[{\"marker\":{\"colorbar\":{\"outlinewidth\":0,\"ticks\":\"\"}},\"type\":\"scatterpolar\"}],\"scatter\":[{\"marker\":{\"line\":{\"color\":\"#283442\"}},\"type\":\"scatter\"}],\"scatterternary\":[{\"marker\":{\"colorbar\":{\"outlinewidth\":0,\"ticks\":\"\"}},\"type\":\"scatterternary\"}],\"surface\":[{\"colorbar\":{\"outlinewidth\":0,\"ticks\":\"\"},\"colorscale\":[[0.0,\"#0d0887\"],[0.1111111111111111,\"#46039f\"],[0.2222222222222222,\"#7201a8\"],[0.3333333333333333,\"#9c179e\"],[0.4444444444444444,\"#bd3786\"],[0.5555555555555556,\"#d8576b\"],[0.6666666666666666,\"#ed7953\"],[0.7777777777777778,\"#fb9f3a\"],[0.8888888888888888,\"#fdca26\"],[1.0,\"#f0f921\"]],\"type\":\"surface\"}],\"table\":[{\"cells\":{\"fill\":{\"color\":\"#506784\"},\"line\":{\"color\":\"rgb(17,17,17)\"}},\"header\":{\"fill\":{\"color\":\"#2a3f5f\"},\"line\":{\"color\":\"rgb(17,17,17)\"}},\"type\":\"table\"}]},\"layout\":{\"annotationdefaults\":{\"arrowcolor\":\"#f2f5fa\",\"arrowhead\":0,\"arrowwidth\":1},\"autotypenumbers\":\"strict\",\"coloraxis\":{\"colorbar\":{\"outlinewidth\":0,\"ticks\":\"\"}},\"colorscale\":{\"diverging\":[[0,\"#8e0152\"],[0.1,\"#c51b7d\"],[0.2,\"#de77ae\"],[0.3,\"#f1b6da\"],[0.4,\"#fde0ef\"],[0.5,\"#f7f7f7\"],[0.6,\"#e6f5d0\"],[0.7,\"#b8e186\"],[0.8,\"#7fbc41\"],[0.9,\"#4d9221\"],[1,\"#276419\"]],\"sequential\":[[0.0,\"#0d0887\"],[0.1111111111111111,\"#46039f\"],[0.2222222222222222,\"#7201a8\"],[0.3333333333333333,\"#9c179e\"],[0.4444444444444444,\"#bd3786\"],[0.5555555555555556,\"#d8576b\"],[0.6666666666666666,\"#ed7953\"],[0.7777777777777778,\"#fb9f3a\"],[0.8888888888888888,\"#fdca26\"],[1.0,\"#f0f921\"]],\"sequentialminus\":[[0.0,\"#0d0887\"],[0.1111111111111111,\"#46039f\"],[0.2222222222222222,\"#7201a8\"],[0.3333333333333333,\"#9c179e\"],[0.4444444444444444,\"#bd3786\"],[0.5555555555555556,\"#d8576b\"],[0.6666666666666666,\"#ed7953\"],[0.7777777777777778,\"#fb9f3a\"],[0.8888888888888888,\"#fdca26\"],[1.0,\"#f0f921\"]]},\"colorway\":[\"#636efa\",\"#EF553B\",\"#00cc96\",\"#ab63fa\",\"#FFA15A\",\"#19d3f3\",\"#FF6692\",\"#B6E880\",\"#FF97FF\",\"#FECB52\"],\"font\":{\"color\":\"#f2f5fa\"},\"geo\":{\"bgcolor\":\"rgb(17,17,17)\",\"lakecolor\":\"rgb(17,17,17)\",\"landcolor\":\"rgb(17,17,17)\",\"showlakes\":true,\"showland\":true,\"subunitcolor\":\"#506784\"},\"hoverlabel\":{\"align\":\"left\"},\"hovermode\":\"closest\",\"mapbox\":{\"style\":\"dark\"},\"paper_bgcolor\":\"rgb(17,17,17)\",\"plot_bgcolor\":\"rgb(17,17,17)\",\"polar\":{\"angularaxis\":{\"gridcolor\":\"#506784\",\"linecolor\":\"#506784\",\"ticks\":\"\"},\"bgcolor\":\"rgb(17,17,17)\",\"radialaxis\":{\"gridcolor\":\"#506784\",\"linecolor\":\"#506784\",\"ticks\":\"\"}},\"scene\":{\"xaxis\":{\"backgroundcolor\":\"rgb(17,17,17)\",\"gridcolor\":\"#506784\",\"gridwidth\":2,\"linecolor\":\"#506784\",\"showbackground\":true,\"ticks\":\"\",\"zerolinecolor\":\"#C8D4E3\"},\"yaxis\":{\"backgroundcolor\":\"rgb(17,17,17)\",\"gridcolor\":\"#506784\",\"gridwidth\":2,\"linecolor\":\"#506784\",\"showbackground\":true,\"ticks\":\"\",\"zerolinecolor\":\"#C8D4E3\"},\"zaxis\":{\"backgroundcolor\":\"rgb(17,17,17)\",\"gridcolor\":\"#506784\",\"gridwidth\":2,\"linecolor\":\"#506784\",\"showbackground\":true,\"ticks\":\"\",\"zerolinecolor\":\"#C8D4E3\"}},\"shapedefaults\":{\"line\":{\"color\":\"#f2f5fa\"}},\"sliderdefaults\":{\"bgcolor\":\"#C8D4E3\",\"bordercolor\":\"rgb(17,17,17)\",\"borderwidth\":1,\"tickwidth\":0},\"ternary\":{\"aaxis\":{\"gridcolor\":\"#506784\",\"linecolor\":\"#506784\",\"ticks\":\"\"},\"baxis\":{\"gridcolor\":\"#506784\",\"linecolor\":\"#506784\",\"ticks\":\"\"},\"bgcolor\":\"rgb(17,17,17)\",\"caxis\":{\"gridcolor\":\"#506784\",\"linecolor\":\"#506784\",\"ticks\":\"\"}},\"title\":{\"x\":0.05},\"updatemenudefaults\":{\"bgcolor\":\"#506784\",\"borderwidth\":0},\"xaxis\":{\"automargin\":true,\"gridcolor\":\"#283442\",\"linecolor\":\"#506784\",\"ticks\":\"\",\"title\":{\"standoff\":15},\"zerolinecolor\":\"#283442\",\"zerolinewidth\":2},\"yaxis\":{\"automargin\":true,\"gridcolor\":\"#283442\",\"linecolor\":\"#506784\",\"ticks\":\"\",\"title\":{\"standoff\":15},\"zerolinecolor\":\"#283442\",\"zerolinewidth\":2}}},\"xaxis\":{\"anchor\":\"y\",\"domain\":[0.0,1.0],\"title\":{\"text\":\"Model\"}},\"yaxis\":{\"anchor\":\"x\",\"domain\":[0.0,1.0],\"title\":{\"text\":\"Accuracy (%)\"}},\"legend\":{\"tracegroupgap\":0},\"title\":{\"text\":\"Model Accuracy\"},\"barmode\":\"relative\"},                        {\"responsive\": true}                    ).then(function(){\n",
              "                            \n",
              "var gd = document.getElementById('050bf6ac-ab9b-4f9c-bd85-b046f2267b90');\n",
              "var x = new MutationObserver(function (mutations, observer) {{\n",
              "        var display = window.getComputedStyle(gd).display;\n",
              "        if (!display || display === 'none') {{\n",
              "            console.log([gd, 'removed!']);\n",
              "            Plotly.purge(gd);\n",
              "            observer.disconnect();\n",
              "        }}\n",
              "}});\n",
              "\n",
              "// Listen for the removal of the full notebook cells\n",
              "var notebookContainer = gd.closest('#notebook-container');\n",
              "if (notebookContainer) {{\n",
              "    x.observe(notebookContainer, {childList: true});\n",
              "}}\n",
              "\n",
              "// Listen for the clearing of the current output cell\n",
              "var outputEl = gd.closest('.output');\n",
              "if (outputEl) {{\n",
              "    x.observe(outputEl, {childList: true});\n",
              "}}\n",
              "\n",
              "                        })                };                            </script>        </div>\n",
              "</body>\n",
              "</html>"
            ]
          },
          "metadata": {}
        }
      ]
    },
    {
      "cell_type": "code",
      "source": [
        "\n",
        "# create a sample dataframe with accuracy values\n",
        "data = {'Model': ['Logreg', 'RandomForest', 'DecisionTree', 'MLP'],\n",
        "        'Recall': [test_recall_lr, test_recall_rf,test_recall_dt,test_recall_mlp]}\n",
        "df = pd.DataFrame(data)\n",
        "\n",
        "# convert the accuracy values to percentages\n",
        "df['Recall'] = df['Recall']*100\n",
        "\n",
        "# create the box plot using Plotly Express\n",
        "fig = px.bar(df.sort_values(by=\"Recall\", ascending=False), x='Model', y='Recall',\n",
        "             labels={'Recall': 'Recall (%)'},\n",
        "             title='Model Recall',\n",
        "             template=\"plotly_dark\")\n",
        "fig.show()\n"
      ],
      "metadata": {
        "colab": {
          "base_uri": "https://localhost:8080/",
          "height": 542
        },
        "id": "F-SEj3VaWh-E",
        "outputId": "637b62b4-c919-4b54-9d06-79e53bf4e9e3"
      },
      "id": "F-SEj3VaWh-E",
      "execution_count": 50,
      "outputs": [
        {
          "output_type": "display_data",
          "data": {
            "text/html": [
              "<html>\n",
              "<head><meta charset=\"utf-8\" /></head>\n",
              "<body>\n",
              "    <div>            <script src=\"https://cdnjs.cloudflare.com/ajax/libs/mathjax/2.7.5/MathJax.js?config=TeX-AMS-MML_SVG\"></script><script type=\"text/javascript\">if (window.MathJax && window.MathJax.Hub && window.MathJax.Hub.Config) {window.MathJax.Hub.Config({SVG: {font: \"STIX-Web\"}});}</script>                <script type=\"text/javascript\">window.PlotlyConfig = {MathJaxConfig: 'local'};</script>\n",
              "        <script src=\"https://cdn.plot.ly/plotly-2.18.2.min.js\"></script>                <div id=\"c2b85f48-9dd5-49fe-b722-2b205a8fad3b\" class=\"plotly-graph-div\" style=\"height:525px; width:100%;\"></div>            <script type=\"text/javascript\">                                    window.PLOTLYENV=window.PLOTLYENV || {};                                    if (document.getElementById(\"c2b85f48-9dd5-49fe-b722-2b205a8fad3b\")) {                    Plotly.newPlot(                        \"c2b85f48-9dd5-49fe-b722-2b205a8fad3b\",                        [{\"alignmentgroup\":\"True\",\"hovertemplate\":\"Model=%{x}<br>Recall (%)=%{y}<extra></extra>\",\"legendgroup\":\"\",\"marker\":{\"color\":\"#636efa\",\"pattern\":{\"shape\":\"\"}},\"name\":\"\",\"offsetgroup\":\"\",\"orientation\":\"v\",\"showlegend\":false,\"textposition\":\"auto\",\"x\":[\"RandomForest\",\"MLP\",\"Logreg\",\"DecisionTree\"],\"xaxis\":\"x\",\"y\":[91.87043912431186,90.46856996543336,89.31634873895788,87.91447958007937],\"yaxis\":\"y\",\"type\":\"bar\"}],                        {\"template\":{\"data\":{\"barpolar\":[{\"marker\":{\"line\":{\"color\":\"rgb(17,17,17)\",\"width\":0.5},\"pattern\":{\"fillmode\":\"overlay\",\"size\":10,\"solidity\":0.2}},\"type\":\"barpolar\"}],\"bar\":[{\"error_x\":{\"color\":\"#f2f5fa\"},\"error_y\":{\"color\":\"#f2f5fa\"},\"marker\":{\"line\":{\"color\":\"rgb(17,17,17)\",\"width\":0.5},\"pattern\":{\"fillmode\":\"overlay\",\"size\":10,\"solidity\":0.2}},\"type\":\"bar\"}],\"carpet\":[{\"aaxis\":{\"endlinecolor\":\"#A2B1C6\",\"gridcolor\":\"#506784\",\"linecolor\":\"#506784\",\"minorgridcolor\":\"#506784\",\"startlinecolor\":\"#A2B1C6\"},\"baxis\":{\"endlinecolor\":\"#A2B1C6\",\"gridcolor\":\"#506784\",\"linecolor\":\"#506784\",\"minorgridcolor\":\"#506784\",\"startlinecolor\":\"#A2B1C6\"},\"type\":\"carpet\"}],\"choropleth\":[{\"colorbar\":{\"outlinewidth\":0,\"ticks\":\"\"},\"type\":\"choropleth\"}],\"contourcarpet\":[{\"colorbar\":{\"outlinewidth\":0,\"ticks\":\"\"},\"type\":\"contourcarpet\"}],\"contour\":[{\"colorbar\":{\"outlinewidth\":0,\"ticks\":\"\"},\"colorscale\":[[0.0,\"#0d0887\"],[0.1111111111111111,\"#46039f\"],[0.2222222222222222,\"#7201a8\"],[0.3333333333333333,\"#9c179e\"],[0.4444444444444444,\"#bd3786\"],[0.5555555555555556,\"#d8576b\"],[0.6666666666666666,\"#ed7953\"],[0.7777777777777778,\"#fb9f3a\"],[0.8888888888888888,\"#fdca26\"],[1.0,\"#f0f921\"]],\"type\":\"contour\"}],\"heatmapgl\":[{\"colorbar\":{\"outlinewidth\":0,\"ticks\":\"\"},\"colorscale\":[[0.0,\"#0d0887\"],[0.1111111111111111,\"#46039f\"],[0.2222222222222222,\"#7201a8\"],[0.3333333333333333,\"#9c179e\"],[0.4444444444444444,\"#bd3786\"],[0.5555555555555556,\"#d8576b\"],[0.6666666666666666,\"#ed7953\"],[0.7777777777777778,\"#fb9f3a\"],[0.8888888888888888,\"#fdca26\"],[1.0,\"#f0f921\"]],\"type\":\"heatmapgl\"}],\"heatmap\":[{\"colorbar\":{\"outlinewidth\":0,\"ticks\":\"\"},\"colorscale\":[[0.0,\"#0d0887\"],[0.1111111111111111,\"#46039f\"],[0.2222222222222222,\"#7201a8\"],[0.3333333333333333,\"#9c179e\"],[0.4444444444444444,\"#bd3786\"],[0.5555555555555556,\"#d8576b\"],[0.6666666666666666,\"#ed7953\"],[0.7777777777777778,\"#fb9f3a\"],[0.8888888888888888,\"#fdca26\"],[1.0,\"#f0f921\"]],\"type\":\"heatmap\"}],\"histogram2dcontour\":[{\"colorbar\":{\"outlinewidth\":0,\"ticks\":\"\"},\"colorscale\":[[0.0,\"#0d0887\"],[0.1111111111111111,\"#46039f\"],[0.2222222222222222,\"#7201a8\"],[0.3333333333333333,\"#9c179e\"],[0.4444444444444444,\"#bd3786\"],[0.5555555555555556,\"#d8576b\"],[0.6666666666666666,\"#ed7953\"],[0.7777777777777778,\"#fb9f3a\"],[0.8888888888888888,\"#fdca26\"],[1.0,\"#f0f921\"]],\"type\":\"histogram2dcontour\"}],\"histogram2d\":[{\"colorbar\":{\"outlinewidth\":0,\"ticks\":\"\"},\"colorscale\":[[0.0,\"#0d0887\"],[0.1111111111111111,\"#46039f\"],[0.2222222222222222,\"#7201a8\"],[0.3333333333333333,\"#9c179e\"],[0.4444444444444444,\"#bd3786\"],[0.5555555555555556,\"#d8576b\"],[0.6666666666666666,\"#ed7953\"],[0.7777777777777778,\"#fb9f3a\"],[0.8888888888888888,\"#fdca26\"],[1.0,\"#f0f921\"]],\"type\":\"histogram2d\"}],\"histogram\":[{\"marker\":{\"pattern\":{\"fillmode\":\"overlay\",\"size\":10,\"solidity\":0.2}},\"type\":\"histogram\"}],\"mesh3d\":[{\"colorbar\":{\"outlinewidth\":0,\"ticks\":\"\"},\"type\":\"mesh3d\"}],\"parcoords\":[{\"line\":{\"colorbar\":{\"outlinewidth\":0,\"ticks\":\"\"}},\"type\":\"parcoords\"}],\"pie\":[{\"automargin\":true,\"type\":\"pie\"}],\"scatter3d\":[{\"line\":{\"colorbar\":{\"outlinewidth\":0,\"ticks\":\"\"}},\"marker\":{\"colorbar\":{\"outlinewidth\":0,\"ticks\":\"\"}},\"type\":\"scatter3d\"}],\"scattercarpet\":[{\"marker\":{\"colorbar\":{\"outlinewidth\":0,\"ticks\":\"\"}},\"type\":\"scattercarpet\"}],\"scattergeo\":[{\"marker\":{\"colorbar\":{\"outlinewidth\":0,\"ticks\":\"\"}},\"type\":\"scattergeo\"}],\"scattergl\":[{\"marker\":{\"line\":{\"color\":\"#283442\"}},\"type\":\"scattergl\"}],\"scattermapbox\":[{\"marker\":{\"colorbar\":{\"outlinewidth\":0,\"ticks\":\"\"}},\"type\":\"scattermapbox\"}],\"scatterpolargl\":[{\"marker\":{\"colorbar\":{\"outlinewidth\":0,\"ticks\":\"\"}},\"type\":\"scatterpolargl\"}],\"scatterpolar\":[{\"marker\":{\"colorbar\":{\"outlinewidth\":0,\"ticks\":\"\"}},\"type\":\"scatterpolar\"}],\"scatter\":[{\"marker\":{\"line\":{\"color\":\"#283442\"}},\"type\":\"scatter\"}],\"scatterternary\":[{\"marker\":{\"colorbar\":{\"outlinewidth\":0,\"ticks\":\"\"}},\"type\":\"scatterternary\"}],\"surface\":[{\"colorbar\":{\"outlinewidth\":0,\"ticks\":\"\"},\"colorscale\":[[0.0,\"#0d0887\"],[0.1111111111111111,\"#46039f\"],[0.2222222222222222,\"#7201a8\"],[0.3333333333333333,\"#9c179e\"],[0.4444444444444444,\"#bd3786\"],[0.5555555555555556,\"#d8576b\"],[0.6666666666666666,\"#ed7953\"],[0.7777777777777778,\"#fb9f3a\"],[0.8888888888888888,\"#fdca26\"],[1.0,\"#f0f921\"]],\"type\":\"surface\"}],\"table\":[{\"cells\":{\"fill\":{\"color\":\"#506784\"},\"line\":{\"color\":\"rgb(17,17,17)\"}},\"header\":{\"fill\":{\"color\":\"#2a3f5f\"},\"line\":{\"color\":\"rgb(17,17,17)\"}},\"type\":\"table\"}]},\"layout\":{\"annotationdefaults\":{\"arrowcolor\":\"#f2f5fa\",\"arrowhead\":0,\"arrowwidth\":1},\"autotypenumbers\":\"strict\",\"coloraxis\":{\"colorbar\":{\"outlinewidth\":0,\"ticks\":\"\"}},\"colorscale\":{\"diverging\":[[0,\"#8e0152\"],[0.1,\"#c51b7d\"],[0.2,\"#de77ae\"],[0.3,\"#f1b6da\"],[0.4,\"#fde0ef\"],[0.5,\"#f7f7f7\"],[0.6,\"#e6f5d0\"],[0.7,\"#b8e186\"],[0.8,\"#7fbc41\"],[0.9,\"#4d9221\"],[1,\"#276419\"]],\"sequential\":[[0.0,\"#0d0887\"],[0.1111111111111111,\"#46039f\"],[0.2222222222222222,\"#7201a8\"],[0.3333333333333333,\"#9c179e\"],[0.4444444444444444,\"#bd3786\"],[0.5555555555555556,\"#d8576b\"],[0.6666666666666666,\"#ed7953\"],[0.7777777777777778,\"#fb9f3a\"],[0.8888888888888888,\"#fdca26\"],[1.0,\"#f0f921\"]],\"sequentialminus\":[[0.0,\"#0d0887\"],[0.1111111111111111,\"#46039f\"],[0.2222222222222222,\"#7201a8\"],[0.3333333333333333,\"#9c179e\"],[0.4444444444444444,\"#bd3786\"],[0.5555555555555556,\"#d8576b\"],[0.6666666666666666,\"#ed7953\"],[0.7777777777777778,\"#fb9f3a\"],[0.8888888888888888,\"#fdca26\"],[1.0,\"#f0f921\"]]},\"colorway\":[\"#636efa\",\"#EF553B\",\"#00cc96\",\"#ab63fa\",\"#FFA15A\",\"#19d3f3\",\"#FF6692\",\"#B6E880\",\"#FF97FF\",\"#FECB52\"],\"font\":{\"color\":\"#f2f5fa\"},\"geo\":{\"bgcolor\":\"rgb(17,17,17)\",\"lakecolor\":\"rgb(17,17,17)\",\"landcolor\":\"rgb(17,17,17)\",\"showlakes\":true,\"showland\":true,\"subunitcolor\":\"#506784\"},\"hoverlabel\":{\"align\":\"left\"},\"hovermode\":\"closest\",\"mapbox\":{\"style\":\"dark\"},\"paper_bgcolor\":\"rgb(17,17,17)\",\"plot_bgcolor\":\"rgb(17,17,17)\",\"polar\":{\"angularaxis\":{\"gridcolor\":\"#506784\",\"linecolor\":\"#506784\",\"ticks\":\"\"},\"bgcolor\":\"rgb(17,17,17)\",\"radialaxis\":{\"gridcolor\":\"#506784\",\"linecolor\":\"#506784\",\"ticks\":\"\"}},\"scene\":{\"xaxis\":{\"backgroundcolor\":\"rgb(17,17,17)\",\"gridcolor\":\"#506784\",\"gridwidth\":2,\"linecolor\":\"#506784\",\"showbackground\":true,\"ticks\":\"\",\"zerolinecolor\":\"#C8D4E3\"},\"yaxis\":{\"backgroundcolor\":\"rgb(17,17,17)\",\"gridcolor\":\"#506784\",\"gridwidth\":2,\"linecolor\":\"#506784\",\"showbackground\":true,\"ticks\":\"\",\"zerolinecolor\":\"#C8D4E3\"},\"zaxis\":{\"backgroundcolor\":\"rgb(17,17,17)\",\"gridcolor\":\"#506784\",\"gridwidth\":2,\"linecolor\":\"#506784\",\"showbackground\":true,\"ticks\":\"\",\"zerolinecolor\":\"#C8D4E3\"}},\"shapedefaults\":{\"line\":{\"color\":\"#f2f5fa\"}},\"sliderdefaults\":{\"bgcolor\":\"#C8D4E3\",\"bordercolor\":\"rgb(17,17,17)\",\"borderwidth\":1,\"tickwidth\":0},\"ternary\":{\"aaxis\":{\"gridcolor\":\"#506784\",\"linecolor\":\"#506784\",\"ticks\":\"\"},\"baxis\":{\"gridcolor\":\"#506784\",\"linecolor\":\"#506784\",\"ticks\":\"\"},\"bgcolor\":\"rgb(17,17,17)\",\"caxis\":{\"gridcolor\":\"#506784\",\"linecolor\":\"#506784\",\"ticks\":\"\"}},\"title\":{\"x\":0.05},\"updatemenudefaults\":{\"bgcolor\":\"#506784\",\"borderwidth\":0},\"xaxis\":{\"automargin\":true,\"gridcolor\":\"#283442\",\"linecolor\":\"#506784\",\"ticks\":\"\",\"title\":{\"standoff\":15},\"zerolinecolor\":\"#283442\",\"zerolinewidth\":2},\"yaxis\":{\"automargin\":true,\"gridcolor\":\"#283442\",\"linecolor\":\"#506784\",\"ticks\":\"\",\"title\":{\"standoff\":15},\"zerolinecolor\":\"#283442\",\"zerolinewidth\":2}}},\"xaxis\":{\"anchor\":\"y\",\"domain\":[0.0,1.0],\"title\":{\"text\":\"Model\"}},\"yaxis\":{\"anchor\":\"x\",\"domain\":[0.0,1.0],\"title\":{\"text\":\"Recall (%)\"}},\"legend\":{\"tracegroupgap\":0},\"title\":{\"text\":\"Model Recall\"},\"barmode\":\"relative\"},                        {\"responsive\": true}                    ).then(function(){\n",
              "                            \n",
              "var gd = document.getElementById('c2b85f48-9dd5-49fe-b722-2b205a8fad3b');\n",
              "var x = new MutationObserver(function (mutations, observer) {{\n",
              "        var display = window.getComputedStyle(gd).display;\n",
              "        if (!display || display === 'none') {{\n",
              "            console.log([gd, 'removed!']);\n",
              "            Plotly.purge(gd);\n",
              "            observer.disconnect();\n",
              "        }}\n",
              "}});\n",
              "\n",
              "// Listen for the removal of the full notebook cells\n",
              "var notebookContainer = gd.closest('#notebook-container');\n",
              "if (notebookContainer) {{\n",
              "    x.observe(notebookContainer, {childList: true});\n",
              "}}\n",
              "\n",
              "// Listen for the clearing of the current output cell\n",
              "var outputEl = gd.closest('.output');\n",
              "if (outputEl) {{\n",
              "    x.observe(outputEl, {childList: true});\n",
              "}}\n",
              "\n",
              "                        })                };                            </script>        </div>\n",
              "</body>\n",
              "</html>"
            ]
          },
          "metadata": {}
        }
      ]
    },
    {
      "cell_type": "markdown",
      "id": "47c74eec",
      "metadata": {
        "id": "47c74eec"
      },
      "source": [
        "#### Comments:\n",
        "From the data of comparison of models, from both Accuracy and Recall performance metrics are considered, the Random Forest data is performing well with little overfitting problems. Hence needs hyperparameter tuning."
      ]
    },
    {
      "cell_type": "markdown",
      "id": "f85807ef",
      "metadata": {
        "id": "f85807ef"
      },
      "source": [
        "## Hyper parameter tuning"
      ]
    },
    {
      "cell_type": "markdown",
      "id": "61bc1921",
      "metadata": {
        "id": "61bc1921"
      },
      "source": [
        "#### Logistic Regression "
      ]
    },
    {
      "cell_type": "code",
      "execution_count": 51,
      "id": "ecb1d718",
      "metadata": {
        "id": "ecb1d718",
        "colab": {
          "base_uri": "https://localhost:8080/",
          "height": 280
        },
        "outputId": "05c87d05-2378-4f9a-baea-7ac2b243df90"
      },
      "outputs": [
        {
          "output_type": "stream",
          "name": "stdout",
          "text": [
            "Validation score: 82.34%\n",
            "Train score: 83.31%\n",
            "Test score: 88.33%\n"
          ]
        },
        {
          "output_type": "execute_result",
          "data": {
            "text/plain": [
              "Pipeline(steps=[('data_processing',\n",
              "                 ColumnTransformer(transformers=[('proc_numeric',\n",
              "                                                  Pipeline(steps=[('impute_missing',\n",
              "                                                                   SimpleImputer()),\n",
              "                                                                  ('standardize_num',\n",
              "                                                                   StandardScaler())]),\n",
              "                                                  ['age',\n",
              "                                                   'resting blood pressure',\n",
              "                                                   'cholestoral', 'max_hr',\n",
              "                                                   'ST_depression',\n",
              "                                                   'vessels']),\n",
              "                                                 ('create_dummies',\n",
              "                                                  Pipeline(steps=[('impute_missing_cats',\n",
              "                                                                   SimpleImputer(strategy='most_frequent')),\n",
              "                                                                  ('create_dummies_cats',\n",
              "                                                                   OneHotEncoder(handle_unknown='ignore',\n",
              "                                                                                 sparse=False,\n",
              "                                                                                 sparse_output=False))]),\n",
              "                                                  ['sex', 'chest_pain_type',\n",
              "                                                   'fasting_blood_sugar',\n",
              "                                                   'ekg_results',\n",
              "                                                   'exercise_angina',\n",
              "                                                   'slope_of_st', 'thallium',\n",
              "                                                   'country'])])),\n",
              "                ('model', LogisticRegression(C=0.01, solver='liblinear'))])"
            ],
            "text/html": [
              "<style>#sk-container-id-4 {color: black;background-color: white;}#sk-container-id-4 pre{padding: 0;}#sk-container-id-4 div.sk-toggleable {background-color: white;}#sk-container-id-4 label.sk-toggleable__label {cursor: pointer;display: block;width: 100%;margin-bottom: 0;padding: 0.3em;box-sizing: border-box;text-align: center;}#sk-container-id-4 label.sk-toggleable__label-arrow:before {content: \"▸\";float: left;margin-right: 0.25em;color: #696969;}#sk-container-id-4 label.sk-toggleable__label-arrow:hover:before {color: black;}#sk-container-id-4 div.sk-estimator:hover label.sk-toggleable__label-arrow:before {color: black;}#sk-container-id-4 div.sk-toggleable__content {max-height: 0;max-width: 0;overflow: hidden;text-align: left;background-color: #f0f8ff;}#sk-container-id-4 div.sk-toggleable__content pre {margin: 0.2em;color: black;border-radius: 0.25em;background-color: #f0f8ff;}#sk-container-id-4 input.sk-toggleable__control:checked~div.sk-toggleable__content {max-height: 200px;max-width: 100%;overflow: auto;}#sk-container-id-4 input.sk-toggleable__control:checked~label.sk-toggleable__label-arrow:before {content: \"▾\";}#sk-container-id-4 div.sk-estimator input.sk-toggleable__control:checked~label.sk-toggleable__label {background-color: #d4ebff;}#sk-container-id-4 div.sk-label input.sk-toggleable__control:checked~label.sk-toggleable__label {background-color: #d4ebff;}#sk-container-id-4 input.sk-hidden--visually {border: 0;clip: rect(1px 1px 1px 1px);clip: rect(1px, 1px, 1px, 1px);height: 1px;margin: -1px;overflow: hidden;padding: 0;position: absolute;width: 1px;}#sk-container-id-4 div.sk-estimator {font-family: monospace;background-color: #f0f8ff;border: 1px dotted black;border-radius: 0.25em;box-sizing: border-box;margin-bottom: 0.5em;}#sk-container-id-4 div.sk-estimator:hover {background-color: #d4ebff;}#sk-container-id-4 div.sk-parallel-item::after {content: \"\";width: 100%;border-bottom: 1px solid gray;flex-grow: 1;}#sk-container-id-4 div.sk-label:hover label.sk-toggleable__label {background-color: #d4ebff;}#sk-container-id-4 div.sk-serial::before {content: \"\";position: absolute;border-left: 1px solid gray;box-sizing: border-box;top: 0;bottom: 0;left: 50%;z-index: 0;}#sk-container-id-4 div.sk-serial {display: flex;flex-direction: column;align-items: center;background-color: white;padding-right: 0.2em;padding-left: 0.2em;position: relative;}#sk-container-id-4 div.sk-item {position: relative;z-index: 1;}#sk-container-id-4 div.sk-parallel {display: flex;align-items: stretch;justify-content: center;background-color: white;position: relative;}#sk-container-id-4 div.sk-item::before, #sk-container-id-4 div.sk-parallel-item::before {content: \"\";position: absolute;border-left: 1px solid gray;box-sizing: border-box;top: 0;bottom: 0;left: 50%;z-index: -1;}#sk-container-id-4 div.sk-parallel-item {display: flex;flex-direction: column;z-index: 1;position: relative;background-color: white;}#sk-container-id-4 div.sk-parallel-item:first-child::after {align-self: flex-end;width: 50%;}#sk-container-id-4 div.sk-parallel-item:last-child::after {align-self: flex-start;width: 50%;}#sk-container-id-4 div.sk-parallel-item:only-child::after {width: 0;}#sk-container-id-4 div.sk-dashed-wrapped {border: 1px dashed gray;margin: 0 0.4em 0.5em 0.4em;box-sizing: border-box;padding-bottom: 0.4em;background-color: white;}#sk-container-id-4 div.sk-label label {font-family: monospace;font-weight: bold;display: inline-block;line-height: 1.2em;}#sk-container-id-4 div.sk-label-container {text-align: center;}#sk-container-id-4 div.sk-container {/* jupyter's `normalize.less` sets `[hidden] { display: none; }` but bootstrap.min.css set `[hidden] { display: none !important; }` so we also need the `!important` here to be able to override the default hidden behavior on the sphinx rendered scikit-learn.org. See: https://github.com/scikit-learn/scikit-learn/issues/21755 */display: inline-block !important;position: relative;}#sk-container-id-4 div.sk-text-repr-fallback {display: none;}</style><div id=\"sk-container-id-4\" class=\"sk-top-container\"><div class=\"sk-text-repr-fallback\"><pre>Pipeline(steps=[(&#x27;data_processing&#x27;,\n",
              "                 ColumnTransformer(transformers=[(&#x27;proc_numeric&#x27;,\n",
              "                                                  Pipeline(steps=[(&#x27;impute_missing&#x27;,\n",
              "                                                                   SimpleImputer()),\n",
              "                                                                  (&#x27;standardize_num&#x27;,\n",
              "                                                                   StandardScaler())]),\n",
              "                                                  [&#x27;age&#x27;,\n",
              "                                                   &#x27;resting blood pressure&#x27;,\n",
              "                                                   &#x27;cholestoral&#x27;, &#x27;max_hr&#x27;,\n",
              "                                                   &#x27;ST_depression&#x27;,\n",
              "                                                   &#x27;vessels&#x27;]),\n",
              "                                                 (&#x27;create_dummies&#x27;,\n",
              "                                                  Pipeline(steps=[(&#x27;impute_missing_cats&#x27;,\n",
              "                                                                   SimpleImputer(strategy=&#x27;most_frequent&#x27;)),\n",
              "                                                                  (&#x27;create_dummies_cats&#x27;,\n",
              "                                                                   OneHotEncoder(handle_unknown=&#x27;ignore&#x27;,\n",
              "                                                                                 sparse=False,\n",
              "                                                                                 sparse_output=False))]),\n",
              "                                                  [&#x27;sex&#x27;, &#x27;chest_pain_type&#x27;,\n",
              "                                                   &#x27;fasting_blood_sugar&#x27;,\n",
              "                                                   &#x27;ekg_results&#x27;,\n",
              "                                                   &#x27;exercise_angina&#x27;,\n",
              "                                                   &#x27;slope_of_st&#x27;, &#x27;thallium&#x27;,\n",
              "                                                   &#x27;country&#x27;])])),\n",
              "                (&#x27;model&#x27;, LogisticRegression(C=0.01, solver=&#x27;liblinear&#x27;))])</pre><b>In a Jupyter environment, please rerun this cell to show the HTML representation or trust the notebook. <br />On GitHub, the HTML representation is unable to render, please try loading this page with nbviewer.org.</b></div><div class=\"sk-container\" hidden><div class=\"sk-item sk-dashed-wrapped\"><div class=\"sk-label-container\"><div class=\"sk-label sk-toggleable\"><input class=\"sk-toggleable__control sk-hidden--visually\" id=\"sk-estimator-id-28\" type=\"checkbox\" ><label for=\"sk-estimator-id-28\" class=\"sk-toggleable__label sk-toggleable__label-arrow\">Pipeline</label><div class=\"sk-toggleable__content\"><pre>Pipeline(steps=[(&#x27;data_processing&#x27;,\n",
              "                 ColumnTransformer(transformers=[(&#x27;proc_numeric&#x27;,\n",
              "                                                  Pipeline(steps=[(&#x27;impute_missing&#x27;,\n",
              "                                                                   SimpleImputer()),\n",
              "                                                                  (&#x27;standardize_num&#x27;,\n",
              "                                                                   StandardScaler())]),\n",
              "                                                  [&#x27;age&#x27;,\n",
              "                                                   &#x27;resting blood pressure&#x27;,\n",
              "                                                   &#x27;cholestoral&#x27;, &#x27;max_hr&#x27;,\n",
              "                                                   &#x27;ST_depression&#x27;,\n",
              "                                                   &#x27;vessels&#x27;]),\n",
              "                                                 (&#x27;create_dummies&#x27;,\n",
              "                                                  Pipeline(steps=[(&#x27;impute_missing_cats&#x27;,\n",
              "                                                                   SimpleImputer(strategy=&#x27;most_frequent&#x27;)),\n",
              "                                                                  (&#x27;create_dummies_cats&#x27;,\n",
              "                                                                   OneHotEncoder(handle_unknown=&#x27;ignore&#x27;,\n",
              "                                                                                 sparse=False,\n",
              "                                                                                 sparse_output=False))]),\n",
              "                                                  [&#x27;sex&#x27;, &#x27;chest_pain_type&#x27;,\n",
              "                                                   &#x27;fasting_blood_sugar&#x27;,\n",
              "                                                   &#x27;ekg_results&#x27;,\n",
              "                                                   &#x27;exercise_angina&#x27;,\n",
              "                                                   &#x27;slope_of_st&#x27;, &#x27;thallium&#x27;,\n",
              "                                                   &#x27;country&#x27;])])),\n",
              "                (&#x27;model&#x27;, LogisticRegression(C=0.01, solver=&#x27;liblinear&#x27;))])</pre></div></div></div><div class=\"sk-serial\"><div class=\"sk-item sk-dashed-wrapped\"><div class=\"sk-label-container\"><div class=\"sk-label sk-toggleable\"><input class=\"sk-toggleable__control sk-hidden--visually\" id=\"sk-estimator-id-29\" type=\"checkbox\" ><label for=\"sk-estimator-id-29\" class=\"sk-toggleable__label sk-toggleable__label-arrow\">data_processing: ColumnTransformer</label><div class=\"sk-toggleable__content\"><pre>ColumnTransformer(transformers=[(&#x27;proc_numeric&#x27;,\n",
              "                                 Pipeline(steps=[(&#x27;impute_missing&#x27;,\n",
              "                                                  SimpleImputer()),\n",
              "                                                 (&#x27;standardize_num&#x27;,\n",
              "                                                  StandardScaler())]),\n",
              "                                 [&#x27;age&#x27;, &#x27;resting blood pressure&#x27;,\n",
              "                                  &#x27;cholestoral&#x27;, &#x27;max_hr&#x27;, &#x27;ST_depression&#x27;,\n",
              "                                  &#x27;vessels&#x27;]),\n",
              "                                (&#x27;create_dummies&#x27;,\n",
              "                                 Pipeline(steps=[(&#x27;impute_missing_cats&#x27;,\n",
              "                                                  SimpleImputer(strategy=&#x27;most_frequent&#x27;)),\n",
              "                                                 (&#x27;create_dummies_cats&#x27;,\n",
              "                                                  OneHotEncoder(handle_unknown=&#x27;ignore&#x27;,\n",
              "                                                                sparse=False,\n",
              "                                                                sparse_output=False))]),\n",
              "                                 [&#x27;sex&#x27;, &#x27;chest_pain_type&#x27;,\n",
              "                                  &#x27;fasting_blood_sugar&#x27;, &#x27;ekg_results&#x27;,\n",
              "                                  &#x27;exercise_angina&#x27;, &#x27;slope_of_st&#x27;, &#x27;thallium&#x27;,\n",
              "                                  &#x27;country&#x27;])])</pre></div></div></div><div class=\"sk-parallel\"><div class=\"sk-parallel-item\"><div class=\"sk-item\"><div class=\"sk-label-container\"><div class=\"sk-label sk-toggleable\"><input class=\"sk-toggleable__control sk-hidden--visually\" id=\"sk-estimator-id-30\" type=\"checkbox\" ><label for=\"sk-estimator-id-30\" class=\"sk-toggleable__label sk-toggleable__label-arrow\">proc_numeric</label><div class=\"sk-toggleable__content\"><pre>[&#x27;age&#x27;, &#x27;resting blood pressure&#x27;, &#x27;cholestoral&#x27;, &#x27;max_hr&#x27;, &#x27;ST_depression&#x27;, &#x27;vessels&#x27;]</pre></div></div></div><div class=\"sk-serial\"><div class=\"sk-item\"><div class=\"sk-serial\"><div class=\"sk-item\"><div class=\"sk-estimator sk-toggleable\"><input class=\"sk-toggleable__control sk-hidden--visually\" id=\"sk-estimator-id-31\" type=\"checkbox\" ><label for=\"sk-estimator-id-31\" class=\"sk-toggleable__label sk-toggleable__label-arrow\">SimpleImputer</label><div class=\"sk-toggleable__content\"><pre>SimpleImputer()</pre></div></div></div><div class=\"sk-item\"><div class=\"sk-estimator sk-toggleable\"><input class=\"sk-toggleable__control sk-hidden--visually\" id=\"sk-estimator-id-32\" type=\"checkbox\" ><label for=\"sk-estimator-id-32\" class=\"sk-toggleable__label sk-toggleable__label-arrow\">StandardScaler</label><div class=\"sk-toggleable__content\"><pre>StandardScaler()</pre></div></div></div></div></div></div></div></div><div class=\"sk-parallel-item\"><div class=\"sk-item\"><div class=\"sk-label-container\"><div class=\"sk-label sk-toggleable\"><input class=\"sk-toggleable__control sk-hidden--visually\" id=\"sk-estimator-id-33\" type=\"checkbox\" ><label for=\"sk-estimator-id-33\" class=\"sk-toggleable__label sk-toggleable__label-arrow\">create_dummies</label><div class=\"sk-toggleable__content\"><pre>[&#x27;sex&#x27;, &#x27;chest_pain_type&#x27;, &#x27;fasting_blood_sugar&#x27;, &#x27;ekg_results&#x27;, &#x27;exercise_angina&#x27;, &#x27;slope_of_st&#x27;, &#x27;thallium&#x27;, &#x27;country&#x27;]</pre></div></div></div><div class=\"sk-serial\"><div class=\"sk-item\"><div class=\"sk-serial\"><div class=\"sk-item\"><div class=\"sk-estimator sk-toggleable\"><input class=\"sk-toggleable__control sk-hidden--visually\" id=\"sk-estimator-id-34\" type=\"checkbox\" ><label for=\"sk-estimator-id-34\" class=\"sk-toggleable__label sk-toggleable__label-arrow\">SimpleImputer</label><div class=\"sk-toggleable__content\"><pre>SimpleImputer(strategy=&#x27;most_frequent&#x27;)</pre></div></div></div><div class=\"sk-item\"><div class=\"sk-estimator sk-toggleable\"><input class=\"sk-toggleable__control sk-hidden--visually\" id=\"sk-estimator-id-35\" type=\"checkbox\" ><label for=\"sk-estimator-id-35\" class=\"sk-toggleable__label sk-toggleable__label-arrow\">OneHotEncoder</label><div class=\"sk-toggleable__content\"><pre>OneHotEncoder(handle_unknown=&#x27;ignore&#x27;, sparse=False, sparse_output=False)</pre></div></div></div></div></div></div></div></div></div></div><div class=\"sk-item\"><div class=\"sk-estimator sk-toggleable\"><input class=\"sk-toggleable__control sk-hidden--visually\" id=\"sk-estimator-id-36\" type=\"checkbox\" ><label for=\"sk-estimator-id-36\" class=\"sk-toggleable__label sk-toggleable__label-arrow\">LogisticRegression</label><div class=\"sk-toggleable__content\"><pre>LogisticRegression(C=0.01, solver=&#x27;liblinear&#x27;)</pre></div></div></div></div></div></div></div>"
            ]
          },
          "metadata": {},
          "execution_count": 51
        }
      ],
      "source": [
        "p = Pipeline([('data_processing', processing_pipeline), \n",
        "              ('model', LogisticRegression(solver = 'liblinear', penalty = 'l2'))\n",
        "             ])\n",
        "\n",
        "params = {'model__C': [0.01,1,2,5,8,9,10,11,12,13]}\n",
        "\n",
        "first_search = GridSearchCV(p, param_grid=params)\n",
        "first_search = first_search.fit(X_train, y_train)\n",
        "\n",
        "print(f'Validation score: {first_search.best_score_:.2%}')\n",
        "print(f'Train score: {first_search.score(X_train, y_train):.2%}')\n",
        "print(f'Test score: {first_search.score(X_test, y_test):.2%}')\n",
        "first_search.best_estimator_"
      ]
    },
    {
      "cell_type": "code",
      "execution_count": 52,
      "id": "DzaYPCwRgcPD",
      "metadata": {
        "id": "DzaYPCwRgcPD",
        "colab": {
          "base_uri": "https://localhost:8080/",
          "height": 280
        },
        "outputId": "cec3a9f8-ccfb-434d-a213-484a8233625a"
      },
      "outputs": [
        {
          "output_type": "stream",
          "name": "stdout",
          "text": [
            "Validation score: 83.03%\n",
            "Train score: 84.42%\n",
            "Test score: 88.33%\n"
          ]
        },
        {
          "output_type": "execute_result",
          "data": {
            "text/plain": [
              "Pipeline(steps=[('data_processing',\n",
              "                 ColumnTransformer(transformers=[('proc_numeric',\n",
              "                                                  Pipeline(steps=[('impute_missing',\n",
              "                                                                   SimpleImputer()),\n",
              "                                                                  ('standardize_num',\n",
              "                                                                   StandardScaler())]),\n",
              "                                                  ['age',\n",
              "                                                   'resting blood pressure',\n",
              "                                                   'cholestoral', 'max_hr',\n",
              "                                                   'ST_depression',\n",
              "                                                   'vessels']),\n",
              "                                                 ('create_dummies',\n",
              "                                                  Pipeline(steps=[('impute_missing_cats',\n",
              "                                                                   SimpleImputer(strategy='most_frequent')),\n",
              "                                                                  ('create_dummies_cats',\n",
              "                                                                   OneHotEncoder(handle_unknown='ignore',\n",
              "                                                                                 sparse=False,\n",
              "                                                                                 sparse_output=False))]),\n",
              "                                                  ['sex', 'chest_pain_type',\n",
              "                                                   'fasting_blood_sugar',\n",
              "                                                   'ekg_results',\n",
              "                                                   'exercise_angina',\n",
              "                                                   'slope_of_st', 'thallium',\n",
              "                                                   'country'])])),\n",
              "                ('model', LogisticRegression(C=0.1, solver='liblinear'))])"
            ],
            "text/html": [
              "<style>#sk-container-id-5 {color: black;background-color: white;}#sk-container-id-5 pre{padding: 0;}#sk-container-id-5 div.sk-toggleable {background-color: white;}#sk-container-id-5 label.sk-toggleable__label {cursor: pointer;display: block;width: 100%;margin-bottom: 0;padding: 0.3em;box-sizing: border-box;text-align: center;}#sk-container-id-5 label.sk-toggleable__label-arrow:before {content: \"▸\";float: left;margin-right: 0.25em;color: #696969;}#sk-container-id-5 label.sk-toggleable__label-arrow:hover:before {color: black;}#sk-container-id-5 div.sk-estimator:hover label.sk-toggleable__label-arrow:before {color: black;}#sk-container-id-5 div.sk-toggleable__content {max-height: 0;max-width: 0;overflow: hidden;text-align: left;background-color: #f0f8ff;}#sk-container-id-5 div.sk-toggleable__content pre {margin: 0.2em;color: black;border-radius: 0.25em;background-color: #f0f8ff;}#sk-container-id-5 input.sk-toggleable__control:checked~div.sk-toggleable__content {max-height: 200px;max-width: 100%;overflow: auto;}#sk-container-id-5 input.sk-toggleable__control:checked~label.sk-toggleable__label-arrow:before {content: \"▾\";}#sk-container-id-5 div.sk-estimator input.sk-toggleable__control:checked~label.sk-toggleable__label {background-color: #d4ebff;}#sk-container-id-5 div.sk-label input.sk-toggleable__control:checked~label.sk-toggleable__label {background-color: #d4ebff;}#sk-container-id-5 input.sk-hidden--visually {border: 0;clip: rect(1px 1px 1px 1px);clip: rect(1px, 1px, 1px, 1px);height: 1px;margin: -1px;overflow: hidden;padding: 0;position: absolute;width: 1px;}#sk-container-id-5 div.sk-estimator {font-family: monospace;background-color: #f0f8ff;border: 1px dotted black;border-radius: 0.25em;box-sizing: border-box;margin-bottom: 0.5em;}#sk-container-id-5 div.sk-estimator:hover {background-color: #d4ebff;}#sk-container-id-5 div.sk-parallel-item::after {content: \"\";width: 100%;border-bottom: 1px solid gray;flex-grow: 1;}#sk-container-id-5 div.sk-label:hover label.sk-toggleable__label {background-color: #d4ebff;}#sk-container-id-5 div.sk-serial::before {content: \"\";position: absolute;border-left: 1px solid gray;box-sizing: border-box;top: 0;bottom: 0;left: 50%;z-index: 0;}#sk-container-id-5 div.sk-serial {display: flex;flex-direction: column;align-items: center;background-color: white;padding-right: 0.2em;padding-left: 0.2em;position: relative;}#sk-container-id-5 div.sk-item {position: relative;z-index: 1;}#sk-container-id-5 div.sk-parallel {display: flex;align-items: stretch;justify-content: center;background-color: white;position: relative;}#sk-container-id-5 div.sk-item::before, #sk-container-id-5 div.sk-parallel-item::before {content: \"\";position: absolute;border-left: 1px solid gray;box-sizing: border-box;top: 0;bottom: 0;left: 50%;z-index: -1;}#sk-container-id-5 div.sk-parallel-item {display: flex;flex-direction: column;z-index: 1;position: relative;background-color: white;}#sk-container-id-5 div.sk-parallel-item:first-child::after {align-self: flex-end;width: 50%;}#sk-container-id-5 div.sk-parallel-item:last-child::after {align-self: flex-start;width: 50%;}#sk-container-id-5 div.sk-parallel-item:only-child::after {width: 0;}#sk-container-id-5 div.sk-dashed-wrapped {border: 1px dashed gray;margin: 0 0.4em 0.5em 0.4em;box-sizing: border-box;padding-bottom: 0.4em;background-color: white;}#sk-container-id-5 div.sk-label label {font-family: monospace;font-weight: bold;display: inline-block;line-height: 1.2em;}#sk-container-id-5 div.sk-label-container {text-align: center;}#sk-container-id-5 div.sk-container {/* jupyter's `normalize.less` sets `[hidden] { display: none; }` but bootstrap.min.css set `[hidden] { display: none !important; }` so we also need the `!important` here to be able to override the default hidden behavior on the sphinx rendered scikit-learn.org. See: https://github.com/scikit-learn/scikit-learn/issues/21755 */display: inline-block !important;position: relative;}#sk-container-id-5 div.sk-text-repr-fallback {display: none;}</style><div id=\"sk-container-id-5\" class=\"sk-top-container\"><div class=\"sk-text-repr-fallback\"><pre>Pipeline(steps=[(&#x27;data_processing&#x27;,\n",
              "                 ColumnTransformer(transformers=[(&#x27;proc_numeric&#x27;,\n",
              "                                                  Pipeline(steps=[(&#x27;impute_missing&#x27;,\n",
              "                                                                   SimpleImputer()),\n",
              "                                                                  (&#x27;standardize_num&#x27;,\n",
              "                                                                   StandardScaler())]),\n",
              "                                                  [&#x27;age&#x27;,\n",
              "                                                   &#x27;resting blood pressure&#x27;,\n",
              "                                                   &#x27;cholestoral&#x27;, &#x27;max_hr&#x27;,\n",
              "                                                   &#x27;ST_depression&#x27;,\n",
              "                                                   &#x27;vessels&#x27;]),\n",
              "                                                 (&#x27;create_dummies&#x27;,\n",
              "                                                  Pipeline(steps=[(&#x27;impute_missing_cats&#x27;,\n",
              "                                                                   SimpleImputer(strategy=&#x27;most_frequent&#x27;)),\n",
              "                                                                  (&#x27;create_dummies_cats&#x27;,\n",
              "                                                                   OneHotEncoder(handle_unknown=&#x27;ignore&#x27;,\n",
              "                                                                                 sparse=False,\n",
              "                                                                                 sparse_output=False))]),\n",
              "                                                  [&#x27;sex&#x27;, &#x27;chest_pain_type&#x27;,\n",
              "                                                   &#x27;fasting_blood_sugar&#x27;,\n",
              "                                                   &#x27;ekg_results&#x27;,\n",
              "                                                   &#x27;exercise_angina&#x27;,\n",
              "                                                   &#x27;slope_of_st&#x27;, &#x27;thallium&#x27;,\n",
              "                                                   &#x27;country&#x27;])])),\n",
              "                (&#x27;model&#x27;, LogisticRegression(C=0.1, solver=&#x27;liblinear&#x27;))])</pre><b>In a Jupyter environment, please rerun this cell to show the HTML representation or trust the notebook. <br />On GitHub, the HTML representation is unable to render, please try loading this page with nbviewer.org.</b></div><div class=\"sk-container\" hidden><div class=\"sk-item sk-dashed-wrapped\"><div class=\"sk-label-container\"><div class=\"sk-label sk-toggleable\"><input class=\"sk-toggleable__control sk-hidden--visually\" id=\"sk-estimator-id-37\" type=\"checkbox\" ><label for=\"sk-estimator-id-37\" class=\"sk-toggleable__label sk-toggleable__label-arrow\">Pipeline</label><div class=\"sk-toggleable__content\"><pre>Pipeline(steps=[(&#x27;data_processing&#x27;,\n",
              "                 ColumnTransformer(transformers=[(&#x27;proc_numeric&#x27;,\n",
              "                                                  Pipeline(steps=[(&#x27;impute_missing&#x27;,\n",
              "                                                                   SimpleImputer()),\n",
              "                                                                  (&#x27;standardize_num&#x27;,\n",
              "                                                                   StandardScaler())]),\n",
              "                                                  [&#x27;age&#x27;,\n",
              "                                                   &#x27;resting blood pressure&#x27;,\n",
              "                                                   &#x27;cholestoral&#x27;, &#x27;max_hr&#x27;,\n",
              "                                                   &#x27;ST_depression&#x27;,\n",
              "                                                   &#x27;vessels&#x27;]),\n",
              "                                                 (&#x27;create_dummies&#x27;,\n",
              "                                                  Pipeline(steps=[(&#x27;impute_missing_cats&#x27;,\n",
              "                                                                   SimpleImputer(strategy=&#x27;most_frequent&#x27;)),\n",
              "                                                                  (&#x27;create_dummies_cats&#x27;,\n",
              "                                                                   OneHotEncoder(handle_unknown=&#x27;ignore&#x27;,\n",
              "                                                                                 sparse=False,\n",
              "                                                                                 sparse_output=False))]),\n",
              "                                                  [&#x27;sex&#x27;, &#x27;chest_pain_type&#x27;,\n",
              "                                                   &#x27;fasting_blood_sugar&#x27;,\n",
              "                                                   &#x27;ekg_results&#x27;,\n",
              "                                                   &#x27;exercise_angina&#x27;,\n",
              "                                                   &#x27;slope_of_st&#x27;, &#x27;thallium&#x27;,\n",
              "                                                   &#x27;country&#x27;])])),\n",
              "                (&#x27;model&#x27;, LogisticRegression(C=0.1, solver=&#x27;liblinear&#x27;))])</pre></div></div></div><div class=\"sk-serial\"><div class=\"sk-item sk-dashed-wrapped\"><div class=\"sk-label-container\"><div class=\"sk-label sk-toggleable\"><input class=\"sk-toggleable__control sk-hidden--visually\" id=\"sk-estimator-id-38\" type=\"checkbox\" ><label for=\"sk-estimator-id-38\" class=\"sk-toggleable__label sk-toggleable__label-arrow\">data_processing: ColumnTransformer</label><div class=\"sk-toggleable__content\"><pre>ColumnTransformer(transformers=[(&#x27;proc_numeric&#x27;,\n",
              "                                 Pipeline(steps=[(&#x27;impute_missing&#x27;,\n",
              "                                                  SimpleImputer()),\n",
              "                                                 (&#x27;standardize_num&#x27;,\n",
              "                                                  StandardScaler())]),\n",
              "                                 [&#x27;age&#x27;, &#x27;resting blood pressure&#x27;,\n",
              "                                  &#x27;cholestoral&#x27;, &#x27;max_hr&#x27;, &#x27;ST_depression&#x27;,\n",
              "                                  &#x27;vessels&#x27;]),\n",
              "                                (&#x27;create_dummies&#x27;,\n",
              "                                 Pipeline(steps=[(&#x27;impute_missing_cats&#x27;,\n",
              "                                                  SimpleImputer(strategy=&#x27;most_frequent&#x27;)),\n",
              "                                                 (&#x27;create_dummies_cats&#x27;,\n",
              "                                                  OneHotEncoder(handle_unknown=&#x27;ignore&#x27;,\n",
              "                                                                sparse=False,\n",
              "                                                                sparse_output=False))]),\n",
              "                                 [&#x27;sex&#x27;, &#x27;chest_pain_type&#x27;,\n",
              "                                  &#x27;fasting_blood_sugar&#x27;, &#x27;ekg_results&#x27;,\n",
              "                                  &#x27;exercise_angina&#x27;, &#x27;slope_of_st&#x27;, &#x27;thallium&#x27;,\n",
              "                                  &#x27;country&#x27;])])</pre></div></div></div><div class=\"sk-parallel\"><div class=\"sk-parallel-item\"><div class=\"sk-item\"><div class=\"sk-label-container\"><div class=\"sk-label sk-toggleable\"><input class=\"sk-toggleable__control sk-hidden--visually\" id=\"sk-estimator-id-39\" type=\"checkbox\" ><label for=\"sk-estimator-id-39\" class=\"sk-toggleable__label sk-toggleable__label-arrow\">proc_numeric</label><div class=\"sk-toggleable__content\"><pre>[&#x27;age&#x27;, &#x27;resting blood pressure&#x27;, &#x27;cholestoral&#x27;, &#x27;max_hr&#x27;, &#x27;ST_depression&#x27;, &#x27;vessels&#x27;]</pre></div></div></div><div class=\"sk-serial\"><div class=\"sk-item\"><div class=\"sk-serial\"><div class=\"sk-item\"><div class=\"sk-estimator sk-toggleable\"><input class=\"sk-toggleable__control sk-hidden--visually\" id=\"sk-estimator-id-40\" type=\"checkbox\" ><label for=\"sk-estimator-id-40\" class=\"sk-toggleable__label sk-toggleable__label-arrow\">SimpleImputer</label><div class=\"sk-toggleable__content\"><pre>SimpleImputer()</pre></div></div></div><div class=\"sk-item\"><div class=\"sk-estimator sk-toggleable\"><input class=\"sk-toggleable__control sk-hidden--visually\" id=\"sk-estimator-id-41\" type=\"checkbox\" ><label for=\"sk-estimator-id-41\" class=\"sk-toggleable__label sk-toggleable__label-arrow\">StandardScaler</label><div class=\"sk-toggleable__content\"><pre>StandardScaler()</pre></div></div></div></div></div></div></div></div><div class=\"sk-parallel-item\"><div class=\"sk-item\"><div class=\"sk-label-container\"><div class=\"sk-label sk-toggleable\"><input class=\"sk-toggleable__control sk-hidden--visually\" id=\"sk-estimator-id-42\" type=\"checkbox\" ><label for=\"sk-estimator-id-42\" class=\"sk-toggleable__label sk-toggleable__label-arrow\">create_dummies</label><div class=\"sk-toggleable__content\"><pre>[&#x27;sex&#x27;, &#x27;chest_pain_type&#x27;, &#x27;fasting_blood_sugar&#x27;, &#x27;ekg_results&#x27;, &#x27;exercise_angina&#x27;, &#x27;slope_of_st&#x27;, &#x27;thallium&#x27;, &#x27;country&#x27;]</pre></div></div></div><div class=\"sk-serial\"><div class=\"sk-item\"><div class=\"sk-serial\"><div class=\"sk-item\"><div class=\"sk-estimator sk-toggleable\"><input class=\"sk-toggleable__control sk-hidden--visually\" id=\"sk-estimator-id-43\" type=\"checkbox\" ><label for=\"sk-estimator-id-43\" class=\"sk-toggleable__label sk-toggleable__label-arrow\">SimpleImputer</label><div class=\"sk-toggleable__content\"><pre>SimpleImputer(strategy=&#x27;most_frequent&#x27;)</pre></div></div></div><div class=\"sk-item\"><div class=\"sk-estimator sk-toggleable\"><input class=\"sk-toggleable__control sk-hidden--visually\" id=\"sk-estimator-id-44\" type=\"checkbox\" ><label for=\"sk-estimator-id-44\" class=\"sk-toggleable__label sk-toggleable__label-arrow\">OneHotEncoder</label><div class=\"sk-toggleable__content\"><pre>OneHotEncoder(handle_unknown=&#x27;ignore&#x27;, sparse=False, sparse_output=False)</pre></div></div></div></div></div></div></div></div></div></div><div class=\"sk-item\"><div class=\"sk-estimator sk-toggleable\"><input class=\"sk-toggleable__control sk-hidden--visually\" id=\"sk-estimator-id-45\" type=\"checkbox\" ><label for=\"sk-estimator-id-45\" class=\"sk-toggleable__label sk-toggleable__label-arrow\">LogisticRegression</label><div class=\"sk-toggleable__content\"><pre>LogisticRegression(C=0.1, solver=&#x27;liblinear&#x27;)</pre></div></div></div></div></div></div></div>"
            ]
          },
          "metadata": {},
          "execution_count": 52
        }
      ],
      "source": [
        "params = {'model__C': [0.001,0.001,0.01,0.1,1]}\n",
        "\n",
        "second = GridSearchCV(p, param_grid=params)\n",
        "second = second.fit(X_train, y_train)\n",
        "\n",
        "print(f'Validation score: {second.best_score_:.2%}')\n",
        "print(f'Train score: {second.score(X_train, y_train):.2%}')\n",
        "print(f'Test score: {second.score(X_test, y_test):.2%}')\n",
        "second.best_estimator_"
      ]
    },
    {
      "cell_type": "markdown",
      "id": "2d0c93f3",
      "metadata": {
        "id": "2d0c93f3"
      },
      "source": [
        "### Decision Tree"
      ]
    },
    {
      "cell_type": "code",
      "execution_count": 53,
      "id": "2dd94c3b",
      "metadata": {
        "id": "2dd94c3b",
        "colab": {
          "base_uri": "https://localhost:8080/",
          "height": 280
        },
        "outputId": "8d41aca3-a2e1-4167-a923-1123650258d7"
      },
      "outputs": [
        {
          "output_type": "stream",
          "name": "stdout",
          "text": [
            "Validation score: 83.45%\n",
            "Train score: 96.38%\n",
            "Test score: 87.78%\n"
          ]
        },
        {
          "output_type": "execute_result",
          "data": {
            "text/plain": [
              "Pipeline(steps=[('data_processing',\n",
              "                 ColumnTransformer(transformers=[('proc_numeric',\n",
              "                                                  Pipeline(steps=[('impute_missing',\n",
              "                                                                   SimpleImputer()),\n",
              "                                                                  ('standardize_num',\n",
              "                                                                   StandardScaler())]),\n",
              "                                                  ['age',\n",
              "                                                   'resting blood pressure',\n",
              "                                                   'cholestoral', 'max_hr',\n",
              "                                                   'ST_depression',\n",
              "                                                   'vessels']),\n",
              "                                                 ('create_dummies',\n",
              "                                                  Pipeline(steps=[('impute_missing_cats',\n",
              "                                                                   SimpleImputer(strategy='most_frequent')),\n",
              "                                                                  ('create_dummies_cats',\n",
              "                                                                   OneHotEncoder(handle_unknown='ignore',\n",
              "                                                                                 sparse=False,\n",
              "                                                                                 sparse_output=False))]),\n",
              "                                                  ['sex', 'chest_pain_type',\n",
              "                                                   'fasting_blood_sugar',\n",
              "                                                   'ekg_results',\n",
              "                                                   'exercise_angina',\n",
              "                                                   'slope_of_st', 'thallium',\n",
              "                                                   'country'])])),\n",
              "                ('dt',\n",
              "                 DecisionTreeClassifier(criterion='entropy', max_depth=9,\n",
              "                                        min_samples_leaf=2,\n",
              "                                        min_samples_split=3))])"
            ],
            "text/html": [
              "<style>#sk-container-id-6 {color: black;background-color: white;}#sk-container-id-6 pre{padding: 0;}#sk-container-id-6 div.sk-toggleable {background-color: white;}#sk-container-id-6 label.sk-toggleable__label {cursor: pointer;display: block;width: 100%;margin-bottom: 0;padding: 0.3em;box-sizing: border-box;text-align: center;}#sk-container-id-6 label.sk-toggleable__label-arrow:before {content: \"▸\";float: left;margin-right: 0.25em;color: #696969;}#sk-container-id-6 label.sk-toggleable__label-arrow:hover:before {color: black;}#sk-container-id-6 div.sk-estimator:hover label.sk-toggleable__label-arrow:before {color: black;}#sk-container-id-6 div.sk-toggleable__content {max-height: 0;max-width: 0;overflow: hidden;text-align: left;background-color: #f0f8ff;}#sk-container-id-6 div.sk-toggleable__content pre {margin: 0.2em;color: black;border-radius: 0.25em;background-color: #f0f8ff;}#sk-container-id-6 input.sk-toggleable__control:checked~div.sk-toggleable__content {max-height: 200px;max-width: 100%;overflow: auto;}#sk-container-id-6 input.sk-toggleable__control:checked~label.sk-toggleable__label-arrow:before {content: \"▾\";}#sk-container-id-6 div.sk-estimator input.sk-toggleable__control:checked~label.sk-toggleable__label {background-color: #d4ebff;}#sk-container-id-6 div.sk-label input.sk-toggleable__control:checked~label.sk-toggleable__label {background-color: #d4ebff;}#sk-container-id-6 input.sk-hidden--visually {border: 0;clip: rect(1px 1px 1px 1px);clip: rect(1px, 1px, 1px, 1px);height: 1px;margin: -1px;overflow: hidden;padding: 0;position: absolute;width: 1px;}#sk-container-id-6 div.sk-estimator {font-family: monospace;background-color: #f0f8ff;border: 1px dotted black;border-radius: 0.25em;box-sizing: border-box;margin-bottom: 0.5em;}#sk-container-id-6 div.sk-estimator:hover {background-color: #d4ebff;}#sk-container-id-6 div.sk-parallel-item::after {content: \"\";width: 100%;border-bottom: 1px solid gray;flex-grow: 1;}#sk-container-id-6 div.sk-label:hover label.sk-toggleable__label {background-color: #d4ebff;}#sk-container-id-6 div.sk-serial::before {content: \"\";position: absolute;border-left: 1px solid gray;box-sizing: border-box;top: 0;bottom: 0;left: 50%;z-index: 0;}#sk-container-id-6 div.sk-serial {display: flex;flex-direction: column;align-items: center;background-color: white;padding-right: 0.2em;padding-left: 0.2em;position: relative;}#sk-container-id-6 div.sk-item {position: relative;z-index: 1;}#sk-container-id-6 div.sk-parallel {display: flex;align-items: stretch;justify-content: center;background-color: white;position: relative;}#sk-container-id-6 div.sk-item::before, #sk-container-id-6 div.sk-parallel-item::before {content: \"\";position: absolute;border-left: 1px solid gray;box-sizing: border-box;top: 0;bottom: 0;left: 50%;z-index: -1;}#sk-container-id-6 div.sk-parallel-item {display: flex;flex-direction: column;z-index: 1;position: relative;background-color: white;}#sk-container-id-6 div.sk-parallel-item:first-child::after {align-self: flex-end;width: 50%;}#sk-container-id-6 div.sk-parallel-item:last-child::after {align-self: flex-start;width: 50%;}#sk-container-id-6 div.sk-parallel-item:only-child::after {width: 0;}#sk-container-id-6 div.sk-dashed-wrapped {border: 1px dashed gray;margin: 0 0.4em 0.5em 0.4em;box-sizing: border-box;padding-bottom: 0.4em;background-color: white;}#sk-container-id-6 div.sk-label label {font-family: monospace;font-weight: bold;display: inline-block;line-height: 1.2em;}#sk-container-id-6 div.sk-label-container {text-align: center;}#sk-container-id-6 div.sk-container {/* jupyter's `normalize.less` sets `[hidden] { display: none; }` but bootstrap.min.css set `[hidden] { display: none !important; }` so we also need the `!important` here to be able to override the default hidden behavior on the sphinx rendered scikit-learn.org. See: https://github.com/scikit-learn/scikit-learn/issues/21755 */display: inline-block !important;position: relative;}#sk-container-id-6 div.sk-text-repr-fallback {display: none;}</style><div id=\"sk-container-id-6\" class=\"sk-top-container\"><div class=\"sk-text-repr-fallback\"><pre>Pipeline(steps=[(&#x27;data_processing&#x27;,\n",
              "                 ColumnTransformer(transformers=[(&#x27;proc_numeric&#x27;,\n",
              "                                                  Pipeline(steps=[(&#x27;impute_missing&#x27;,\n",
              "                                                                   SimpleImputer()),\n",
              "                                                                  (&#x27;standardize_num&#x27;,\n",
              "                                                                   StandardScaler())]),\n",
              "                                                  [&#x27;age&#x27;,\n",
              "                                                   &#x27;resting blood pressure&#x27;,\n",
              "                                                   &#x27;cholestoral&#x27;, &#x27;max_hr&#x27;,\n",
              "                                                   &#x27;ST_depression&#x27;,\n",
              "                                                   &#x27;vessels&#x27;]),\n",
              "                                                 (&#x27;create_dummies&#x27;,\n",
              "                                                  Pipeline(steps=[(&#x27;impute_missing_cats&#x27;,\n",
              "                                                                   SimpleImputer(strategy=&#x27;most_frequent&#x27;)),\n",
              "                                                                  (&#x27;create_dummies_cats&#x27;,\n",
              "                                                                   OneHotEncoder(handle_unknown=&#x27;ignore&#x27;,\n",
              "                                                                                 sparse=False,\n",
              "                                                                                 sparse_output=False))]),\n",
              "                                                  [&#x27;sex&#x27;, &#x27;chest_pain_type&#x27;,\n",
              "                                                   &#x27;fasting_blood_sugar&#x27;,\n",
              "                                                   &#x27;ekg_results&#x27;,\n",
              "                                                   &#x27;exercise_angina&#x27;,\n",
              "                                                   &#x27;slope_of_st&#x27;, &#x27;thallium&#x27;,\n",
              "                                                   &#x27;country&#x27;])])),\n",
              "                (&#x27;dt&#x27;,\n",
              "                 DecisionTreeClassifier(criterion=&#x27;entropy&#x27;, max_depth=9,\n",
              "                                        min_samples_leaf=2,\n",
              "                                        min_samples_split=3))])</pre><b>In a Jupyter environment, please rerun this cell to show the HTML representation or trust the notebook. <br />On GitHub, the HTML representation is unable to render, please try loading this page with nbviewer.org.</b></div><div class=\"sk-container\" hidden><div class=\"sk-item sk-dashed-wrapped\"><div class=\"sk-label-container\"><div class=\"sk-label sk-toggleable\"><input class=\"sk-toggleable__control sk-hidden--visually\" id=\"sk-estimator-id-46\" type=\"checkbox\" ><label for=\"sk-estimator-id-46\" class=\"sk-toggleable__label sk-toggleable__label-arrow\">Pipeline</label><div class=\"sk-toggleable__content\"><pre>Pipeline(steps=[(&#x27;data_processing&#x27;,\n",
              "                 ColumnTransformer(transformers=[(&#x27;proc_numeric&#x27;,\n",
              "                                                  Pipeline(steps=[(&#x27;impute_missing&#x27;,\n",
              "                                                                   SimpleImputer()),\n",
              "                                                                  (&#x27;standardize_num&#x27;,\n",
              "                                                                   StandardScaler())]),\n",
              "                                                  [&#x27;age&#x27;,\n",
              "                                                   &#x27;resting blood pressure&#x27;,\n",
              "                                                   &#x27;cholestoral&#x27;, &#x27;max_hr&#x27;,\n",
              "                                                   &#x27;ST_depression&#x27;,\n",
              "                                                   &#x27;vessels&#x27;]),\n",
              "                                                 (&#x27;create_dummies&#x27;,\n",
              "                                                  Pipeline(steps=[(&#x27;impute_missing_cats&#x27;,\n",
              "                                                                   SimpleImputer(strategy=&#x27;most_frequent&#x27;)),\n",
              "                                                                  (&#x27;create_dummies_cats&#x27;,\n",
              "                                                                   OneHotEncoder(handle_unknown=&#x27;ignore&#x27;,\n",
              "                                                                                 sparse=False,\n",
              "                                                                                 sparse_output=False))]),\n",
              "                                                  [&#x27;sex&#x27;, &#x27;chest_pain_type&#x27;,\n",
              "                                                   &#x27;fasting_blood_sugar&#x27;,\n",
              "                                                   &#x27;ekg_results&#x27;,\n",
              "                                                   &#x27;exercise_angina&#x27;,\n",
              "                                                   &#x27;slope_of_st&#x27;, &#x27;thallium&#x27;,\n",
              "                                                   &#x27;country&#x27;])])),\n",
              "                (&#x27;dt&#x27;,\n",
              "                 DecisionTreeClassifier(criterion=&#x27;entropy&#x27;, max_depth=9,\n",
              "                                        min_samples_leaf=2,\n",
              "                                        min_samples_split=3))])</pre></div></div></div><div class=\"sk-serial\"><div class=\"sk-item sk-dashed-wrapped\"><div class=\"sk-label-container\"><div class=\"sk-label sk-toggleable\"><input class=\"sk-toggleable__control sk-hidden--visually\" id=\"sk-estimator-id-47\" type=\"checkbox\" ><label for=\"sk-estimator-id-47\" class=\"sk-toggleable__label sk-toggleable__label-arrow\">data_processing: ColumnTransformer</label><div class=\"sk-toggleable__content\"><pre>ColumnTransformer(transformers=[(&#x27;proc_numeric&#x27;,\n",
              "                                 Pipeline(steps=[(&#x27;impute_missing&#x27;,\n",
              "                                                  SimpleImputer()),\n",
              "                                                 (&#x27;standardize_num&#x27;,\n",
              "                                                  StandardScaler())]),\n",
              "                                 [&#x27;age&#x27;, &#x27;resting blood pressure&#x27;,\n",
              "                                  &#x27;cholestoral&#x27;, &#x27;max_hr&#x27;, &#x27;ST_depression&#x27;,\n",
              "                                  &#x27;vessels&#x27;]),\n",
              "                                (&#x27;create_dummies&#x27;,\n",
              "                                 Pipeline(steps=[(&#x27;impute_missing_cats&#x27;,\n",
              "                                                  SimpleImputer(strategy=&#x27;most_frequent&#x27;)),\n",
              "                                                 (&#x27;create_dummies_cats&#x27;,\n",
              "                                                  OneHotEncoder(handle_unknown=&#x27;ignore&#x27;,\n",
              "                                                                sparse=False,\n",
              "                                                                sparse_output=False))]),\n",
              "                                 [&#x27;sex&#x27;, &#x27;chest_pain_type&#x27;,\n",
              "                                  &#x27;fasting_blood_sugar&#x27;, &#x27;ekg_results&#x27;,\n",
              "                                  &#x27;exercise_angina&#x27;, &#x27;slope_of_st&#x27;, &#x27;thallium&#x27;,\n",
              "                                  &#x27;country&#x27;])])</pre></div></div></div><div class=\"sk-parallel\"><div class=\"sk-parallel-item\"><div class=\"sk-item\"><div class=\"sk-label-container\"><div class=\"sk-label sk-toggleable\"><input class=\"sk-toggleable__control sk-hidden--visually\" id=\"sk-estimator-id-48\" type=\"checkbox\" ><label for=\"sk-estimator-id-48\" class=\"sk-toggleable__label sk-toggleable__label-arrow\">proc_numeric</label><div class=\"sk-toggleable__content\"><pre>[&#x27;age&#x27;, &#x27;resting blood pressure&#x27;, &#x27;cholestoral&#x27;, &#x27;max_hr&#x27;, &#x27;ST_depression&#x27;, &#x27;vessels&#x27;]</pre></div></div></div><div class=\"sk-serial\"><div class=\"sk-item\"><div class=\"sk-serial\"><div class=\"sk-item\"><div class=\"sk-estimator sk-toggleable\"><input class=\"sk-toggleable__control sk-hidden--visually\" id=\"sk-estimator-id-49\" type=\"checkbox\" ><label for=\"sk-estimator-id-49\" class=\"sk-toggleable__label sk-toggleable__label-arrow\">SimpleImputer</label><div class=\"sk-toggleable__content\"><pre>SimpleImputer()</pre></div></div></div><div class=\"sk-item\"><div class=\"sk-estimator sk-toggleable\"><input class=\"sk-toggleable__control sk-hidden--visually\" id=\"sk-estimator-id-50\" type=\"checkbox\" ><label for=\"sk-estimator-id-50\" class=\"sk-toggleable__label sk-toggleable__label-arrow\">StandardScaler</label><div class=\"sk-toggleable__content\"><pre>StandardScaler()</pre></div></div></div></div></div></div></div></div><div class=\"sk-parallel-item\"><div class=\"sk-item\"><div class=\"sk-label-container\"><div class=\"sk-label sk-toggleable\"><input class=\"sk-toggleable__control sk-hidden--visually\" id=\"sk-estimator-id-51\" type=\"checkbox\" ><label for=\"sk-estimator-id-51\" class=\"sk-toggleable__label sk-toggleable__label-arrow\">create_dummies</label><div class=\"sk-toggleable__content\"><pre>[&#x27;sex&#x27;, &#x27;chest_pain_type&#x27;, &#x27;fasting_blood_sugar&#x27;, &#x27;ekg_results&#x27;, &#x27;exercise_angina&#x27;, &#x27;slope_of_st&#x27;, &#x27;thallium&#x27;, &#x27;country&#x27;]</pre></div></div></div><div class=\"sk-serial\"><div class=\"sk-item\"><div class=\"sk-serial\"><div class=\"sk-item\"><div class=\"sk-estimator sk-toggleable\"><input class=\"sk-toggleable__control sk-hidden--visually\" id=\"sk-estimator-id-52\" type=\"checkbox\" ><label for=\"sk-estimator-id-52\" class=\"sk-toggleable__label sk-toggleable__label-arrow\">SimpleImputer</label><div class=\"sk-toggleable__content\"><pre>SimpleImputer(strategy=&#x27;most_frequent&#x27;)</pre></div></div></div><div class=\"sk-item\"><div class=\"sk-estimator sk-toggleable\"><input class=\"sk-toggleable__control sk-hidden--visually\" id=\"sk-estimator-id-53\" type=\"checkbox\" ><label for=\"sk-estimator-id-53\" class=\"sk-toggleable__label sk-toggleable__label-arrow\">OneHotEncoder</label><div class=\"sk-toggleable__content\"><pre>OneHotEncoder(handle_unknown=&#x27;ignore&#x27;, sparse=False, sparse_output=False)</pre></div></div></div></div></div></div></div></div></div></div><div class=\"sk-item\"><div class=\"sk-estimator sk-toggleable\"><input class=\"sk-toggleable__control sk-hidden--visually\" id=\"sk-estimator-id-54\" type=\"checkbox\" ><label for=\"sk-estimator-id-54\" class=\"sk-toggleable__label sk-toggleable__label-arrow\">DecisionTreeClassifier</label><div class=\"sk-toggleable__content\"><pre>DecisionTreeClassifier(criterion=&#x27;entropy&#x27;, max_depth=9, min_samples_leaf=2,\n",
              "                       min_samples_split=3)</pre></div></div></div></div></div></div></div>"
            ]
          },
          "metadata": {},
          "execution_count": 53
        }
      ],
      "source": [
        "tr = Pipeline([\n",
        "    ('data_processing', processing_pipeline),\n",
        "    ('dt', DecisionTreeClassifier(criterion = 'entropy'))]\n",
        ")\n",
        "\n",
        "param_grid = [\n",
        "  {\n",
        "   'dt__max_depth': [1,2,5,9,12],\n",
        "   'dt__min_samples_leaf': [1.5,2,2.5],\n",
        "   'dt__min_samples_split':[2,3,6,9]\n",
        "   \n",
        "  }\n",
        " ]\n",
        "\n",
        "tree_first = GridSearchCV(estimator=tr, \n",
        "                           param_grid=param_grid)\n",
        "tree_first = tree_first.fit(X_train, y_train)\n",
        "print(f'Validation score: {tree_first.best_score_:.2%}')\n",
        "print(f'Train score: {tree_first.score(X_train, y_train):.2%}')\n",
        "print(f'Test score: {tree_first.score(X_test, y_test):.2%}')\n",
        "tree_first.best_estimator_"
      ]
    },
    {
      "cell_type": "code",
      "execution_count": 54,
      "id": "xRgZTz-1qHgu",
      "metadata": {
        "id": "xRgZTz-1qHgu",
        "colab": {
          "base_uri": "https://localhost:8080/",
          "height": 280
        },
        "outputId": "00dfeb27-262d-4b72-927c-d31211fb8534"
      },
      "outputs": [
        {
          "output_type": "stream",
          "name": "stdout",
          "text": [
            "Validation score: 84.15%\n",
            "Train score: 96.52%\n",
            "Test score: 87.22%\n"
          ]
        },
        {
          "output_type": "execute_result",
          "data": {
            "text/plain": [
              "Pipeline(steps=[('data_processing',\n",
              "                 ColumnTransformer(transformers=[('proc_numeric',\n",
              "                                                  Pipeline(steps=[('impute_missing',\n",
              "                                                                   SimpleImputer()),\n",
              "                                                                  ('standardize_num',\n",
              "                                                                   StandardScaler())]),\n",
              "                                                  ['age',\n",
              "                                                   'resting blood pressure',\n",
              "                                                   'cholestoral', 'max_hr',\n",
              "                                                   'ST_depression',\n",
              "                                                   'vessels']),\n",
              "                                                 ('create_dummies',\n",
              "                                                  Pipeline(steps=[('impute_missing_cats',\n",
              "                                                                   SimpleImputer(strategy='most_frequent')),\n",
              "                                                                  ('create_dummies_cats',\n",
              "                                                                   OneHotEncoder(handle_unknown='ignore',\n",
              "                                                                                 sparse=False,\n",
              "                                                                                 sparse_output=False))]),\n",
              "                                                  ['sex', 'chest_pain_type',\n",
              "                                                   'fasting_blood_sugar',\n",
              "                                                   'ekg_results',\n",
              "                                                   'exercise_angina',\n",
              "                                                   'slope_of_st', 'thallium',\n",
              "                                                   'country'])])),\n",
              "                ('dt',\n",
              "                 DecisionTreeClassifier(criterion='entropy', max_depth=9,\n",
              "                                        min_samples_leaf=2,\n",
              "                                        min_samples_split=3))])"
            ],
            "text/html": [
              "<style>#sk-container-id-7 {color: black;background-color: white;}#sk-container-id-7 pre{padding: 0;}#sk-container-id-7 div.sk-toggleable {background-color: white;}#sk-container-id-7 label.sk-toggleable__label {cursor: pointer;display: block;width: 100%;margin-bottom: 0;padding: 0.3em;box-sizing: border-box;text-align: center;}#sk-container-id-7 label.sk-toggleable__label-arrow:before {content: \"▸\";float: left;margin-right: 0.25em;color: #696969;}#sk-container-id-7 label.sk-toggleable__label-arrow:hover:before {color: black;}#sk-container-id-7 div.sk-estimator:hover label.sk-toggleable__label-arrow:before {color: black;}#sk-container-id-7 div.sk-toggleable__content {max-height: 0;max-width: 0;overflow: hidden;text-align: left;background-color: #f0f8ff;}#sk-container-id-7 div.sk-toggleable__content pre {margin: 0.2em;color: black;border-radius: 0.25em;background-color: #f0f8ff;}#sk-container-id-7 input.sk-toggleable__control:checked~div.sk-toggleable__content {max-height: 200px;max-width: 100%;overflow: auto;}#sk-container-id-7 input.sk-toggleable__control:checked~label.sk-toggleable__label-arrow:before {content: \"▾\";}#sk-container-id-7 div.sk-estimator input.sk-toggleable__control:checked~label.sk-toggleable__label {background-color: #d4ebff;}#sk-container-id-7 div.sk-label input.sk-toggleable__control:checked~label.sk-toggleable__label {background-color: #d4ebff;}#sk-container-id-7 input.sk-hidden--visually {border: 0;clip: rect(1px 1px 1px 1px);clip: rect(1px, 1px, 1px, 1px);height: 1px;margin: -1px;overflow: hidden;padding: 0;position: absolute;width: 1px;}#sk-container-id-7 div.sk-estimator {font-family: monospace;background-color: #f0f8ff;border: 1px dotted black;border-radius: 0.25em;box-sizing: border-box;margin-bottom: 0.5em;}#sk-container-id-7 div.sk-estimator:hover {background-color: #d4ebff;}#sk-container-id-7 div.sk-parallel-item::after {content: \"\";width: 100%;border-bottom: 1px solid gray;flex-grow: 1;}#sk-container-id-7 div.sk-label:hover label.sk-toggleable__label {background-color: #d4ebff;}#sk-container-id-7 div.sk-serial::before {content: \"\";position: absolute;border-left: 1px solid gray;box-sizing: border-box;top: 0;bottom: 0;left: 50%;z-index: 0;}#sk-container-id-7 div.sk-serial {display: flex;flex-direction: column;align-items: center;background-color: white;padding-right: 0.2em;padding-left: 0.2em;position: relative;}#sk-container-id-7 div.sk-item {position: relative;z-index: 1;}#sk-container-id-7 div.sk-parallel {display: flex;align-items: stretch;justify-content: center;background-color: white;position: relative;}#sk-container-id-7 div.sk-item::before, #sk-container-id-7 div.sk-parallel-item::before {content: \"\";position: absolute;border-left: 1px solid gray;box-sizing: border-box;top: 0;bottom: 0;left: 50%;z-index: -1;}#sk-container-id-7 div.sk-parallel-item {display: flex;flex-direction: column;z-index: 1;position: relative;background-color: white;}#sk-container-id-7 div.sk-parallel-item:first-child::after {align-self: flex-end;width: 50%;}#sk-container-id-7 div.sk-parallel-item:last-child::after {align-self: flex-start;width: 50%;}#sk-container-id-7 div.sk-parallel-item:only-child::after {width: 0;}#sk-container-id-7 div.sk-dashed-wrapped {border: 1px dashed gray;margin: 0 0.4em 0.5em 0.4em;box-sizing: border-box;padding-bottom: 0.4em;background-color: white;}#sk-container-id-7 div.sk-label label {font-family: monospace;font-weight: bold;display: inline-block;line-height: 1.2em;}#sk-container-id-7 div.sk-label-container {text-align: center;}#sk-container-id-7 div.sk-container {/* jupyter's `normalize.less` sets `[hidden] { display: none; }` but bootstrap.min.css set `[hidden] { display: none !important; }` so we also need the `!important` here to be able to override the default hidden behavior on the sphinx rendered scikit-learn.org. See: https://github.com/scikit-learn/scikit-learn/issues/21755 */display: inline-block !important;position: relative;}#sk-container-id-7 div.sk-text-repr-fallback {display: none;}</style><div id=\"sk-container-id-7\" class=\"sk-top-container\"><div class=\"sk-text-repr-fallback\"><pre>Pipeline(steps=[(&#x27;data_processing&#x27;,\n",
              "                 ColumnTransformer(transformers=[(&#x27;proc_numeric&#x27;,\n",
              "                                                  Pipeline(steps=[(&#x27;impute_missing&#x27;,\n",
              "                                                                   SimpleImputer()),\n",
              "                                                                  (&#x27;standardize_num&#x27;,\n",
              "                                                                   StandardScaler())]),\n",
              "                                                  [&#x27;age&#x27;,\n",
              "                                                   &#x27;resting blood pressure&#x27;,\n",
              "                                                   &#x27;cholestoral&#x27;, &#x27;max_hr&#x27;,\n",
              "                                                   &#x27;ST_depression&#x27;,\n",
              "                                                   &#x27;vessels&#x27;]),\n",
              "                                                 (&#x27;create_dummies&#x27;,\n",
              "                                                  Pipeline(steps=[(&#x27;impute_missing_cats&#x27;,\n",
              "                                                                   SimpleImputer(strategy=&#x27;most_frequent&#x27;)),\n",
              "                                                                  (&#x27;create_dummies_cats&#x27;,\n",
              "                                                                   OneHotEncoder(handle_unknown=&#x27;ignore&#x27;,\n",
              "                                                                                 sparse=False,\n",
              "                                                                                 sparse_output=False))]),\n",
              "                                                  [&#x27;sex&#x27;, &#x27;chest_pain_type&#x27;,\n",
              "                                                   &#x27;fasting_blood_sugar&#x27;,\n",
              "                                                   &#x27;ekg_results&#x27;,\n",
              "                                                   &#x27;exercise_angina&#x27;,\n",
              "                                                   &#x27;slope_of_st&#x27;, &#x27;thallium&#x27;,\n",
              "                                                   &#x27;country&#x27;])])),\n",
              "                (&#x27;dt&#x27;,\n",
              "                 DecisionTreeClassifier(criterion=&#x27;entropy&#x27;, max_depth=9,\n",
              "                                        min_samples_leaf=2,\n",
              "                                        min_samples_split=3))])</pre><b>In a Jupyter environment, please rerun this cell to show the HTML representation or trust the notebook. <br />On GitHub, the HTML representation is unable to render, please try loading this page with nbviewer.org.</b></div><div class=\"sk-container\" hidden><div class=\"sk-item sk-dashed-wrapped\"><div class=\"sk-label-container\"><div class=\"sk-label sk-toggleable\"><input class=\"sk-toggleable__control sk-hidden--visually\" id=\"sk-estimator-id-55\" type=\"checkbox\" ><label for=\"sk-estimator-id-55\" class=\"sk-toggleable__label sk-toggleable__label-arrow\">Pipeline</label><div class=\"sk-toggleable__content\"><pre>Pipeline(steps=[(&#x27;data_processing&#x27;,\n",
              "                 ColumnTransformer(transformers=[(&#x27;proc_numeric&#x27;,\n",
              "                                                  Pipeline(steps=[(&#x27;impute_missing&#x27;,\n",
              "                                                                   SimpleImputer()),\n",
              "                                                                  (&#x27;standardize_num&#x27;,\n",
              "                                                                   StandardScaler())]),\n",
              "                                                  [&#x27;age&#x27;,\n",
              "                                                   &#x27;resting blood pressure&#x27;,\n",
              "                                                   &#x27;cholestoral&#x27;, &#x27;max_hr&#x27;,\n",
              "                                                   &#x27;ST_depression&#x27;,\n",
              "                                                   &#x27;vessels&#x27;]),\n",
              "                                                 (&#x27;create_dummies&#x27;,\n",
              "                                                  Pipeline(steps=[(&#x27;impute_missing_cats&#x27;,\n",
              "                                                                   SimpleImputer(strategy=&#x27;most_frequent&#x27;)),\n",
              "                                                                  (&#x27;create_dummies_cats&#x27;,\n",
              "                                                                   OneHotEncoder(handle_unknown=&#x27;ignore&#x27;,\n",
              "                                                                                 sparse=False,\n",
              "                                                                                 sparse_output=False))]),\n",
              "                                                  [&#x27;sex&#x27;, &#x27;chest_pain_type&#x27;,\n",
              "                                                   &#x27;fasting_blood_sugar&#x27;,\n",
              "                                                   &#x27;ekg_results&#x27;,\n",
              "                                                   &#x27;exercise_angina&#x27;,\n",
              "                                                   &#x27;slope_of_st&#x27;, &#x27;thallium&#x27;,\n",
              "                                                   &#x27;country&#x27;])])),\n",
              "                (&#x27;dt&#x27;,\n",
              "                 DecisionTreeClassifier(criterion=&#x27;entropy&#x27;, max_depth=9,\n",
              "                                        min_samples_leaf=2,\n",
              "                                        min_samples_split=3))])</pre></div></div></div><div class=\"sk-serial\"><div class=\"sk-item sk-dashed-wrapped\"><div class=\"sk-label-container\"><div class=\"sk-label sk-toggleable\"><input class=\"sk-toggleable__control sk-hidden--visually\" id=\"sk-estimator-id-56\" type=\"checkbox\" ><label for=\"sk-estimator-id-56\" class=\"sk-toggleable__label sk-toggleable__label-arrow\">data_processing: ColumnTransformer</label><div class=\"sk-toggleable__content\"><pre>ColumnTransformer(transformers=[(&#x27;proc_numeric&#x27;,\n",
              "                                 Pipeline(steps=[(&#x27;impute_missing&#x27;,\n",
              "                                                  SimpleImputer()),\n",
              "                                                 (&#x27;standardize_num&#x27;,\n",
              "                                                  StandardScaler())]),\n",
              "                                 [&#x27;age&#x27;, &#x27;resting blood pressure&#x27;,\n",
              "                                  &#x27;cholestoral&#x27;, &#x27;max_hr&#x27;, &#x27;ST_depression&#x27;,\n",
              "                                  &#x27;vessels&#x27;]),\n",
              "                                (&#x27;create_dummies&#x27;,\n",
              "                                 Pipeline(steps=[(&#x27;impute_missing_cats&#x27;,\n",
              "                                                  SimpleImputer(strategy=&#x27;most_frequent&#x27;)),\n",
              "                                                 (&#x27;create_dummies_cats&#x27;,\n",
              "                                                  OneHotEncoder(handle_unknown=&#x27;ignore&#x27;,\n",
              "                                                                sparse=False,\n",
              "                                                                sparse_output=False))]),\n",
              "                                 [&#x27;sex&#x27;, &#x27;chest_pain_type&#x27;,\n",
              "                                  &#x27;fasting_blood_sugar&#x27;, &#x27;ekg_results&#x27;,\n",
              "                                  &#x27;exercise_angina&#x27;, &#x27;slope_of_st&#x27;, &#x27;thallium&#x27;,\n",
              "                                  &#x27;country&#x27;])])</pre></div></div></div><div class=\"sk-parallel\"><div class=\"sk-parallel-item\"><div class=\"sk-item\"><div class=\"sk-label-container\"><div class=\"sk-label sk-toggleable\"><input class=\"sk-toggleable__control sk-hidden--visually\" id=\"sk-estimator-id-57\" type=\"checkbox\" ><label for=\"sk-estimator-id-57\" class=\"sk-toggleable__label sk-toggleable__label-arrow\">proc_numeric</label><div class=\"sk-toggleable__content\"><pre>[&#x27;age&#x27;, &#x27;resting blood pressure&#x27;, &#x27;cholestoral&#x27;, &#x27;max_hr&#x27;, &#x27;ST_depression&#x27;, &#x27;vessels&#x27;]</pre></div></div></div><div class=\"sk-serial\"><div class=\"sk-item\"><div class=\"sk-serial\"><div class=\"sk-item\"><div class=\"sk-estimator sk-toggleable\"><input class=\"sk-toggleable__control sk-hidden--visually\" id=\"sk-estimator-id-58\" type=\"checkbox\" ><label for=\"sk-estimator-id-58\" class=\"sk-toggleable__label sk-toggleable__label-arrow\">SimpleImputer</label><div class=\"sk-toggleable__content\"><pre>SimpleImputer()</pre></div></div></div><div class=\"sk-item\"><div class=\"sk-estimator sk-toggleable\"><input class=\"sk-toggleable__control sk-hidden--visually\" id=\"sk-estimator-id-59\" type=\"checkbox\" ><label for=\"sk-estimator-id-59\" class=\"sk-toggleable__label sk-toggleable__label-arrow\">StandardScaler</label><div class=\"sk-toggleable__content\"><pre>StandardScaler()</pre></div></div></div></div></div></div></div></div><div class=\"sk-parallel-item\"><div class=\"sk-item\"><div class=\"sk-label-container\"><div class=\"sk-label sk-toggleable\"><input class=\"sk-toggleable__control sk-hidden--visually\" id=\"sk-estimator-id-60\" type=\"checkbox\" ><label for=\"sk-estimator-id-60\" class=\"sk-toggleable__label sk-toggleable__label-arrow\">create_dummies</label><div class=\"sk-toggleable__content\"><pre>[&#x27;sex&#x27;, &#x27;chest_pain_type&#x27;, &#x27;fasting_blood_sugar&#x27;, &#x27;ekg_results&#x27;, &#x27;exercise_angina&#x27;, &#x27;slope_of_st&#x27;, &#x27;thallium&#x27;, &#x27;country&#x27;]</pre></div></div></div><div class=\"sk-serial\"><div class=\"sk-item\"><div class=\"sk-serial\"><div class=\"sk-item\"><div class=\"sk-estimator sk-toggleable\"><input class=\"sk-toggleable__control sk-hidden--visually\" id=\"sk-estimator-id-61\" type=\"checkbox\" ><label for=\"sk-estimator-id-61\" class=\"sk-toggleable__label sk-toggleable__label-arrow\">SimpleImputer</label><div class=\"sk-toggleable__content\"><pre>SimpleImputer(strategy=&#x27;most_frequent&#x27;)</pre></div></div></div><div class=\"sk-item\"><div class=\"sk-estimator sk-toggleable\"><input class=\"sk-toggleable__control sk-hidden--visually\" id=\"sk-estimator-id-62\" type=\"checkbox\" ><label for=\"sk-estimator-id-62\" class=\"sk-toggleable__label sk-toggleable__label-arrow\">OneHotEncoder</label><div class=\"sk-toggleable__content\"><pre>OneHotEncoder(handle_unknown=&#x27;ignore&#x27;, sparse=False, sparse_output=False)</pre></div></div></div></div></div></div></div></div></div></div><div class=\"sk-item\"><div class=\"sk-estimator sk-toggleable\"><input class=\"sk-toggleable__control sk-hidden--visually\" id=\"sk-estimator-id-63\" type=\"checkbox\" ><label for=\"sk-estimator-id-63\" class=\"sk-toggleable__label sk-toggleable__label-arrow\">DecisionTreeClassifier</label><div class=\"sk-toggleable__content\"><pre>DecisionTreeClassifier(criterion=&#x27;entropy&#x27;, max_depth=9, min_samples_leaf=2,\n",
              "                       min_samples_split=3)</pre></div></div></div></div></div></div></div>"
            ]
          },
          "metadata": {},
          "execution_count": 54
        }
      ],
      "source": [
        "tr = Pipeline([\n",
        "    ('data_processing', processing_pipeline),\n",
        "    ('dt', DecisionTreeClassifier(criterion = 'entropy',max_depth=9,min_samples_leaf=2))]\n",
        ")\n",
        "param_grid = [\n",
        "  {\n",
        "   'dt__min_samples_split':[2.5,3,3.5,4,5.5,6,6.5,7,8,9,10]\n",
        "  }\n",
        " ]\n",
        "\n",
        "tree_second = GridSearchCV(estimator=tr, \n",
        "                           param_grid=param_grid)\n",
        "tree_second = tree_second.fit(X_train, y_train)\n",
        "print(f'Validation score: {tree_second.best_score_:.2%}')\n",
        "print(f'Train score: {tree_second.score(X_train, y_train):.2%}')\n",
        "print(f'Test score: {tree_second.score(X_test, y_test):.2%}')\n",
        "tree_second.best_estimator_"
      ]
    },
    {
      "cell_type": "markdown",
      "source": [
        "### Random Forest"
      ],
      "metadata": {
        "id": "XBXLcBEIPhCR"
      },
      "id": "XBXLcBEIPhCR"
    },
    {
      "cell_type": "code",
      "source": [
        "rf = Pipeline([\n",
        "    ('data_processing', processing_pipeline),\n",
        "    ('rf', RandomForestClassifier(criterion = 'entropy',n_estimators=20))]\n",
        ")\n",
        "\n",
        "param_grid = [{\n",
        "    'rf__max_depth': [None, 5, 10],\n",
        "    'rf__min_samples_split': [2, 5, 10]\n",
        "}]\n",
        "\n",
        "rf_first = GridSearchCV(estimator=rf, \n",
        "                           param_grid=param_grid, cv=5)\n",
        "rf_first = rf_first.fit(X_train, y_train)\n",
        "print(f'Validation score: {rf_first.best_score_:.2%}')\n",
        "print(f'Train score: {rf_first.score(X_train, y_train):.2%}')\n",
        "print(f'Test score: {rf_first.score(X_test, y_test):.2%}')\n",
        "rf_first.best_estimator_"
      ],
      "metadata": {
        "colab": {
          "base_uri": "https://localhost:8080/",
          "height": 280
        },
        "id": "ZY71CQqoPgOn",
        "outputId": "633e1d8f-064e-4c36-ba94-887a7355fe83"
      },
      "id": "ZY71CQqoPgOn",
      "execution_count": 55,
      "outputs": [
        {
          "output_type": "stream",
          "name": "stdout",
          "text": [
            "Validation score: 86.50%\n",
            "Train score: 98.05%\n",
            "Test score: 91.11%\n"
          ]
        },
        {
          "output_type": "execute_result",
          "data": {
            "text/plain": [
              "Pipeline(steps=[('data_processing',\n",
              "                 ColumnTransformer(transformers=[('proc_numeric',\n",
              "                                                  Pipeline(steps=[('impute_missing',\n",
              "                                                                   SimpleImputer()),\n",
              "                                                                  ('standardize_num',\n",
              "                                                                   StandardScaler())]),\n",
              "                                                  ['age',\n",
              "                                                   'resting blood pressure',\n",
              "                                                   'cholestoral', 'max_hr',\n",
              "                                                   'ST_depression',\n",
              "                                                   'vessels']),\n",
              "                                                 ('create_dummies',\n",
              "                                                  Pipeline(steps=[('impute_missing_cats',\n",
              "                                                                   SimpleImputer(strategy='most_frequent')),\n",
              "                                                                  ('create_dummies_cats',\n",
              "                                                                   OneHotEncoder(handle_unknown='ignore',\n",
              "                                                                                 sparse=False,\n",
              "                                                                                 sparse_output=False))]),\n",
              "                                                  ['sex', 'chest_pain_type',\n",
              "                                                   'fasting_blood_sugar',\n",
              "                                                   'ekg_results',\n",
              "                                                   'exercise_angina',\n",
              "                                                   'slope_of_st', 'thallium',\n",
              "                                                   'country'])])),\n",
              "                ('rf',\n",
              "                 RandomForestClassifier(criterion='entropy', max_depth=10,\n",
              "                                        n_estimators=20))])"
            ],
            "text/html": [
              "<style>#sk-container-id-8 {color: black;background-color: white;}#sk-container-id-8 pre{padding: 0;}#sk-container-id-8 div.sk-toggleable {background-color: white;}#sk-container-id-8 label.sk-toggleable__label {cursor: pointer;display: block;width: 100%;margin-bottom: 0;padding: 0.3em;box-sizing: border-box;text-align: center;}#sk-container-id-8 label.sk-toggleable__label-arrow:before {content: \"▸\";float: left;margin-right: 0.25em;color: #696969;}#sk-container-id-8 label.sk-toggleable__label-arrow:hover:before {color: black;}#sk-container-id-8 div.sk-estimator:hover label.sk-toggleable__label-arrow:before {color: black;}#sk-container-id-8 div.sk-toggleable__content {max-height: 0;max-width: 0;overflow: hidden;text-align: left;background-color: #f0f8ff;}#sk-container-id-8 div.sk-toggleable__content pre {margin: 0.2em;color: black;border-radius: 0.25em;background-color: #f0f8ff;}#sk-container-id-8 input.sk-toggleable__control:checked~div.sk-toggleable__content {max-height: 200px;max-width: 100%;overflow: auto;}#sk-container-id-8 input.sk-toggleable__control:checked~label.sk-toggleable__label-arrow:before {content: \"▾\";}#sk-container-id-8 div.sk-estimator input.sk-toggleable__control:checked~label.sk-toggleable__label {background-color: #d4ebff;}#sk-container-id-8 div.sk-label input.sk-toggleable__control:checked~label.sk-toggleable__label {background-color: #d4ebff;}#sk-container-id-8 input.sk-hidden--visually {border: 0;clip: rect(1px 1px 1px 1px);clip: rect(1px, 1px, 1px, 1px);height: 1px;margin: -1px;overflow: hidden;padding: 0;position: absolute;width: 1px;}#sk-container-id-8 div.sk-estimator {font-family: monospace;background-color: #f0f8ff;border: 1px dotted black;border-radius: 0.25em;box-sizing: border-box;margin-bottom: 0.5em;}#sk-container-id-8 div.sk-estimator:hover {background-color: #d4ebff;}#sk-container-id-8 div.sk-parallel-item::after {content: \"\";width: 100%;border-bottom: 1px solid gray;flex-grow: 1;}#sk-container-id-8 div.sk-label:hover label.sk-toggleable__label {background-color: #d4ebff;}#sk-container-id-8 div.sk-serial::before {content: \"\";position: absolute;border-left: 1px solid gray;box-sizing: border-box;top: 0;bottom: 0;left: 50%;z-index: 0;}#sk-container-id-8 div.sk-serial {display: flex;flex-direction: column;align-items: center;background-color: white;padding-right: 0.2em;padding-left: 0.2em;position: relative;}#sk-container-id-8 div.sk-item {position: relative;z-index: 1;}#sk-container-id-8 div.sk-parallel {display: flex;align-items: stretch;justify-content: center;background-color: white;position: relative;}#sk-container-id-8 div.sk-item::before, #sk-container-id-8 div.sk-parallel-item::before {content: \"\";position: absolute;border-left: 1px solid gray;box-sizing: border-box;top: 0;bottom: 0;left: 50%;z-index: -1;}#sk-container-id-8 div.sk-parallel-item {display: flex;flex-direction: column;z-index: 1;position: relative;background-color: white;}#sk-container-id-8 div.sk-parallel-item:first-child::after {align-self: flex-end;width: 50%;}#sk-container-id-8 div.sk-parallel-item:last-child::after {align-self: flex-start;width: 50%;}#sk-container-id-8 div.sk-parallel-item:only-child::after {width: 0;}#sk-container-id-8 div.sk-dashed-wrapped {border: 1px dashed gray;margin: 0 0.4em 0.5em 0.4em;box-sizing: border-box;padding-bottom: 0.4em;background-color: white;}#sk-container-id-8 div.sk-label label {font-family: monospace;font-weight: bold;display: inline-block;line-height: 1.2em;}#sk-container-id-8 div.sk-label-container {text-align: center;}#sk-container-id-8 div.sk-container {/* jupyter's `normalize.less` sets `[hidden] { display: none; }` but bootstrap.min.css set `[hidden] { display: none !important; }` so we also need the `!important` here to be able to override the default hidden behavior on the sphinx rendered scikit-learn.org. See: https://github.com/scikit-learn/scikit-learn/issues/21755 */display: inline-block !important;position: relative;}#sk-container-id-8 div.sk-text-repr-fallback {display: none;}</style><div id=\"sk-container-id-8\" class=\"sk-top-container\"><div class=\"sk-text-repr-fallback\"><pre>Pipeline(steps=[(&#x27;data_processing&#x27;,\n",
              "                 ColumnTransformer(transformers=[(&#x27;proc_numeric&#x27;,\n",
              "                                                  Pipeline(steps=[(&#x27;impute_missing&#x27;,\n",
              "                                                                   SimpleImputer()),\n",
              "                                                                  (&#x27;standardize_num&#x27;,\n",
              "                                                                   StandardScaler())]),\n",
              "                                                  [&#x27;age&#x27;,\n",
              "                                                   &#x27;resting blood pressure&#x27;,\n",
              "                                                   &#x27;cholestoral&#x27;, &#x27;max_hr&#x27;,\n",
              "                                                   &#x27;ST_depression&#x27;,\n",
              "                                                   &#x27;vessels&#x27;]),\n",
              "                                                 (&#x27;create_dummies&#x27;,\n",
              "                                                  Pipeline(steps=[(&#x27;impute_missing_cats&#x27;,\n",
              "                                                                   SimpleImputer(strategy=&#x27;most_frequent&#x27;)),\n",
              "                                                                  (&#x27;create_dummies_cats&#x27;,\n",
              "                                                                   OneHotEncoder(handle_unknown=&#x27;ignore&#x27;,\n",
              "                                                                                 sparse=False,\n",
              "                                                                                 sparse_output=False))]),\n",
              "                                                  [&#x27;sex&#x27;, &#x27;chest_pain_type&#x27;,\n",
              "                                                   &#x27;fasting_blood_sugar&#x27;,\n",
              "                                                   &#x27;ekg_results&#x27;,\n",
              "                                                   &#x27;exercise_angina&#x27;,\n",
              "                                                   &#x27;slope_of_st&#x27;, &#x27;thallium&#x27;,\n",
              "                                                   &#x27;country&#x27;])])),\n",
              "                (&#x27;rf&#x27;,\n",
              "                 RandomForestClassifier(criterion=&#x27;entropy&#x27;, max_depth=10,\n",
              "                                        n_estimators=20))])</pre><b>In a Jupyter environment, please rerun this cell to show the HTML representation or trust the notebook. <br />On GitHub, the HTML representation is unable to render, please try loading this page with nbviewer.org.</b></div><div class=\"sk-container\" hidden><div class=\"sk-item sk-dashed-wrapped\"><div class=\"sk-label-container\"><div class=\"sk-label sk-toggleable\"><input class=\"sk-toggleable__control sk-hidden--visually\" id=\"sk-estimator-id-64\" type=\"checkbox\" ><label for=\"sk-estimator-id-64\" class=\"sk-toggleable__label sk-toggleable__label-arrow\">Pipeline</label><div class=\"sk-toggleable__content\"><pre>Pipeline(steps=[(&#x27;data_processing&#x27;,\n",
              "                 ColumnTransformer(transformers=[(&#x27;proc_numeric&#x27;,\n",
              "                                                  Pipeline(steps=[(&#x27;impute_missing&#x27;,\n",
              "                                                                   SimpleImputer()),\n",
              "                                                                  (&#x27;standardize_num&#x27;,\n",
              "                                                                   StandardScaler())]),\n",
              "                                                  [&#x27;age&#x27;,\n",
              "                                                   &#x27;resting blood pressure&#x27;,\n",
              "                                                   &#x27;cholestoral&#x27;, &#x27;max_hr&#x27;,\n",
              "                                                   &#x27;ST_depression&#x27;,\n",
              "                                                   &#x27;vessels&#x27;]),\n",
              "                                                 (&#x27;create_dummies&#x27;,\n",
              "                                                  Pipeline(steps=[(&#x27;impute_missing_cats&#x27;,\n",
              "                                                                   SimpleImputer(strategy=&#x27;most_frequent&#x27;)),\n",
              "                                                                  (&#x27;create_dummies_cats&#x27;,\n",
              "                                                                   OneHotEncoder(handle_unknown=&#x27;ignore&#x27;,\n",
              "                                                                                 sparse=False,\n",
              "                                                                                 sparse_output=False))]),\n",
              "                                                  [&#x27;sex&#x27;, &#x27;chest_pain_type&#x27;,\n",
              "                                                   &#x27;fasting_blood_sugar&#x27;,\n",
              "                                                   &#x27;ekg_results&#x27;,\n",
              "                                                   &#x27;exercise_angina&#x27;,\n",
              "                                                   &#x27;slope_of_st&#x27;, &#x27;thallium&#x27;,\n",
              "                                                   &#x27;country&#x27;])])),\n",
              "                (&#x27;rf&#x27;,\n",
              "                 RandomForestClassifier(criterion=&#x27;entropy&#x27;, max_depth=10,\n",
              "                                        n_estimators=20))])</pre></div></div></div><div class=\"sk-serial\"><div class=\"sk-item sk-dashed-wrapped\"><div class=\"sk-label-container\"><div class=\"sk-label sk-toggleable\"><input class=\"sk-toggleable__control sk-hidden--visually\" id=\"sk-estimator-id-65\" type=\"checkbox\" ><label for=\"sk-estimator-id-65\" class=\"sk-toggleable__label sk-toggleable__label-arrow\">data_processing: ColumnTransformer</label><div class=\"sk-toggleable__content\"><pre>ColumnTransformer(transformers=[(&#x27;proc_numeric&#x27;,\n",
              "                                 Pipeline(steps=[(&#x27;impute_missing&#x27;,\n",
              "                                                  SimpleImputer()),\n",
              "                                                 (&#x27;standardize_num&#x27;,\n",
              "                                                  StandardScaler())]),\n",
              "                                 [&#x27;age&#x27;, &#x27;resting blood pressure&#x27;,\n",
              "                                  &#x27;cholestoral&#x27;, &#x27;max_hr&#x27;, &#x27;ST_depression&#x27;,\n",
              "                                  &#x27;vessels&#x27;]),\n",
              "                                (&#x27;create_dummies&#x27;,\n",
              "                                 Pipeline(steps=[(&#x27;impute_missing_cats&#x27;,\n",
              "                                                  SimpleImputer(strategy=&#x27;most_frequent&#x27;)),\n",
              "                                                 (&#x27;create_dummies_cats&#x27;,\n",
              "                                                  OneHotEncoder(handle_unknown=&#x27;ignore&#x27;,\n",
              "                                                                sparse=False,\n",
              "                                                                sparse_output=False))]),\n",
              "                                 [&#x27;sex&#x27;, &#x27;chest_pain_type&#x27;,\n",
              "                                  &#x27;fasting_blood_sugar&#x27;, &#x27;ekg_results&#x27;,\n",
              "                                  &#x27;exercise_angina&#x27;, &#x27;slope_of_st&#x27;, &#x27;thallium&#x27;,\n",
              "                                  &#x27;country&#x27;])])</pre></div></div></div><div class=\"sk-parallel\"><div class=\"sk-parallel-item\"><div class=\"sk-item\"><div class=\"sk-label-container\"><div class=\"sk-label sk-toggleable\"><input class=\"sk-toggleable__control sk-hidden--visually\" id=\"sk-estimator-id-66\" type=\"checkbox\" ><label for=\"sk-estimator-id-66\" class=\"sk-toggleable__label sk-toggleable__label-arrow\">proc_numeric</label><div class=\"sk-toggleable__content\"><pre>[&#x27;age&#x27;, &#x27;resting blood pressure&#x27;, &#x27;cholestoral&#x27;, &#x27;max_hr&#x27;, &#x27;ST_depression&#x27;, &#x27;vessels&#x27;]</pre></div></div></div><div class=\"sk-serial\"><div class=\"sk-item\"><div class=\"sk-serial\"><div class=\"sk-item\"><div class=\"sk-estimator sk-toggleable\"><input class=\"sk-toggleable__control sk-hidden--visually\" id=\"sk-estimator-id-67\" type=\"checkbox\" ><label for=\"sk-estimator-id-67\" class=\"sk-toggleable__label sk-toggleable__label-arrow\">SimpleImputer</label><div class=\"sk-toggleable__content\"><pre>SimpleImputer()</pre></div></div></div><div class=\"sk-item\"><div class=\"sk-estimator sk-toggleable\"><input class=\"sk-toggleable__control sk-hidden--visually\" id=\"sk-estimator-id-68\" type=\"checkbox\" ><label for=\"sk-estimator-id-68\" class=\"sk-toggleable__label sk-toggleable__label-arrow\">StandardScaler</label><div class=\"sk-toggleable__content\"><pre>StandardScaler()</pre></div></div></div></div></div></div></div></div><div class=\"sk-parallel-item\"><div class=\"sk-item\"><div class=\"sk-label-container\"><div class=\"sk-label sk-toggleable\"><input class=\"sk-toggleable__control sk-hidden--visually\" id=\"sk-estimator-id-69\" type=\"checkbox\" ><label for=\"sk-estimator-id-69\" class=\"sk-toggleable__label sk-toggleable__label-arrow\">create_dummies</label><div class=\"sk-toggleable__content\"><pre>[&#x27;sex&#x27;, &#x27;chest_pain_type&#x27;, &#x27;fasting_blood_sugar&#x27;, &#x27;ekg_results&#x27;, &#x27;exercise_angina&#x27;, &#x27;slope_of_st&#x27;, &#x27;thallium&#x27;, &#x27;country&#x27;]</pre></div></div></div><div class=\"sk-serial\"><div class=\"sk-item\"><div class=\"sk-serial\"><div class=\"sk-item\"><div class=\"sk-estimator sk-toggleable\"><input class=\"sk-toggleable__control sk-hidden--visually\" id=\"sk-estimator-id-70\" type=\"checkbox\" ><label for=\"sk-estimator-id-70\" class=\"sk-toggleable__label sk-toggleable__label-arrow\">SimpleImputer</label><div class=\"sk-toggleable__content\"><pre>SimpleImputer(strategy=&#x27;most_frequent&#x27;)</pre></div></div></div><div class=\"sk-item\"><div class=\"sk-estimator sk-toggleable\"><input class=\"sk-toggleable__control sk-hidden--visually\" id=\"sk-estimator-id-71\" type=\"checkbox\" ><label for=\"sk-estimator-id-71\" class=\"sk-toggleable__label sk-toggleable__label-arrow\">OneHotEncoder</label><div class=\"sk-toggleable__content\"><pre>OneHotEncoder(handle_unknown=&#x27;ignore&#x27;, sparse=False, sparse_output=False)</pre></div></div></div></div></div></div></div></div></div></div><div class=\"sk-item\"><div class=\"sk-estimator sk-toggleable\"><input class=\"sk-toggleable__control sk-hidden--visually\" id=\"sk-estimator-id-72\" type=\"checkbox\" ><label for=\"sk-estimator-id-72\" class=\"sk-toggleable__label sk-toggleable__label-arrow\">RandomForestClassifier</label><div class=\"sk-toggleable__content\"><pre>RandomForestClassifier(criterion=&#x27;entropy&#x27;, max_depth=10, n_estimators=20)</pre></div></div></div></div></div></div></div>"
            ]
          },
          "metadata": {},
          "execution_count": 55
        }
      ]
    },
    {
      "cell_type": "code",
      "source": [
        "rf = Pipeline([\n",
        "    ('data_processing', processing_pipeline),\n",
        "    ('rf', RandomForestClassifier(criterion = 'entropy',n_estimators=20))]\n",
        ")\n",
        "\n",
        "param_grid = [{\n",
        "    #'rf__n_estimators': [45,50,51,52,53,55,60],\n",
        "    'rf__max_depth': [None, 5, 10],\n",
        "    'rf__min_samples_split': [2, 5, 10]\n",
        "}]\n",
        "\n",
        "rf_second = GridSearchCV(estimator=rf, \n",
        "                           param_grid=param_grid, cv=5)\n",
        "rf_second = rf_second.fit(X_train, y_train)\n",
        "print(f'Validation score: {rf_second.best_score_:.2%}')\n",
        "print(f'Train score: {rf_second.score(X_train, y_train):.2%}')\n",
        "print(f'Test score: {rf_second.score(X_test, y_test):.2%}')\n",
        "rf_second.best_estimator_"
      ],
      "metadata": {
        "colab": {
          "base_uri": "https://localhost:8080/",
          "height": 280
        },
        "id": "1tb8Dk3KWckW",
        "outputId": "8864eb3f-f29e-40b1-a50d-5a2c64c09a75"
      },
      "id": "1tb8Dk3KWckW",
      "execution_count": 56,
      "outputs": [
        {
          "output_type": "stream",
          "name": "stdout",
          "text": [
            "Validation score: 86.93%\n",
            "Train score: 99.86%\n",
            "Test score: 92.78%\n"
          ]
        },
        {
          "output_type": "execute_result",
          "data": {
            "text/plain": [
              "Pipeline(steps=[('data_processing',\n",
              "                 ColumnTransformer(transformers=[('proc_numeric',\n",
              "                                                  Pipeline(steps=[('impute_missing',\n",
              "                                                                   SimpleImputer()),\n",
              "                                                                  ('standardize_num',\n",
              "                                                                   StandardScaler())]),\n",
              "                                                  ['age',\n",
              "                                                   'resting blood pressure',\n",
              "                                                   'cholestoral', 'max_hr',\n",
              "                                                   'ST_depression',\n",
              "                                                   'vessels']),\n",
              "                                                 ('create_dummies',\n",
              "                                                  Pipeline(steps=[('impute_missing_cats',\n",
              "                                                                   SimpleImputer(strategy='most_frequent')),\n",
              "                                                                  ('create_dummies_cats',\n",
              "                                                                   OneHotEncoder(handle_unknown='ignore',\n",
              "                                                                                 sparse=False,\n",
              "                                                                                 sparse_output=False))]),\n",
              "                                                  ['sex', 'chest_pain_type',\n",
              "                                                   'fasting_blood_sugar',\n",
              "                                                   'ekg_results',\n",
              "                                                   'exercise_angina',\n",
              "                                                   'slope_of_st', 'thallium',\n",
              "                                                   'country'])])),\n",
              "                ('rf',\n",
              "                 RandomForestClassifier(criterion='entropy', n_estimators=20))])"
            ],
            "text/html": [
              "<style>#sk-container-id-9 {color: black;background-color: white;}#sk-container-id-9 pre{padding: 0;}#sk-container-id-9 div.sk-toggleable {background-color: white;}#sk-container-id-9 label.sk-toggleable__label {cursor: pointer;display: block;width: 100%;margin-bottom: 0;padding: 0.3em;box-sizing: border-box;text-align: center;}#sk-container-id-9 label.sk-toggleable__label-arrow:before {content: \"▸\";float: left;margin-right: 0.25em;color: #696969;}#sk-container-id-9 label.sk-toggleable__label-arrow:hover:before {color: black;}#sk-container-id-9 div.sk-estimator:hover label.sk-toggleable__label-arrow:before {color: black;}#sk-container-id-9 div.sk-toggleable__content {max-height: 0;max-width: 0;overflow: hidden;text-align: left;background-color: #f0f8ff;}#sk-container-id-9 div.sk-toggleable__content pre {margin: 0.2em;color: black;border-radius: 0.25em;background-color: #f0f8ff;}#sk-container-id-9 input.sk-toggleable__control:checked~div.sk-toggleable__content {max-height: 200px;max-width: 100%;overflow: auto;}#sk-container-id-9 input.sk-toggleable__control:checked~label.sk-toggleable__label-arrow:before {content: \"▾\";}#sk-container-id-9 div.sk-estimator input.sk-toggleable__control:checked~label.sk-toggleable__label {background-color: #d4ebff;}#sk-container-id-9 div.sk-label input.sk-toggleable__control:checked~label.sk-toggleable__label {background-color: #d4ebff;}#sk-container-id-9 input.sk-hidden--visually {border: 0;clip: rect(1px 1px 1px 1px);clip: rect(1px, 1px, 1px, 1px);height: 1px;margin: -1px;overflow: hidden;padding: 0;position: absolute;width: 1px;}#sk-container-id-9 div.sk-estimator {font-family: monospace;background-color: #f0f8ff;border: 1px dotted black;border-radius: 0.25em;box-sizing: border-box;margin-bottom: 0.5em;}#sk-container-id-9 div.sk-estimator:hover {background-color: #d4ebff;}#sk-container-id-9 div.sk-parallel-item::after {content: \"\";width: 100%;border-bottom: 1px solid gray;flex-grow: 1;}#sk-container-id-9 div.sk-label:hover label.sk-toggleable__label {background-color: #d4ebff;}#sk-container-id-9 div.sk-serial::before {content: \"\";position: absolute;border-left: 1px solid gray;box-sizing: border-box;top: 0;bottom: 0;left: 50%;z-index: 0;}#sk-container-id-9 div.sk-serial {display: flex;flex-direction: column;align-items: center;background-color: white;padding-right: 0.2em;padding-left: 0.2em;position: relative;}#sk-container-id-9 div.sk-item {position: relative;z-index: 1;}#sk-container-id-9 div.sk-parallel {display: flex;align-items: stretch;justify-content: center;background-color: white;position: relative;}#sk-container-id-9 div.sk-item::before, #sk-container-id-9 div.sk-parallel-item::before {content: \"\";position: absolute;border-left: 1px solid gray;box-sizing: border-box;top: 0;bottom: 0;left: 50%;z-index: -1;}#sk-container-id-9 div.sk-parallel-item {display: flex;flex-direction: column;z-index: 1;position: relative;background-color: white;}#sk-container-id-9 div.sk-parallel-item:first-child::after {align-self: flex-end;width: 50%;}#sk-container-id-9 div.sk-parallel-item:last-child::after {align-self: flex-start;width: 50%;}#sk-container-id-9 div.sk-parallel-item:only-child::after {width: 0;}#sk-container-id-9 div.sk-dashed-wrapped {border: 1px dashed gray;margin: 0 0.4em 0.5em 0.4em;box-sizing: border-box;padding-bottom: 0.4em;background-color: white;}#sk-container-id-9 div.sk-label label {font-family: monospace;font-weight: bold;display: inline-block;line-height: 1.2em;}#sk-container-id-9 div.sk-label-container {text-align: center;}#sk-container-id-9 div.sk-container {/* jupyter's `normalize.less` sets `[hidden] { display: none; }` but bootstrap.min.css set `[hidden] { display: none !important; }` so we also need the `!important` here to be able to override the default hidden behavior on the sphinx rendered scikit-learn.org. See: https://github.com/scikit-learn/scikit-learn/issues/21755 */display: inline-block !important;position: relative;}#sk-container-id-9 div.sk-text-repr-fallback {display: none;}</style><div id=\"sk-container-id-9\" class=\"sk-top-container\"><div class=\"sk-text-repr-fallback\"><pre>Pipeline(steps=[(&#x27;data_processing&#x27;,\n",
              "                 ColumnTransformer(transformers=[(&#x27;proc_numeric&#x27;,\n",
              "                                                  Pipeline(steps=[(&#x27;impute_missing&#x27;,\n",
              "                                                                   SimpleImputer()),\n",
              "                                                                  (&#x27;standardize_num&#x27;,\n",
              "                                                                   StandardScaler())]),\n",
              "                                                  [&#x27;age&#x27;,\n",
              "                                                   &#x27;resting blood pressure&#x27;,\n",
              "                                                   &#x27;cholestoral&#x27;, &#x27;max_hr&#x27;,\n",
              "                                                   &#x27;ST_depression&#x27;,\n",
              "                                                   &#x27;vessels&#x27;]),\n",
              "                                                 (&#x27;create_dummies&#x27;,\n",
              "                                                  Pipeline(steps=[(&#x27;impute_missing_cats&#x27;,\n",
              "                                                                   SimpleImputer(strategy=&#x27;most_frequent&#x27;)),\n",
              "                                                                  (&#x27;create_dummies_cats&#x27;,\n",
              "                                                                   OneHotEncoder(handle_unknown=&#x27;ignore&#x27;,\n",
              "                                                                                 sparse=False,\n",
              "                                                                                 sparse_output=False))]),\n",
              "                                                  [&#x27;sex&#x27;, &#x27;chest_pain_type&#x27;,\n",
              "                                                   &#x27;fasting_blood_sugar&#x27;,\n",
              "                                                   &#x27;ekg_results&#x27;,\n",
              "                                                   &#x27;exercise_angina&#x27;,\n",
              "                                                   &#x27;slope_of_st&#x27;, &#x27;thallium&#x27;,\n",
              "                                                   &#x27;country&#x27;])])),\n",
              "                (&#x27;rf&#x27;,\n",
              "                 RandomForestClassifier(criterion=&#x27;entropy&#x27;, n_estimators=20))])</pre><b>In a Jupyter environment, please rerun this cell to show the HTML representation or trust the notebook. <br />On GitHub, the HTML representation is unable to render, please try loading this page with nbviewer.org.</b></div><div class=\"sk-container\" hidden><div class=\"sk-item sk-dashed-wrapped\"><div class=\"sk-label-container\"><div class=\"sk-label sk-toggleable\"><input class=\"sk-toggleable__control sk-hidden--visually\" id=\"sk-estimator-id-73\" type=\"checkbox\" ><label for=\"sk-estimator-id-73\" class=\"sk-toggleable__label sk-toggleable__label-arrow\">Pipeline</label><div class=\"sk-toggleable__content\"><pre>Pipeline(steps=[(&#x27;data_processing&#x27;,\n",
              "                 ColumnTransformer(transformers=[(&#x27;proc_numeric&#x27;,\n",
              "                                                  Pipeline(steps=[(&#x27;impute_missing&#x27;,\n",
              "                                                                   SimpleImputer()),\n",
              "                                                                  (&#x27;standardize_num&#x27;,\n",
              "                                                                   StandardScaler())]),\n",
              "                                                  [&#x27;age&#x27;,\n",
              "                                                   &#x27;resting blood pressure&#x27;,\n",
              "                                                   &#x27;cholestoral&#x27;, &#x27;max_hr&#x27;,\n",
              "                                                   &#x27;ST_depression&#x27;,\n",
              "                                                   &#x27;vessels&#x27;]),\n",
              "                                                 (&#x27;create_dummies&#x27;,\n",
              "                                                  Pipeline(steps=[(&#x27;impute_missing_cats&#x27;,\n",
              "                                                                   SimpleImputer(strategy=&#x27;most_frequent&#x27;)),\n",
              "                                                                  (&#x27;create_dummies_cats&#x27;,\n",
              "                                                                   OneHotEncoder(handle_unknown=&#x27;ignore&#x27;,\n",
              "                                                                                 sparse=False,\n",
              "                                                                                 sparse_output=False))]),\n",
              "                                                  [&#x27;sex&#x27;, &#x27;chest_pain_type&#x27;,\n",
              "                                                   &#x27;fasting_blood_sugar&#x27;,\n",
              "                                                   &#x27;ekg_results&#x27;,\n",
              "                                                   &#x27;exercise_angina&#x27;,\n",
              "                                                   &#x27;slope_of_st&#x27;, &#x27;thallium&#x27;,\n",
              "                                                   &#x27;country&#x27;])])),\n",
              "                (&#x27;rf&#x27;,\n",
              "                 RandomForestClassifier(criterion=&#x27;entropy&#x27;, n_estimators=20))])</pre></div></div></div><div class=\"sk-serial\"><div class=\"sk-item sk-dashed-wrapped\"><div class=\"sk-label-container\"><div class=\"sk-label sk-toggleable\"><input class=\"sk-toggleable__control sk-hidden--visually\" id=\"sk-estimator-id-74\" type=\"checkbox\" ><label for=\"sk-estimator-id-74\" class=\"sk-toggleable__label sk-toggleable__label-arrow\">data_processing: ColumnTransformer</label><div class=\"sk-toggleable__content\"><pre>ColumnTransformer(transformers=[(&#x27;proc_numeric&#x27;,\n",
              "                                 Pipeline(steps=[(&#x27;impute_missing&#x27;,\n",
              "                                                  SimpleImputer()),\n",
              "                                                 (&#x27;standardize_num&#x27;,\n",
              "                                                  StandardScaler())]),\n",
              "                                 [&#x27;age&#x27;, &#x27;resting blood pressure&#x27;,\n",
              "                                  &#x27;cholestoral&#x27;, &#x27;max_hr&#x27;, &#x27;ST_depression&#x27;,\n",
              "                                  &#x27;vessels&#x27;]),\n",
              "                                (&#x27;create_dummies&#x27;,\n",
              "                                 Pipeline(steps=[(&#x27;impute_missing_cats&#x27;,\n",
              "                                                  SimpleImputer(strategy=&#x27;most_frequent&#x27;)),\n",
              "                                                 (&#x27;create_dummies_cats&#x27;,\n",
              "                                                  OneHotEncoder(handle_unknown=&#x27;ignore&#x27;,\n",
              "                                                                sparse=False,\n",
              "                                                                sparse_output=False))]),\n",
              "                                 [&#x27;sex&#x27;, &#x27;chest_pain_type&#x27;,\n",
              "                                  &#x27;fasting_blood_sugar&#x27;, &#x27;ekg_results&#x27;,\n",
              "                                  &#x27;exercise_angina&#x27;, &#x27;slope_of_st&#x27;, &#x27;thallium&#x27;,\n",
              "                                  &#x27;country&#x27;])])</pre></div></div></div><div class=\"sk-parallel\"><div class=\"sk-parallel-item\"><div class=\"sk-item\"><div class=\"sk-label-container\"><div class=\"sk-label sk-toggleable\"><input class=\"sk-toggleable__control sk-hidden--visually\" id=\"sk-estimator-id-75\" type=\"checkbox\" ><label for=\"sk-estimator-id-75\" class=\"sk-toggleable__label sk-toggleable__label-arrow\">proc_numeric</label><div class=\"sk-toggleable__content\"><pre>[&#x27;age&#x27;, &#x27;resting blood pressure&#x27;, &#x27;cholestoral&#x27;, &#x27;max_hr&#x27;, &#x27;ST_depression&#x27;, &#x27;vessels&#x27;]</pre></div></div></div><div class=\"sk-serial\"><div class=\"sk-item\"><div class=\"sk-serial\"><div class=\"sk-item\"><div class=\"sk-estimator sk-toggleable\"><input class=\"sk-toggleable__control sk-hidden--visually\" id=\"sk-estimator-id-76\" type=\"checkbox\" ><label for=\"sk-estimator-id-76\" class=\"sk-toggleable__label sk-toggleable__label-arrow\">SimpleImputer</label><div class=\"sk-toggleable__content\"><pre>SimpleImputer()</pre></div></div></div><div class=\"sk-item\"><div class=\"sk-estimator sk-toggleable\"><input class=\"sk-toggleable__control sk-hidden--visually\" id=\"sk-estimator-id-77\" type=\"checkbox\" ><label for=\"sk-estimator-id-77\" class=\"sk-toggleable__label sk-toggleable__label-arrow\">StandardScaler</label><div class=\"sk-toggleable__content\"><pre>StandardScaler()</pre></div></div></div></div></div></div></div></div><div class=\"sk-parallel-item\"><div class=\"sk-item\"><div class=\"sk-label-container\"><div class=\"sk-label sk-toggleable\"><input class=\"sk-toggleable__control sk-hidden--visually\" id=\"sk-estimator-id-78\" type=\"checkbox\" ><label for=\"sk-estimator-id-78\" class=\"sk-toggleable__label sk-toggleable__label-arrow\">create_dummies</label><div class=\"sk-toggleable__content\"><pre>[&#x27;sex&#x27;, &#x27;chest_pain_type&#x27;, &#x27;fasting_blood_sugar&#x27;, &#x27;ekg_results&#x27;, &#x27;exercise_angina&#x27;, &#x27;slope_of_st&#x27;, &#x27;thallium&#x27;, &#x27;country&#x27;]</pre></div></div></div><div class=\"sk-serial\"><div class=\"sk-item\"><div class=\"sk-serial\"><div class=\"sk-item\"><div class=\"sk-estimator sk-toggleable\"><input class=\"sk-toggleable__control sk-hidden--visually\" id=\"sk-estimator-id-79\" type=\"checkbox\" ><label for=\"sk-estimator-id-79\" class=\"sk-toggleable__label sk-toggleable__label-arrow\">SimpleImputer</label><div class=\"sk-toggleable__content\"><pre>SimpleImputer(strategy=&#x27;most_frequent&#x27;)</pre></div></div></div><div class=\"sk-item\"><div class=\"sk-estimator sk-toggleable\"><input class=\"sk-toggleable__control sk-hidden--visually\" id=\"sk-estimator-id-80\" type=\"checkbox\" ><label for=\"sk-estimator-id-80\" class=\"sk-toggleable__label sk-toggleable__label-arrow\">OneHotEncoder</label><div class=\"sk-toggleable__content\"><pre>OneHotEncoder(handle_unknown=&#x27;ignore&#x27;, sparse=False, sparse_output=False)</pre></div></div></div></div></div></div></div></div></div></div><div class=\"sk-item\"><div class=\"sk-estimator sk-toggleable\"><input class=\"sk-toggleable__control sk-hidden--visually\" id=\"sk-estimator-id-81\" type=\"checkbox\" ><label for=\"sk-estimator-id-81\" class=\"sk-toggleable__label sk-toggleable__label-arrow\">RandomForestClassifier</label><div class=\"sk-toggleable__content\"><pre>RandomForestClassifier(criterion=&#x27;entropy&#x27;, n_estimators=20)</pre></div></div></div></div></div></div></div>"
            ]
          },
          "metadata": {},
          "execution_count": 56
        }
      ]
    },
    {
      "cell_type": "markdown",
      "source": [
        "#### Comments:\n",
        "From all the models, Random Forest models is performing better after hyperparameter tuning, but not much improvement in the scores."
      ],
      "metadata": {
        "id": "FJgsGqkwkuzG"
      },
      "id": "FJgsGqkwkuzG"
    },
    {
      "cell_type": "markdown",
      "id": "8b942d2b",
      "metadata": {
        "id": "8b942d2b"
      },
      "source": [
        "### Cross validation with parameters after hyper parameter tuning"
      ]
    },
    {
      "cell_type": "code",
      "execution_count": 57,
      "id": "6ad15f78",
      "metadata": {
        "id": "6ad15f78",
        "outputId": "7fea3564-6f73-4924-ce4c-57f1562311e1",
        "colab": {
          "base_uri": "https://localhost:8080/"
        }
      },
      "outputs": [
        {
          "output_type": "stream",
          "name": "stdout",
          "text": [
            "Training sample: 575\n",
            "Validation sample: 144\n",
            "Test sample: 180\n"
          ]
        }
      ],
      "source": [
        "def create_holdout_splits(X, y):\n",
        "    x_train, x_val, y_trainv, y_val = train_test_split(X_train, y_train, test_size=0.2)\n",
        "    return x_train, x_val, y_trainv, y_val\n",
        "\n",
        "x_train, x_val, y_trainv, y_val = create_holdout_splits(X, y)\n",
        "\n",
        "print(f'Training sample: {x_train.shape[0]:,}')\n",
        "print(f'Validation sample: {x_val.shape[0]:,}')\n",
        "print(f'Test sample: {X_test.shape[0]:,}')"
      ]
    },
    {
      "cell_type": "markdown",
      "id": "451d776b",
      "metadata": {
        "id": "451d776b"
      },
      "source": [
        "#### Logistic Regression "
      ]
    },
    {
      "cell_type": "code",
      "execution_count": 58,
      "id": "141b157a",
      "metadata": {
        "id": "141b157a",
        "outputId": "3b8cc88b-31cc-4a50-a12d-a7899f3aa03a",
        "colab": {
          "base_uri": "https://localhost:8080/"
        }
      },
      "outputs": [
        {
          "output_type": "stream",
          "name": "stdout",
          "text": [
            "Models fitted\n"
          ]
        }
      ],
      "source": [
        "plr = Pipeline([('data_processing', processing_pipeline), \n",
        "              ('model', LogisticRegression(solver = 'liblinear', penalty = 'l2', C=0.1))\n",
        "             ])\n",
        "plr = plr.fit(X_train, y_train)\n",
        "m_lgreg_models = {}\n",
        "for i in range(1,6):\n",
        "    m_lgreg_models[i] = plr.fit(x_train, y_trainv)\n",
        "    #print(m_lgreg_models[i])\n",
        "    \n",
        "print('Models fitted')"
      ]
    },
    {
      "cell_type": "code",
      "execution_count": 59,
      "id": "b6c1a7fd",
      "metadata": {
        "id": "b6c1a7fd"
      },
      "outputs": [],
      "source": [
        "y_val_lgreg = {}\n",
        "for k in range(1,6):\n",
        "    y_val_lgreg[k] = m_lgreg_models[k].predict(x_val)\n",
        "    \n",
        "   "
      ]
    },
    {
      "cell_type": "markdown",
      "id": "8a7a4543",
      "metadata": {
        "id": "8a7a4543"
      },
      "source": [
        "#### Decision tree"
      ]
    },
    {
      "cell_type": "code",
      "execution_count": 60,
      "id": "930d255f",
      "metadata": {
        "id": "930d255f",
        "outputId": "8c297802-635b-4dc7-e148-199e763abd8e",
        "colab": {
          "base_uri": "https://localhost:8080/"
        }
      },
      "outputs": [
        {
          "output_type": "stream",
          "name": "stdout",
          "text": [
            "Models fitted\n"
          ]
        }
      ],
      "source": [
        "ptr = Pipeline([('data_processing', processing_pipeline), \n",
        "              ('dt', DecisionTreeClassifier(criterion = 'entropy', max_depth = 9,min_samples_leaf=2, min_samples_split=7))\n",
        "             ])\n",
        "ptr = ptr.fit(X_train, y_train)\n",
        "m_tr_models = {}\n",
        "for i in range(1,6):\n",
        "    m_tr_models[i] = ptr.fit(x_train, y_trainv)\n",
        "    \n",
        "print('Models fitted')"
      ]
    },
    {
      "cell_type": "code",
      "execution_count": 61,
      "id": "83e4fae4",
      "metadata": {
        "id": "83e4fae4"
      },
      "outputs": [],
      "source": [
        "y_val_tr = {}\n",
        "for k in range(1,6):\n",
        "    y_val_tr[k] = m_tr_models[k].predict(x_val)\n",
        "    \n"
      ]
    },
    {
      "cell_type": "markdown",
      "source": [
        "### Random Forest"
      ],
      "metadata": {
        "id": "kMOVUuY3PJR2"
      },
      "id": "kMOVUuY3PJR2"
    },
    {
      "cell_type": "code",
      "source": [
        "rfc = Pipeline([('data_processing', processing_pipeline), \n",
        "              ('model', RandomForestClassifier(criterion = 'entropy',n_estimators=20))\n",
        "             ])\n",
        "rfc = rfc.fit(X_train, y_train)\n",
        "m_rf_models = {}\n",
        "for i in range(1,6):\n",
        "    m_rf_models[i] = rfc.fit(x_train, y_trainv)\n",
        "        \n",
        "print('Models fitted')"
      ],
      "metadata": {
        "colab": {
          "base_uri": "https://localhost:8080/"
        },
        "id": "A1srEA-6PDPR",
        "outputId": "0ac9783d-ce7c-4a3e-8750-3c6c92693519"
      },
      "id": "A1srEA-6PDPR",
      "execution_count": 62,
      "outputs": [
        {
          "output_type": "stream",
          "name": "stdout",
          "text": [
            "Models fitted\n"
          ]
        }
      ]
    },
    {
      "cell_type": "code",
      "source": [
        "y_val_rfc = {}\n",
        "for k in range(1,6):\n",
        "    y_val_rfc[k] = m_rf_models[k].predict(x_val)"
      ],
      "metadata": {
        "id": "OCc3cE_rm3RB"
      },
      "id": "OCc3cE_rm3RB",
      "execution_count": 63,
      "outputs": []
    },
    {
      "cell_type": "code",
      "source": [
        "fpr_val_lgreg = {}\n",
        "tpr_val_lgreg = {}\n",
        "fpr_val_tr = {}\n",
        "tpr_val_tr = {}\n",
        "fpr_val_rf = {}\n",
        "tpr_val_rf = {}\n",
        "for k in range(1,6):\n",
        "    fpr_val_lgreg[k], tpr_val_lgreg[k] = generate_roc(y_val,\n",
        "                                          generate_probs(x_val, model=m_lgreg_models[k]))\n",
        "    fpr_val_tr[k], tpr_val_tr[k] = generate_roc(y_val,\n",
        "                                          generate_probs(x_val, model=m_tr_models[k]))\n",
        "    fpr_val_rf[k], tpr_val_rf[k] = generate_roc(y_val,\n",
        "                                          generate_probs(x_val, model=m_rf_models[k]))\n",
        "    \n",
        "    \n",
        "\n",
        "for i in range(1,6):\n",
        "    plt.plot(fpr_val_lgreg[i], tpr_val_lgreg[i],'-b')\n",
        "    plt.plot(fpr_val_tr[i], tpr_val_tr[i],'-r')    \n",
        "    plt.plot(fpr_val_tr[i], tpr_val_tr[i],'--b')\n",
        "    \n",
        "\n",
        "\n",
        "plt.xlabel('False Positive Rate')\n",
        "plt.ylabel('True Positive Rate')\n",
        "plt.legend(['LogReg','Decision trees','RandomForest'])\n",
        "plt.plot([0, 1], [0, 1], color='navy', linestyle='--')\n",
        "plt.show()"
      ],
      "metadata": {
        "colab": {
          "base_uri": "https://localhost:8080/",
          "height": 696
        },
        "id": "HDLcjkpanKWM",
        "outputId": "d670845d-9138-4bdd-9c25-4aad01b6d7de"
      },
      "id": "HDLcjkpanKWM",
      "execution_count": 64,
      "outputs": [
        {
          "output_type": "display_data",
          "data": {
            "text/plain": [
              "<Figure size 1000x800 with 1 Axes>"
            ],
            "image/png": "[encoded data removed]"
          },
          "metadata": {}
        }
      ]
    },
    {
      "cell_type": "code",
      "source": [
        "print(\"validation roc score of logreg: \",roc_auc_score(y_val, generate_probs(x_val, model=plr)))\n",
        "print(\"validation roc score of dec tree: \",roc_auc_score(y_val, generate_probs(x_val, model=ptr)))\n",
        "print(\"validation roc score of RandomForest: \",roc_auc_score(y_val, generate_probs(x_val, model=rfc)))"
      ],
      "metadata": {
        "colab": {
          "base_uri": "https://localhost:8080/"
        },
        "id": "GFdSpgH9osO_",
        "outputId": "15752aa5-c431-44cc-84b5-66085df876e0"
      },
      "id": "GFdSpgH9osO_",
      "execution_count": 65,
      "outputs": [
        {
          "output_type": "stream",
          "name": "stdout",
          "text": [
            "validation roc score of logreg:  0.9345003933910306\n",
            "validation roc score of dec tree:  0.878147128245476\n",
            "validation roc score of RandomForest:  0.957513768686074\n"
          ]
        }
      ]
    },
    {
      "cell_type": "code",
      "source": [
        "import matplotlib.pyplot as plt\n",
        "\n",
        "# create a sample dataframe with roc_auc values\n",
        "data = {'Model': ['Logreg','Dec_tree','Rand_Frst'],\n",
        "        'ROC_AUC': [roc_auc_score(y_val, generate_probs(x_val, model=plr)),roc_auc_score(y_val, generate_probs(x_val, model=ptr)),roc_auc_score(y_val, generate_probs(x_val, model=rfc))]}\n",
        "df = pd.DataFrame(data)\n",
        "\n",
        "# convert the roc_auc values to percentages\n",
        "df['ROC_AUC'] = df['ROC_AUC']*100\n",
        "\n",
        "df_sorted = df.sort_values(by='ROC_AUC', ascending=False)\n",
        "\n",
        "plt.bar(df_sorted['Model'], df_sorted['ROC_AUC'])\n",
        "# set the x-axis labels\n",
        "plt.xticks(df['Model'])\n",
        "\n",
        "# add text labels to the bars\n",
        "for i, v in enumerate(df_sorted['ROC_AUC']):\n",
        "    plt.text(i, v, str(v), ha='center', va='bottom')   \n"
      ],
      "metadata": {
        "colab": {
          "base_uri": "https://localhost:8080/",
          "height": 679
        },
        "id": "o-zvSotfX1kB",
        "outputId": "e8b0cdc2-a706-4736-859d-31284ca29b09"
      },
      "id": "o-zvSotfX1kB",
      "execution_count": 66,
      "outputs": [
        {
          "output_type": "display_data",
          "data": {
            "text/plain": [
              "<Figure size 1000x800 with 1 Axes>"
            ],
            "image/png": "[encoded data removed]"
          },
          "metadata": {}
        }
      ]
    },
    {
      "cell_type": "markdown",
      "id": "155b2cd5",
      "metadata": {
        "id": "155b2cd5"
      },
      "source": [
        "### Comments on results comparison:\n",
        "Overall, from the ROC scores in case of Logistic regression with score of 89% than with kmeans and pca, while decision tree had an accuracy of 86% than with pca and kmeans. So, Logistic regression performs better than the decision tree model in prediction of severity of injuries especially case of \"NO INJURY/ DRIVE AWAY\""
      ]
    },
    {
      "cell_type": "markdown",
      "id": "a9219b76",
      "metadata": {
        "id": "a9219b76"
      },
      "source": [
        "### Ensemble"
      ]
    },
    {
      "cell_type": "markdown",
      "id": "5155667b",
      "metadata": {
        "id": "5155667b"
      },
      "source": [
        "#### Voting Classifier for evaluating the models in Ensemble with ROC"
      ]
    },
    {
      "cell_type": "code",
      "execution_count": 67,
      "id": "fae5bd6d",
      "metadata": {
        "colab": {
          "base_uri": "https://localhost:8080/"
        },
        "id": "fae5bd6d",
        "outputId": "93c9a1e6-51d7-4108-c82d-0717630d5e74"
      },
      "outputs": [
        {
          "output_type": "stream",
          "name": "stdout",
          "text": [
            "ROC AUC 0.90 (+/- 0.04) [Logistic Regression]\n",
            "ROC AUC 0.86 (+/- 0.04) [Decision Tree]\n",
            "ROC AUC 0.95 (+/- 0.02) [Random Forest]\n",
            "ROC AUC 0.94 (+/- 0.03) [Ensemble]\n"
          ]
        }
      ],
      "source": [
        "score_lst = []\n",
        "clf1 = LogisticRegression(penalty='l1', C=0.1, solver='liblinear', random_state=0)\n",
        "clf2 = DecisionTreeClassifier(criterion='entropy', max_depth=9, min_samples_leaf=2, random_state=1)\n",
        "clf3 = RandomForestClassifier(n_estimators=20)\n",
        "\n",
        "pipe1 = Pipeline([('data_processing', processing_pipeline),('logreg', clf1)])\n",
        "pipe2 = Pipeline([('data_processing', processing_pipeline),('tree', clf2)])\n",
        "pipe3 = Pipeline([('data_processing', processing_pipeline),('rfc', clf3)])\n",
        "\n",
        "labs = ['Logistic Regression', 'Decision Tree', 'Random Forest']\n",
        "clfs = [pipe1, pipe2, pipe3]\n",
        "clfs = zip(labs, clfs)\n",
        "\n",
        "for lab, clf in clfs:\n",
        "    scores = cross_val_score(estimator=clf, X=X_train, y=y_train, cv=10, scoring='roc_auc')\n",
        "    print(f'ROC AUC {scores.mean():.2f} (+/- {scores.std():.2f}) [{lab}]')\n",
        "    #print(scores.mean())\n",
        "    score_lst.append(scores.mean())\n",
        "\n",
        "ems = [('lr', pipe1),('dt', pipe2),('rfc', pipe3)]\n",
        "clf4 = VotingClassifier(estimators= ems, weights=None, voting='soft')\n",
        "clf4 = clf4.fit(X_train,y_train)\n",
        "\n",
        "scores = cross_val_score(estimator=clf4, X=X_train, y=y_train,cv=10, scoring='roc_auc')\n",
        "print(f'ROC AUC {scores.mean():.2f} (+/- {scores.std():.2f}) [Ensemble]')\n",
        "score_lst.append(scores.mean())"
      ]
    },
    {
      "cell_type": "code",
      "source": [
        "score_lst"
      ],
      "metadata": {
        "colab": {
          "base_uri": "https://localhost:8080/"
        },
        "id": "oBRSWd5Eb-Vr",
        "outputId": "1b969b9c-dad9-4f90-a221-3818236eb9b5"
      },
      "id": "oBRSWd5Eb-Vr",
      "execution_count": 68,
      "outputs": [
        {
          "output_type": "execute_result",
          "data": {
            "text/plain": [
              "[0.9020460021636506,\n",
              " 0.8632634244689221,\n",
              " 0.9458125676140833,\n",
              " 0.9366894915420929]"
            ]
          },
          "metadata": {},
          "execution_count": 68
        }
      ]
    },
    {
      "cell_type": "code",
      "source": [
        "\n",
        "# create a sample dataframe with roc_auc values\n",
        "data = {'Classifiers': ['Logreg','Dec_tree','Rand_Frst','VotingClassifier'],\n",
        "        'Val_Scores': score_lst}\n",
        "df = pd.DataFrame(data)\n",
        "\n",
        "# convert the roc_auc values to percentages\n",
        "df['Val_Scores'] = df['Val_Scores']*100\n",
        "\n",
        "df_sorted = df.sort_values(by='Val_Scores', ascending=False)\n",
        "\n",
        "plt.bar(df_sorted['Classifiers'], df_sorted['Val_Scores'])\n",
        "# set the x-axis labels\n",
        "plt.xticks(df['Classifiers'])\n",
        "\n",
        "# add text labels to the bars\n",
        "for i, v in enumerate(df_sorted['Val_Scores']):\n",
        "    plt.text(i, v, str(v), ha='center', va='bottom')  "
      ],
      "metadata": {
        "colab": {
          "base_uri": "https://localhost:8080/",
          "height": 676
        },
        "id": "7a3v5BkPbn_y",
        "outputId": "3e2c1ff2-a066-4ee8-e6db-a9de33c61b9b"
      },
      "id": "7a3v5BkPbn_y",
      "execution_count": 69,
      "outputs": [
        {
          "output_type": "display_data",
          "data": {
            "text/plain": [
              "<Figure size 1000x800 with 1 Axes>"
            ],
            "image/png": "[encoded data removed]"
          },
          "metadata": {}
        }
      ]
    },
    {
      "cell_type": "markdown",
      "id": "441faadb",
      "metadata": {
        "id": "441faadb"
      },
      "source": [
        "#### Comments:\n",
        "From the ensemble, the model roc_auc metric is found to be higher as compared to the individual decision trees, from ensemble, the random forest and logistic regression model are considered to be the better model."
      ]
    },
    {
      "cell_type": "markdown",
      "id": "09914686",
      "metadata": {
        "id": "09914686"
      },
      "source": [
        "## Summary from Insights:\n",
        "1. Presence of heart diseases in patients are assesed by fitting into different models of regression and classification.\n",
        "2. As the target variable is categorical, then models of logistic regression, random forest and decision trees are fitted, however, the models suffered from the issues of severe overfitting, multicollinearity, skewness and outliers in the data.\n",
        "3. The problems of overfitting issues are high when model is fitted in decision trees, showing huge difference in the training and testing data performance metrics.\n",
        "4. So, with hyper parameters tuning using grid search CV improved the models performance metrics like accuracy, recall, precision. \n",
        "5. With the best model parameters, the training data is cross validated with 6 folds to find the best performance.\n",
        "6. Overall, from the roc curves of validation metrics, the Random Forest model is slightly higher in comparison to the decision trees and logistic regression.\n",
        "7. Overall, Random Forest is considered to be the better model for predicting in stream lit web deployment"
      ]
    },
    {
      "cell_type": "markdown",
      "id": "51825828",
      "metadata": {
        "id": "51825828"
      },
      "source": [
        "## Conclusion:\n"
      ]
    },
    {
      "cell_type": "markdown",
      "id": "778982c4",
      "metadata": {
        "id": "778982c4"
      },
      "source": [
        "  In conclusion, The heart failure prediction model developed in this project has demonstrated the potential to predict the likelihood of heart failure in patients based on their medical history other factors.\n",
        "This model can be a useful tool for healthcare professionals to identify patients who are at high risk of heart failure and provide them with appropriate preventive measures and treatments.\n",
        "The accuracy and reliability of the heart failure prediction model depends on the quality and completeness of the data used to train it.\n",
        "Further research is necessary to validate its performance on larger and more diverse datasets."
      ]
    },
    {
      "cell_type": "markdown",
      "id": "f7637b01",
      "metadata": {
        "id": "f7637b01"
      },
      "source": [
        "## References:\n"
      ]
    },
    {
      "cell_type": "code",
      "execution_count": 69,
      "id": "9beb508c",
      "metadata": {
        "id": "9beb508c"
      },
      "outputs": [],
      "source": []
    }
  ],
  "metadata": {
    "colab": {
      "provenance": [],
      "include_colab_link": true
    },
    "kernelspec": {
      "display_name": "Python 3",
      "language": "python",
      "name": "python3"
    },
    "language_info": {
      "codemirror_mode": {
        "name": "ipython",
        "version": 3
      },
      "file_extension": ".py",
      "mimetype": "text/x-python",
      "name": "python",
      "nbconvert_exporter": "python",
      "pygments_lexer": "ipython3",
      "version": "3.8.8"
    }
  },
  "nbformat": 4,
  "nbformat_minor": 5
}